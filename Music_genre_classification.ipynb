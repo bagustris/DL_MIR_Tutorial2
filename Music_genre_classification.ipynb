{
 "cells": [
  {
   "cell_type": "markdown",
   "metadata": {},
   "source": [
    "# Music Genre Classification with Deep Learning\n",
    "\n",
    "This tutorial shows how different Convolutional Neural Network architectures are used for the taks of music genre classification.\n",
    "\n",
    "The data set used is the [GTZAN](http://marsyasweb.appspot.com/download/data_sets/) genre data set compiled by George Tzanetakis. It consists of 1000 tracks (30 second excerpts) from 10 genres, each with 100 examples.\n",
    "\n",
    "The original tracks are 22050Hz Mono 16-bit audio files in .au format.\n",
    "\n",
    "For a more compact download we provide a version in .mp3 format, also 22050 Hz.\n",
    "\n",
    "This tutorial contains:\n",
    "* Loading and preprocessing of audio files\n",
    "* Loading class files from CSV and using Label Encoder\n",
    "* using One-Hot Encoder to prepare class data for Deep Learning\n",
    "* Generating Mel spectrograms from the audio\n",
    "* Standardization of data\n",
    "* Train/Test set split\n",
    "* Stratified splits\n",
    "* Convolutional Neural Networks: single, stacked, parallel\n",
    "* ReLU Activation\n",
    "* Dropout\n",
    "* Batch Normalization\n",
    "\n",
    "(entensions for later:)\n",
    "* Majority Vote / Max Probability \n",
    "* Recurrent Neural Networks\n",
    "* Cross-validation\n",
    "\n",
    "You can execute the following code blocks by pressing SHIFT+Enter consecutively.\n",
    "\n",
    "import sys\n",
    "# check which python  (kernel) is used\n",
    "sys.executable"
   ]
  },
  {
   "cell_type": "code",
   "execution_count": 1,
   "metadata": {},
   "outputs": [
    {
     "data": {
      "text/plain": [
       "'/media/bagustris/atmaja/workshops/2017/mir-summerschool/DL_MIR_Tutorial2/pymir/bin/python2'"
      ]
     },
     "execution_count": 1,
     "metadata": {},
     "output_type": "execute_result"
    }
   ],
   "source": [
    "import sys\n",
    "# check which python is used\n",
    "sys.executable"
   ]
  },
  {
   "cell_type": "code",
   "execution_count": 2,
   "metadata": {},
   "outputs": [
    {
     "name": "stderr",
     "output_type": "stream",
     "text": [
      "Using Theano backend.\n"
     ]
    }
   ],
   "source": [
    "# General Imports\n",
    "\n",
    "import os\n",
    "\n",
    "# choosing between CPU and GPU\n",
    "#device = 'cpu' # 'cpu' or 'gpu'\n",
    "#os.environ['THEANO_FLAGS']='mode=FAST_RUN,device=' + device + ',floatX=float32'\n",
    "\n",
    "import argparse\n",
    "import csv\n",
    "import datetime\n",
    "import glob\n",
    "import math\n",
    "import sys\n",
    "import time\n",
    "import numpy as np\n",
    "import pandas as pd # Pandas for reading CSV files and easier Data handling in preparation\n",
    "from os.path import join\n",
    "\n",
    "# Machine Learning Preprocessing and Evaluation\n",
    "\n",
    "from sklearn import preprocessing\n",
    "from sklearn.metrics import accuracy_score\n",
    "from sklearn import __version__ as sklearn_version\n",
    "\n",
    "if sklearn_version.startswith('0.17'):\n",
    "    from sklearn.cross_validation import train_test_split\n",
    "    from sklearn.cross_validation import StratifiedShuffleSplit\n",
    "else: # >= 0.18\n",
    "    from sklearn.model_selection import train_test_split\n",
    "    from sklearn.model_selection import StratifiedShuffleSplit\n",
    "\n",
    "# Deep Learning\n",
    "\n",
    "from theano import config\n",
    "\n",
    "import keras\n",
    "from keras.models import Sequential, Model\n",
    "from keras.layers import Input, Convolution2D, MaxPooling2D, Dense, Dropout, Activation, Flatten, merge\n",
    "from keras.layers.normalization import BatchNormalization\n",
    "from keras.optimizers import SGD\n",
    "\n",
    "# Plotting\n",
    "\n",
    "import matplotlib.pyplot as plt\n",
    "%matplotlib inline \n",
    "\n",
    "# Local imports\n",
    "import rp_extract as rp\n",
    "from audiofile_read import audiofile_read\n",
    "\n",
    "# For reading AU file\n",
    "import sunau\n"
   ]
  },
  {
   "cell_type": "markdown",
   "metadata": {},
   "source": [
    "## Set the Path to the Dataset\n",
    "\n",
    "adjust this path to where the data set is stored on your computer:\n"
   ]
  },
  {
   "cell_type": "code",
   "execution_count": 3,
   "metadata": {},
   "outputs": [],
   "source": [
    "# SET YOUR OWN PATH HERE\n",
<<<<<<< HEAD
    "AUDIO_PATH = './data/gtzan_mp3/'"
||||||| merged common ancestors
    "AUDIO_PATH = '../data/GTZAN_mp3'"
=======
    "AUDIO_PATH = './genres/'"
>>>>>>> 7ed1cd029230cd2f5c0e37cf91666940db583d02
   ]
  },
  {
   "cell_type": "markdown",
   "metadata": {},
   "source": [
    "## Load the Metadata\n",
    "\n",
    "The tab-separated file contains pairs of filename TAB class category (i.e. genre)."
   ]
  },
  {
   "cell_type": "code",
<<<<<<< HEAD
   "execution_count": 4,
   "metadata": {},
||||||| merged common ancestors
   "execution_count": 4,
   "metadata": {
    "collapsed": false
   },
=======
   "execution_count": 24,
   "metadata": {},
>>>>>>> 7ed1cd029230cd2f5c0e37cf91666940db583d02
   "outputs": [
    {
     "data": {
      "text/html": [
       "<div>\n",
       "<style scoped>\n",
       "    .dataframe tbody tr th:only-of-type {\n",
       "        vertical-align: middle;\n",
       "    }\n",
       "\n",
       "    .dataframe tbody tr th {\n",
       "        vertical-align: top;\n",
       "    }\n",
       "\n",
       "    .dataframe thead th {\n",
       "        text-align: right;\n",
       "    }\n",
       "</style>\n",
       "<table border=\"1\" class=\"dataframe\">\n",
       "  <thead>\n",
       "    <tr style=\"text-align: right;\">\n",
       "      <th></th>\n",
       "      <th>1</th>\n",
       "    </tr>\n",
       "    <tr>\n",
       "      <th>0</th>\n",
       "      <th></th>\n",
       "    </tr>\n",
       "  </thead>\n",
       "  <tbody>\n",
       "    <tr>\n",
       "      <th>./rock/rock.00053.wav</th>\n",
       "      <td>rock</td>\n",
       "    </tr>\n",
       "    <tr>\n",
       "      <th>./rock/rock.00051.wav</th>\n",
       "      <td>rock</td>\n",
       "    </tr>\n",
       "    <tr>\n",
       "      <th>./rock/rock.00076.wav</th>\n",
       "      <td>rock</td>\n",
       "    </tr>\n",
       "    <tr>\n",
       "      <th>./rock/rock.00084.wav</th>\n",
       "      <td>rock</td>\n",
       "    </tr>\n",
       "    <tr>\n",
       "      <th>./rock/rock.00052.wav</th>\n",
       "      <td>rock</td>\n",
       "    </tr>\n",
       "    <tr>\n",
       "      <th>./rock/rock.00057.wav</th>\n",
       "      <td>rock</td>\n",
       "    </tr>\n",
       "    <tr>\n",
       "      <th>./rock/rock.00028.wav</th>\n",
       "      <td>rock</td>\n",
       "    </tr>\n",
       "    <tr>\n",
       "      <th>./rock/rock.00035.wav</th>\n",
       "      <td>rock</td>\n",
       "    </tr>\n",
       "    <tr>\n",
       "      <th>./rock/rock.00095.wav</th>\n",
       "      <td>rock</td>\n",
       "    </tr>\n",
       "    <tr>\n",
       "      <th>./rock/rock.00088.wav</th>\n",
       "      <td>rock</td>\n",
       "    </tr>\n",
       "  </tbody>\n",
       "</table>\n",
       "</div>"
      ],
      "text/plain": [
       "                          1\n",
       "0                          \n",
       "./rock/rock.00053.wav  rock\n",
       "./rock/rock.00051.wav  rock\n",
       "./rock/rock.00076.wav  rock\n",
       "./rock/rock.00084.wav  rock\n",
       "./rock/rock.00052.wav  rock\n",
       "./rock/rock.00057.wav  rock\n",
       "./rock/rock.00028.wav  rock\n",
       "./rock/rock.00035.wav  rock\n",
       "./rock/rock.00095.wav  rock\n",
       "./rock/rock.00088.wav  rock"
      ]
     },
     "execution_count": 24,
     "metadata": {},
     "output_type": "execute_result"
    },
    {
     "name": "stdout",
     "output_type": "stream",
     "text": [
      "\n"
     ]
    }
   ],
   "source": [
<<<<<<< HEAD
    "# csv_file = join(AUDIO_PATH,'filelist_GTZAN_mp3_wclasses.txt')   # previous config\n",
    "csv_file = 'filelist_GTZAN_mp3_wclasses.txt'\n",
||||||| merged common ancestors
    "csv_file = join(AUDIO_PATH,'filelist_GTZAN_mp3_wclasses.txt')\n",
=======
    "# csv_file = join(AUDIO_PATH,'filelist_GTZAN_wav_wclasses.txt')   # previous config\n",
    "csv_file = 'filelist_GTZAN_wav_wclasses.txt'\n",
>>>>>>> 7ed1cd029230cd2f5c0e37cf91666940db583d02
    "metadata = pd.read_csv(csv_file, index_col=0, header=None)\n",
    "metadata.head(10)"
   ]
  },
  {
   "cell_type": "code",
<<<<<<< HEAD
   "execution_count": 5,
   "metadata": {},
||||||| merged common ancestors
   "execution_count": 5,
   "metadata": {
    "collapsed": false
   },
=======
   "execution_count": 25,
   "metadata": {
    "collapsed": true
   },
>>>>>>> 7ed1cd029230cd2f5c0e37cf91666940db583d02
   "outputs": [],
   "source": [
    "# create list of filenames with associated classes\n",
    "filelist = metadata.index.tolist()\n",
    "classes = metadata[1].values.tolist()"
   ]
  },
  {
   "cell_type": "markdown",
   "metadata": {},
   "source": [
    "## Encode Labels to Numbers\n",
    "\n",
    "String labels need to be encoded as numbers. We use the LabelEncoder from the scikit-learn package."
   ]
  },
  {
   "cell_type": "code",
   "execution_count": 26,
   "metadata": {
    "scrolled": true
   },
   "outputs": [
    {
     "data": {
      "text/plain": [
       "['rock', 'rock', 'rock', 'rock', 'rock']"
      ]
     },
     "execution_count": 26,
     "metadata": {},
     "output_type": "execute_result"
    }
   ],
   "source": [
    "classes[0:5]"
   ]
  },
  {
   "cell_type": "code",
<<<<<<< HEAD
   "execution_count": 7,
   "metadata": {},
||||||| merged common ancestors
   "execution_count": 7,
   "metadata": {
    "collapsed": false
   },
=======
   "execution_count": 27,
   "metadata": {},
>>>>>>> 7ed1cd029230cd2f5c0e37cf91666940db583d02
   "outputs": [
    {
     "data": {
      "text/plain": [
       "['rock', 'hiphop', 'hiphop', 'hiphop', 'hiphop', 'hiphop']"
      ]
     },
     "execution_count": 27,
     "metadata": {},
     "output_type": "execute_result"
    }
   ],
   "source": [
    "classes[99:105]"
   ]
  },
  {
   "cell_type": "code",
   "execution_count": 28,
   "metadata": {
    "scrolled": true
   },
   "outputs": [
    {
     "name": "stdout",
     "output_type": "stream",
     "text": [
      "10 classes: blues, classical, country, disco, hiphop, jazz, metal, pop, reggae, rock\n"
     ]
    }
   ],
   "source": [
    "from sklearn.preprocessing import LabelEncoder\n",
    "\n",
    "labelencoder = LabelEncoder()\n",
    "labelencoder.fit(classes)\n",
    "\n",
    "# we keep (and print) the number of classis\n",
    "n_classes = len(labelencoder.classes_)\n",
    "print n_classes, \"classes:\", \", \".join(list(labelencoder.classes_))\n",
    "\n",
    "classes_num = labelencoder.transform(classes)"
   ]
  },
  {
   "cell_type": "markdown",
   "metadata": {},
   "source": [
    "We check how the classes look like now numerically:"
   ]
  },
  {
   "cell_type": "code",
<<<<<<< HEAD
   "execution_count": 9,
   "metadata": {},
||||||| merged common ancestors
   "execution_count": 9,
   "metadata": {
    "collapsed": false
   },
=======
   "execution_count": 29,
   "metadata": {},
>>>>>>> 7ed1cd029230cd2f5c0e37cf91666940db583d02
   "outputs": [
    {
     "data": {
      "text/plain": [
       "array([9, 9, 9, 9, 9])"
      ]
     },
     "execution_count": 29,
     "metadata": {},
     "output_type": "execute_result"
    }
   ],
   "source": [
    "classes_num[0:5]"
   ]
  },
  {
   "cell_type": "code",
<<<<<<< HEAD
   "execution_count": 10,
   "metadata": {},
||||||| merged common ancestors
   "execution_count": 10,
   "metadata": {
    "collapsed": false
   },
=======
   "execution_count": 30,
   "metadata": {},
>>>>>>> 7ed1cd029230cd2f5c0e37cf91666940db583d02
   "outputs": [
    {
     "data": {
      "text/plain": [
       "array([9, 4, 4, 4, 4, 4])"
      ]
     },
     "execution_count": 30,
     "metadata": {},
     "output_type": "execute_result"
    }
   ],
   "source": [
    "classes_num[99:105]"
   ]
  },
  {
   "cell_type": "markdown",
   "metadata": {},
   "source": [
    "Note: In order to correctly re-transform any predicted numbers into strings, we keep the labelencoder for later."
   ]
  },
  {
   "cell_type": "code",
<<<<<<< HEAD
   "execution_count": 11,
   "metadata": {},
||||||| merged common ancestors
   "execution_count": 12,
   "metadata": {
    "collapsed": false
   },
=======
   "execution_count": 31,
   "metadata": {},
>>>>>>> 7ed1cd029230cd2f5c0e37cf91666940db583d02
   "outputs": [
    {
     "data": {
      "text/plain": [
       "array([[0., 0., 0., 0., 0., 0., 0., 0., 0., 1.],\n",
       "       [0., 0., 0., 0., 0., 0., 0., 0., 0., 1.],\n",
       "       [0., 0., 0., 0., 0., 0., 0., 0., 0., 1.],\n",
       "       [0., 0., 0., 0., 0., 0., 0., 0., 0., 1.],\n",
       "       [0., 0., 0., 0., 0., 0., 0., 0., 0., 1.],\n",
       "       [0., 0., 0., 0., 0., 0., 0., 0., 0., 1.],\n",
       "       [0., 0., 0., 0., 0., 0., 0., 0., 0., 1.],\n",
       "       [0., 0., 0., 0., 0., 0., 0., 0., 0., 1.],\n",
       "       [0., 0., 0., 0., 0., 0., 0., 0., 0., 1.],\n",
       "       [0., 0., 0., 0., 0., 0., 0., 0., 0., 1.],\n",
       "       ...,\n",
       "       [0., 0., 1., 0., 0., 0., 0., 0., 0., 0.],\n",
       "       [0., 0., 1., 0., 0., 0., 0., 0., 0., 0.],\n",
       "       [0., 0., 1., 0., 0., 0., 0., 0., 0., 0.],\n",
       "       [0., 0., 1., 0., 0., 0., 0., 0., 0., 0.],\n",
       "       [0., 0., 1., 0., 0., 0., 0., 0., 0., 0.],\n",
       "       [0., 0., 1., 0., 0., 0., 0., 0., 0., 0.],\n",
       "       [0., 0., 1., 0., 0., 0., 0., 0., 0., 0.],\n",
       "       [0., 0., 1., 0., 0., 0., 0., 0., 0., 0.],\n",
       "       [0., 0., 1., 0., 0., 0., 0., 0., 0., 0.],\n",
       "       [0., 0., 1., 0., 0., 0., 0., 0., 0., 0.]])"
      ]
     },
<<<<<<< HEAD
     "execution_count": 11,
||||||| merged common ancestors
     "execution_count": 12,
=======
     "execution_count": 31,
>>>>>>> 7ed1cd029230cd2f5c0e37cf91666940db583d02
     "metadata": {},
     "output_type": "execute_result"
    }
   ],
   "source": [
    "from sklearn.preprocessing import OneHotEncoder\n",
    "\n",
    "# make a row vector a column vector, as needed by OneHotEncoder, using reshape(-1,1) \n",
    "classes_num_col = classes_num.reshape(-1, 1)\n",
    "\n",
    "encoder = OneHotEncoder(sparse=False)\n",
    "classes_num_1hot = encoder.fit_transform(classes_num_col)\n",
    "classes_num_1hot"
   ]
  },
  {
   "cell_type": "code",
<<<<<<< HEAD
   "execution_count": 12,
   "metadata": {},
||||||| merged common ancestors
   "execution_count": 13,
   "metadata": {
    "collapsed": false
   },
=======
   "execution_count": 32,
   "metadata": {},
>>>>>>> 7ed1cd029230cd2f5c0e37cf91666940db583d02
   "outputs": [
    {
     "data": {
      "text/plain": [
       "(997, 10)"
      ]
     },
<<<<<<< HEAD
     "execution_count": 12,
||||||| merged common ancestors
     "execution_count": 13,
=======
     "execution_count": 32,
>>>>>>> 7ed1cd029230cd2f5c0e37cf91666940db583d02
     "metadata": {},
     "output_type": "execute_result"
    }
   ],
   "source": [
    "classes_num_1hot.shape"
   ]
  },
  {
   "cell_type": "markdown",
   "metadata": {},
   "source": [
    "## Load the Audio Files"
   ]
  },
  {
   "cell_type": "code",
<<<<<<< HEAD
   "execution_count": 13,
   "metadata": {},
||||||| merged common ancestors
   "execution_count": 14,
   "metadata": {
    "collapsed": false
   },
=======
   "execution_count": 33,
   "metadata": {},
>>>>>>> 7ed1cd029230cd2f5c0e37cf91666940db583d02
   "outputs": [
    {
     "name": "stdout",
     "output_type": "stream",
     "text": [
      ". . . . . . . . . . . . . . . . . . . . . . . . . . . . . . . . . . . . . . . . . . . . . . . . . . . . . . . . . . . . . . . . . . . . . . . . . . . . . . . . . . . . . . . . . . . . . . . . . . . . . . . . . . . . . . . . . . . . . . . . . . . . . . . . . . . . . . . . . . . . . . . . . . . . . . . . . . . . . . . . . . . . . . . . . . . . . . . . . . . . . . . . . . . . . . . . . . . . . . . . . . . . . . . . . . . . . . . . . . . . . . . . . . . . . . . . . . . . . . . . . . . . . . . . . . . . . . . . . . . . . . . . . . . . . . . . . . . . . . . . . . . . . . . . . . . . . . . . . . . . . . . . . . . . . . . . . . . . . . . . . . . . . . . . . . . . . . . . . . . . . . . . . . . . . . . . . . . . . . . . . . . . . . . . . . . . . . . . . . . . . . . . . . . . . . . . . . . . . . . . . . . . . . . . . . . . . . . . . . . . . . . . . . . . . . . . . . . . . . . . . . . . . . . . . . . . . . . . . . . . . . . . . . . . . . . . . . . . . . . . . . . . . . . . . . . . . . . . . . . . . . . . . . . . . . . . . . . . . . . . . . . . . . . . . . . . . . . . . . . . . . . . . . . . . . . . . . . . . . . . . . . . . . . . . . . . . . . . . . . . . . . . . . . . . . . . . . . . . . . . . . . . . . . . . . . . . . . . . . . . . . . . . . . . . . . . . . . . . . . . . . . . . . . . . . . . . . . . . . . . . . . . . . . . . . . . . . . . . . . . . . . . . . . . . . . . . . . . . . . . . . . . . . . . . . . . . . . . . . . . . . . . . . . . . . . . . . . . . . . . . . . . . . . . . . . . . . . . . . . . . . . . . . . . . . . . . . . . . . . . . . . . . . . . . . . . . . . . . . . . . . . . . . . . . . . . . . . . . . . . . . . . . . . . . . . . . . . . . . . . . . . . . . . . . . . . . . . . . . . . . . . . . . . . . . . . . . . . . . . . . . . . . . . . . . . . . . . . . . . . . . . . . . . . . . . . . . . . . . . . . . . . . . . . . . . . . . . . . . . . . . . . . . . . . . . . . . . . . . . . . . . . . . . . . . . . . . . . . . . . . . . . . . . . . . . . . . . . . \n",
      "Read 997 audio files\n"
     ]
    }
   ],
   "source": [
    "\n",
    "list_spectrograms = [] # spectrograms are put into a list first\n",
    "\n",
    "# desired output parameters\n",
    "n_mel_bands = 40   # y axis\n",
    "frames = 80        # x axis\n",
    "\n",
    "# some FFT parameters\n",
    "fft_window_size=1024 #512\n",
    "fft_overlap = 0.5\n",
    "hop_size = int(fft_window_size*(1-fft_overlap))\n",
    "segment_size = fft_window_size + (frames-1) * hop_size # segment size for desired # frames\n",
    "\n",
    "for filename in filelist:\n",
    "    print \".\", \n",
    "    filepath = os.path.join(AUDIO_PATH, filename)\n",
    "    samplerate, samplewidth, wavedata = audiofile_read(filepath,verbose=False)\n",
    "    sample_length = wavedata.shape[0]\n",
    "\n",
    "    # make Mono (in case of multiple channels / stereo)\n",
    "    if wavedata.ndim > 1:\n",
    "        wavedata = np.mean(wavedata, 1)\n",
    "      \n",
    "    # GET AUDIO SEGMENT (BLOCK)\n",
    "    # take only 1 audio segment (80 frames)\n",
    "    # a) from beginning of file\n",
    "    #pos = 0\n",
    "    # b) from middle of file\n",
    "    pos = int(sample_length / 2 - segment_size / 2)\n",
    "    wav_segment = wavedata[pos:pos+segment_size]\n",
    "    \n",
    "    # AUDIO PRE-PROCESSING\n",
    "\n",
    "    # 1) FFT spectrogram \n",
    "    spectrogram = rp.calc_spectrogram(wav_segment,fft_window_size,fft_overlap)\n",
    "\n",
    "    # 2) Transform to perceptual Mel scale (uses librosa.filters.mel)\n",
    "    spectrogram = rp.transform2mel(spectrogram,samplerate,fft_window_size,n_mel_bands)\n",
    "        \n",
    "    # 3) Log 10 transform\n",
    "    spectrogram = np.log10(spectrogram)\n",
    "    \n",
    "    list_spectrograms.append(spectrogram)\n",
    "        \n",
    "print \"\\nRead\", len(filelist), \"audio files\""
   ]
  },
  {
   "cell_type": "code",
<<<<<<< HEAD
   "execution_count": 14,
   "metadata": {},
||||||| merged common ancestors
   "execution_count": 15,
   "metadata": {
    "collapsed": false
   },
=======
   "execution_count": 34,
   "metadata": {},
>>>>>>> 7ed1cd029230cd2f5c0e37cf91666940db583d02
   "outputs": [
    {
     "name": "stdout",
     "output_type": "stream",
     "text": [
      "Duration of input audio file:\n",
      "30 seconds\n"
     ]
    }
   ],
   "source": [
    "print \"Duration of input audio file:\"\n",
    "print sample_length / samplerate, \"seconds\""
   ]
  },
  {
   "cell_type": "code",
<<<<<<< HEAD
   "execution_count": 15,
   "metadata": {},
||||||| merged common ancestors
   "execution_count": 17,
   "metadata": {
    "collapsed": false
   },
=======
   "execution_count": 35,
   "metadata": {},
>>>>>>> 7ed1cd029230cd2f5c0e37cf91666940db583d02
   "outputs": [
    {
     "name": "stdout",
     "output_type": "stream",
     "text": [
      "An audio segment is 1.88 seconds long\n"
     ]
    }
   ],
   "source": [
    "print \"An audio segment is\", round(float(segment_size) / samplerate, 2), \"seconds long\""
   ]
  },
  {
   "cell_type": "code",
<<<<<<< HEAD
   "execution_count": 16,
   "metadata": {},
||||||| merged common ancestors
   "execution_count": 16,
   "metadata": {
    "collapsed": false
   },
=======
   "execution_count": 36,
   "metadata": {},
>>>>>>> 7ed1cd029230cd2f5c0e37cf91666940db583d02
   "outputs": [
    {
     "data": {
      "text/plain": [
       "997"
      ]
     },
     "execution_count": 36,
     "metadata": {},
     "output_type": "execute_result"
    }
   ],
   "source": [
    "# how many spectrograms did we get\n",
    "len(list_spectrograms)"
   ]
  },
  {
   "cell_type": "code",
<<<<<<< HEAD
   "execution_count": 17,
   "metadata": {},
||||||| merged common ancestors
   "execution_count": 18,
   "metadata": {
    "collapsed": false
   },
=======
   "execution_count": 37,
   "metadata": {},
>>>>>>> 7ed1cd029230cd2f5c0e37cf91666940db583d02
   "outputs": [
    {
     "data": {
      "text/plain": [
       "(40, 80)"
      ]
     },
<<<<<<< HEAD
     "execution_count": 17,
||||||| merged common ancestors
     "execution_count": 18,
=======
     "execution_count": 37,
>>>>>>> 7ed1cd029230cd2f5c0e37cf91666940db583d02
     "metadata": {},
     "output_type": "execute_result"
    }
   ],
   "source": [
    "# whats the shape of 1 spectrogram: 40 Mel bands by 80 frames\n",
    "spectrogram.shape"
   ]
  },
  {
   "cell_type": "markdown",
   "metadata": {},
   "source": [
    "Note: For simplicity of this tutorial, here we load only 1 single segment of ~ 1 second length from each audio file.\n",
    "In a real setting, one would create training instances of as many audio segments as possible to be fed to a Neural Network."
   ]
  },
  {
   "cell_type": "code",
<<<<<<< HEAD
   "execution_count": 18,
   "metadata": {},
||||||| merged common ancestors
   "execution_count": 19,
   "metadata": {
    "collapsed": false
   },
=======
   "execution_count": 38,
   "metadata": {},
>>>>>>> 7ed1cd029230cd2f5c0e37cf91666940db583d02
   "outputs": [
    {
     "data": {
      "text/plain": [
<<<<<<< HEAD
       "array([[-2.22468213, -2.16998997, -1.99815287, -2.15930204, -2.09368433],\n",
       "       [-1.8034697 , -1.92510318, -1.78896157, -1.84884177, -1.75989478],\n",
       "       [-2.04151898, -2.02549384, -2.07876139, -2.28285471, -2.21626449],\n",
       "       [-2.24475796, -2.0991296 , -2.21757485, -2.15755237, -2.18409557],\n",
       "       [-2.18591406, -2.664581  , -2.39105314, -2.4990512 , -3.22714398]])"
||||||| merged common ancestors
       "array([[-1.9523244 , -2.10697188, -2.16519261, -2.13707458, -2.26448484],\n",
       "       [-1.70286408, -1.7839005 , -1.77100261, -1.61295914, -1.76734974],\n",
       "       [-2.03751682, -2.02283092, -2.00096381, -2.06058467, -2.45262802],\n",
       "       [-2.33910156, -2.20460649, -2.1619086 , -2.19551913, -2.23592907],\n",
       "       [-1.99096209, -2.36709934, -2.80944553, -2.26954304, -2.87819947]])"
=======
       "array([[-2.21706899, -2.13685759, -1.93284517, -1.85325874, -1.92972802],\n",
       "       [-1.68157686, -1.68318277, -1.8303628 , -2.0573346 , -2.11926532],\n",
       "       [-2.12279533, -2.36054293, -2.30594199, -1.76131269, -1.47456052],\n",
       "       [-2.18641389, -2.30344135, -2.33540736, -2.13075122, -1.94464886],\n",
       "       [-2.31179852, -3.05191259, -3.52575675, -3.56628314, -4.17664073]])"
>>>>>>> 7ed1cd029230cd2f5c0e37cf91666940db583d02
      ]
     },
<<<<<<< HEAD
     "execution_count": 18,
||||||| merged common ancestors
     "execution_count": 19,
=======
     "execution_count": 38,
>>>>>>> 7ed1cd029230cd2f5c0e37cf91666940db583d02
     "metadata": {},
     "output_type": "execute_result"
    }
   ],
   "source": [
    "spectrogram[0:5,0:5]"
   ]
  },
  {
   "cell_type": "code",
<<<<<<< HEAD
   "execution_count": 19,
   "metadata": {},
||||||| merged common ancestors
   "execution_count": 81,
   "metadata": {
    "collapsed": true
   },
=======
   "execution_count": 39,
   "metadata": {
    "collapsed": true
   },
>>>>>>> 7ed1cd029230cd2f5c0e37cf91666940db583d02
   "outputs": [],
   "source": [
    "# TODO plot spectrogram"
   ]
  },
  {
   "cell_type": "markdown",
   "metadata": {},
   "source": [
    "## Make 1 big array of list of spectrograms"
   ]
  },
  {
   "cell_type": "code",
<<<<<<< HEAD
   "execution_count": 20,
   "metadata": {},
||||||| merged common ancestors
   "execution_count": 20,
   "metadata": {
    "collapsed": false
   },
=======
   "execution_count": 40,
   "metadata": {},
>>>>>>> 7ed1cd029230cd2f5c0e37cf91666940db583d02
   "outputs": [
    {
     "data": {
      "text/plain": [
       "(997, 40, 80)"
      ]
     },
     "execution_count": 40,
     "metadata": {},
     "output_type": "execute_result"
    }
   ],
   "source": [
    "# a list of many 40x80 spectrograms is made into 1 big array\n",
    "# config.floatX is from Theano configration to enforce float32 precision (needed for GPU computation)\n",
    "data = np.array(list_spectrograms, dtype=config.floatX)\n",
    "data.shape"
   ]
  },
  {
   "cell_type": "code",
<<<<<<< HEAD
   "execution_count": 21,
   "metadata": {},
||||||| merged common ancestors
   "execution_count": 21,
   "metadata": {
    "collapsed": false
   },
=======
   "execution_count": 41,
   "metadata": {
    "collapsed": true
   },
>>>>>>> 7ed1cd029230cd2f5c0e37cf91666940db583d02
   "outputs": [],
   "source": [
    "# check for Inf values\n",
    "\n",
    "# np.log10(spectrogram) will produce -inf if a spectrogram value is 0. we replace -inf by 0 here\n",
    "\n",
    "if np.any(np.isinf(data)):\n",
    "    print \"Warning: Data contains inf values. Replacying by 0.\"\n",
    "    data[np.isinf(data)] = 0"
   ]
  },
  {
   "cell_type": "markdown",
   "metadata": {},
   "source": [
    "## Standardization\n",
    "\n",
    "<b>Always normalize / standardize</b> the data before feeding it into the Neural Network!\n",
    "\n",
    "We use <b>attribute-wise standardization</b>, i.e. each feature (i.e. 'pixel' in the spectrogram) is standardized individually, as opposed to computing a single mean and single standard deviation of all values.\n",
    "\n",
    "(Instead of 'attribute-wise, also 'flat' standardization would also be possible,computing the mean and standard deviation across all pixels).\n",
    "\n",
    "One possibility is 'Min-Max normalization', i.e. scaling the values between 0 and 1.\n",
    "\n",
    "Here we use <b>Zero-mean Unit-variance standardization</b> (also known as Z-score normalization).\n",
    "\n",
    "We use the StandardScaler from the scikit-learn package for our purpose, which performs a Zero-mean Unit-variance standardization."
   ]
  },
  {
   "cell_type": "code",
<<<<<<< HEAD
   "execution_count": 22,
   "metadata": {},
||||||| merged common ancestors
   "execution_count": 22,
   "metadata": {
    "collapsed": false
   },
=======
   "execution_count": 42,
   "metadata": {},
>>>>>>> 7ed1cd029230cd2f5c0e37cf91666940db583d02
   "outputs": [
    {
     "data": {
      "text/plain": [
       "(997, 3200)"
      ]
     },
     "execution_count": 42,
     "metadata": {},
     "output_type": "execute_result"
    }
   ],
   "source": [
    "# Scalers and normalizers work on vectors. So we have to transfor the matrix of our spectrograms into vector data\n",
    "# ('vectorize' or 'reshape' them).\n",
    "\n",
    "# vectorize\n",
    "N, ydim, xdim = data.shape\n",
    "data = data.reshape(N, xdim*ydim)\n",
    "data.shape"
   ]
  },
  {
   "cell_type": "code",
<<<<<<< HEAD
   "execution_count": 23,
   "metadata": {},
||||||| merged common ancestors
   "execution_count": 23,
   "metadata": {
    "collapsed": false
   },
=======
   "execution_count": 43,
   "metadata": {},
>>>>>>> 7ed1cd029230cd2f5c0e37cf91666940db583d02
   "outputs": [
    {
     "data": {
      "text/plain": [
       "(1, 3200)"
      ]
     },
     "execution_count": 43,
     "metadata": {},
     "output_type": "execute_result"
    }
   ],
   "source": [
    "data[0:1].shape"
   ]
  },
  {
   "cell_type": "code",
<<<<<<< HEAD
   "execution_count": 24,
   "metadata": {},
||||||| merged common ancestors
   "execution_count": 24,
   "metadata": {
    "collapsed": false
   },
=======
   "execution_count": 44,
   "metadata": {
    "collapsed": true
   },
>>>>>>> 7ed1cd029230cd2f5c0e37cf91666940db583d02
   "outputs": [],
   "source": [
    "# standardize\n",
    "scaler = preprocessing.StandardScaler()\n",
    "data = scaler.fit_transform(data)"
   ]
  },
  {
   "cell_type": "markdown",
   "metadata": {},
   "source": [
    "Now all the values are transformed into the 0-mean 1-variance space."
   ]
  },
  {
   "cell_type": "code",
<<<<<<< HEAD
   "execution_count": 25,
   "metadata": {},
||||||| merged common ancestors
   "execution_count": 25,
   "metadata": {
    "collapsed": false
   },
=======
   "execution_count": 45,
   "metadata": {},
>>>>>>> 7ed1cd029230cd2f5c0e37cf91666940db583d02
   "outputs": [
    {
     "data": {
      "text/plain": [
<<<<<<< HEAD
       "array([-0.00000016,  0.00000198, -0.00000071,  0.00000026,  0.00000031,  0.00000028, -0.00000196,  0.00000028, -0.00000096,  0.00000035, ..., -0.00000306,  0.00000075, -0.00000212,  0.00000144,\n",
       "        0.00000044,  0.00000232, -0.00000006,  0.00000235,  0.0000038 , -0.00000178], dtype=float32)"
||||||| merged common ancestors
       "array([ 0.00000065,  0.00000037,  0.00000031,  0.00000124, -0.00000079, -0.00000224,  0.00000033,  0.00000076, -0.0000016 ,  0.0000014 , ..., -0.00000239, -0.00000077, -0.00000045, -0.00000074,\n",
       "        0.00000146, -0.00000176,  0.00000099,  0.00000225, -0.00000231, -0.00000169], dtype=float32)"
=======
       "array([ 0.00000078,  0.00000059,  0.00000067,  0.00000031, -0.0000008 , -0.00000036,  0.00000103, -0.00000021,  0.00000067,  0.00000045, ..., -0.00000327, -0.000001  , -0.00000153,  0.00000032,\n",
       "        0.00000032, -0.00000134,  0.00000067, -0.00000161, -0.0000007 ,  0.00000041], dtype=float32)"
>>>>>>> 7ed1cd029230cd2f5c0e37cf91666940db583d02
      ]
     },
     "execution_count": 45,
     "metadata": {},
     "output_type": "execute_result"
    }
   ],
   "source": [
    "np.mean(data, axis=0)"
   ]
  },
  {
   "cell_type": "code",
<<<<<<< HEAD
   "execution_count": 26,
   "metadata": {},
||||||| merged common ancestors
   "execution_count": 26,
   "metadata": {
    "collapsed": false
   },
=======
   "execution_count": 46,
   "metadata": {},
>>>>>>> 7ed1cd029230cd2f5c0e37cf91666940db583d02
   "outputs": [
    {
     "data": {
      "text/plain": [
<<<<<<< HEAD
       "array([1.0000002 , 1.0000001 , 0.9999995 , 0.9999998 , 0.9999998 , 0.9999996 , 1.0000001 , 0.9999994 , 1.0000006 , 1.        , ..., 0.9999999 , 1.        , 1.0000001 , 0.9999997 , 0.9999996 ,\n",
       "       1.0000002 , 1.0000001 , 0.9999998 , 1.0000006 , 0.99999917], dtype=float32)"
||||||| merged common ancestors
       "array([ 0.99999917,  1.00000012,  0.99999988,  1.        ,  1.00000012,  0.9999997 ,  1.00000036,  1.00000024,  0.99999994,  0.99999988, ...,  0.99999988,  1.00000036,  1.00000012,  0.9999997 ,\n",
       "        0.99999964,  0.99999964,  0.99999976,  1.00000024,  0.99999982,  0.99999958], dtype=float32)"
=======
       "array([1.0000004 , 0.9999997 , 1.        , 0.9999996 , 0.9999999 , 0.9999996 , 0.99999976, 1.0000001 , 0.99999976, 0.99999917, ..., 1.0000002 , 0.9999998 , 1.        , 1.        , 1.        ,\n",
       "       1.0000002 , 0.9999994 , 1.0000002 , 0.99999964, 1.0000001 ], dtype=float32)"
>>>>>>> 7ed1cd029230cd2f5c0e37cf91666940db583d02
      ]
     },
     "execution_count": 46,
     "metadata": {},
     "output_type": "execute_result"
    }
   ],
   "source": [
    "np.std(data, axis=0)"
   ]
  },
  {
   "cell_type": "code",
<<<<<<< HEAD
   "execution_count": 27,
   "metadata": {},
||||||| merged common ancestors
   "execution_count": 201,
   "metadata": {
    "collapsed": false
   },
=======
   "execution_count": 47,
   "metadata": {},
>>>>>>> 7ed1cd029230cd2f5c0e37cf91666940db583d02
   "outputs": [
    {
     "data": {
      "text/plain": [
<<<<<<< HEAD
       "(array([-2.7922487, -2.7972338, -2.8139663, -2.8257937, -2.82365  , -2.813596 , -2.8148146, -2.7987456, -2.788141 , -2.8013287, ..., -7.885947 , -7.890145 , -7.8984437, -7.9158945, -7.89929  ,\n",
       "        -7.8827167, -7.8949404, -7.902914 , -7.9160657, -7.9111657], dtype=float32),\n",
       " array([1.2103081, 1.2076975, 1.2142786, 1.219454 , 1.2187734, 1.2100364, 1.2215177, 1.2336966, 1.2032224, 1.1890508, ..., 2.0901494, 2.0953228, 2.0720236, 2.041632 , 2.052476 , 2.111386 , 2.1099262,\n",
       "        2.1075273, 2.0892918, 2.0912967], dtype=float32))"
||||||| merged common ancestors
       "(array([-2.7948916 , -2.79032493, -2.79802203, -2.81601262, -2.8377552 , -2.81342959, -2.81553555, -2.80787492, -2.79605079, -2.79325604, ..., -7.88627529, -7.88531494, -7.89042282, -7.9058032 ,\n",
       "        -7.91685963, -7.88749838, -7.88304138, -7.89916849, -7.91348505, -7.91532469], dtype=float32),\n",
       " array([ 1.20022845,  1.20786929,  1.21891499,  1.21895969,  1.21386027,  1.20949817,  1.21064365,  1.24370933,  1.21119392,  1.19999361, ...,  2.0951755 ,  2.09289312,  2.09190488,  2.06274152,\n",
       "         2.03459167,  2.07956171,  2.11289358,  2.11132383,  2.10036588,  2.09384656], dtype=float32))"
=======
       "(array([-2.8433895, -2.864513 , -2.8402867, -2.8526828, -2.8371346, -2.8278828, -2.8229005, -2.8337243, -2.838455 , -2.824339 , ..., -7.901412 , -7.917027 , -7.885189 , -7.870407 , -7.8833413,\n",
       "        -7.9073334, -7.8950214, -7.9078255, -7.9078665, -7.916666 ], dtype=float32),\n",
       " array([1.2382029, 1.2369902, 1.2256765, 1.2309545, 1.2586452, 1.2256727, 1.2132349, 1.2043762, 1.1990461, 1.2110823, ..., 2.0765793, 2.0491145, 2.0941658, 2.106527 , 2.1106267, 2.0975487, 2.0893266,\n",
       "        2.0872352, 2.0949612, 2.0953429], dtype=float32))"
>>>>>>> 7ed1cd029230cd2f5c0e37cf91666940db583d02
      ]
     },
<<<<<<< HEAD
     "execution_count": 27,
||||||| merged common ancestors
     "execution_count": 201,
=======
     "execution_count": 47,
>>>>>>> 7ed1cd029230cd2f5c0e37cf91666940db583d02
     "metadata": {},
     "output_type": "execute_result"
    }
   ],
   "source": [
    "# scaler stores the original values to be able to transform later again\n",
    "# show mean and standard deviation: two vectors with same length as data.shape[1]\n",
    "scaler.mean_, scaler.scale_"
   ]
  },
  {
   "cell_type": "markdown",
   "metadata": {},
   "source": [
    "# Creating Train & Test Set \n",
    "\n",
    "We split the original full data set into two parts: Train Set (75%) and Test Set (25%).\n",
    "\n",
    "Here we compare Random Split vs. Stratified Split:"
   ]
  },
  {
   "cell_type": "code",
<<<<<<< HEAD
   "execution_count": 28,
   "metadata": {},
||||||| merged common ancestors
   "execution_count": 28,
   "metadata": {
    "collapsed": false
   },
=======
   "execution_count": 48,
   "metadata": {
    "collapsed": true
   },
>>>>>>> 7ed1cd029230cd2f5c0e37cf91666940db583d02
   "outputs": [],
   "source": [
    "testset_size = 0.25 # % portion of whole data set to keep for testing, i.e. 75% is used for training\n",
    "\n",
    "# RANDOM split of data set into 2 parts\n",
    "# from sklearn.model_selection import train_test_split\n",
    "\n",
    "train_set, test_set, train_classes, test_classes = train_test_split(data, classes_num, test_size=testset_size, random_state=0)"
   ]
  },
  {
   "cell_type": "code",
<<<<<<< HEAD
   "execution_count": 29,
   "metadata": {},
||||||| merged common ancestors
   "execution_count": 29,
   "metadata": {
    "collapsed": false
   },
=======
   "execution_count": 49,
   "metadata": {},
>>>>>>> 7ed1cd029230cd2f5c0e37cf91666940db583d02
   "outputs": [
    {
     "data": {
      "text/plain": [
       "array([5, 3, 9, 9, 1, 0, 2, 2, 3, 4, ..., 7, 9, 6, 7, 7, 0, 4, 8, 1, 8])"
      ]
     },
     "execution_count": 49,
     "metadata": {},
     "output_type": "execute_result"
    }
   ],
   "source": [
    "train_classes"
   ]
  },
  {
   "cell_type": "code",
<<<<<<< HEAD
   "execution_count": 30,
   "metadata": {},
||||||| merged common ancestors
   "execution_count": 30,
   "metadata": {
    "collapsed": false
   },
=======
   "execution_count": 50,
   "metadata": {},
>>>>>>> 7ed1cd029230cd2f5c0e37cf91666940db583d02
   "outputs": [
    {
     "data": {
      "text/plain": [
       "array([3, 7, 9, 6, 8, 7, 1, 3, 0, 3, ..., 5, 2, 8, 9, 5, 9, 5, 5, 6, 5])"
      ]
     },
     "execution_count": 50,
     "metadata": {},
     "output_type": "execute_result"
    }
   ],
   "source": [
    "test_classes"
   ]
  },
  {
   "cell_type": "code",
<<<<<<< HEAD
   "execution_count": 31,
   "metadata": {},
||||||| merged common ancestors
   "execution_count": 31,
   "metadata": {
    "collapsed": false
   },
=======
   "execution_count": 51,
   "metadata": {},
>>>>>>> 7ed1cd029230cd2f5c0e37cf91666940db583d02
   "outputs": [
    {
     "name": "stdout",
     "output_type": "stream",
     "text": [
      "Number of files in each category in TRAIN set:\n",
      "0 : 75\n",
      "1 : 77\n",
      "2 : 77\n",
      "3 : 73\n",
      "4 : 82\n",
      "5 : 71\n",
      "6 : 72\n",
      "7 : 74\n",
      "8 : 68\n",
      "9 : 78\n"
     ]
    }
   ],
   "source": [
    "from collections import Counter\n",
    "cnt = Counter(train_classes)\n",
    "\n",
    "print \"Number of files in each category in TRAIN set:\"\n",
    "for k in sorted(cnt.keys()):\n",
    "    print k, \":\", cnt[k]"
   ]
  },
  {
   "cell_type": "markdown",
   "metadata": {},
   "source": [
    "In a Random Split, the number of files per class may be uneven or unbalanced.\n",
    "\n",
    "The better way to do it is to use a <b>Stratified Split</b>:"
   ]
  },
  {
   "cell_type": "code",
<<<<<<< HEAD
   "execution_count": 32,
   "metadata": {},
||||||| merged common ancestors
   "execution_count": 32,
   "metadata": {
    "collapsed": false
   },
=======
   "execution_count": 52,
   "metadata": {},
>>>>>>> 7ed1cd029230cd2f5c0e37cf91666940db583d02
   "outputs": [
    {
     "name": "stdout",
     "output_type": "stream",
     "text": [
<<<<<<< HEAD
      "TRAIN INDEX: [349 816 960 261 665 517 653 438 170 472 ... 336 602 117  93 322 434 624  83 118  97]\n",
      "TEST INDEX: [510 781 478 246 888 793 772 445 199 534 ... 967 490 486 683 984 390 858 372 982 499]\n",
      "(750, 3200)\n",
||||||| merged common ancestors
      "TRAIN INDEX: [349 816 960 261 665 517 653 438 170 472 ..., 336 602 117  93 322 434 624  83 118  97]\n",
      "TEST INDEX: [510 781 478 246 888 793 772 445 199 534 ..., 967 490 486 683 984 390 858 372 982 499]\n",
      "(750, 3200)\n",
=======
      "TRAIN INDEX: [933 813 580 848 767 229 248 357 134 935 ... 364 618 174  13 326 436 641  29 135  39]\n",
      "TEST INDEX: [531 951 352 790 623 287  80  23 507 435 ... 979 433 480 249 486 869 874 555 885 984]\n",
      "(747, 3200)\n",
>>>>>>> 7ed1cd029230cd2f5c0e37cf91666940db583d02
      "(250, 3200)\n"
     ]
    }
   ],
   "source": [
    "# better: Stratified Split retains the class balance in both sets\n",
    "# from sklearn.model_selection import StratifiedShuffleSplit\n",
    "\n",
    "if sklearn_version.startswith('0.17'):\n",
    "    splits = StratifiedShuffleSplit(classes_num, n_iter=1, test_size=testset_size, random_state=0)\n",
    "else: # >= 0.18:\n",
    "    splitter = StratifiedShuffleSplit(n_splits=1, test_size=testset_size, random_state=0)\n",
    "    splits = splitter.split(data, classes_num)\n",
    "\n",
    "for train_index, test_index in splits:\n",
    "    print \"TRAIN INDEX:\", train_index\n",
    "    print \"TEST INDEX:\", test_index\n",
    "    \n",
    "    # split the data\n",
    "    train_set = data[train_index]\n",
    "    test_set = data[test_index]\n",
    "    \n",
    "    # and the numeric classes (groundtruth)\n",
    "    train_classes = classes_num[train_index]\n",
    "    train_classes_1hot = classes_num_1hot[train_index]  # 1 hot we need for traning\n",
    "    test_classes = classes_num[test_index]\n",
    "# Note: this for loop is only executed once, if n_splits==1\n",
    "\n",
    "print train_set.shape\n",
    "print test_set.shape\n",
    "# Note: we will reshape the data later back to matrix form "
   ]
  },
  {
   "cell_type": "code",
<<<<<<< HEAD
   "execution_count": 33,
   "metadata": {},
||||||| merged common ancestors
   "execution_count": 33,
   "metadata": {
    "collapsed": false
   },
=======
   "execution_count": 53,
   "metadata": {},
>>>>>>> 7ed1cd029230cd2f5c0e37cf91666940db583d02
   "outputs": [
    {
     "name": "stdout",
     "output_type": "stream",
     "text": [
      "Number of files in each category in TRAIN set:\n",
      "0 : 75\n",
      "1 : 75\n",
      "2 : 75\n",
      "3 : 75\n",
      "4 : 73\n",
      "5 : 75\n",
      "6 : 74\n",
      "7 : 75\n",
      "8 : 75\n",
      "9 : 75\n"
     ]
    }
   ],
   "source": [
    "cnt = Counter(train_classes)\n",
    "print \"Number of files in each category in TRAIN set:\"\n",
    "for k in sorted(cnt.keys()):\n",
    "    print k, \":\", cnt[k]"
   ]
  },
  {
   "cell_type": "markdown",
   "metadata": {},
   "source": [
    "Now the number of files in each category in the training set is equal.\n",
    "\n",
    "(It is equal because our full set had 100 files in each category; a Stratified Split preserves the relative distribution of instances per category, also if the dataset is unbalanced between the classess.)"
   ]
  },
  {
   "cell_type": "markdown",
   "metadata": {},
   "source": [
    "# Convolutional Neural Networks\n",
    "\n",
    "A Convolutional Neural Network (ConvNet or CNN) is a type of (deep) Neural Network that is well-suited for 2D axes data, such as images or spectrograms, as it is optimized for learning from spatial proximity. Its core elements are 2D filter kernels which essentially learn the weights of the Neural Network, and downscaling functions such as Max Pooling.\n",
    "\n",
    "A CNN can have one or more Convolution layers, each of them having an arbitrary number of N filters (which define the depth of the CNN layer), following typically by a pooling step, which aggregates neighboring pixels together and thus reduces the image resolution by retaining only the maximum values of neighboring pixels."
   ]
  },
  {
   "cell_type": "markdown",
   "metadata": {},
   "source": [
    "## Preparing the Data\n",
    "\n",
    "### Adding the channel\n",
    "\n",
    "As CNNs were invented for image data (often having 3 color channels), we need to add a dimension for the color channel to the data. \n",
    "\n",
    "<b>Spectrograms, are considered like greyscale images, which only have 1 color channel. Still we add the extra dimension, defining just 1 channel.</b>\n",
    "\n",
    "#### Theano vs. Tensorflow\n",
    "\n",
    "In Theano, traditionally the color channel is the <b>first</b> dimension in the image shape. \n",
    "In Tensorflow, the color channel is the <b>last</b> dimension in the image shape. \n",
    "\n",
    "This can be configured now in ~/.keras/keras.json: \"image_dim_ordering\": \"th\" or \"tf\" with \"tf\" (Tensorflow) being the default image ordering even though you use Theano. Depending on this, use one of the code lines below.\n",
    "\n",
    "We created an 'if' statement here to check which dimension ordering to use:"
   ]
  },
  {
   "cell_type": "code",
<<<<<<< HEAD
   "execution_count": 34,
   "metadata": {},
||||||| merged common ancestors
   "execution_count": 35,
   "metadata": {
    "collapsed": false
   },
=======
   "execution_count": 54,
   "metadata": {
    "collapsed": true
   },
>>>>>>> 7ed1cd029230cd2f5c0e37cf91666940db583d02
   "outputs": [],
   "source": [
    "n_channels = 1 # 1 for grey-scale, 3 for RGB (in this case usually already present in the data)\n",
    "\n",
    "if keras.backend.image_dim_ordering() == 'th':\n",
    "    # Theano ordering (~/.keras/keras.json: \"image_dim_ordering\": \"th\")\n",
    "    train_set = train_set.reshape(train_set.shape[0], n_channels, ydim, xdim)\n",
    "    test_set = test_set.reshape(test_set.shape[0], n_channels, ydim, xdim)\n",
    "else:\n",
    "    # Tensorflow ordering (~/.keras/keras.json: \"image_dim_ordering\": \"tf\")\n",
    "    train_set = train_set.reshape(train_set.shape[0], ydim, xdim, n_channels)\n",
    "    test_set = test_set.reshape(test_set.shape[0], ydim, xdim, n_channels)"
   ]
  },
  {
   "cell_type": "code",
<<<<<<< HEAD
   "execution_count": 35,
   "metadata": {},
||||||| merged common ancestors
   "execution_count": 36,
   "metadata": {
    "collapsed": false
   },
=======
   "execution_count": 55,
   "metadata": {},
>>>>>>> 7ed1cd029230cd2f5c0e37cf91666940db583d02
   "outputs": [
    {
     "data": {
      "text/plain": [
       "'th'"
      ]
     },
<<<<<<< HEAD
     "execution_count": 35,
||||||| merged common ancestors
     "execution_count": 36,
=======
     "execution_count": 55,
>>>>>>> 7ed1cd029230cd2f5c0e37cf91666940db583d02
     "metadata": {},
     "output_type": "execute_result"
    }
   ],
   "source": [
    "keras.backend.image_dim_ordering()"
   ]
  },
  {
   "cell_type": "code",
<<<<<<< HEAD
   "execution_count": 36,
   "metadata": {},
||||||| merged common ancestors
   "execution_count": 37,
   "metadata": {
    "collapsed": false
   },
=======
   "execution_count": 56,
   "metadata": {},
>>>>>>> 7ed1cd029230cd2f5c0e37cf91666940db583d02
   "outputs": [
    {
     "data": {
      "text/plain": [
       "(747, 1, 40, 80)"
      ]
     },
<<<<<<< HEAD
     "execution_count": 36,
||||||| merged common ancestors
     "execution_count": 37,
=======
     "execution_count": 56,
>>>>>>> 7ed1cd029230cd2f5c0e37cf91666940db583d02
     "metadata": {},
     "output_type": "execute_result"
    }
   ],
   "source": [
    "train_set.shape"
   ]
  },
  {
   "cell_type": "code",
<<<<<<< HEAD
   "execution_count": 37,
   "metadata": {},
||||||| merged common ancestors
   "execution_count": 38,
   "metadata": {
    "collapsed": false
   },
=======
   "execution_count": 57,
   "metadata": {},
>>>>>>> 7ed1cd029230cd2f5c0e37cf91666940db583d02
   "outputs": [
    {
     "data": {
      "text/plain": [
       "(250, 1, 40, 80)"
      ]
     },
<<<<<<< HEAD
     "execution_count": 37,
||||||| merged common ancestors
     "execution_count": 38,
=======
     "execution_count": 57,
>>>>>>> 7ed1cd029230cd2f5c0e37cf91666940db583d02
     "metadata": {},
     "output_type": "execute_result"
    }
   ],
   "source": [
    "test_set.shape"
   ]
  },
  {
   "cell_type": "code",
<<<<<<< HEAD
   "execution_count": 38,
   "metadata": {},
||||||| merged common ancestors
   "execution_count": 39,
   "metadata": {
    "collapsed": false
   },
=======
   "execution_count": 58,
   "metadata": {},
>>>>>>> 7ed1cd029230cd2f5c0e37cf91666940db583d02
   "outputs": [
    {
     "data": {
      "text/plain": [
       "(1, 40, 80)"
      ]
     },
<<<<<<< HEAD
     "execution_count": 38,
||||||| merged common ancestors
     "execution_count": 39,
=======
     "execution_count": 58,
>>>>>>> 7ed1cd029230cd2f5c0e37cf91666940db583d02
     "metadata": {},
     "output_type": "execute_result"
    }
   ],
   "source": [
    "# we store the new shape of the images in the 'input_shape' variable.\n",
    "# take all dimensions except the 0th one (which is the number of images)\n",
    "input_shape = train_set.shape[1:]  \n",
    "input_shape"
   ]
  },
  {
   "cell_type": "markdown",
   "metadata": {},
   "source": [
    "# Creating Neural Network Models in Keras\n",
    "\n",
    "## Sequential Models\n",
    "\n",
    "In Keras, one can choose between a Sequential model and a Graph model. Sequential models are the standard case. Graph models are for parallel networks."
   ]
  },
  {
   "cell_type": "markdown",
   "metadata": {},
   "source": [
    "## Creating a Single Layer and a Two Layer CNN"
   ]
  },
  {
   "cell_type": "markdown",
   "metadata": {},
   "source": [
    "Try: (comment/uncomment code in the following code block)\n",
    "* 1 Layer\n",
    "* 2 Layer\n",
    "* more conv_filters\n",
    "* Dropout"
   ]
  },
  {
   "cell_type": "code",
<<<<<<< HEAD
   "execution_count": 39,
   "metadata": {},
||||||| merged common ancestors
   "execution_count": 55,
   "metadata": {
    "collapsed": false
   },
=======
   "execution_count": 59,
   "metadata": {
    "collapsed": true
   },
>>>>>>> 7ed1cd029230cd2f5c0e37cf91666940db583d02
   "outputs": [],
   "source": [
    "np.random.seed(0) # make results repeatable\n",
    "\n",
    "model = Sequential()\n",
    "\n",
    "conv_filters = 16   # number of convolution filters (= CNN depth)\n",
    "#conv_filters = 32   # number of convolution filters (= CNN depth)\n",
    "\n",
    "# Layer 1\n",
    "model.add(Convolution2D(conv_filters, 3, 3, input_shape=input_shape))\n",
    "model.add(MaxPooling2D(pool_size=(2, 2))) \n",
    "#model.add(Dropout(0.25)) \n",
    "\n",
    "# Layer 2\n",
    "model.add(Convolution2D(conv_filters, 3, 3))\n",
    "model.add(MaxPooling2D(pool_size=(2, 2))) \n",
    "\n",
    "# After Convolution, we have a 16*x*y matrix output\n",
    "# In order to feed this to a Full(Dense) layer, we need to flatten all data\n",
    "# Note: Keras does automatic shape inference, i.e. it knows how many (flat) input units the next layer will need,\n",
    "# so no parameter is needed for the Flatten() layer.\n",
    "model.add(Flatten()) \n",
    "\n",
    "# Full layer\n",
    "model.add(Dense(200, activation='sigmoid')) \n",
    "#model.add(Dense(256, activation='sigmoid')) \n",
    "\n",
    "# Output layer\n",
    "# For binary/2-class problems use ONE sigmoid unit, for multi-class/multi-label problems use n output units \n",
    "# activation should be 'softmax' for multi-class / single-label output, 'sigmoid' for binary or multi-label tasks\n",
    "model.add(Dense(n_classes,activation='softmax'))"
   ]
  },
  {
   "cell_type": "markdown",
   "metadata": {},
   "source": [
    "If you get OverflowError: Range exceeds valid bounds in the above box, check the correct Theano vs. Tensorflow ordering in the box before and your keras.json configuration file."
   ]
  },
  {
   "cell_type": "code",
<<<<<<< HEAD
   "execution_count": 40,
   "metadata": {},
||||||| merged common ancestors
   "execution_count": 56,
   "metadata": {
    "collapsed": false
   },
=======
   "execution_count": 60,
   "metadata": {},
>>>>>>> 7ed1cd029230cd2f5c0e37cf91666940db583d02
   "outputs": [
    {
     "name": "stdout",
     "output_type": "stream",
     "text": [
      "____________________________________________________________________________________________________\n",
      "Layer (type)                     Output Shape          Param #     Connected to                     \n",
      "====================================================================================================\n",
<<<<<<< HEAD
      "convolution2d_1 (Convolution2D)  (None, 38, 78, 16)    160         convolution2d_input_1[0][0]      \n",
||||||| merged common ancestors
      "convolution2d_2 (Convolution2D)  (None, 38, 78, 16)    160         convolution2d_input_2[0][0]      \n",
=======
      "convolution2d_1 (Convolution2D)  (None, 16, 38, 78)    160         convolution2d_input_1[0][0]      \n",
>>>>>>> 7ed1cd029230cd2f5c0e37cf91666940db583d02
      "____________________________________________________________________________________________________\n",
<<<<<<< HEAD
      "maxpooling2d_1 (MaxPooling2D)    (None, 19, 39, 16)    0           convolution2d_1[0][0]            \n",
||||||| merged common ancestors
      "maxpooling2d_2 (MaxPooling2D)    (None, 19, 39, 16)    0           convolution2d_2[0][0]            \n",
=======
      "maxpooling2d_1 (MaxPooling2D)    (None, 16, 19, 39)    0           convolution2d_1[0][0]            \n",
>>>>>>> 7ed1cd029230cd2f5c0e37cf91666940db583d02
      "____________________________________________________________________________________________________\n",
<<<<<<< HEAD
      "convolution2d_2 (Convolution2D)  (None, 17, 37, 16)    2320        maxpooling2d_1[0][0]             \n",
||||||| merged common ancestors
      "convolution2d_3 (Convolution2D)  (None, 17, 37, 16)    2320        maxpooling2d_2[0][0]             \n",
=======
      "convolution2d_2 (Convolution2D)  (None, 16, 17, 37)    2320        maxpooling2d_1[0][0]             \n",
>>>>>>> 7ed1cd029230cd2f5c0e37cf91666940db583d02
      "____________________________________________________________________________________________________\n",
<<<<<<< HEAD
      "maxpooling2d_2 (MaxPooling2D)    (None, 8, 18, 16)     0           convolution2d_2[0][0]            \n",
||||||| merged common ancestors
      "maxpooling2d_3 (MaxPooling2D)    (None, 8, 18, 16)     0           convolution2d_3[0][0]            \n",
=======
      "maxpooling2d_2 (MaxPooling2D)    (None, 16, 8, 18)     0           convolution2d_2[0][0]            \n",
>>>>>>> 7ed1cd029230cd2f5c0e37cf91666940db583d02
      "____________________________________________________________________________________________________\n",
      "flatten_1 (Flatten)              (None, 2304)          0           maxpooling2d_2[0][0]             \n",
      "____________________________________________________________________________________________________\n",
      "dense_1 (Dense)                  (None, 200)           461000      flatten_1[0][0]                  \n",
      "____________________________________________________________________________________________________\n",
      "dense_2 (Dense)                  (None, 10)            2010        dense_1[0][0]                    \n",
      "====================================================================================================\n",
      "Total params: 465,490\n",
      "Trainable params: 465,490\n",
      "Non-trainable params: 0\n",
      "____________________________________________________________________________________________________\n"
     ]
    }
   ],
   "source": [
    "model.summary()"
   ]
  },
  {
   "cell_type": "markdown",
   "metadata": {},
   "source": [
    "## Training the CNN"
   ]
  },
  {
   "cell_type": "code",
<<<<<<< HEAD
   "execution_count": 41,
   "metadata": {},
||||||| merged common ancestors
   "execution_count": 57,
   "metadata": {
    "collapsed": true
   },
=======
   "execution_count": 61,
   "metadata": {
    "collapsed": true
   },
>>>>>>> 7ed1cd029230cd2f5c0e37cf91666940db583d02
   "outputs": [],
   "source": [
    "# Define a loss function \n",
    "loss = 'categorical_crossentropy' \n",
    "\n",
    "# Note: for binary classification (2 classes) OR for multi-class problems use:\n",
    "#loss = 'binary_crossentropy' \n",
    "\n",
    "# Optimizer = Stochastic Gradient Descent\n",
    "optimizer = 'sgd' \n",
    "\n",
    "# Compiling the model\n",
    "model.compile(loss=loss, optimizer=optimizer, metrics=['accuracy'])"
   ]
  },
  {
   "cell_type": "code",
<<<<<<< HEAD
   "execution_count": 42,
   "metadata": {},
||||||| merged common ancestors
   "execution_count": 58,
   "metadata": {
    "collapsed": true
   },
=======
   "execution_count": 62,
   "metadata": {
    "collapsed": true
   },
>>>>>>> 7ed1cd029230cd2f5c0e37cf91666940db583d02
   "outputs": [],
   "source": [
    "history = None"
   ]
  },
  {
   "cell_type": "code",
<<<<<<< HEAD
   "execution_count": 43,
   "metadata": {},
||||||| merged common ancestors
   "execution_count": 60,
   "metadata": {
    "collapsed": false
   },
=======
   "execution_count": 63,
   "metadata": {},
>>>>>>> 7ed1cd029230cd2f5c0e37cf91666940db583d02
   "outputs": [
    {
     "name": "stdout",
     "output_type": "stream",
     "text": [
      "Epoch 1/15\n",
<<<<<<< HEAD
      "750/750 [==============================] - 1s - loss: 2.3901 - acc: 0.1307     \n",
||||||| merged common ancestors
      "750/750 [==============================] - 1s - loss: 1.6684 - acc: 0.4267     \n",
=======
      "747/747 [==============================] - 1s - loss: 2.3427 - acc: 0.1633     \n",
>>>>>>> 7ed1cd029230cd2f5c0e37cf91666940db583d02
      "Epoch 2/15\n",
<<<<<<< HEAD
      "750/750 [==============================] - 1s - loss: 2.1604 - acc: 0.2040     \n",
||||||| merged common ancestors
      "750/750 [==============================] - 1s - loss: 1.6408 - acc: 0.4427     \n",
=======
      "747/747 [==============================] - 1s - loss: 2.1124 - acc: 0.2289     \n",
>>>>>>> 7ed1cd029230cd2f5c0e37cf91666940db583d02
      "Epoch 3/15\n",
<<<<<<< HEAD
      "750/750 [==============================] - 1s - loss: 2.0868 - acc: 0.2320     \n",
||||||| merged common ancestors
      "750/750 [==============================] - 1s - loss: 1.6129 - acc: 0.4427     \n",
=======
      "747/747 [==============================] - 1s - loss: 2.0309 - acc: 0.2691     \n",
>>>>>>> 7ed1cd029230cd2f5c0e37cf91666940db583d02
      "Epoch 4/15\n",
<<<<<<< HEAD
      "750/750 [==============================] - 1s - loss: 2.0399 - acc: 0.2787     \n",
||||||| merged common ancestors
      "750/750 [==============================] - 1s - loss: 1.5875 - acc: 0.4533     \n",
=======
      "747/747 [==============================] - 1s - loss: 1.9834 - acc: 0.2959     \n",
>>>>>>> 7ed1cd029230cd2f5c0e37cf91666940db583d02
      "Epoch 5/15\n",
<<<<<<< HEAD
      "750/750 [==============================] - 1s - loss: 2.0007 - acc: 0.2947     \n",
||||||| merged common ancestors
      "750/750 [==============================] - 1s - loss: 1.5666 - acc: 0.4680     \n",
=======
      "747/747 [==============================] - 1s - loss: 1.9424 - acc: 0.3226     \n",
>>>>>>> 7ed1cd029230cd2f5c0e37cf91666940db583d02
      "Epoch 6/15\n",
<<<<<<< HEAD
      "750/750 [==============================] - 1s - loss: 1.9657 - acc: 0.3120     \n",
||||||| merged common ancestors
      "750/750 [==============================] - 1s - loss: 1.5396 - acc: 0.4760     \n",
=======
      "747/747 [==============================] - 1s - loss: 1.9023 - acc: 0.3320     \n",
>>>>>>> 7ed1cd029230cd2f5c0e37cf91666940db583d02
      "Epoch 7/15\n",
<<<<<<< HEAD
      "750/750 [==============================] - 1s - loss: 1.9344 - acc: 0.3293     \n",
||||||| merged common ancestors
      "750/750 [==============================] - 1s - loss: 1.5173 - acc: 0.4880     \n",
=======
      "747/747 [==============================] - 1s - loss: 1.8656 - acc: 0.3454     \n",
>>>>>>> 7ed1cd029230cd2f5c0e37cf91666940db583d02
      "Epoch 8/15\n",
<<<<<<< HEAD
      "750/750 [==============================] - 1s - loss: 1.9011 - acc: 0.3520     \n",
||||||| merged common ancestors
      "750/750 [==============================] - 1s - loss: 1.4913 - acc: 0.5013     \n",
=======
      "747/747 [==============================] - 1s - loss: 1.8356 - acc: 0.3655     \n",
>>>>>>> 7ed1cd029230cd2f5c0e37cf91666940db583d02
      "Epoch 9/15\n",
<<<<<<< HEAD
      "750/750 [==============================] - 1s - loss: 1.8673 - acc: 0.3547     \n",
||||||| merged common ancestors
      "750/750 [==============================] - 1s - loss: 1.4678 - acc: 0.5147     \n",
=======
      "747/747 [==============================] - 1s - loss: 1.8016 - acc: 0.3722     \n",
>>>>>>> 7ed1cd029230cd2f5c0e37cf91666940db583d02
      "Epoch 10/15\n",
<<<<<<< HEAD
      "750/750 [==============================] - 1s - loss: 1.8362 - acc: 0.3533     \n",
||||||| merged common ancestors
      "750/750 [==============================] - 1s - loss: 1.4386 - acc: 0.5373     \n",
=======
      "747/747 [==============================] - 1s - loss: 1.7663 - acc: 0.3949     \n",
>>>>>>> 7ed1cd029230cd2f5c0e37cf91666940db583d02
      "Epoch 11/15\n",
<<<<<<< HEAD
      "750/750 [==============================] - 1s - loss: 1.8041 - acc: 0.3707     \n",
||||||| merged common ancestors
      "750/750 [==============================] - 1s - loss: 1.4128 - acc: 0.5427     \n",
=======
      "747/747 [==============================] - 1s - loss: 1.7397 - acc: 0.3949     \n",
>>>>>>> 7ed1cd029230cd2f5c0e37cf91666940db583d02
      "Epoch 12/15\n",
<<<<<<< HEAD
      "750/750 [==============================] - 1s - loss: 1.7744 - acc: 0.3827     \n",
||||||| merged common ancestors
      "750/750 [==============================] - 1s - loss: 1.3831 - acc: 0.5560     \n",
=======
      "747/747 [==============================] - 1s - loss: 1.7126 - acc: 0.4083     \n",
>>>>>>> 7ed1cd029230cd2f5c0e37cf91666940db583d02
      "Epoch 13/15\n",
<<<<<<< HEAD
      "750/750 [==============================] - 1s - loss: 1.7475 - acc: 0.3880     \n",
||||||| merged common ancestors
      "750/750 [==============================] - 1s - loss: 1.3681 - acc: 0.5667     \n",
=======
      "747/747 [==============================] - 1s - loss: 1.6812 - acc: 0.4337     \n",
>>>>>>> 7ed1cd029230cd2f5c0e37cf91666940db583d02
      "Epoch 14/15\n",
<<<<<<< HEAD
      "750/750 [==============================] - 1s - loss: 1.7233 - acc: 0.4080     \n",
||||||| merged common ancestors
      "750/750 [==============================] - 1s - loss: 1.3362 - acc: 0.5787     \n",
=======
      "747/747 [==============================] - 1s - loss: 1.6547 - acc: 0.4324     \n",
>>>>>>> 7ed1cd029230cd2f5c0e37cf91666940db583d02
      "Epoch 15/15\n",
<<<<<<< HEAD
      "750/750 [==============================] - 1s - loss: 1.6973 - acc: 0.4253     \n"
||||||| merged common ancestors
      "750/750 [==============================] - 1s - loss: 1.3103 - acc: 0.5947     \n"
=======
      "747/747 [==============================] - 1s - loss: 1.6303 - acc: 0.4511     \n"
>>>>>>> 7ed1cd029230cd2f5c0e37cf91666940db583d02
     ]
    }
   ],
   "source": [
    "# TRAINING the model\n",
    "\n",
    "# YOU MAY RUN THIS CELL MULTIPLE TIMES TO CONTINUE TO TRAIN THE MODEL FURTHER\n",
    "\n",
    "# for how many epochs (iterations) to train\n",
    "epochs = 15\n",
    "\n",
    "# for training we need the \"1 hot encoded\" numeric classes of the ground truth\n",
    "History = model.fit(train_set, train_classes_1hot, batch_size=32, nb_epoch=epochs)\n",
    "\n",
    "# we keep the history of accuracies on training set\n",
    "# we append this to previous history in case we execute this cell multiple times\n",
    "if history is None:\n",
    "    history = History.history\n",
    "else:\n",
    "    for key in History.history.keys():\n",
    "        history[key].extend(History.history[key])"
   ]
  },
  {
   "cell_type": "code",
<<<<<<< HEAD
   "execution_count": 44,
   "metadata": {},
||||||| merged common ancestors
   "execution_count": 61,
   "metadata": {
    "collapsed": false
   },
=======
   "execution_count": 64,
   "metadata": {
    "collapsed": true
   },
>>>>>>> 7ed1cd029230cd2f5c0e37cf91666940db583d02
   "outputs": [],
   "source": [
    "def plot_traincurve(history):\n",
    "    # define 4 colors for up to 4 different values in history\n",
    "    colors = {'loss':'r', 'acc':'b', 'val_loss':'m', 'val_acc':'g'}\n",
    "    plt.figure(figsize=(10,6))\n",
    "    plt.title(\"Training Curve\") \n",
    "    plt.xlabel(\"Epoch\")\n",
    "\n",
    "    for measure in history.keys():\n",
    "        color = colors[measure]\n",
    "        ln = len(history[measure])\n",
    "        plt.plot(range(1,ln+1), history[measure], color + '-', label=measure)  # use last 2 values to draw line\n",
    "\n",
    "    plt.legend(loc='upper left', scatterpoints = 1, frameon=False)"
   ]
  },
  {
   "cell_type": "code",
<<<<<<< HEAD
   "execution_count": 45,
   "metadata": {},
||||||| merged common ancestors
   "execution_count": 62,
   "metadata": {
    "collapsed": false
   },
=======
   "execution_count": 65,
   "metadata": {},
>>>>>>> 7ed1cd029230cd2f5c0e37cf91666940db583d02
   "outputs": [
    {
     "data": {
<<<<<<< HEAD
      "image/png": "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\n",
||||||| merged common ancestors
      "image/png": "iVBORw0KGgoAAAANSUhEUgAAAlYAAAGDCAYAAADpvl4eAAAABHNCSVQICAgIfAhkiAAAAAlwSFlz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\nMVhJkiQ15P8BYI4w79hPEoIAAAAASUVORK5CYII=\n",
=======
      "image/png": "iVBORw0KGgoAAAANSUhEUgAAAlYAAAGDCAYAAADpvl4eAAAABHNCSVQICAgIfAhkiAAAAAlwSFlzAAALEgAACxIB0t1+/AAAADl0RVh0U29mdHdhcmUAbWF0cGxvdGxpYiB2ZXJzaW9uIDIuMi4yLCBodHRwOi8vbWF0cGxvdGxpYi5vcmcvhp/UCwAAIABJREFUeJzt3XmUnFWd//HPN92dtdNJOunsOzRhSUgIDYQtgIAEAaPiCAyjkh/qOMfhBz85KorjzBFmnOM4gzLDwC/jj+0oGgGRsBjZSZAkkMSQhH3JvpB9X7vz/f1xq6jq6uotud1Pdff7dc499dTzPFX1rVKaD/fe5z7m7gIAAMDR65R0AQAAAO0FwQoAACASghUAAEAkBCsAAIBICFYAAACREKwAAAAiIVgBaFVmVmRmu81seMxzAaAQEKwANCgVbNLtsJnty3p+bXPfz91r3L3U3VfFPPdImNnxZvaImW0xsx1m9oaZ3WRm/G0EcET44wGgQalgU+rupZJWSboia9+vc883s+LWr7L5zKxS0jxJH0ka6+69JF0t6UxJ3Y/g/drE9wbQsghWAI6Kmd1uZjPM7DdmtkvS35jZmWY2z8y2m9l6M7vTzEpS5xebmZvZyNTzX6WO/9HMdpnZXDMb1dxzU8cvNbP3Ur1P/2lmfzaz6+op/TZJL7v7d919vSS5+9vufpW77zazi8xsRc53XWNm59fzvb+f6s3rlXX+aWa2MR26zOxrZvaOmW1LfYdhR/nzAygwBCsAMXxe0kOSekmaIala0o2S+kk6W9IUSX/bwOv/WtI/SCpX6BW7rbnnmll/Sb+T9J3U5y6XdHoD73ORpEca/lqNyv7eP5P0uqQv5NT6O3evNrMrU7VNlVQhaX7qtQDaEYIVgBhecfcn3P2wu+9z99fdfb67V7v7R5KmSzqvgdc/4u4L3P2QpF9LmnAE514uabG7P546doekzQ28T7mk9U39gvWo9b0VgtI1kpSap3WVMuHpm5L+xd3fdfdqSbdLOt3MhhxlDQAKCMEKQAyrs5+kJoU/ZWYbzGynpB8r9CLVZ0PW9l5JpUdw7uDsOjzcYX5NA++zVdKgBo43xeqc5w9LOtfMBki6QNJ+d381dWyEpLtSw6PbFULfYUlDj7IGAAWEYAUgBs95/n8lLZN0rLuXSfqRJGvhGtYrK6SYmUlqqDfoOUlXNnB8j7ImsafmSfXNOafW93b3LZJekPRXCsOAv8k6vFrS9e7eO6t1c/f5DdQAoI0hWAFoCT0l7ZC0x8xOUMPzq2J5UtJEM7siFYJuVJjLVJ8fSTrfzH5iZgMlycyOM7OHzKxU0juSeprZJamJ9/8oqaQJdTwk6asKc62y51DdI+nW1O8hM+ttZl9s5ncEUOAIVgBaws0K4WKXQu/VjJb+QHf/WGFO039I2iLpGEl/kXSgnvPfU1ha4ThJb6WG536nsATDXnffJukGSQ9IWqswdLgh33vl+IOkEyWtcvc3sz7v4VRtD6eGR5dIuqT53xRAIbMwDQEA2hczK5K0TtIX3X1O0vUA6BjosQLQbpjZlNQQWxeFJRkOSXot4bIAdCAEKwDtyTkKK6lvUhhm+7y75x0KBICWwFAgAABAJPRYAQAAREKwAgAAiCSxu7H369fPR44cmdTHAwAANNnChQs3u3tDa+NJSjBYjRw5UgsWLEjq4wEAAJrMzFY25TyGAgEAACIhWAEAAERCsAIAAIiEYAUAABAJwQoAACASghUAAEAkBCsAAIBICFYAAACREKwAAAAiIVjl8bnPfU6nnnqqTjrpJE2fPl2SNGvWLE2cOFHjx4/XhRdeKEnavXu3pk2bpnHjxunkk0/Wo48+mmTZAAAgYYnd0qYxN90kLV4c9z0nTJB+/vPGz7v33ntVXl6uffv26bTTTtPUqVP19a9/XbNnz9aoUaO0detWSdJtt92mXr16aenSpZKkbdu2xS0YAAC0KQUbrI6eSxs3ShX9JbNmvfLOO+/UY489JklavXq1pk+frsmTJ2vUqFGSpPLycknSc889p9/+9refvK5Pnz6RagcAAG1RwQarpvQsNeill6ULLpBGfUaaMUMqLW3ay156Sc8995zmzp2r7t276/zzz9eECRP0zjvvHGVBAACgvWu/c6zOP1+6+25p1izp3HOltWub9LIdO3aoT58+6t69u9555x3NmzdP+/fv1+zZs7V8+XJJ+mQo8OKLL9Zdd931yWsZCgQAoGNrv8FKkr75TenJJ6UPPpAmTZLeeKPRl0yZMkXV1dU64YQTdMstt2jSpEmqqKjQ9OnT9YUvfEHjx4/XVVddJUn64Q9/qG3btmns2LEaP368XnzxxZb+RgAAoICZuyfywVVVVb5gwYLW+bDFi6XLLpN27pQefliaMqV1PhcAALQLZrbQ3asaO69991ilTZggzZ8vjR4tXX65lFpCAQAAIKaOEawkaehQ6ZVXpIsvlv72b6XvfU86fDjpqgAAQDvScYKVJPXsKT3xRJh79dOfSldfLe3bl3RVAACgnSjY5RZaTHGx9N//HYYFv/tdac0a6fHHpYqKpCsDAABtXMfqsUozk77znTCR/S9/kc48U3rvvaSrAgAAbVzHDFZpX/yi9MIL0o4dIVzNmZN0RQAAoA3r2MFKCoFq3jypXz/pootU2rVr0hUBAIA2imAlScccI82dK51xhnTggPTP/ywltL4XAABouwhWaeXl0rPPhsntP/yh/Prr9Z2bb9bYsWM1btw4zZgxQ5K0fv16TZ48WRMmTNDYsWM1Z84c1dTU6Lrrrvvk3DvuuCPhLwMAAJJQuFcF3nRTWDE9pgkTGr67c5cuoX3/+/r9bbdpcXm53nj/fW0+dEinnXaaJk+erIceekiXXHKJbr31VtXU1Gjv3r1avHix1q5dq2XLlkmStm/fHrduAADQJtBjlc+Pf6xXPv1pXbN9u4omT9aA/ft13nnn6fXXX9dpp52m++67T//0T/+kpUuXqmfPnho9erQ++ugj3XDDDZo1a5bKysqS/gYAACABhdtj1VDPUms48URp3Djpl78MN3A+5RRJ0uTJkzV79mw99dRTuu666/Ttb39bX/nKV/TGG2/oT3/6k+655x797ne/07333pts/QAAoNXRY1WPc889VzOWLlXNnDnaVFys2bNm6fRt27Ry5UoNGDBAX//61/W1r31NixYt0ubNm3X48GFdeeWVuv3227Vo0aKkywcAAAko3B6rhH3+85/X3LlzNf6aa2SlpfrpqFEaOG2aHvjrv9a/LV6skpISlZaW6sEHH9TatWs1bdo0HU7de/AnP/lJwtUDAIAkmCe0rEBVVZUvWLAgkc8+Inv2SNdeG25/c+ON0r//u1RUlHRVAACgFZjZQnevauw8hgKbqkcP6dFHw9WKv/iFdOWVIWwBAACkEKyao6hIuuMO6c47pSeekM4/X9qwIemqAABAgSBYHYkbbpD+8AfprbfCFYNvvpl0RQAAoAAQrI7UFVdIs2eHW+Ccfbb0/PNJVwQAABJGsDoap54qzZ8vDR0qTZki3X9/0hUBAIAEEayO1vDh0p//HOZbTZsm/cM/cANnAAA6KIJVDL16SU8/LV1/vXT77dKXvxyGCAEAQIfCAqGxlJRI//M/0ujR0q23SqtXS489JpWXJ10ZAABoJfRYxWQm/eAH0kMPSfPmSWedJX34YdJVAQCAVkKwagnXXBOuEty0KSzHMHdu0hUBAIBWQLBqKeecE3qteveWPvUp6eGHk64IAAC0MIJVS6qsDL1VEydKX/qS9NOfcsUgAADtGMGqpfXrF4YFr7pK+t73wtDgT34SVmsnZAEA0K4QrFpD165hQvvPfy4dPhwmuI8dG3q0vv1t6aWXpOrqpKsEAABHiWDVWjp1km68UXr9dWnNGunuu6XjjpPuuku64AKpf/+w/tXDD0u7diVdLQAAOALmCQ1HVVVV+YIFCxL57IKya5f0zDPSzJnSk09KW7dKnTuHsPXZz4Y2dGjSVQIA0KGZ2UJ3r2r0PIJVAamull59NYSsxx+XPvgg7J84MQSsqVOl8ePDelkAAKDVEKzaOnfpnXcyIWvevLBv+PBMT9Z554XeLQAA0KIIVu3Nxx9LTz0VQtazz0r79kllZdKll4aQdemlUp8+SVcJAEC7RLBqz/buDUs4PP649MQT0saNUnGxNHlypjdr1KikqwQAoN0gWHUUhw9Lr70WQtbMmdJbb4X948Zl5mWdemq4KhEAABwRglVH9cEHIWDNnCnNmROC16BB0hVXhJD1qU+FdbUAAECTEawgbdkiPf10CFmzZkm7d0s9ekif/nQIWZddFlaGBwAADSJYobYDB6QXX8z0Zq1dG4YHJ0yQTj65dquoSLpaAAAKCsEK9XOXFi0KAWvuXGnJknDVYdqAAbWD1rhx0gknMIQIAOiwmhqsipvwRsMkPShpgCSXNN3df5Fzjkn6haTPSNor6Tp3X3QkhaMVmIUJ7aeemtm3caO0dGkIWUuWhO277pL27w/Hi4qkMWNCyMoOXcOGsWApAAApjQYrSdWSbnb3RWbWU9JCM3vW3d/KOudSSZWpdoaku1OPaCv695cuvDC0tOrqMBk+O3C99po0Y0bmnF69MmEr/Th2bFhjCwCADqbRYOXu6yWtT23vMrO3JQ2RlB2spkp60MO44jwz621mg1KvRVtVXCwdf3xof/VXmf07d0rLlmV6tpYskX71q7A/bdSo2r1b48ZJlZWh5wsAgHaqKT1WnzCzkZJOkTQ/59AQSauznq9J7asVrMzsG5K+IUnDhw9vXqUoHGVl0llnhZbmLq1eXXsoccmSsFp8TU04p2tX6aSTavduMVkeANCONDlYmVmppEcl3eTuOxs7Px93ny5puhQmrx/Je6BAmYX7GA4fLl1+eWb//v3S22/XHk784x+l++7LnJM9WX7s2NBDNmYMt+gBALQ5TQpWZlaiEKp+7e6/z3PKWknDsp4PTe1DR9e1q3TKKaFlS0+Wzw5c2ZPlpTDva8yY0NJha8yYMMxY3KzOVgAAWkWjyy2krvh7QNJWd7+pnnMuk/T3ClcFniHpTnc/vaH3ZbkF1FFTI330kfTuu9I774TH9PamTZnzSkqkY4+tG7iOP55eLgBAi4i23IKksyV9WdJSM1uc2vcDScMlyd3vkfS0Qqj6QGG5hWlHUjQ6uKKiMMG9srL2cKIkbd2aCVrZweupp6RDhzLnVVTkD1z0cgEAWgELhKJtq66Wli9vWi/XMcfUDVxjxkjl5cnVDwBoE2L2WAGFq7i4/l6ubdtqB676ern69csfuEaPppcLANAs/FsD7VefPtKkSaFly+7lyg5cM2fW7uUqLg5zuY47LgSt7Mf+/VlxHgBQB8EKHU9zernSbdYs6eDBzHm9emWCVnboqqyUundv3e8DACgYzLECmqKmRlq5UnrvvRC0sh9Xr6597rBh+Xu5Roxg5XkAaKOYYwXEVFQU5lyNHi1NmVL72J494Z6K6d6tdOjKvc1P586ZZSJyg1ffvgwtAkA7QLACjlaPHtL48aFlcw8Loeb2cr39tvTkk7Un0Pfpkz9wHXus1K1b634fAMARI1gBLcUs3K5nwADp3HNrH6uullasqDus+Nxz0oMP1n6P4cNrB67KyrB0xIgRoRcMAFAwCFZAEtJXHB57rHTZZbWP7dolvf9+3Z6u+++Xdu/OnNepUwhXxxwT2rHHZraPOSb0pAEAWhXBCig0PXtKEyeGls1d2rAhzOf68MPQ0tsPPxxWp882cGDdwJXeLi9nThcAtACuCgTai23b6gau9Pa6dbXP7dUrf+A65hhp8ODQGwYA+ARXBQIdTZ8+UlVVaLn27g2LouaGroULpUcfDctJpHXtGq5+zNfbNWJEuD0QACAvghXQEXTvLp10Umi5qqulVavyDzE+95y0b1/m3KKiMJk+O3CNGhXW7ho2LEzUp7cLQAdGsAI6uuLizBpdudyl9evzDzHOmBGGH3Pfa8iQTNDKbUOHShUVzO8C0G4RrADUzyzMuRo8uO6SEVIIVitXhtXns9uaNdL8+WGYMftWQJLUpUsIWPUFr2HDwrAm4QtAG0SwAnDk+vQJbcKE/McPHw43ts4XvFavll5+WVq7tvYcLykMXdYXutKtrKzlvx8ANBPBCkDL6dQps0hqvkn1UghVGzbUDV3p9qc/heHI3CuYy8ryB6/hwzPzvphoD6CVEawAJKuoKMzLGjJEmjQp/zmHDoUlI3JDV7otWhRuH5StU6cQtkaNkkaODI/Z24MHc1NsANERrAAUvpKSsNTDiBH1n3PgQBhWXLky3C5o+fLQVqwIVzeuW1e716ukJNO7lS94DRjAPC8AzUawAtA+dOlS/9WNUgheq1bVDlzpx5kz6/Z4de2aP3Clt1m9HkAeBCsAHUOXLuEG1pWV+Y/v2RN6u3KD1/Ll0rx5dZeW6Nmz4eDF5HqgQyJYAYAUblp94omh5bNjR93AtWKF9NFH0vPPh2CWrbw8E7LSPWnpNny41LlzC38hAEkgWAFAU/TqFZaVyLe0hLu0ZUv+3q6lS6Unnqi9nlenTuGqxdzAlW59+zLMCLRRBCsAOFpmUr9+oZ12Wt3jhw+HyfMffVS3PfVUWG4iW8+eobcrX+gaOTIMawIoSAQrAGhp6aUfhg6VJk+ue3zPnsywYnZ77z1p1ixp//7MuWZhaYr6erv696e3C0gQwQoAktajR/03yXYPPVrLl9cNXs8+G5aYyNa9e/29XaNGSd26tc53AjooghUAFDIzadCg0M46q+7x/fvz93YtXy698ELdSfUDB4aes8GDw3tmP6a3KypYPBU4QgQrAGjLunaVjj8+tFzu0ubNdUPXunUhjM2dG+7lmKuoKCyQmi98ZYcwAhhQB8EKANorsxB+KiqkM87If87Bg9LHH4ewtW5duC9j9uOqVWEdr3wBrFOn0ANWX/hKP/bvTwBDh0GwAoCOrHPnzI2sG5IdwHLD1/r1IYDNn193BXspczPu+oYe09sEMLQDBCsAQOOaGsAOHWq4B2zNGum110IPWPa9G6UQqgYOzAStfG3IEG4nhIJGsAIAxFNSkllaoiHZASwdutatC1c5ptf8euWVsPBqrs6dGw5e6e2ePQlgaHUEKwBA62tqANu/Pyw3kQ5e2eFr3Tpp2TLpmWeknTvrvrZHj/pDV3ZjCQpERLACABSurl3DavMjRzZ83u7dmZ6v7OCVbq+9FvZnL7aa1rt37eA1ZEi4n2N269mzJb4d2iGCFQCg7SstlSorQ6uPe7iZdr6er3R78cXwWF1d+7V9+tQNW8OHSyNGhMeBA5l4D0kEKwBAR2EWeqd695ZOPLH+82pqwvDjqlXSypXhMbu98oq0bVvt1xQXh2HNfKEr3UpLW/b7oSAQrAAAyFZUFIYDhwyRzjwz/zk7d0qrV9cNXStXSnPmhKsfa2pqvya31ys3eNHr1S4QrAAAaK6ysvrv7yiFUJVe3yu35ysdvrZvr/2a7F6v7NA1bFhmon3fvmFdMBQsghUAALEVFWWuesx3j0cp9Hrl9nil2+zZ+Xu9iosza301tOJ9RQUBLCEEKwAAklBWJo0dG1o+1dWZXq/16+sutvrhh/Wv9VVc3Pj9HrnhdosgWAEAUIiKi5u22v2BA5m1vvLdbmj5cunVV8MNuXPVd8Nt7vd4xAhWAAC0ZV26hDlZI0Y0fN7Bg7UDWHNvuJ19v8eBA8PzAQMy2+nHsrIOveI9wQoAgI6gc+fMhPiGpG+4na/3K32/x4ULww23c+eASWFR1/pCV+6+0tJ2F8IIVgAAIKOpN9w+fDjM79qwIQSxfI8rVkjz54cQlnvTbSncTqih3q/s7TayDhjBCgAANF+nTmHye0WFNG5cw+fW1IQ5XvWFsI8/DpPx03PB8oWwHj3qD10TJ0qnn94y37OZCFYAAKBlpSfJDxjQ+LnV1WGeV3boyg1i774blqRIXxH5rW8RrAAAAOooLs5cmdiYQ4fCMGMBXbFIsAIAAG1TSUm49VABYVlWAACASAhWAAAAkRCsAAAAIiFYAQAAREKwAgAAiIRgBQAAEAnBCgAAIBKCFQAAQCQEKwAAgEgIVgAAAJEQrAAAACIhWAEAAETSaLAys3vNbKOZLavn+PlmtsPMFqfaj+KXCQAAUPiKm3DO/ZL+S9KDDZwzx90vj1IRAABAG9Voj5W7z5a0tRVqAQAAaNNizbE608zeMLM/mtlJ9Z1kZt8wswVmtmDTpk2RPhoAAKAwxAhWiySNcPfxkv5T0h/qO9Hdp7t7lbtXVVRURPhoAACAwnHUwcrdd7r77tT205JKzKzfUVcGAADQxhx1sDKzgWZmqe3TU++55WjfFwAAoK1p9KpAM/uNpPMl9TOzNZL+UVKJJLn7PZK+KOnvzKxa0j5JV7u7t1jFAAAABarRYOXu1zRy/L8UlmMAAADo0Fh5HQAAIBKCFQAAQCQEKwAAgEgIVgAAAJEQrAAAACIhWAEAAERCsAIAAIiEYAUAABAJwQoAACASghUAAEAkBCsAAIBICFYAAACREKwAAAAiIVgBAABEQrACAACIhGAFAAAQCcEKAAAgEoIVAABAJAQrAACASAhWAAAAkRCsAAAAIiFYAQAAREKwAgAAiIRgBQAAEAnBCgAAIBKCFQAAQCQEKwAAgEgIVgAAAJEQrAAAACIhWAEAAERCsAIAAIiEYAUAABAJwQoAACASghUAAEAkBCsAAIBICFYAAACREKwAAAAiIVgBAABEQrACAACIhGAFAAAQCcEKAAAgEoIVAABAJAQrAACASAhWAAAAkRCsAAAAIiFYAQAAREKwAgAAiIRgBQAAEAnBCgAAIBKCFQAAQCQEKwAAgEgIVgAAAJEQrAAAACIhWAEAAERCsAIAAIiEYAUAABAJwQoAACASghUAAEAkBCsAAIBIGg1WZnavmW00s2X1HDczu9PMPjCzJWY2MX6ZAAAAha8pPVb3S5rSwPFLJVWm2jck3X30ZQEAALQ9jQYrd58taWsDp0yV9KAH8yT1NrNBsQoEAABoK2LMsRoiaXXW8zWpfXWY2TfMbIGZLdi0aVOEjwYAACgcrTp53d2nu3uVu1dVVFS05kcDAAC0uBjBaq2kYVnPh6b2AQAAdCgxgtVMSV9JXR04SdIOd18f4X0BAADalOLGTjCz30g6X1I/M1sj6R8llUiSu98j6WlJn5H0gaS9kqa1VLEAAACFrNFg5e7XNHLcJX0rWkUAAABtFCuvAwAAREKwAgAAiIRgBQAAEAnBCgAAIBKCFQAAQCQEKwAAgEgIVgAAAJEQrAAAACIhWAEAAERCsAIAAIiEYAUAABAJwQoAACASghUAAEAkBCsAAIBICFYAAACREKwAAAAiIVgBAABEQrACAACIhGAFAAAQCcEKAAAgEoIVAABAJAQrAACASAhWAAAAkRCsAAAAIiFYAQAAREKwAgAAiIRgBQAAEAnBCgAAIBKCFQAAQCQEKwAAgEgIVgAAAJEQrAAAACIhWAEAAERCsAIAAIiEYAUAABAJwQoAACASghUAAEAkBCsAAIBICFYAAACREKwAAAAiIVgBAABEQrACAACIhGAFAAAQCcEKAAAgEoIVAABAJAQrAACASAhWAAAAkRCsAAAAIiFYAQAAREKwAgAAiIRgBQAAEAnBCgAAIBKCFQAAQCQEKwAAgEgIVgAAAJEQrAAAACIhWAEAAERCsAIAAIiEYAUAABBJk4KVmU0xs3fN7AMzuyXP8evMbJOZLU61r8UvFQAAoLAVN3aCmRVJukvSxZLWSHrdzGa6+1s5p85w979vgRoBAADahKb0WJ0u6QN3/8jdD0r6raSpLVsWAABA29OUYDVE0uqs52tS+3JdaWZLzOwRMxuW743M7BtmtsDMFmzatOkIygUAAChcsSavPyFppLufLOlZSQ/kO8ndp7t7lbtXVVRURPpoAACAwtCUYLVWUnYP1NDUvk+4+xZ3P5B6+ktJp8YpDwAAoO1oSrB6XVKlmY0ys86SrpY0M/sEMxuU9fSzkt6OVyIAAEDb0OhVge5ebWZ/L+lPkook3evub5rZjyUtcPeZkv63mX1WUrWkrZKua8GaAQAACpK5eyIfXFVV5QsWLEjkswEAAJrDzBa6e1Vj5zXaYwUAANAaamqkHTukrVub177yFelnP0u6+oBgBQAAoqqulrZtqz8IbdmSf//27VJDA2llZVJ5eaYNGxYezzij9b5bYwhWAAAUgEOHpI8/ljZsCG39+vC4ZUs4bhZap06Z7dznTT12NOdJjfcq7dxZ//c0k/r0yYSjvn2lysragSlf691bKilp+f8djhbBCgCAFuIeQkZ2UMrezn7cvDn/e5SVhTBy+HB4v3TLfp673RqKimoHn0GDpJNOqj8Y9e0bHnv1ygS09ohgBQBAM1VXSxs35g9IueFp3766r+/cWRo4MISR0aOls8/OPB84MLM9YEA490g0JYA1Jajle96rl9SzZwh8qI1gBQDo8NylAwek3bvDUFZ9vUrZvUv55gKVl2eC0Vln1Q5L2aGpT5+WDyW5w3doHQQrAECbdPCgtGtX7bZ7d919TT1eXZ3/c0pKMsFo5Ehp0qS6YSndu9SlS6v+BChABCsAaOcOHpQ2bQpDV5s31x8gkuAu7d/f9PCTfezgwaZ9RnFxGLbKbYMHZ7ZLSzPbvXuHoJQOTeXlDHmh6QhWANDGHD4chqs2bszf0iEq3bZvT7ri5ikqqhuCSktDj1C+gJQbjHIbvUhoTQQrAEiYe+iBqS8Y5bbNm/Nf+WUm9esn9e8f2imnhMeKisy+fv2OfDJ0S+natXYw6tqVHiK0XQQrADgK7mG16AMHwtBU7uO+fbWDUn2h6cCB/O9fVpYJRcceGyZEp5/nhqa+fUNvD4DkEKwAtGk1NWGF582bw0KKO3bkDzj59jXlWFPOac4tV7t0qR2Mxo6t/Tw7MFVUhN4bAG0HwQpAwTh4MISjdEhqynZjt8DIxywEnC5dwrBY+jF7O328rCz/sYZel/3YtWvtXqXSUoa5gPaMYAUgOndp796mh6T0892763/P7t3D/KC+fUMbMaL28/R2r175Q1N2CCrmLx+AFsKfFwB15K4P1NC8TiEhAAAKMUlEQVTl79u35w9N9c0ZkkL4SQeh/v2lE0+sG5BynzMkBqAtIFgB7cChQ0e3MGLuseasD9S7dyb8jBwpVVXlD0np7fJyeowAtF/8eQNaUHV1uCosZssXkBrqHcqWb32gnj3DIogNrQNU37HOnZkvBADZCFZASnotoXXrQlu/Xvr4Y2nPniMPQUezwnW3bmFeUbdutVtpaej9OdKFEglCANByCFboEHbtCkEpHZrSwSn3+Z49+V9fXFw34GS38vKGjze3EYAAoG0iWKFN2727dkCqLzzlu9qsW7dwr7DBg6VTTw33BUs/Hzw4c5+w0lLmBAEAmoZ/XaAg7d2bPyzlBqddu+q+tmvXTDgaP1669NJMUMoOTmVl9AoBAOIiWKFV7dvXeFhavz6snp2rS5dMOBo3Trrkkvy9TL17E5gAAMkgWCGK/fubNiS3fXvd15aUZILRiSdKF11UOyilt/v0ITABAAobwQoNOnAgE4oaCk7bttV9bUlJCEaDBkljxkgXXJB/SK68nMAEAGgfCFYdlLu0YYO0cmXDvUxbttR9bXFxmNQ9eLBUWSmdd17+Ibm+faVOnVr/uwEAkBSCVTu3e7f0/vvSu+9K770XHtPbuRO/i4oygWn0aOmcc/IPyfXrR2ACACAfglU7UFMjrVhROzylH9eurX3u8OFhWO6rX5WOO04aNUoaMiQTmIqKEvkKAAC0CwSrNsI93Ng2Nzi9+6704Ye17+3Wu3cITxdeGMLTmDHhsbIyrN0EAABaBsGqwOzbJ33wQd1hu3ffrT1BvKREOvbYEJiuuCITnsaMCT1PTAYHAKD1EawScPiwtHp1/t6nVatC71TakCEhMF11Ve3wNGIEq4EDAFBo+FdzC3OX3n5bevllac4c6c03w2Tyffsy5/TsGQLT2WdL06aF4DRmTBi6Ky1NrnYAANA8BKvIDh8O4enllzNt06ZwbPBgaeLEsABmOjwdd1y4Eo+hOwAA2j6C1VGqqZGWLMmEqNmzpa1bw7Hhw6UpU8I6T+edJx1zDAEKAID2jGDVTNXV0l/+kglSc+Zk7ms3erQ0dWomSI0cmWipAACglRGsGnHokLRwYQhRL70k/fnPmYU1KyulL30phKjJk6VhwxItFQAAJIxglePAAen11zM9Uq++Ku3ZE46dcIJ07bWZHqlBg5KtFQAAFJYOH6z275fmzcsEqblzwz5JGjcuXKWX7pHq3z/ZWgEAQGHrcMFqz54QntJBav78sGq5mTRhgvTNb4Ygde654SbCAAAATdXug9WuXWE476WXQpB6/fUwAb1Tp7D0wQ03hCB1zjlSnz5JVwsAANqydhusli2Trr8+TDyvqQmrlFdVSTffHILU2WdLZWVJVwkAANqTdhus+veXOneWbrklBKkzz2QVcwAA0LLadbCaMyfpKgAAQEfSKekCAAAA2guCFQAAQCQEKwAAgEgIVgAAAJEQrAAAACIhWAEAAERCsAIAAIiEYAUAABAJwQoAACASghUAAEAkBCsAAIBICFYAAACREKwAAAAiMXdP5oPNNklamciHJ6ufpM1JF1HA+H0ax2/UMH6fxvEbNYzfp3Ed8Tca4e4VjZ2UWLDqqMxsgbtXJV1HoeL3aRy/UcP4fRrHb9Qwfp/G8RvVj6FAAACASAhWAAAAkRCsWt/0pAsocPw+jeM3ahi/T+P4jRrG79M4fqN6MMcKAAAgEnqsAAAAIiFYtQIzG2ZmL5rZW2b2ppndmHRNhcrMiszsL2b2ZNK1FBoz621mj5jZO2b2tpmdmXRNhcbM/k/qn7FlZvYbM+uadE1JMrN7zWyjmS3L2lduZs+a2fupxz5J1pi0en6jf0v9c7bEzB4zs95J1pikfL9P1rGbzczNrF8StRUqglXrqJZ0s7ufKGmSpG+Z2YkJ11SobpT0dtJFFKhfSJrl7sdLGi9+p1rMbIik/y2pyt3HSiqSdHWyVSXufklTcvbdIul5d6+U9HzqeUd2v+r+Rs9KGuvuJ0t6T9L3W7uoAnK/6v4+MrNhkj4taVVrF1ToCFatwN3Xu/ui1PYuhX8hDkm2qsJjZkMlXSbpl0nXUmjMrJekyZL+nyS5+0F3355sVQWpWFI3MyuW1F3SuoTrSZS7z5a0NWf3VEkPpLYfkPS5Vi2qwOT7jdz9GXevTj2dJ2loqxdWIOr5/5Ak3SHpu5KYqJ2DYNXKzGykpFMkzU+2koL0c4V/UA8nXUgBGiVpk6T7UkOlvzSzHkkXVUjcfa2knyn8F/R6STvc/ZlkqypIA9x9fWp7g6QBSRbTBvwvSX9MuohCYmZTJa119zeSrqUQEaxakZmVSnpU0k3uvjPpegqJmV0uaaO7L0y6lgJVLGmipLvd/RRJe8QQTi2puUJTFULoYEk9zOxvkq2qsHm4LJweh3qY2a0KUzl+nXQthcLMukv6gaQfJV1LoSJYtRIzK1EIVb92998nXU8BOlvSZ81shaTfSvqUmf0q2ZIKyhpJa9w93dP5iELQQsZFkpa7+yZ3PyTp95LOSrimQvSxmQ2SpNTjxoTrKUhmdp2kyyVd66xLlO0Yhf94eSP193qopEVmNjDRqgoIwaoVmJkpzI15293/I+l6CpG7f9/dh7r7SIUJxy+4O70NKe6+QdJqMxuT2nWhpLcSLKkQrZI0ycy6p/6Zu1BM8M9npqSvpra/KunxBGspSGY2RWFawmfdfW/S9RQSd1/q7v3dfWTq7/UaSRNTf6MgglVrOVvSlxV6YRan2meSLgptzg2Sfm1mSyRNkPQvCddTUFK9eY9IWiRpqcLftw69OrSZ/UbSXEljzGyNmV0v6V8lXWxm7yv08v1rkjUmrZ7f6L8k9ZT0bOrv9T2JFpmgen4fNICV1wEAACKhxwoAACASghUAAEAkBCsAAIBICFYAAACREKwAAAAiIVgBKEhmVpO1PMliM4u20ryZjTSzZbHeDwDSipMuAADqsc/dJyRdBAA0Bz1WANoUM1thZj81s6Vm9pqZHZvaP9LMXjCzJWb2vJkNT+0fYGaPmdkbqZa+zU2Rmf2Pmb1pZs+YWbfEvhSAdoNgBaBQdcsZCrwq69gOdx+nsEL2z1P7/lPSA+5+ssJNc+9M7b9T0svuPl7h/opvpvZXSrrL3U+StF3SlS38fQB0AKy8DqAgmdludy/Ns3+FpE+5+0epm5tvcPe+ZrZZ0iB3P5Tav97d+5nZJklD3f1A1nuMlPSsu1emnn9PUom7397y3wxAe0aPFYC2yOvZbo4DWds1Ys4pgAgIVgDaoquyHuemtl+VdHVq+1pJc1Lbz0v6O0kysyIz69VaRQLoePgvNACFqpuZLc56Psvd00su9DGzJQq9Ttek9t0g6T4z+46kTZKmpfbfKGm6mV2v0DP1d5LWt3j1ADok5lgBaFNSc6yq3H1z0rUAQC6GAgEAACKhxwoAACASeqwAAAAiIVgBAABEQrACAACIhGAFAAAQCcEKAAAgEoIVAABAJP8fCTeIeRZN8z0AAAAASUVORK5CYII=\n",
>>>>>>> 7ed1cd029230cd2f5c0e37cf91666940db583d02
      "text/plain": [
       "<Figure size 720x432 with 1 Axes>"
      ]
     },
     "metadata": {},
     "output_type": "display_data"
    }
   ],
   "source": [
    "plot_traincurve(history)"
   ]
  },
  {
   "cell_type": "markdown",
   "metadata": {},
   "source": [
    "#### Accuracy always goes up on Train set! Also on Test set?"
   ]
  },
  {
   "cell_type": "markdown",
   "metadata": {},
   "source": [
    "### Verifying Accuracy on Test Set"
   ]
  },
  {
   "cell_type": "code",
<<<<<<< HEAD
   "execution_count": 46,
||||||| merged common ancestors
   "execution_count": 63,
=======
   "execution_count": 66,
>>>>>>> 7ed1cd029230cd2f5c0e37cf91666940db583d02
   "metadata": {
    "scrolled": false
   },
   "outputs": [
    {
     "name": "stdout",
     "output_type": "stream",
     "text": [
      "192/250 [======================>.......] - ETA: 0s"
     ]
    }
   ],
   "source": [
    "test_pred = model.predict_classes(test_set)"
   ]
  },
  {
   "cell_type": "code",
<<<<<<< HEAD
   "execution_count": 47,
   "metadata": {},
||||||| merged common ancestors
   "execution_count": 64,
   "metadata": {
    "collapsed": false
   },
=======
   "execution_count": 67,
   "metadata": {},
>>>>>>> 7ed1cd029230cd2f5c0e37cf91666940db583d02
   "outputs": [
    {
     "data": {
      "text/plain": [
<<<<<<< HEAD
       "array([1, 2, 5, 2, 2, 8, 7, 7, 9, 1, ..., 8, 5, 8, 6, 8, 6, 9, 7, 2, 6])"
||||||| merged common ancestors
       "array([1, 2, 5, 9, 2, 8, 2, 2, 2, 1, ..., 8, 5, 8, 6, 2, 6, 9, 2, 2, 6])"
=======
       "array([1, 2, 6, 8, 8, 4, 4, 6, 1, 1, ..., 2, 1, 5, 3, 2, 4, 9, 1, 2, 1])"
>>>>>>> 7ed1cd029230cd2f5c0e37cf91666940db583d02
      ]
     },
<<<<<<< HEAD
     "execution_count": 47,
||||||| merged common ancestors
     "execution_count": 64,
=======
     "execution_count": 67,
>>>>>>> 7ed1cd029230cd2f5c0e37cf91666940db583d02
     "metadata": {},
     "output_type": "execute_result"
    }
   ],
   "source": [
    "# predictions\n",
    "test_pred"
   ]
  },
  {
   "cell_type": "code",
<<<<<<< HEAD
   "execution_count": 48,
   "metadata": {},
||||||| merged common ancestors
   "execution_count": 65,
   "metadata": {
    "collapsed": false
   },
=======
   "execution_count": 68,
   "metadata": {},
>>>>>>> 7ed1cd029230cd2f5c0e37cf91666940db583d02
   "outputs": [
    {
     "data": {
      "text/plain": [
       "array([1, 2, 6, 7, 8, 3, 9, 9, 1, 5, ..., 2, 5, 5, 3, 5, 0, 0, 1, 0, 2])"
      ]
     },
<<<<<<< HEAD
     "execution_count": 48,
||||||| merged common ancestors
     "execution_count": 65,
=======
     "execution_count": 68,
>>>>>>> 7ed1cd029230cd2f5c0e37cf91666940db583d02
     "metadata": {},
     "output_type": "execute_result"
    }
   ],
   "source": [
    "# groundtruth\n",
    "test_classes"
   ]
  },
  {
   "cell_type": "code",
<<<<<<< HEAD
   "execution_count": 49,
   "metadata": {},
||||||| merged common ancestors
   "execution_count": 54,
   "metadata": {
    "collapsed": false
   },
=======
   "execution_count": 69,
   "metadata": {},
>>>>>>> 7ed1cd029230cd2f5c0e37cf91666940db583d02
   "outputs": [
    {
     "data": {
      "text/plain": [
<<<<<<< HEAD
       "0.396"
||||||| merged common ancestors
       "0.44400000000000001"
=======
       "0.348"
>>>>>>> 7ed1cd029230cd2f5c0e37cf91666940db583d02
      ]
     },
<<<<<<< HEAD
     "execution_count": 49,
||||||| merged common ancestors
     "execution_count": 54,
=======
     "execution_count": 69,
>>>>>>> 7ed1cd029230cd2f5c0e37cf91666940db583d02
     "metadata": {},
     "output_type": "execute_result"
    }
   ],
   "source": [
    "# 1 layer\n",
    "accuracy_score(test_classes, test_pred)"
   ]
  },
  {
   "cell_type": "code",
<<<<<<< HEAD
   "execution_count": 50,
   "metadata": {},
||||||| merged common ancestors
   "execution_count": 67,
   "metadata": {
    "collapsed": false
   },
=======
   "execution_count": 70,
   "metadata": {},
>>>>>>> 7ed1cd029230cd2f5c0e37cf91666940db583d02
   "outputs": [
    {
     "data": {
      "text/plain": [
<<<<<<< HEAD
       "0.396"
||||||| merged common ancestors
       "0.40000000000000002"
=======
       "0.348"
>>>>>>> 7ed1cd029230cd2f5c0e37cf91666940db583d02
      ]
     },
<<<<<<< HEAD
     "execution_count": 50,
||||||| merged common ancestors
     "execution_count": 67,
=======
     "execution_count": 70,
>>>>>>> 7ed1cd029230cd2f5c0e37cf91666940db583d02
     "metadata": {},
     "output_type": "execute_result"
    }
   ],
   "source": [
    "# 2 layer\n",
    "accuracy_score(test_classes, test_pred)"
   ]
  },
  {
   "cell_type": "code",
<<<<<<< HEAD
   "execution_count": 51,
||||||| merged common ancestors
   "execution_count": 238,
=======
   "execution_count": 71,
>>>>>>> 7ed1cd029230cd2f5c0e37cf91666940db583d02
   "metadata": {
    "scrolled": true
   },
   "outputs": [
    {
     "data": {
      "text/plain": [
<<<<<<< HEAD
       "0.396"
||||||| merged common ancestors
       "0.46800000000000003"
=======
       "0.348"
>>>>>>> 7ed1cd029230cd2f5c0e37cf91666940db583d02
      ]
     },
<<<<<<< HEAD
     "execution_count": 51,
||||||| merged common ancestors
     "execution_count": 238,
=======
     "execution_count": 71,
>>>>>>> 7ed1cd029230cd2f5c0e37cf91666940db583d02
     "metadata": {},
     "output_type": "execute_result"
    }
   ],
   "source": [
    "# 2 layer + 32 convolution filters\n",
    "accuracy_score(test_classes, test_pred)"
   ]
  },
  {
   "cell_type": "code",
<<<<<<< HEAD
   "execution_count": 52,
   "metadata": {},
||||||| merged common ancestors
   "execution_count": 90,
   "metadata": {
    "collapsed": false
   },
=======
   "execution_count": 72,
   "metadata": {},
>>>>>>> 7ed1cd029230cd2f5c0e37cf91666940db583d02
   "outputs": [
    {
     "data": {
      "text/plain": [
<<<<<<< HEAD
       "0.396"
||||||| merged common ancestors
       "0.46400000000000002"
=======
       "0.348"
>>>>>>> 7ed1cd029230cd2f5c0e37cf91666940db583d02
      ]
     },
<<<<<<< HEAD
     "execution_count": 52,
||||||| merged common ancestors
     "execution_count": 90,
=======
     "execution_count": 72,
>>>>>>> 7ed1cd029230cd2f5c0e37cf91666940db583d02
     "metadata": {},
     "output_type": "execute_result"
    }
   ],
   "source": [
    "# 2 layer + 32 convolution filters + ReLU + Dropout\n",
    "accuracy_score(test_classes, test_pred)"
   ]
  },
  {
   "cell_type": "markdown",
   "metadata": {},
   "source": [
    "## Custom Model"
   ]
  },
  {
   "cell_type": "code",
<<<<<<< HEAD
   "execution_count": 53,
   "metadata": {},
||||||| merged common ancestors
   "execution_count": 68,
   "metadata": {
    "collapsed": true
   },
=======
   "execution_count": 73,
   "metadata": {
    "collapsed": true
   },
>>>>>>> 7ed1cd029230cd2f5c0e37cf91666940db583d02
   "outputs": [],
   "source": [
    "# Try to vary these parameters:\n",
    "\n",
    "conv_filters = 16  # number of convolution filters (= CNN depth), e.g. 16 or 32\n",
    "\n",
    "use_layers = 2    # 1 or 2\n",
    "\n",
    "cnn_activation = 'relu' # sigmoid or relu\n"
   ]
  },
  {
   "cell_type": "code",
<<<<<<< HEAD
   "execution_count": 54,
   "metadata": {},
||||||| merged common ancestors
   "execution_count": 71,
   "metadata": {
    "collapsed": false
   },
=======
   "execution_count": 74,
   "metadata": {
    "collapsed": true
   },
>>>>>>> 7ed1cd029230cd2f5c0e37cf91666940db583d02
   "outputs": [],
   "source": [
    "model = Sequential()\n",
    "\n",
    "# Layer 1\n",
    "#model.add(Convolution2D(conv_filters, 3, 3, activation=cnn_activation, border_mode='valid', input_shape=input_shape))\n",
    "#model.add(Convolution2D(conv_filters, 4, 12, activation=cnn_activation, border_mode='valid', input_shape=input_shape))\n",
    "model.add(Convolution2D(conv_filters, 10, 4, activation=cnn_activation, border_mode='valid', input_shape=input_shape))\n",
    "\n",
    "if use_layers == 1:\n",
    "    model.add(MaxPooling2D(pool_size=(1, 20))) \n",
    "    #model.add(MaxPooling2D(pool_size=(1, 5))) \n",
    "else:\n",
    "    #model.add(MaxPooling2D(pool_size=(2, 2))) \n",
    "    model.add(MaxPooling2D(pool_size=(1, 5))) \n",
    "\n",
    "# Layer 2\n",
    "if use_layers == 2:\n",
    "    model.add(Convolution2D(conv_filters, 3, 3, activation=cnn_activation, border_mode='valid', input_shape=input_shape))\n",
    "    #model.add(BatchNormalization())\n",
    "    #Smodel.add(Activation(cnn_act)) \n",
    "    model.add(MaxPooling2D(pool_size=(2, 2))) \n",
    "\n",
    "# After Convolution, we have a 16*x*y matrix output\n",
    "# In order to feed this to a Full(Dense) layer, we need to flatten all data\n",
    "# Note: Keras does automatic shape inference, i.e. it knows how many (flat) input units the next layer will need,\n",
    "# so no parameter is needed for the Flatten() layer.\n",
    "model.add(Flatten()) \n",
    "\n",
    "# Full layer\n",
    "model.add(Dense(200, activation='sigmoid'))  \n",
    "model.add(Dropout(0.25))\n",
    "\n",
    "# Output layer\n",
    "# For binary/2-class problems use ONE sigmoid unit, for multi-class/multi-label problems use n output units \n",
    "# activation should be 'softmax' for multi-class / single-label output, 'sigmoid' for binary or multi-label tasks\n",
    "model.add(Dense(n_classes,activation='softmax'))"
   ]
  },
  {
   "cell_type": "markdown",
   "metadata": {},
   "source": [
    "### Training"
   ]
  },
  {
   "cell_type": "code",
<<<<<<< HEAD
   "execution_count": 55,
   "metadata": {},
||||||| merged common ancestors
   "execution_count": 72,
   "metadata": {
    "collapsed": true
   },
=======
   "execution_count": 75,
   "metadata": {
    "collapsed": true
   },
>>>>>>> 7ed1cd029230cd2f5c0e37cf91666940db583d02
   "outputs": [],
   "source": [
    "# Compiling the model\n",
    "\n",
    "learn_rate = 0.05 # e.g. 0.02 or 0.05\n",
    "optimizer = SGD(lr=learn_rate) #, momentum=momentum) \n",
    "\n",
    "model.compile(loss='categorical_crossentropy' , optimizer=optimizer, metrics=['accuracy'])\n",
    "\n",
    "history = None"
   ]
  },
  {
   "cell_type": "code",
<<<<<<< HEAD
   "execution_count": 56,
   "metadata": {},
||||||| merged common ancestors
   "execution_count": 74,
   "metadata": {
    "collapsed": false
   },
=======
   "execution_count": 76,
   "metadata": {},
>>>>>>> 7ed1cd029230cd2f5c0e37cf91666940db583d02
   "outputs": [
    {
     "name": "stdout",
     "output_type": "stream",
     "text": [
      "Train on 672 samples, validate on 75 samples\n",
      "Epoch 1/30\n",
<<<<<<< HEAD
      "675/675 [==============================] - 2s - loss: 2.3856 - acc: 0.0978 - val_loss: 2.2944 - val_acc: 0.1467\n",
||||||| merged common ancestors
      "675/675 [==============================] - 1s - loss: 0.9134 - acc: 0.7170 - val_loss: 1.7779 - val_acc: 0.3867\n",
=======
      "672/672 [==============================] - 1s - loss: 2.3598 - acc: 0.1057 - val_loss: 2.1742 - val_acc: 0.2533\n",
>>>>>>> 7ed1cd029230cd2f5c0e37cf91666940db583d02
      "Epoch 2/30\n",
<<<<<<< HEAD
      "675/675 [==============================] - 1s - loss: 2.2151 - acc: 0.1719 - val_loss: 2.4335 - val_acc: 0.1067\n",
||||||| merged common ancestors
      "675/675 [==============================] - 1s - loss: 0.8909 - acc: 0.7141 - val_loss: 3.3651 - val_acc: 0.1867\n",
=======
      "672/672 [==============================] - 1s - loss: 2.1512 - acc: 0.2232 - val_loss: 2.0470 - val_acc: 0.2667\n",
>>>>>>> 7ed1cd029230cd2f5c0e37cf91666940db583d02
      "Epoch 3/30\n",
<<<<<<< HEAD
      "675/675 [==============================] - 2s - loss: 2.0860 - acc: 0.2296 - val_loss: 2.4841 - val_acc: 0.2133\n",
||||||| merged common ancestors
      "675/675 [==============================] - 1s - loss: 1.0205 - acc: 0.7170 - val_loss: 1.7979 - val_acc: 0.4400\n",
=======
      "672/672 [==============================] - 1s - loss: 2.0262 - acc: 0.2574 - val_loss: 1.9949 - val_acc: 0.2800\n",
>>>>>>> 7ed1cd029230cd2f5c0e37cf91666940db583d02
      "Epoch 4/30\n",
<<<<<<< HEAD
      "675/675 [==============================] - 1s - loss: 2.0234 - acc: 0.2741 - val_loss: 2.3854 - val_acc: 0.1467\n",
||||||| merged common ancestors
      "675/675 [==============================] - 1s - loss: 0.8226 - acc: 0.7304 - val_loss: 1.7089 - val_acc: 0.3733\n",
=======
      "672/672 [==============================] - 1s - loss: 1.9450 - acc: 0.3244 - val_loss: 1.9197 - val_acc: 0.3467\n",
>>>>>>> 7ed1cd029230cd2f5c0e37cf91666940db583d02
      "Epoch 5/30\n",
<<<<<<< HEAD
      "675/675 [==============================] - 2s - loss: 1.9902 - acc: 0.2741 - val_loss: 2.3456 - val_acc: 0.1867\n",
||||||| merged common ancestors
      "675/675 [==============================] - 1s - loss: 0.7391 - acc: 0.7822 - val_loss: 1.6230 - val_acc: 0.4000\n",
=======
      "672/672 [==============================] - 1s - loss: 1.8810 - acc: 0.3289 - val_loss: 1.8230 - val_acc: 0.3733\n",
>>>>>>> 7ed1cd029230cd2f5c0e37cf91666940db583d02
      "Epoch 6/30\n",
<<<<<<< HEAD
      "675/675 [==============================] - 1s - loss: 1.8985 - acc: 0.3259 - val_loss: 2.3243 - val_acc: 0.1333\n",
||||||| merged common ancestors
      "675/675 [==============================] - 1s - loss: 0.7022 - acc: 0.7867 - val_loss: 1.8058 - val_acc: 0.3867\n",
=======
      "672/672 [==============================] - 1s - loss: 1.7990 - acc: 0.3438 - val_loss: 1.7721 - val_acc: 0.3733\n",
>>>>>>> 7ed1cd029230cd2f5c0e37cf91666940db583d02
      "Epoch 7/30\n",
<<<<<<< HEAD
      "675/675 [==============================] - 2s - loss: 1.8698 - acc: 0.3363 - val_loss: 3.0418 - val_acc: 0.1600\n",
||||||| merged common ancestors
      "675/675 [==============================] - 1s - loss: 0.7288 - acc: 0.7704 - val_loss: 1.7812 - val_acc: 0.3600\n",
=======
      "672/672 [==============================] - 1s - loss: 1.7563 - acc: 0.3943 - val_loss: 1.7626 - val_acc: 0.4267\n",
>>>>>>> 7ed1cd029230cd2f5c0e37cf91666940db583d02
      "Epoch 8/30\n",
<<<<<<< HEAD
      "675/675 [==============================] - 2s - loss: 1.8441 - acc: 0.3452 - val_loss: 2.3213 - val_acc: 0.1467\n",
||||||| merged common ancestors
      "675/675 [==============================] - 1s - loss: 0.6314 - acc: 0.8104 - val_loss: 2.5381 - val_acc: 0.2400\n",
=======
      "672/672 [==============================] - 1s - loss: 1.7061 - acc: 0.3973 - val_loss: 1.7308 - val_acc: 0.4133\n",
>>>>>>> 7ed1cd029230cd2f5c0e37cf91666940db583d02
      "Epoch 9/30\n",
<<<<<<< HEAD
      "675/675 [==============================] - 1s - loss: 1.7800 - acc: 0.3496 - val_loss: 2.0504 - val_acc: 0.2667\n",
||||||| merged common ancestors
      "675/675 [==============================] - 1s - loss: 0.6956 - acc: 0.7985 - val_loss: 1.7988 - val_acc: 0.4267\n",
=======
      "672/672 [==============================] - 1s - loss: 1.6690 - acc: 0.4033 - val_loss: 1.7186 - val_acc: 0.3867\n",
>>>>>>> 7ed1cd029230cd2f5c0e37cf91666940db583d02
      "Epoch 10/30\n",
<<<<<<< HEAD
      "675/675 [==============================] - 2s - loss: 1.7211 - acc: 0.3896 - val_loss: 2.0935 - val_acc: 0.2267\n",
||||||| merged common ancestors
      "675/675 [==============================] - 1s - loss: 0.6201 - acc: 0.8104 - val_loss: 1.7653 - val_acc: 0.4000\n",
=======
      "672/672 [==============================] - 1s - loss: 1.6187 - acc: 0.4107 - val_loss: 1.7567 - val_acc: 0.3600\n",
>>>>>>> 7ed1cd029230cd2f5c0e37cf91666940db583d02
      "Epoch 11/30\n",
<<<<<<< HEAD
      "675/675 [==============================] - 2s - loss: 1.7090 - acc: 0.4015 - val_loss: 1.9390 - val_acc: 0.3067\n",
||||||| merged common ancestors
      "675/675 [==============================] - 1s - loss: 0.5763 - acc: 0.8444 - val_loss: 2.0615 - val_acc: 0.3600\n",
=======
      "672/672 [==============================] - 1s - loss: 1.5783 - acc: 0.4524 - val_loss: 1.6682 - val_acc: 0.3733\n",
>>>>>>> 7ed1cd029230cd2f5c0e37cf91666940db583d02
      "Epoch 12/30\n",
<<<<<<< HEAD
      "675/675 [==============================] - 2s - loss: 1.6668 - acc: 0.3985 - val_loss: 2.0700 - val_acc: 0.3067\n",
||||||| merged common ancestors
      "675/675 [==============================] - 1s - loss: 0.5474 - acc: 0.8415 - val_loss: 1.8838 - val_acc: 0.3600\n",
=======
      "672/672 [==============================] - 1s - loss: 1.5502 - acc: 0.4583 - val_loss: 1.6659 - val_acc: 0.4133\n",
>>>>>>> 7ed1cd029230cd2f5c0e37cf91666940db583d02
      "Epoch 13/30\n",
<<<<<<< HEAD
      "675/675 [==============================] - 2s - loss: 1.6447 - acc: 0.3970 - val_loss: 2.0397 - val_acc: 0.2800\n",
||||||| merged common ancestors
      "675/675 [==============================] - 1s - loss: 0.6174 - acc: 0.8222 - val_loss: 1.7639 - val_acc: 0.4267\n",
=======
      "672/672 [==============================] - 1s - loss: 1.4814 - acc: 0.4926 - val_loss: 1.6412 - val_acc: 0.3733\n",
>>>>>>> 7ed1cd029230cd2f5c0e37cf91666940db583d02
      "Epoch 14/30\n",
<<<<<<< HEAD
      "675/675 [==============================] - 2s - loss: 1.5981 - acc: 0.4370 - val_loss: 2.0722 - val_acc: 0.1867\n",
||||||| merged common ancestors
      "675/675 [==============================] - 1s - loss: 0.5054 - acc: 0.8681 - val_loss: 1.9064 - val_acc: 0.3733\n",
=======
      "672/672 [==============================] - 1s - loss: 1.4491 - acc: 0.5030 - val_loss: 1.5659 - val_acc: 0.4133\n",
>>>>>>> 7ed1cd029230cd2f5c0e37cf91666940db583d02
      "Epoch 15/30\n",
<<<<<<< HEAD
      "675/675 [==============================] - 1s - loss: 1.5299 - acc: 0.4578 - val_loss: 1.8285 - val_acc: 0.2933\n",
||||||| merged common ancestors
      "675/675 [==============================] - 1s - loss: 0.4864 - acc: 0.8681 - val_loss: 1.9597 - val_acc: 0.3200\n",
=======
      "672/672 [==============================] - 1s - loss: 1.3993 - acc: 0.5119 - val_loss: 1.5915 - val_acc: 0.3867\n",
>>>>>>> 7ed1cd029230cd2f5c0e37cf91666940db583d02
      "Epoch 16/30\n",
<<<<<<< HEAD
      "675/675 [==============================] - 1s - loss: 1.4936 - acc: 0.4622 - val_loss: 1.8193 - val_acc: 0.3600\n",
||||||| merged common ancestors
      "675/675 [==============================] - 1s - loss: 0.4708 - acc: 0.8815 - val_loss: 1.8897 - val_acc: 0.3200\n",
=======
      "672/672 [==============================] - 1s - loss: 1.4086 - acc: 0.5238 - val_loss: 1.5305 - val_acc: 0.4133\n",
>>>>>>> 7ed1cd029230cd2f5c0e37cf91666940db583d02
      "Epoch 17/30\n",
<<<<<<< HEAD
      "675/675 [==============================] - 1s - loss: 1.4713 - acc: 0.4948 - val_loss: 1.8780 - val_acc: 0.4133\n",
||||||| merged common ancestors
      "675/675 [==============================] - 1s - loss: 0.4060 - acc: 0.9126 - val_loss: 1.9672 - val_acc: 0.3733\n",
=======
      "672/672 [==============================] - 1s - loss: 1.3262 - acc: 0.5461 - val_loss: 1.5864 - val_acc: 0.4267\n",
>>>>>>> 7ed1cd029230cd2f5c0e37cf91666940db583d02
      "Epoch 18/30\n",
<<<<<<< HEAD
      "675/675 [==============================] - 2s - loss: 1.4262 - acc: 0.5052 - val_loss: 2.3424 - val_acc: 0.2800\n",
||||||| merged common ancestors
      "675/675 [==============================] - 1s - loss: 0.3998 - acc: 0.9052 - val_loss: 1.7961 - val_acc: 0.3867\n",
=======
      "672/672 [==============================] - 1s - loss: 1.3229 - acc: 0.5238 - val_loss: 1.5688 - val_acc: 0.4400\n",
>>>>>>> 7ed1cd029230cd2f5c0e37cf91666940db583d02
      "Epoch 19/30\n",
<<<<<<< HEAD
      "675/675 [==============================] - 1s - loss: 1.4267 - acc: 0.5037 - val_loss: 1.7349 - val_acc: 0.4000\n",
||||||| merged common ancestors
      "675/675 [==============================] - 1s - loss: 0.3535 - acc: 0.9259 - val_loss: 1.7755 - val_acc: 0.4133\n",
=======
      "672/672 [==============================] - 1s - loss: 1.2503 - acc: 0.5699 - val_loss: 1.5363 - val_acc: 0.4533\n",
>>>>>>> 7ed1cd029230cd2f5c0e37cf91666940db583d02
      "Epoch 20/30\n",
<<<<<<< HEAD
      "675/675 [==============================] - 1s - loss: 1.3363 - acc: 0.5244 - val_loss: 2.0524 - val_acc: 0.3333\n",
||||||| merged common ancestors
      "675/675 [==============================] - 1s - loss: 0.3210 - acc: 0.9304 - val_loss: 1.9378 - val_acc: 0.3733\n",
=======
      "672/672 [==============================] - 1s - loss: 1.2313 - acc: 0.5804 - val_loss: 1.5694 - val_acc: 0.4000\n",
>>>>>>> 7ed1cd029230cd2f5c0e37cf91666940db583d02
      "Epoch 21/30\n",
<<<<<<< HEAD
      "675/675 [==============================] - 2s - loss: 1.3582 - acc: 0.5319 - val_loss: 1.7091 - val_acc: 0.3867\n",
||||||| merged common ancestors
      "675/675 [==============================] - 1s - loss: 0.2991 - acc: 0.9422 - val_loss: 1.9873 - val_acc: 0.3867\n",
=======
      "672/672 [==============================] - 1s - loss: 1.1875 - acc: 0.5818 - val_loss: 1.5305 - val_acc: 0.4400\n",
>>>>>>> 7ed1cd029230cd2f5c0e37cf91666940db583d02
      "Epoch 22/30\n",
<<<<<<< HEAD
      "675/675 [==============================] - 1s - loss: 1.3017 - acc: 0.5570 - val_loss: 1.8300 - val_acc: 0.3067\n",
||||||| merged common ancestors
      "675/675 [==============================] - 1s - loss: 0.3142 - acc: 0.9496 - val_loss: 1.8037 - val_acc: 0.3867\n",
=======
      "672/672 [==============================] - 1s - loss: 1.1630 - acc: 0.6146 - val_loss: 1.4571 - val_acc: 0.4533\n",
>>>>>>> 7ed1cd029230cd2f5c0e37cf91666940db583d02
      "Epoch 23/30\n",
<<<<<<< HEAD
      "675/675 [==============================] - 2s - loss: 1.2542 - acc: 0.5896 - val_loss: 1.8853 - val_acc: 0.3600\n",
||||||| merged common ancestors
      "675/675 [==============================] - 1s - loss: 0.2403 - acc: 0.9600 - val_loss: 1.9031 - val_acc: 0.4133\n",
=======
      "672/672 [==============================] - 1s - loss: 1.1010 - acc: 0.6190 - val_loss: 1.6260 - val_acc: 0.3467\n",
>>>>>>> 7ed1cd029230cd2f5c0e37cf91666940db583d02
      "Epoch 24/30\n",
<<<<<<< HEAD
      "675/675 [==============================] - 2s - loss: 1.2333 - acc: 0.5526 - val_loss: 2.2284 - val_acc: 0.3200\n",
||||||| merged common ancestors
      "675/675 [==============================] - 1s - loss: 0.2571 - acc: 0.9496 - val_loss: 1.8922 - val_acc: 0.4533\n",
=======
      "672/672 [==============================] - 1s - loss: 1.0844 - acc: 0.6086 - val_loss: 1.4558 - val_acc: 0.4400\n",
>>>>>>> 7ed1cd029230cd2f5c0e37cf91666940db583d02
      "Epoch 25/30\n",
<<<<<<< HEAD
      "675/675 [==============================] - 2s - loss: 1.2206 - acc: 0.5733 - val_loss: 3.0466 - val_acc: 0.2133\n",
||||||| merged common ancestors
      "675/675 [==============================] - 1s - loss: 0.2333 - acc: 0.9644 - val_loss: 1.8570 - val_acc: 0.4533\n",
=======
      "672/672 [==============================] - 1s - loss: 1.0313 - acc: 0.6622 - val_loss: 1.4921 - val_acc: 0.4267\n",
>>>>>>> 7ed1cd029230cd2f5c0e37cf91666940db583d02
      "Epoch 26/30\n",
<<<<<<< HEAD
      "675/675 [==============================] - 2s - loss: 1.2571 - acc: 0.5748 - val_loss: 1.8378 - val_acc: 0.4000\n",
||||||| merged common ancestors
      "675/675 [==============================] - 1s - loss: 0.2020 - acc: 0.9763 - val_loss: 1.7609 - val_acc: 0.4667\n",
=======
      "672/672 [==============================] - 1s - loss: 1.0084 - acc: 0.6562 - val_loss: 1.4503 - val_acc: 0.4533\n",
>>>>>>> 7ed1cd029230cd2f5c0e37cf91666940db583d02
      "Epoch 27/30\n",
<<<<<<< HEAD
      "675/675 [==============================] - 1s - loss: 1.1210 - acc: 0.6104 - val_loss: 1.6847 - val_acc: 0.4267\n",
||||||| merged common ancestors
      "675/675 [==============================] - 1s - loss: 0.1953 - acc: 0.9689 - val_loss: 1.7959 - val_acc: 0.4267\n",
=======
      "672/672 [==============================] - 1s - loss: 0.9767 - acc: 0.6637 - val_loss: 1.4560 - val_acc: 0.4400\n",
>>>>>>> 7ed1cd029230cd2f5c0e37cf91666940db583d02
      "Epoch 28/30\n",
<<<<<<< HEAD
      "675/675 [==============================] - 2s - loss: 1.0974 - acc: 0.6237 - val_loss: 2.1775 - val_acc: 0.2933\n",
||||||| merged common ancestors
      "675/675 [==============================] - 1s - loss: 0.1554 - acc: 0.9852 - val_loss: 1.8651 - val_acc: 0.4400\n",
=======
      "672/672 [==============================] - 1s - loss: 0.9376 - acc: 0.6920 - val_loss: 1.4751 - val_acc: 0.4800\n",
>>>>>>> 7ed1cd029230cd2f5c0e37cf91666940db583d02
      "Epoch 29/30\n",
<<<<<<< HEAD
      "675/675 [==============================] - 2s - loss: 1.0378 - acc: 0.6667 - val_loss: 1.9404 - val_acc: 0.37330.6\n",
||||||| merged common ancestors
      "675/675 [==============================] - 1s - loss: 0.1566 - acc: 0.9763 - val_loss: 1.8930 - val_acc: 0.4000\n",
=======
      "672/672 [==============================] - 1s - loss: 0.9320 - acc: 0.6935 - val_loss: 1.4658 - val_acc: 0.4267\n",
>>>>>>> 7ed1cd029230cd2f5c0e37cf91666940db583d02
      "Epoch 30/30\n",
<<<<<<< HEAD
      "675/675 [==============================] - 2s - loss: 1.0011 - acc: 0.6607 - val_loss: 2.0933 - val_acc: 0.2667\n"
||||||| merged common ancestors
      "675/675 [==============================] - 1s - loss: 0.1508 - acc: 0.9852 - val_loss: 1.8618 - val_acc: 0.4000\n"
=======
      "672/672 [==============================] - 1s - loss: 0.8454 - acc: 0.7292 - val_loss: 1.4997 - val_acc: 0.4667\n"
>>>>>>> 7ed1cd029230cd2f5c0e37cf91666940db583d02
     ]
    }
   ],
   "source": [
    "# TRAINING the model - (you may repeat execution of this cell to FURTHER train the model!)\n",
    "epochs = 30\n",
    "#History = model.fit(train_set, train_classes_1hot, batch_size=32, nb_epoch=epochs)\n",
    "\n",
    "# adding a validation set:\n",
    "validation_percent = 0.1\n",
    "History = model.fit(train_set, train_classes_1hot, validation_split=validation_percent, batch_size=32, nb_epoch=epochs)\n",
    "\n",
    "# we keep the history of accuracies on training set\n",
    "# we append this to previous history in case we execute this cell multiple times\n",
    "if history is None:\n",
    "    history = History.history\n",
    "else:\n",
    "    for key in History.history.keys():\n",
    "        history[key].extend(History.history[key])"
   ]
  },
  {
   "cell_type": "code",
<<<<<<< HEAD
   "execution_count": 57,
   "metadata": {},
||||||| merged common ancestors
   "execution_count": 75,
   "metadata": {
    "collapsed": false
   },
=======
   "execution_count": 77,
   "metadata": {},
>>>>>>> 7ed1cd029230cd2f5c0e37cf91666940db583d02
   "outputs": [
    {
     "data": {
<<<<<<< HEAD
      "image/png": "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\n",
||||||| merged common ancestors
      "image/png": "iVBORw0KGgoAAAANSUhEUgAAAlYAAAGDCAYAAADpvl4eAAAABHNCSVQICAgIfAhkiAAAAAlwSFlz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\nQmCC\n",
=======
      "image/png": "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\n",
>>>>>>> 7ed1cd029230cd2f5c0e37cf91666940db583d02
      "text/plain": [
       "<Figure size 720x432 with 1 Axes>"
      ]
     },
     "metadata": {},
     "output_type": "display_data"
    }
   ],
   "source": [
    "plot_traincurve(history)"
   ]
  },
  {
   "cell_type": "markdown",
   "metadata": {},
   "source": [
    "### Testing"
   ]
  },
  {
   "cell_type": "code",
<<<<<<< HEAD
   "execution_count": 58,
||||||| merged common ancestors
   "execution_count": 252,
=======
   "execution_count": 78,
>>>>>>> 7ed1cd029230cd2f5c0e37cf91666940db583d02
   "metadata": {
    "scrolled": true
   },
   "outputs": [
    {
     "name": "stdout",
     "output_type": "stream",
     "text": [
      "224/250 [=========================>....] - ETA: 0s"
     ]
    }
   ],
   "source": [
    "test_pred = model.predict_classes(test_set)"
   ]
  },
  {
   "cell_type": "code",
<<<<<<< HEAD
   "execution_count": 59,
   "metadata": {},
||||||| merged common ancestors
   "execution_count": 253,
   "metadata": {
    "collapsed": false
   },
=======
   "execution_count": 79,
   "metadata": {},
>>>>>>> 7ed1cd029230cd2f5c0e37cf91666940db583d02
   "outputs": [
    {
     "data": {
      "text/plain": [
<<<<<<< HEAD
       "0.332"
||||||| merged common ancestors
       "0.45200000000000001"
=======
       "0.476"
>>>>>>> 7ed1cd029230cd2f5c0e37cf91666940db583d02
      ]
     },
<<<<<<< HEAD
     "execution_count": 59,
||||||| merged common ancestors
     "execution_count": 253,
=======
     "execution_count": 79,
>>>>>>> 7ed1cd029230cd2f5c0e37cf91666940db583d02
     "metadata": {},
     "output_type": "execute_result"
    }
   ],
   "source": [
    "accuracy_score(test_classes, test_pred)"
   ]
  },
  {
   "cell_type": "markdown",
   "metadata": {},
   "source": [
    "## Advanced Model: Additional Parameters & Techniques\n",
    "\n",
    "Try:\n",
    "* Adding Batch normalization\n",
    "* Adding ReLU activation\n",
    "* Adding Dropout"
   ]
  },
  {
   "cell_type": "code",
<<<<<<< HEAD
   "execution_count": 60,
   "metadata": {},
||||||| merged common ancestors
   "execution_count": 254,
   "metadata": {
    "collapsed": true
   },
=======
   "execution_count": 80,
   "metadata": {
    "collapsed": true
   },
>>>>>>> 7ed1cd029230cd2f5c0e37cf91666940db583d02
   "outputs": [],
   "source": [
    "# Adapt parameters here:\n",
    "\n",
    "conv_filters = 16   # number of convolution filters (= CNN depth), e.g. 16 or 32\n",
    "\n",
    "batch_norm = True  # True or False\n",
    "\n",
    "activation = 'relu' # sigmoid or relu\n",
    "\n",
    "#dropout = None # None or 0 < dropout < 1\n",
    "dropout = 0.25 # None or 0 < dropout < 1"
   ]
  },
  {
   "cell_type": "code",
<<<<<<< HEAD
   "execution_count": 61,
   "metadata": {},
||||||| merged common ancestors
   "execution_count": 261,
   "metadata": {
    "collapsed": false
   },
=======
   "execution_count": 81,
   "metadata": {
    "collapsed": true
   },
>>>>>>> 7ed1cd029230cd2f5c0e37cf91666940db583d02
   "outputs": [],
   "source": [
    "model = Sequential()\n",
    "\n",
    "# Layer 1\n",
    "if batch_norm:\n",
    "    model.add(BatchNormalization(input_shape=input_shape))\n",
    "model.add(Convolution2D(conv_filters, 3, 3, border_mode='valid', input_shape=input_shape))\n",
    "#model.add(Convolution2D(conv_filters, 4, 12, border_mode='valid', input_shape=input_shape))\n",
    "model.add(Activation(activation))\n",
    "model.add(MaxPooling2D(pool_size=(2, 2))) \n",
    "#model.add(MaxPooling2D(pool_size=(1, 20))) \n",
    "if dropout:\n",
    "    model.add(Dropout(dropout))\n",
    "\n",
    "# Layer 2\n",
    "if batch_norm:\n",
    "    model.add(BatchNormalization())\n",
    "model.add(Convolution2D(conv_filters, 3, 3, border_mode='valid', input_shape=input_shape))\n",
    "model.add(Activation(activation)) \n",
    "model.add(MaxPooling2D(pool_size=(2, 2))) \n",
    "if dropout:\n",
    "    model.add(Dropout(dropout))\n",
    "\n",
    "# After Convolution, we have a 16*x*y matrix output\n",
    "# In order to feed this to a Full(Dense) layer, we need to flatten all data\n",
    "# Note: Keras does automatic shape inference, i.e. it knows how many (flat) input units the next layer will need,\n",
    "# so no parameter is needed for the Flatten() layer.\n",
    "model.add(Flatten()) \n",
    "\n",
    "# Full layer\n",
    "model.add(Dense(256))  \n",
    "model.add(Activation(activation))\n",
    "if dropout:\n",
    "    model.add(Dropout(dropout))\n",
    "\n",
    "# Output layer\n",
    "# For binary/2-class problems use ONE sigmoid unit, \n",
    "# for multi-class/multi-label problems use n output units and activation='softmax!'\n",
    "model.add(Dense(n_classes,activation='softmax'))"
   ]
  },
  {
   "cell_type": "markdown",
   "metadata": {},
   "source": [
    "### Training"
   ]
  },
  {
   "cell_type": "code",
<<<<<<< HEAD
   "execution_count": 62,
   "metadata": {},
||||||| merged common ancestors
   "execution_count": 262,
   "metadata": {
    "collapsed": false
   },
=======
   "execution_count": 82,
   "metadata": {
    "collapsed": true
   },
>>>>>>> 7ed1cd029230cd2f5c0e37cf91666940db583d02
   "outputs": [],
   "source": [
    "# Compiling the model\n",
    "\n",
    "optimizer = 'sgd'\n",
    "\n",
    "#learn_rate = 0.02\n",
    "#optimizer = SGD(lr=learn_rate) #, momentum=momentum) \n",
    "\n",
    "model.compile(loss='categorical_crossentropy' , optimizer=optimizer, metrics=['accuracy'])\n",
    "\n",
    "history = None"
   ]
  },
  {
   "cell_type": "code",
<<<<<<< HEAD
   "execution_count": 63,
   "metadata": {},
||||||| merged common ancestors
   "execution_count": 267,
   "metadata": {
    "collapsed": false
   },
=======
   "execution_count": 83,
   "metadata": {},
>>>>>>> 7ed1cd029230cd2f5c0e37cf91666940db583d02
   "outputs": [
    {
     "name": "stdout",
     "output_type": "stream",
     "text": [
      "Epoch 1/30\n",
<<<<<<< HEAD
      "750/750 [==============================] - 2s - loss: 2.6977 - acc: 0.1853     \n",
||||||| merged common ancestors
      "750/750 [==============================] - 2s - loss: 0.9636 - acc: 0.6560     \n",
=======
      "747/747 [==============================] - 2s - loss: 2.5354 - acc: 0.1714     \n",
>>>>>>> 7ed1cd029230cd2f5c0e37cf91666940db583d02
      "Epoch 2/30\n",
<<<<<<< HEAD
      "750/750 [==============================] - 2s - loss: 2.2461 - acc: 0.1893     \n",
||||||| merged common ancestors
      "750/750 [==============================] - 2s - loss: 0.9522 - acc: 0.6893     \n",
=======
      "747/747 [==============================] - 2s - loss: 2.1651 - acc: 0.2236     \n",
>>>>>>> 7ed1cd029230cd2f5c0e37cf91666940db583d02
      "Epoch 3/30\n",
<<<<<<< HEAD
      "750/750 [==============================] - 2s - loss: 2.0935 - acc: 0.2507     \n",
||||||| merged common ancestors
      "750/750 [==============================] - 2s - loss: 0.9052 - acc: 0.7013     \n",
=======
      "747/747 [==============================] - 2s - loss: 2.0451 - acc: 0.2731     \n",
>>>>>>> 7ed1cd029230cd2f5c0e37cf91666940db583d02
      "Epoch 4/30\n",
<<<<<<< HEAD
      "750/750 [==============================] - 2s - loss: 2.0183 - acc: 0.2987     \n",
||||||| merged common ancestors
      "750/750 [==============================] - 2s - loss: 0.8493 - acc: 0.7040     \n",
=======
      "747/747 [==============================] - 2s - loss: 1.9882 - acc: 0.3066     \n",
>>>>>>> 7ed1cd029230cd2f5c0e37cf91666940db583d02
      "Epoch 5/30\n",
<<<<<<< HEAD
      "750/750 [==============================] - 2s - loss: 1.8997 - acc: 0.3173     \n",
||||||| merged common ancestors
      "750/750 [==============================] - 2s - loss: 0.8549 - acc: 0.7267     \n",
=======
      "747/747 [==============================] - 2s - loss: 1.9672 - acc: 0.3039     \n",
>>>>>>> 7ed1cd029230cd2f5c0e37cf91666940db583d02
      "Epoch 6/30\n",
<<<<<<< HEAD
      "750/750 [==============================] - 2s - loss: 1.9143 - acc: 0.3267     \n",
||||||| merged common ancestors
      "750/750 [==============================] - 2s - loss: 0.7872 - acc: 0.7427     \n",
=======
      "747/747 [==============================] - 2s - loss: 1.8823 - acc: 0.3320     \n",
>>>>>>> 7ed1cd029230cd2f5c0e37cf91666940db583d02
      "Epoch 7/30\n",
<<<<<<< HEAD
      "750/750 [==============================] - 2s - loss: 1.8809 - acc: 0.3347     \n",
||||||| merged common ancestors
      "750/750 [==============================] - 2s - loss: 0.7653 - acc: 0.7413     \n",
=======
      "747/747 [==============================] - 2s - loss: 1.8541 - acc: 0.3387     \n",
>>>>>>> 7ed1cd029230cd2f5c0e37cf91666940db583d02
      "Epoch 8/30\n",
<<<<<<< HEAD
      "750/750 [==============================] - 2s - loss: 1.8055 - acc: 0.3773     \n",
||||||| merged common ancestors
      "750/750 [==============================] - 2s - loss: 0.7582 - acc: 0.7440     \n",
=======
      "747/747 [==============================] - 2s - loss: 1.7940 - acc: 0.3762     \n",
>>>>>>> 7ed1cd029230cd2f5c0e37cf91666940db583d02
      "Epoch 9/30\n",
<<<<<<< HEAD
      "750/750 [==============================] - 2s - loss: 1.7250 - acc: 0.4000     \n",
||||||| merged common ancestors
      "750/750 [==============================] - 2s - loss: 0.7853 - acc: 0.7427     \n",
=======
      "747/747 [==============================] - 2s - loss: 1.7370 - acc: 0.3869     \n",
>>>>>>> 7ed1cd029230cd2f5c0e37cf91666940db583d02
      "Epoch 10/30\n",
<<<<<<< HEAD
      "750/750 [==============================] - 2s - loss: 1.7290 - acc: 0.3907     \n",
||||||| merged common ancestors
      "750/750 [==============================] - 2s - loss: 0.7116 - acc: 0.7507     \n",
=======
      "747/747 [==============================] - 2s - loss: 1.6890 - acc: 0.3909     \n",
>>>>>>> 7ed1cd029230cd2f5c0e37cf91666940db583d02
      "Epoch 11/30\n",
<<<<<<< HEAD
      "750/750 [==============================] - 2s - loss: 1.6433 - acc: 0.4000     \n",
||||||| merged common ancestors
      "750/750 [==============================] - 2s - loss: 0.6967 - acc: 0.7560     \n",
=======
      "747/747 [==============================] - 2s - loss: 1.6576 - acc: 0.4070     \n",
>>>>>>> 7ed1cd029230cd2f5c0e37cf91666940db583d02
      "Epoch 12/30\n",
<<<<<<< HEAD
      "750/750 [==============================] - 2s - loss: 1.6324 - acc: 0.4200     \n",
||||||| merged common ancestors
      "750/750 [==============================] - 3s - loss: 0.7442 - acc: 0.7467     \n",
=======
      "747/747 [==============================] - 2s - loss: 1.5690 - acc: 0.4485     \n",
>>>>>>> 7ed1cd029230cd2f5c0e37cf91666940db583d02
      "Epoch 13/30\n",
<<<<<<< HEAD
      "750/750 [==============================] - 2s - loss: 1.5365 - acc: 0.4680     \n",
||||||| merged common ancestors
      "750/750 [==============================] - 4s - loss: 0.6703 - acc: 0.7680     \n",
=======
      "747/747 [==============================] - 2s - loss: 1.5656 - acc: 0.4685     \n",
>>>>>>> 7ed1cd029230cd2f5c0e37cf91666940db583d02
      "Epoch 14/30\n",
<<<<<<< HEAD
      "750/750 [==============================] - 2s - loss: 1.5220 - acc: 0.4680     \n",
||||||| merged common ancestors
      "750/750 [==============================] - 3s - loss: 0.6480 - acc: 0.7707     \n",
=======
      "747/747 [==============================] - 2s - loss: 1.5271 - acc: 0.4900     \n",
>>>>>>> 7ed1cd029230cd2f5c0e37cf91666940db583d02
      "Epoch 15/30\n",
<<<<<<< HEAD
      "750/750 [==============================] - 3s - loss: 1.4505 - acc: 0.4840     \n",
||||||| merged common ancestors
      "750/750 [==============================] - 2s - loss: 0.6072 - acc: 0.7840     \n",
=======
      "747/747 [==============================] - 2s - loss: 1.4759 - acc: 0.4953     \n",
>>>>>>> 7ed1cd029230cd2f5c0e37cf91666940db583d02
      "Epoch 16/30\n",
<<<<<<< HEAD
      "750/750 [==============================] - 2s - loss: 1.3942 - acc: 0.5067     \n",
||||||| merged common ancestors
      "750/750 [==============================] - 2s - loss: 0.6722 - acc: 0.7613     \n",
=======
      "747/747 [==============================] - 2s - loss: 1.4045 - acc: 0.5207     \n",
>>>>>>> 7ed1cd029230cd2f5c0e37cf91666940db583d02
      "Epoch 17/30\n",
<<<<<<< HEAD
      "750/750 [==============================] - 2s - loss: 1.3692 - acc: 0.5093     \n",
||||||| merged common ancestors
      "750/750 [==============================] - 2s - loss: 0.5831 - acc: 0.8173     \n",
=======
      "747/747 [==============================] - 2s - loss: 1.3679 - acc: 0.5127     \n",
>>>>>>> 7ed1cd029230cd2f5c0e37cf91666940db583d02
      "Epoch 18/30\n",
<<<<<<< HEAD
      "750/750 [==============================] - 2s - loss: 1.3467 - acc: 0.5387     \n",
||||||| merged common ancestors
      "750/750 [==============================] - 2s - loss: 0.5805 - acc: 0.8027     \n",
=======
      "747/747 [==============================] - 2s - loss: 1.3450 - acc: 0.5435     \n",
>>>>>>> 7ed1cd029230cd2f5c0e37cf91666940db583d02
      "Epoch 19/30\n",
<<<<<<< HEAD
      "750/750 [==============================] - 2s - loss: 1.3082 - acc: 0.5453     \n",
||||||| merged common ancestors
      "750/750 [==============================] - 2s - loss: 0.5092 - acc: 0.8200     \n",
=======
      "747/747 [==============================] - 2s - loss: 1.3198 - acc: 0.5475     \n",
>>>>>>> 7ed1cd029230cd2f5c0e37cf91666940db583d02
      "Epoch 20/30\n",
<<<<<<< HEAD
      "750/750 [==============================] - 2s - loss: 1.2885 - acc: 0.5533     \n",
||||||| merged common ancestors
      "750/750 [==============================] - 2s - loss: 0.5061 - acc: 0.8173     \n",
=======
      "747/747 [==============================] - 2s - loss: 1.2614 - acc: 0.5743     \n",
>>>>>>> 7ed1cd029230cd2f5c0e37cf91666940db583d02
      "Epoch 21/30\n",
<<<<<<< HEAD
      "750/750 [==============================] - 2s - loss: 1.2805 - acc: 0.5373     \n",
||||||| merged common ancestors
      "750/750 [==============================] - 2s - loss: 0.5373 - acc: 0.8280     \n",
=======
      "747/747 [==============================] - 2s - loss: 1.2771 - acc: 0.5542     \n",
>>>>>>> 7ed1cd029230cd2f5c0e37cf91666940db583d02
      "Epoch 22/30\n",
<<<<<<< HEAD
      "750/750 [==============================] - 2s - loss: 1.2097 - acc: 0.5693     \n",
||||||| merged common ancestors
      "750/750 [==============================] - 2s - loss: 0.4949 - acc: 0.8320     \n",
=======
      "747/747 [==============================] - 2s - loss: 1.2057 - acc: 0.5730     \n",
>>>>>>> 7ed1cd029230cd2f5c0e37cf91666940db583d02
      "Epoch 23/30\n",
<<<<<<< HEAD
      "750/750 [==============================] - 2s - loss: 1.1697 - acc: 0.5867     \n",
||||||| merged common ancestors
      "750/750 [==============================] - 2s - loss: 0.5370 - acc: 0.8147     \n",
=======
      "747/747 [==============================] - 3s - loss: 1.1357 - acc: 0.5850     \n",
>>>>>>> 7ed1cd029230cd2f5c0e37cf91666940db583d02
      "Epoch 24/30\n",
<<<<<<< HEAD
      "750/750 [==============================] - 2s - loss: 1.1179 - acc: 0.6173     \n",
||||||| merged common ancestors
      "750/750 [==============================] - 2s - loss: 0.4717 - acc: 0.8453     \n",
=======
      "747/747 [==============================] - 3s - loss: 1.2235 - acc: 0.5582     \n",
>>>>>>> 7ed1cd029230cd2f5c0e37cf91666940db583d02
      "Epoch 25/30\n",
<<<<<<< HEAD
      "750/750 [==============================] - 2s - loss: 1.1120 - acc: 0.6307     \n",
||||||| merged common ancestors
      "750/750 [==============================] - 2s - loss: 0.4278 - acc: 0.8693     \n",
=======
      "747/747 [==============================] - 3s - loss: 1.0871 - acc: 0.6372     \n",
>>>>>>> 7ed1cd029230cd2f5c0e37cf91666940db583d02
      "Epoch 26/30\n",
<<<<<<< HEAD
      "750/750 [==============================] - 2s - loss: 1.0599 - acc: 0.6280     \n",
||||||| merged common ancestors
      "750/750 [==============================] - 2s - loss: 0.4089 - acc: 0.8453     \n",
=======
      "747/747 [==============================] - 3s - loss: 1.0762 - acc: 0.6265     \n",
>>>>>>> 7ed1cd029230cd2f5c0e37cf91666940db583d02
      "Epoch 27/30\n",
<<<<<<< HEAD
      "750/750 [==============================] - 2s - loss: 1.0280 - acc: 0.6453     \n",
||||||| merged common ancestors
      "750/750 [==============================] - 2s - loss: 0.4452 - acc: 0.8373     \n",
=======
      "747/747 [==============================] - 3s - loss: 1.0795 - acc: 0.6171     \n",
>>>>>>> 7ed1cd029230cd2f5c0e37cf91666940db583d02
      "Epoch 28/30\n",
<<<<<<< HEAD
      "750/750 [==============================] - 2s - loss: 0.9971 - acc: 0.6413     \n",
||||||| merged common ancestors
      "750/750 [==============================] - 2s - loss: 0.3836 - acc: 0.8733     \n",
=======
      "747/747 [==============================] - 2s - loss: 0.9866 - acc: 0.6680     \n",
>>>>>>> 7ed1cd029230cd2f5c0e37cf91666940db583d02
      "Epoch 29/30\n",
<<<<<<< HEAD
      "750/750 [==============================] - 2s - loss: 0.9668 - acc: 0.6600     \n",
||||||| merged common ancestors
      "750/750 [==============================] - 2s - loss: 0.3885 - acc: 0.8747     \n",
=======
      "747/747 [==============================] - 2s - loss: 0.9938 - acc: 0.6600     \n",
>>>>>>> 7ed1cd029230cd2f5c0e37cf91666940db583d02
      "Epoch 30/30\n",
<<<<<<< HEAD
      "750/750 [==============================] - 2s - loss: 0.9426 - acc: 0.6720     \n"
||||||| merged common ancestors
      "750/750 [==============================] - 2s - loss: 0.4027 - acc: 0.8693     \n"
=======
      "747/747 [==============================] - 2s - loss: 0.9620 - acc: 0.6854     \n"
>>>>>>> 7ed1cd029230cd2f5c0e37cf91666940db583d02
     ]
    }
   ],
   "source": [
    "# TRAINING the model - (you may repeat execution of this cell to FURTHER train the model!)\n",
    "epochs = 30\n",
    "History = model.fit(train_set, train_classes_1hot, batch_size=32, nb_epoch=epochs)\n",
    "\n",
    "# we keep the history of accuracies on training set\n",
    "# we append this to previous history in case we execute this cell multiple times\n",
    "if history is None:\n",
    "    history = History.history\n",
    "else:\n",
    "    for key in History.history.keys():\n",
    "        history[key].extend(History.history[key])"
   ]
  },
  {
   "cell_type": "code",
<<<<<<< HEAD
   "execution_count": 64,
||||||| merged common ancestors
   "execution_count": 268,
=======
   "execution_count": 84,
>>>>>>> 7ed1cd029230cd2f5c0e37cf91666940db583d02
   "metadata": {
    "scrolled": true
   },
   "outputs": [
    {
     "data": {
<<<<<<< HEAD
      "image/png": "iVBORw0KGgoAAAANSUhEUgAAAlYAAAGDCAYAAADpvl4eAAAABHNCSVQICAgIfAhkiAAAAAlwSFlzAAALEgAACxIB0t1+/AAAADl0RVh0U29mdHdhcmUAbWF0cGxvdGxpYiB2ZXJzaW9uIDIuMi4yLCBodHRwOi8vbWF0cGxvdGxpYi5vcmcvhp/UCwAAIABJREFUeJzt3Xm41WW9///nmxmZEcQJZBDEEcWNs2QOqVSOmFnfSjtplpr+mo6VndNgWZ6Gk5qZpaannAqnc9Sc8qSmIqDgiEM4AKKCyiwgcP/+uNc+e3ADG1ibz9prPx/XdV9rrc/67LXea13rwpf3fX/uO1JKSJIkaeO1K7oASZKkamGwkiRJKhODlSRJUpkYrCRJksrEYCVJklQmBitJkqQyMVhJ2qQion1ELI6IQeU8V5IqgcFK0lqVgk1tWx0R79V7/On1fb2U0qqUUveU0mvlPHdDRMTIiPhLRLwdEQsiYlpEnBMR/tsoaYP4j4ektSoFm+4ppe7Aa8DH6x37U+PzI6LDpq9y/UXEcOBRYAawS0qpF/BJYF9gsw14vVbxuSW1LIOVpI0SEedHxA0RcV1ELAL+X0TsGxGPRsT8iJgTERdFRMfS+R0iIkXE4NLjP5aevzMiFkXEIxExZH3PLT1/ZES8UOp9ujgi/hERJ6+h9B8Cf08pfTOlNAcgpfRcSunElNLiiDg0Il5p9FlnRcRBa/jc3yr15vWqd/6YiHirNnRFxBciYnpEvFv6DAM38uuXVGEMVpLK4VjgWqAXcAOwEjgb6AfsDxwBfHEtf/8p4LtAX3Kv2A/X99yI2AK4EfhG6X1fBvZay+scCvxl7R9rnep/7p8Bk4DjGtV6Y0ppZUQcX6rtaKA/MLH0t5KqiMFKUjk8lFL675TS6pTSeymlSSmliSmllSmlGcDlwIfW8vd/SSlNTim9D/wJ2H0Dzv0YMDWldGvpuV8C89byOn2BOc39gGvQ4HOTg9JJAKV5WidSF55OB36cUno+pbQSOB/YKyK22cgaJFUQg5WkcphZ/0FpUvjtEfFGRCwEfkDuRVqTN+rdXwp034Bzt65fR8o7zM9ay+u8A2y1luebY2ajx38GDoyIAcCHgWUppYdLz20H/Lo0PDqfHPpWA9tuZA2SKojBSlI5pEaPfws8DWyfUuoJ/BsQLVzDHOqFlIgIYG29QfcCx6/l+SXUm8Remie1eaNzGnzulNLbwN+AE8jDgNfVe3om8C8ppd71WteU0sS11CCplTFYSWoJPYAFwJKI2JG1z68ql/8BRkfEx0sh6GzyXKY1+TfgoIi4ICK2BIiIERFxbUR0B6YDPSLi8NLE+38HOjajjmuBz5HnWtWfQ3UZ8J3S90FE9I6I8ev5GSVVOIOVpJbwNXK4WETuvbqhpd8wpfQmeU7TL4C3gWHAE8DyNZz/AnlphRHAs6XhuRvJSzAsTSm9C5wFXA3MJg8dvtHUazVyC7AT8FpK6Zl67/fnUm1/Lg2PPgkcvv6fVFIlizwNQZKqS0S0B14HxqeUHiy6Hkltgz1WkqpGRBxRGmLrTF6S4X3gsYLLktSGGKwkVZMDyCupzyUPsx2bUmpyKFCSWoJDgZIkSWVij5UkSVKZGKwkSZLKpLDd2Pv165cGDx5c1NtLkiQ125QpU+allNa2Nh5QYLAaPHgwkydPLurtJUmSmi0iXm3OeQ4FSpIklYnBSpIkqUwMVpIkSWVisJIkSSoTg5UkSVKZGKwkSZLKxGAlSZJUJgYrSZKkMjFYSZIklYnBqgnHHHMMe+65JzvvvDOXX345AH/9618ZPXo0o0aN4pBDDgFg8eLFnHLKKey6667stttuTJgwociyJUlSwQrb0mZdzjkHpk4t72vuvjv853+u+7wrr7ySvn378t577zFmzBiOPvpoTj31VB544AGGDBnCO++8A8APf/hDevXqxVNPPQXAu+++W96CJUlSq1KxwWqjrV4N774DvXpDh/X7mBdddBE333wzADNnzuTyyy9n7NixDBkyBIC+ffsCcO+993L99df/39/16dOnTMVLkqTWqGKDVXN6ltbq0cdg333hmmvgM59p9p/97//+L/feey+PPPIIm222GQcddBC7774706dP38iCJElStaveOVZ77w0DB8Jf/rJef7ZgwQL69OnDZpttxvTp03n00UdZtmwZDzzwAC+//DLA/w0FHnbYYfz617/+v791KFCSpLateoNVBBx/PNx1Fyxc2Ow/O+KII1i5ciU77rgj5557Lvvssw/9+/fn8ssv57jjjmPUqFGceOKJAJx33nm8++677LLLLowaNYr777+/pT6NJElqBSKlVMgb19TUpMmTJ7fsm/zjH3DAAXDttXDSSS37XpIkqWpFxJSUUs26zqveHivIc6y22mq9hwMlSZI2RHUHq3bt8nDgHXfA4sVFVyNJkqpcdQcrgPHjYdkyuPPOoiuRJElVrvqD1QEHwBZbOBwoSZJaXPUHq/bt4bjj4PbbYenSoquRJElVrPqDFeThwCVL8tILkiRJLaRtBKsPfQg237xZw4Hdu3ffBAVJkqRq1DaCVYcOcOyx8N//nSeyS5IktYC2EawgDwcuWgT33NOs01NKfOMb32CXXXZh11135YYbbgBgzpw5jB07lt13351ddtmFBx98kFWrVnHyySf/37m//OUvW/KTSJKkClWxmzBzzjkwdWr5Xi8l6Nw5Dwd+/OPrPP2mm25i6tSpTJs2jXnz5jFmzBjGjh3Ltddey+GHH853vvMdVq1axdKlS5k6dSqzZ8/m6aefBmD+/Pnlq1uSJLUabafHKgKGDoVbb4UVK9Z5+kMPPcRJJ51E+/btGTBgAB/60IeYNGkSY8aM4aqrruJ73/seTz31FD169GDo0KHMmDGDs846i7/+9a/07NlzE3wgSZJUaSq3x+o//7P8r3n77fCxj8F998GRR27QS4wdO5YHHniA22+/nZNPPpmvfvWrfPazn2XatGncddddXHbZZdx4441ceeWVZS5ekiRVurbTYwVw6KHQs2ezrg488MADueGGG1i1ahVz587lgQceYK+99uLVV19lwIABnHrqqXzhC1/g8ccfZ968eaxevZrjjz+e888/n8cff3wTfBhJklRpKrfHqiV07gxHHQW33AKXXQYdO67x1GOPPZZHHnmEUaNGERFceOGFbLnlllx99dX8x3/8Bx07dqR79+5cc801zJ49m1NOOYXVq1cDcMEFF2yqTyRJkipIpJQKeeOampo0efLkTf/Gt94KxxwDd98Nhx226d9fkiS1OhExJaVUs67z2tZQIMBHPgLdu7t3oCRJKrt1BquIGBgR90fEsxHxTESc3cQ5B0XEgoiYWmr/1jLllkHXrnkC+803w8qVRVcjSZKqSHN6rFYCX0sp7QTsA5wRETs1cd6DKaXdS+0HZa2y3MaPh7lz4cEHi65EkiRVkXUGq5TSnJTS46X7i4DngG1aurAWdeSRsNlmDgdKkqSyWq85VhExGNgDmNjE0/tGxLSIuDMidi5DbS1ns81g3Di46SZYtaroaiRJUpVodrCKiO7ABOCclNLCRk8/DmyXUhoFXAzcsobXOC0iJkfE5Llz525ozeUxfjy88QY8/HCxdUiSpKrRrGAVER3JoepPKaWbGj+fUlqYUlpcun8H0DEi+jVx3uUppZqUUk3//v03svSNNG4cdOnicKAkSSqb5lwVGMAVwHMppV+s4ZwtS+cREXuVXvftchZadj16wBFHwIQJUFrYU5IkaWM0p8dqf+AzwMH1llMYFxGnR8TppXPGA09HxDTgIuCTqaiVR9fH+PEwezZMbGrKmCRJ0vpZ55Y2KaWHgFjHOZcAl5SrqE3mYx+DTp3ycOC++xZdjSRJauXa3srr9fXqlVdi/8tfoBV0sEmSpMrWtoMV5OHA116DIvYtlCRJVcVgddRR0KGDVwdKkqSNZrDq0wcOPdThQEmStNEMVpCHA2fMgKlTi65EkiS1YgYrgKOPhvbtHQ6UJEkbxWAF0K8ffPjD8Oc/OxwoSZI2mMGq1vjx8OKL8PTTRVciSZJaKYNVrWOOgXbtHA6UJEkbzGBVa8AAGDvWYCVJkjaYwaq+8ePh2WdzkyRJWk8Gq/qOPRYiYMKEoiuRJEmtkMGqvq23hv33dzhQkiRtEINVY+PHw5NPwgsvFF2JJElqZQxWjR13XL6110qSJK0ng1VjAwfCPvsYrCRJ0nozWDVl/Hh44gn45z+LrkSSJLUiBqumHH98vvXqQEmStB4MVk0ZPBhqahwOlCRJ68VgtSbjx8OkSfDqq0VXIkmSWgmD1Zo4HChJktaTwWpNtt8edt/d4UBJktRsBqu1GT8eHnkEZs0quhJJktQKGKzWZvz4fHvTTcXWIUmSWgWD1drssAPssgv89rewYEHR1UiSpApnsFqXCy/M+waOGweLFhVdjSRJqmAGq3U58ki4/nqYOBE+/nFYurToiiRJUoUyWDXH8cfDf/0XPPggHHMMLFtWdEWSJKkCGaya66ST4Mor4Z57ctBavrzoiiRJUoUxWK2Pz30uT2S/4w448UR4//2iK5IkSRXEYLW+TjsNLr4Ybr0VPv1pWLmy6IokSVKF6FB0Aa3SmWfmocCvfx06d4Y//AHaty+6KkmSVDCD1Yb62tdyuPrOd6BTJ/jd76CdHYCSJLVlBquN8e1v5ysEf/jD3HP1619DRNFVSZKkghisNtb3v597ri68MPdc/fKXhitJktoog9XGioCf/CSHq1/9Crp0gQsuMFxJktQGGazKISL3VK1YAT/9aR4W/P73i65KkiRtYgarcomASy7JPVc/+EEOV9/+dtFVSZKkTchgVU7t2sHll+eeq+98J4err32t6KokSdImYrAqt/bt4aqrGq5zdeaZRVclSZI2AYNVS+jQAf70p9xzddZZ+WrB004ruipJktTCXNGypXTsCDfcAOPGwemnw9VXF12RJElqYQarltS5M0yYAIccAp//PHzpSzBzZtFVSZKkFmKwamlduuQNm08/Ha64ArbfPg8Pvv560ZVJkqQyM1htCpttlre7efFF+Nzn4LLLYOhQOOcceOONoquTJEllYrDalLbbLi/H8MIL8OlP53Wvhg7NVw++9VbR1UmSpI1ksCrCkCF5WHD6dDjhhLxq+5AhcO65MG9e0dVJkqQNZLAq0vbb56sFn30Wjjkmb+Q8ZAicdx68807R1UmSpPVksKoEO+yQ1716+um8PMOPfpQD1ve+B/PnF12dJElqJoNVJdlpp7z21bRpcOiheSPnIUPg/PNh4cKiq5MkSeuwzmAVEQMj4v6IeDYinomIs5s4JyLiooh4KSKejIjRLVNuG7Hbbnn9q8cfh7Fj4bvfzQHrggtg8eKiq5MkSWvQnB6rlcDXUko7AfsAZ0TETo3OORIYXmqnAb8pa5Vt1R575DWwJk2CffaBb38bdt0192hJkqSKs85glVKak1J6vHR/EfAcsE2j044GrknZo0DviNiq7NW2VTU1cPvt8MAD8P77sO++cP31RVclSZIaWa85VhExGNgDmNjoqW2A+nu1zOKD4Usb68ADYcqUHLROOgm+8Q1YubLoqiRJUkmzg1VEdAcmAOeklDZoJnVEnBYRkyNi8ty5czfkJTRgANx7L5xxBvzsZ3DkkfD220VXJUmSaGawioiO5FD1p5TSTU2cMhsYWO/xtqVjDaSULk8p1aSUavr3778h9QqgU6e8avuVV+bhwZoa511JklQBmnNVYABXAM+llH6xhtNuAz5bujpwH2BBSmlOGetUU045BR580HlXkiRViOb0WO0PfAY4OCKmltq4iDg9Ik4vnXMHMAN4Cfgd8OWWKVcfsNdezruSJKlCdFjXCSmlh4BYxzkJOKNcRWk91c67+upX87yrqVNz79XmmxddmSRJbYorr1cL511JklQ4g1W1cd6VJEmFMVhVI+ddSZJUCINVtXK9K0mSNrl1Tl5XK1Y772rPPeH003MP1i23wKhR6/7bVatg7lx4/XWYM+eD7fXXoXv3PNy43355L8O+fVv+M0mSVMEMVm3BKafAzjvDccflIPSb38COOzYdlmrvv/kmrF79wdfafHPYaqvc3nkHfvKTHMIARo7MIas2bI0cCe3sFJUktR2RV0rY9GpqatLkyZMLee8268034YQT8uT2+iJgiy3qAlNt23rrho+33BI6d274t0uWwOTJ8PDDuT3ySN2QY+/euSerNmztvTf06LFpPqskSWUUEVNSSjXrPM9g1casWAG33ZYDUm1gGjAAOpSp8zIlePHFupD18MPwzDP5eLt2sOuudT1a++4Lw4blYCdJUgUzWKlyLFgAEyfW9Wo9+igsWpSf23JLOPNM+MpX7M2SJFUsg5Uq16pV8OyzOWTddhvccUeeu/XNb+arGLt1K7pCSZIaaG6wcmaxNr327fOQ4Be/CLffDo89ltfe+td/haFD4Re/gPfeK7pKSZLWm8FKxRszJvda/eMfsNtu8LWv5YB18cWwbFnR1UmS1GwGK1WO/faDe+6Bv/8ddtghz7vafvu8PMTy5UVXJ0nSOhmsVHnGjoX774f77oPBg+HLX4YRI+D3v897IEqSVKEMVqpMEXDwwXnNrbvuystCnHpq7sn6wx/c+1CSVJEMVqpsEfCRj+Q1sW6/PW+bc8opeeX4P/6xbtV3SZIqgMFKrUMEjBsHkybl/Q432ww+8xnYZRe44Yamt9+RJGkTM1ipdYmAo4+GJ56AP/85r+b+yU/C7rvDnXfmFd4lSSqIwUqtU7t2MH48PPkkXHtt3rNw3Dg45JC8d6EkSQUwWKl1a98eTjoJnnsOLroInnoqr4v1yU/CP/9ZdHWSpDbGYKXq0KkTnHVWDlPnnZe3ytlxx7wW1ty5RVcnSWojDFaqLj17wg9/CC+9lK8evPRSGDYMfvSjPFwoSVILMlipOm29Nfz2t/D003ne1XnnwfDh8LvfuQaWJKnFGKxU3UaOhJtvhoceyqu4n3Za3o/w1lu9glCSVHYGK7UN+++fN3m+6aa85tUxx+Stcx55pOjKJElVxGCltiMCjj02Dw9edlmeh7XffnD88fD880VXJ0mqApEKGg6pqalJk11vSEVavBh++Uu48EJ47z347Gfz3Kzly3NbsaLu/vq03XeHn/8c9tqr6E8oSSqTiJiSUqpZ53kGK7V5b72VryS8/PI8sb1z56Zbp05rfq62degAN94Ib7wBJ58MP/5x3kBaktSqGayk9bV6dV7RfWMtWpQD1S9+kcPYd74D55wDXbps/GtLkgrR3GDlHCupVjlCFUCPHnDBBfDss3DoofCtb8HOO+fNo70SUZKqmsFKainDhuWlHu65B7p2zRPnDzssT56XJFUlg5XU0g49FKZOhYsvhscfh1Gj4Mwz4e23i65MklRmBitpU+jQIYepF1+EL385L/cwfDhccokrwUtSFTFYSZvS5pvnnqupU2H06Lxx9O67w733Fl2ZJKkMDFZSEXbZJc+9uvnmvIbWYYfl1eBfeqnoyiRJG8FgJRUlIoepZ57JVxHee2++evDcc/OSDZKkVsd1rKRK8frr8O1vw9VXQ9++MGJEHjqsbX37Nnxcv222WdHVS1JVa+46Vh02RTGSmmHrreEPf8iT2y++OK/e/vrr8NRT+QrCJUvW/LddujQdvg4+GD7xidw7JklqcfZYSa3F8uXwzjs5ZDVuTR1/6618e8QR+SrE7bYr+hNIUqtlj5VUbTp3zvsONnfvwdWr4dJL85ytnXeGn/wk94aVa4V5SdIH+C+sVK3atctrZz3zDBxwQF7a4cAD4bnniq5MkqqWwUqqdtttB3feCddcA9On53Wzzj8f3n+/6MokqeoYrKS2IAI+85m8MfSxx8J3vws1NeA8R0kqK4OV1JYMGADXXw+33grz5sHee8M3vgFLlxZdmSRVBYOV1BYddVTuvfrCF+BnP4PddoP77y+6Kklq9QxWUlvVqxf89rd1gergg+G002D+/GLrkqRWzGAltXUHHQRPPpmHBK+4Ii/NcOutRVclSa2SwUpS3hLnwgth4kTo1y/vYXjiifDmm0VXJkmtisFKUp3aKwXPPx9uuQV23BF+/3t44QU3hpakZnBLG0lNmz4d/uVf4OGH645161a3+vvaWt++7k8oqaqUbUubiLgS+BjwVkpplyaePwi4FXi5dOimlNIP1q9cSRVn5Eh48MHcXnsN5sxp2J54Au64AxYv/uDfduoEW26ZQ9bWW+fb/ffPG0J3cCctSdVrnT1WETEWWAxcs5Zg9fWU0sfW543tsZKqxOLFHwxdjdusWbBgAQwdCt/6Fnz2szl8SVIrUbYeq5TSAxExuBxFSapC3bvD8OG5rcnq1XDbbfCjH8Gpp8L3vw/f/GZeR6tr101XqyS1sHJNXt83IqZFxJ0RsXOZXlNStWjXLl9p+Nhj8Ne/wuDB8JWvwJAh+WpEJ8ZLqhLlCFaPA9ullEYBFwO3rOnEiDgtIiZHxOS5c+eW4a0ltSoRcPjhed7W3/+eV3z/13/NG0V///vw7rtFVyhJG2Wjg1VKaWFKaXHp/h1Ax4jot4ZzL08p1aSUavr377+xby2pNRs7Fu6+O6+ddeCB8L3v5YD1rW/BW28VXZ0kbZCNDlYRsWVEvq46IvYqvebbG/u6ktqIvfbKK71PmwbjxsFPf5qHCs85J096l6RWZJ3BKiKuAx4BdoiIWRHxLxFxekScXjplPPB0REwDLgI+mYpaHEtS67XbbnD99fDcc3nV90suyVcRfvGLMGNG0dVJUrO4QKikyvTKK3li+xVXwKpV8KlP5WHCHXcsujJJbVBzl1twSxtJlWnwYLj0Unj5ZTj7bJgwAXbaCT78YbjmGliypOgKJekDDFaSKtvWW8PPf557sH74Q5g5Ez73ubya+6mnwiOPgLMPJFUIg5Wk1qF/fzjvPHjxxbxUw/HHw7XXwn775eHBn/4UXn+96ColtXEGK0mtS0RequGqq+CNN/IcrP794dxzYeBA+OhH87DhihVFVyqpDTJYSWq9evSAz38+Lzj6/PN5sdFp02D8+DyEePbZMHVq0VVKakMMVpKqw4gR8OMfw6uvwp13wiGHwGWXwR57wOjRcPHF8LZL7ElqWQYrSdWlfXs44gi44QaYMycHqoi8N+HWW8MJJ8B//Rc8/ji8917R1UqqMq5jJaltePLJPC/rj3+EefPysQgYNgx23rlh22EH6NKl2HolVZTmrmNlsJLUtqxcma8sfOaZ3J5+Ot+++GJ+DqBdO9h++6YDV6dOxdYvqRDNDVYdNkUxklQxOnTIyzPsuGOe5F5rxQp44YW6wFXbbrstr/wOeZhx+PC6oDVyZA5bI0ZA9+7FfB5JFcVgJUmQe6J22SW3+pYvz1cc1u/dmjYNbrqp4cKk22yTQ1Zt0Kq9v912OZBJahMMVpK0Np075w2id9ut4fFly+Cll3Loqt+uuw7mz2/499tvXxe06rc+fTbtZ5HU4gxWkrQhunRpuocrJZg7t2HYqh1ivO22unlckBc23XNPOPjgvDzEqFH2bkmtnMFKksopArbYIrcDD2z43Pvv502lawPX9Onw8MPwzW/m5/v0yZtM1watHXbIryep1TBYSdKm0rFjnn81YgR8/ON1x+fMgb/9Lbf77svztyCvu3XwwXVBa9CgYuqW1GwutyBJlSSl3Kt13311Yeutt/Jzw4blgHXwwblna4stiq1VakNcx0qSqkFKeX7Wfffl9ve/w8KF+bldd80h66CD8rDh4MHQtWuR1UpVy2AlSdVo5UqYMqWuN+uhh/IVirW23hqGDs1t2LC6+0OHwoABztmSNpDBSpLagmXL4Ikn4J//hBkzGrbZsxue27Vrw6BVvw0ZYm+XtBauvC5JbUGXLrDvvrk1tmwZvPLKBwPXjBm5t2vJkobn9+zZsPXosf6Pe/Vy2x+1aQYrSapWXbrkbXdGjvzgc7XrbdUPW3PnwqJFeQ7XwoX5/uzZDR+va5Sjc2c45ZS8hMSQIS3zuaQKZrCSpLao/npb++zTvL9JKfdy1Yas+oGr9v60aXDllfC738FJJ8G3vgU77dSyn0WqIAYrSVLzROTNpte14fT3vge/+AVcdhn88Y9w7LHw7W9DzTqnp0itXruiC5AkVZlttoGf/xxefRW++124/34YMwYOPzwvF1HQRVPSpmCwkiS1jH794Ac/yAHrpz/Nw4QHHQQHHAB33GHAUlUyWEmSWlbPnnky+8svwyWXwKxZ8NGPwh57wI03wqpVRVcolY3BSpK0aXTtCmecAS+9BFddlZeDOPHEPLn9qqtgxYqiK5Q2msFKkrRpdewIJ5+ct+r585+hWzf4/Odh++3h4ovhvfeKrlDaYAYrSVIx2reH8ePzFj133AGDBsFXvpL3PPzGN+CeewxZanUMVpKkYkXAkUfmfQ8feCAvy/CrX8FHPgJ9+sBhh8GFF+ate1avLrpaaa3cK1CSVHkWL84h6557cnvmmXy8f3845JActg47DAYOLLZOtRluwixJqh6vvw733ptD1r33whtv5OM77FAXsg46KF+BKLUAg5UkqTqlBE8/Xdeb9fe/57lYHTrA3nvXBa299srHpDIwWEmS2obly+Hhh+uC1pQpOXz17g3HHZf3LPzwh/NkeWkDGawkSW3T22/D3/4G//M/cPPNeZPoLbfMa2addFLuyYooukq1MgYrSZLeew9uvx2uuy7fLl8OQ4fmgPWpT+XFSaVmaG6wcrkFSVL16to1r5U1YQK8+WZe4X3YMLjgAth5Zxg1Ku9j+OqrRVeqKmGwkiS1Db165RXf7747X2V40UV51fdzz82Lkh5wAPz61/DWW0VXqlbMYCVJansGDICzzsqT3mfMgB//GBYsgDPPhK23hiOOgGuugYULi65UrYxzrCRJqvXUU3k+1nXXwSuvQJcuMGJE7tnabLOGrfGxtT3u1w+22qroT6eN4OR1SZI2VErw6KNwww05YC1ZAkuXNmy1x5Yvb95rjhmTJ8yfeKIhqxUyWEmStCmsWpWvPmwcvuo/njEDrr8+73fYrl1eV+tTn8rrbPXuXfQnUDMYrCRJqjTTp+dhxj/9Cf75T+jUCT760RyyPvrRfBWXwxjCAAAWdUlEQVSjKpLLLUiSVGlGjoTvfx9efBEeewy+/GV45BE44YQ8ob72qsWVK4uuVBvIYCVJ0qYWkedc/fKXMGtW3lj6hBPgllvg8MNhm23gK1/J87wKGlnShjFYSZJUpPbt4ZBD4Ior4I034KabYOxY+N3vYN9984Km3/kOPPNM0ZWqGZxjJUlSJVq4MPdgXXtt3lx69WrYbjvYe++6Nnq087I2ESevS5JULd58E/7yF3jggTw8+Npr+XiHDnlbnvpha/jwfOWhyspgJUlStXrjDZg4sa5NmgSLFuXneveGvfbKIWufffL9fv2KrbcKGKwkSWorVq2C555rGLaefjoPH0Kep1W/V2vUqLyqvJqtbMEqIq4EPga8lVLapYnnA/gVMA5YCpycUnp8XW9ssJIkqQUtXgxTpuShw9qw9frr+bmOHWG33XJv1pgxue24Y55IryaVM1iNBRYD16whWI0DziIHq72BX6WU9l7XGxusJEnaxGbNqhs6rG21Q4jdusGee+aQVRu4Bg/OS0Oo2cGqw7pOSCk9EBGD13LK0eTQlYBHI6J3RGyVUprT7GolSVLL23bb3I4/Pj9evRpeeCEHrMcey7eXXFK3/2G/fnU9WrVtwIDi6m8F1hmsmmEbYGa9x7NKxwxWkiRVsnbt8mrwI0fCZz6Tj61YAU89Vdej9dhjcNdddfO1Bg1qGLRGj3a/w3rKEayaLSJOA04DGDRo0KZ8a0mS1BydOuUhwT33hNNPz8cWL84bSNf2ak2aBBMm1P3N8OFQU5ODVk0N7LEHdO9eTP0FK0ewmg0MrPd429KxD0gpXQ5cDnmOVRneW5IktbTu3eHAA3Or9fbbeXL85Mm5Pfhg3mAa8rysHXesC1o1NflKxDawmGk5gtVtwJkRcT158voC51dJklTlNt8cPvKR3Gq98UZd2Jo0Ce68E66+Oj/XoQPssktd0KqpgV13zT1kVaQ5VwVeBxwE9APeBP4d6AiQUrqstNzCJcAR5OUWTkkprfNyP68KlCSpyqUEs2fXBa3a3q133snPd+gAI0bATjs1bCNGQOfOxdbeiAuESpKkypMSvPJKDlpPPAHPPpvbjBl1E+TbtYPtt8/DifUD18iRsNlmhZRdtuUWJEmSyiYChgzJ7ROfqDu+bFle+qE2aNW222+HlSvr/nbw4LqgVRu8dtwRevYs5OM0ZrCSJEnF69Ilrwa/224Nj69YAS+9lLfsqR+47rknPwfw+c/DFVds+pqbYLCSJEmVq1Onuh6q2oVNIfdivfxyDllbbllcfY0YrCRJUuvToUNeP2v48KIraaBd0QVIkiRVC4OVJElSmRisJEmSysRgJUmSVCYGK0mSpDIxWEmSJJWJwUqSJKlMDFaSJEllYrCSJEkqE4OVJElSmRisJEmSysRgJUmSVCYGK0mSpDIxWEmSJJWJwUqSJKlMDFaSJEllYrCSJEkqE4OVJElSmRisJEmSysRgJUmSVCYGK0mSpDIxWEmSJJWJwUqSJKlMDFaSJEllYrCSJEkqE4OVJElSmRisJEmSysRgJUmSVCYdii5AkiRpfS1fDnPn5tazJwwbVnRFmcFKkiQVKiVYuDCHpHnz6gLTmu7PnQuLF9f9/Ze+BJdeWlz99RmsJElSi0kJ3n0XXnmlrr38cr6dObMuNK1Y0fTfd+kC/ftDv375dvjwuvu1x0eO3HSfZ10MVpIktRG1PUMdO0LnztC+fXled/78poNTbVu4sOH5PXvCkCEwcCDsuWddSKofoGrvd+sGEeWpc1MwWEmSVCWWLs29QK+91nSbOTPPTarVvn0OWLWtU6eGj9fW5s2rC07z5zeso3t3GDw4h6cPfaju/uDBufXu3brC0vowWEmSVGarV8Pbb8Obb+b27rs5xHTsCB065Nv695tzrEMHeOedtQenefMa1hEBW28NgwblnqFjj4UttoCVK/PQ2/Lla271n1+8+IPP9+mTw9L++9cFptrw1Ldv9QandTFYSZLUDKtW5flAtWFpbW3u3Hx+S+vRA7bbLg+pjRmTA1T9ts02OZhp0zFYSZJUz9y5MGlSbpMn56GuN9/MvUEpffD8zp1hwIDcBg6Empq6x7Wtb9/ci7VyJbz/fm619xvfrunY++/nXqL6walXr03+9WgdDFaSpDZr4UKYMqUuSE2aBK++mp+LyFebjRgB++33wbBU23r2bLvDXvogg5UkqU1YtgymTm0Yop5/vq4XavBg2GsvOOOMPKw2enQOTdL6MFhJkqrO4sXw0kt5KK82RD31VB5ag9zTNGYMnHRSvq2pyZf3SxvLYCVJalVWrYI5c9Z8Zdxrr+Wr8Gr16pWD09e/nkPUmDGw7bYO36llGKwkSRVlyZK8wOSaQtOsWR+84q537zxxfNCgPB9q0KA8tLfnnnkPuXbtCvkoaoMMVpKkwqxeDc89BxMn1rWnnsrHa3XokHuYBg2CAw/84JICAwc6F0qVw2AlSW3U8uX5qriFC2HRIujaNQeYbt1a7j3feiuHp0cfzbeTJtVtd9K7d548ftRRsPPOeX2mQYPyfKhybb0itTSDlSS1EqtX5y1LlizJk7Pr39YGpPpBqfGxxsfXtOlt7955Ycltt627bXy/T591z1FatgyeeKIuRE2cmNeEghyURo2CT38a9t47txEjHLJT62ewkqRNbNkyePJJePxxeP31poNSU7dLlzb/Pbp2zcNjPXrk2549cw9Q/cf1n+/RI7/+rFm5zZ6db598Et5444MLY3bp0nTw6tYtf66JE2HatLyoJeThur33hjPPzLejR8Nmm5XvO5UqhcFKklrQ0qU5nEyZUteeeabh5Otu3fKmtfVve/SALbfMjxs/19Rt45BUzm1M3n8/X4VXG7Zqb2vv/+Mf+bY2RHXrlq+8++pXYZ99cpDaaqvy1SNVsmYFq4g4AvgV0B74fUrpJ42ePxn4D2B26dAlKaXfl7FOSap4S5bkBSinTMm9NlOm5InZtSGqf/98ldrHPpZv99wz9+RU+vBXx451E8XXZPXqvOXLggUwdKhzotR2rTNYRUR74NfAYcAsYFJE3JZSerbRqTeklM5sgRolqaKklOcqTZ1aF6CmTIHp0+uGzAYMyMHp2GPz7ejR1b12Urt2sMUWuUltWXN6rPYCXkopzQCIiOuBo4HGwUqSKs7SpfDCC3nrkuefz/ffeWftm92ua3Pc2tW7a229dQ5PJ56YA9See+Zjktqe5gSrbYCZ9R7PAvZu4rzjI2Is8ALw/6WUZjZxjiSV3erVeb5PbXiq3157reG5gwblXpWOHXPr3DnPUerYMa+XVHu8qfv1j3XtCrvumoPUllsW87klVZ5yTV7/b+C6lNLyiPgicDVwcOOTIuI04DSAQWsbrJekJixa1LD3qX4vVP0r5rp3hx12yItJ7rBDXRs+3CvRJLWs5gSr2cDAeo+3pW6SOgAppbfrPfw9cGFTL5RSuhy4HKCmpiY1dY6kticlmD+/4RVnja88mzWr4f5vETBkSA5MBx3UMEBttVX1zmWSVNmaE6wmAcMjYgg5UH0S+FT9EyJiq5TSnNLDo4DnylqlpEKkBDNn1l1GvzGvM39+02Gp9n7jNZoi8pDdttvmq8wOPDDfHzEih6ftt89rKUlSJVlnsEoprYyIM4G7yMstXJlSeiYifgBMTindBnwlIo4CVgLvACe3YM2SWtDq1XmbkQkTcpsxo/zv0aFDXkxym21gjz3g4x//4ErfW20FnTqV/70lqSVFaryc7iZSU1OTJk+eXMh7S2po1Sp46KEcpG6+OfcidewIhxwCH/0o9Oq18e/Ro0des2mbbXJPVKWv3SRJ9UXElJRSzbrOc+V1qY16/324//4cpm65JW+O26ULHH44/PjHuRepd++iq5Sk1sVgJbUhy5bB3XfDTTfBbbflyeDduuVeqeOPh3Hj8hV1kqQNY7CSqtzixXDnnbln6vbb8+PeveGoo3KYOuywvCaTJGnjGaykKrJiBbzyCvzzn7nddx/89a+5p6p/fzjppBymPvxhJ4ZLUkswWEmtzLvv5tA0Y0ZdgKq9P3Nm3V51kLdV+cIXcpg68EA3xpWklmawkshLDMydm1fl7t69uMUlU8pDdW+/ncNSbWCqH6Lmz2/4N1tsAcOG5eA0bFhe86n21oUyJWnTMlipTVm4MG9/Mn16wy1RXnwR3nsvn9OuXZ6D1Lj16dP08cbn1C6G2Zz27rsNHy9YkJc+qK9DBxg8OIelvfduGJyGDnWyuSRVEoOVqs6qVfDqqx8MT88/D3Pm1J3Xrl3dliiHHprvL1vWdACaPr3ufuMVwtdXt24Nw9hWW8GOOzY81rdvDlNDh+a1nxzCk6TWwWClVm3BgjxBe/LkuvD00kuwfHndOX375vB0+OEN95MbNgw6d17/91yxIr/vmnqgYO29Wx07luezS5Iqj8FKrUpK8MwzcMcdeQmBhx6ClSvzcNmwYTkwjRsHI0fWBah+/cpbQ6dO+Qq7/v3L+7qSpNbPYKWKt3hx7pW6884cqGbOzMdHjYKvfz0HqX32sSdIklQ8g5UqTkp5SK+2V+qBB/LwW48eeTHLf/s3OPLIvOecJEmVxGClirB0ad63rjZMvfxyPr7zznD22TlI7b+/i1pKkiqbwUotbsWKvMxB/bZoUb6dMwfuuSeHquXL8zpShx4K3/xmDlPbbVd09ZIkNZ/BSmuUEixZsvY1l+qHpKbaokUNr9Bryg47wJe/nIPU2LEbdqWeJEmVwGDVRqxenXuHXn4ZXnutYUhqHJjqt8aLVTbWpQv07NmwDRz4wWM9e+Y5Uo2P9emTVw6XJKkaGKyqxOrV8OabOTi98kpdq3382mt5SK6xrl0brio+YEDuQWrOiuM9ezrnSZKk+gxWrcjixfD0000Hp1df/eCQ2xZb5NW7R4+G447LK4sPHgyDBuW1nXr1cthNkqRyMlhVuHffhdtugwkT4O67G4anfv1yUNptNzjqqLrgNHhwnvTdrVtBRUuS1EYZrCrQW2/BLbfkMPW3v+WVxQcOhNNPh4MPzvvHDR7s5ruSJFUag1WFmDULbroptwcfzHOmhg2Dr34Vjj8exoyBiKKrlCRJa2OwKtCMGblXasIEmDgxH9t5ZzjvvDwnarfdDFOSJLUmBqtN7Lnn6sLU1Kn52OjR8KMf5Z6pHXYotj5JkrThDFabwMsvw1VXwZ//DNOn52P77gs/+1nd1XqSJKn1M1i1kFWr4K674NJL8/53EXlV8TPOgGOPdQNhSZKqkcGqzObNgyuvhMsuyz1VW26Z50ydemq+sk+SJFUvg1UZpJQnn196Kdx4Y15r6kMfgp/8BI45xtXJJUlqKwxWG2HJErjuuhyonngi74X3hS/Al76Ur+6TJElti8FqAzz/PPzmN/CHP8CCBbDrrnno71OfyuFKkiS1TQarZlq5Mm8tc+mlcN990LEjnHACfPnLsN9+rjclSZLaeLBKKQem5csbthUrGj7+29/gt7+F11/PGxj/+Mfw+c/DgAFFfwJJklRJqjZYPf88nHzy2gPT8uU5XDXHEUfk4b5x46B9+xYtXZIktVJVG6w6dszznfr1y1flde7cvNbUudtv7yKekiRp3ao2WA0dCnffXXQVkiSpLWlXdAGSJEnVwmAlSZJUJgYrSZKkMjFYSZIklYnBSpIkqUwMVpIkSWVisJIkSSoTg5UkSVKZGKwkSZLKxGAlSZJUJgYrSZKkMjFYSZIklYnBSpIkqUwipVTMG0fMBV5dyyn9gHmbqJy2yO+35fjdthy/25bl99ty/G5b1qb4frdLKfVf10mFBat1iYjJKaWaouuoVn6/LcfvtuX43bYsv9+W43fbsirp+3UoUJIkqUwMVpIkSWVSycHq8qILqHJ+vy3H77bl+N22LL/fluN327Iq5vut2DlWkiRJrU0l91hJkiS1KhUZrCLiiIh4PiJeiohzi66nmkTEKxHxVERMjYjJRdfT2kXElRHxVkQ8Xe9Y34i4JyJeLN32KbLG1moN3+33ImJ26fc7NSLGFVljaxURAyPi/oh4NiKeiYizS8f97ZbBWr5ff78bKSK6RMRjETGt9N1+v3R8SERMLOWGGyKiU2E1VtpQYES0B14ADgNmAZOAk1JKzxZaWJWIiFeAmpSS66mUQUSMBRYD16SUdikduxB4J6X0k9L/GPRJKf1rkXW2Rmv4br8HLE4p/azI2lq7iNgK2Cql9HhE9ACmAMcAJ+Nvd6Ot5fv9BP5+N0pEBNAtpbQ4IjoCDwFnA18FbkopXR8RlwHTUkq/KaLGSuyx2gt4KaU0I6W0ArgeOLrgmqQmpZQeAN5pdPho4OrS/avJ/6BqPa3hu1UZpJTmpJQeL91fBDwHbIO/3bJYy/erjZSyxaWHHUstAQcDfykdL/S3W4nBahtgZr3Hs/AHWU4JuDsipkTEaUUXU6UGpJTmlO6/AQwospgqdGZEPFkaKnSoaiNFxGBgD2Ai/nbLrtH3C/5+N1pEtI+IqcBbwD3AP4H5KaWVpVMKzQ2VGKzUsg5IKY0GjgTOKA23qIWkPNZeWePtrdtvgGHA7sAc4OfFltO6RUR3YAJwTkppYf3n/O1uvCa+X3+/ZZBSWpVS2h3YljzKNbLgkhqoxGA1GxhY7/G2pWMqg5TS7NLtW8DN5B+lyuvN0hyL2rkWbxVcT9VIKb1Z+kd1NfA7/P1usNL8lAnAn1JKN5UO+9stk6a+X3+/5ZVSmg/cD+wL9I6IDqWnCs0NlRisJgHDSzP8OwGfBG4ruKaqEBHdShMpiYhuwEeAp9f+V9oAtwGfK93/HHBrgbVUldr/6Jcci7/fDVKaAHwF8FxK6Rf1nvK3WwZr+n79/W68iOgfEb1L97uSL3R7jhywxpdOK/S3W3FXBQKULkH9T6A9cGVK6UcFl1QVImIouZcKoANwrd/txomI64CDyDurvwn8O3ALcCMwCHgV+ERKyUnY62kN3+1B5GGUBLwCfLHenCA1U0QcADwIPAWsLh3+NnkekL/djbSW7/ck/P1ulIjYjTw5vT25c+jGlNIPSv99ux7oCzwB/L+U0vJCaqzEYCVJktQaVeJQoCRJUqtksJIkSSoTg5UkSVKZGKwkSZLKxGAlSZJUJgYrSRUpIlZFxNR67dwyvvbgiHANIUll12Hdp0hSId4rbVshSa2GPVaSWpWIeCUiLoyIpyLisYjYvnR8cET8rbTB7X0RMah0fEBE3BwR00ptv9JLtY+I30XEMxFxd2kVZ0naKAYrSZWqa6OhwBPrPbcgpbQrcAl5lwaAi4GrU0q7AX8CLiodvwj4e0ppFDAaeKZ0fDjw65TSzsB84PgW/jyS2gBXXpdUkSJicUqpexPHXwEOTinNKG10+0ZKafOImAdslVJ6v3R8TkqpX0TMBbatv71FRAwG7kkpDS89/legY0rp/Jb/ZJKqmT1WklqjtIb766P+PmKrcM6ppDIwWElqjU6sd/tI6f7DwCdL9z9N3gQX4D7gSwAR0T4iem2qIiW1Pf4fmqRK1TUiptZ7/NeUUu2SC30i4klyr9NJpWNnAVdFxDeAucAppeNnA5dHxL+Qe6a+BMxp8eoltUnOsZLUqpTmWNWklOYVXYskNeZQoCRJUpnYYyVJklQm9lhJkiSVicFKkiSpTAxWkiRJZWKwkiRJKhODlSRJUpkYrCRJksrk/wcIAJKSHtm9swAAAABJRU5ErkJggg==\n",
||||||| merged common ancestors
      "image/png": "iVBORw0KGgoAAAANSUhEUgAAAlYAAAGDCAYAAADpvl4eAAAABHNCSVQICAgIfAhkiAAAAAlwSFlz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\nICZWkiRJA/kTC+M7OVhR0A8AAAAASUVORK5CYII=\n",
=======
      "image/png": "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\n",
>>>>>>> 7ed1cd029230cd2f5c0e37cf91666940db583d02
      "text/plain": [
       "<Figure size 720x432 with 1 Axes>"
      ]
     },
     "metadata": {},
     "output_type": "display_data"
    }
   ],
   "source": [
    "plot_traincurve(history)"
   ]
  },
  {
   "cell_type": "markdown",
   "metadata": {},
   "source": [
    "### Testing"
   ]
  },
  {
   "cell_type": "code",
<<<<<<< HEAD
   "execution_count": 65,
   "metadata": {},
||||||| merged common ancestors
   "execution_count": 269,
   "metadata": {
    "collapsed": false
   },
=======
   "execution_count": 85,
   "metadata": {},
>>>>>>> 7ed1cd029230cd2f5c0e37cf91666940db583d02
   "outputs": [
    {
     "name": "stdout",
     "output_type": "stream",
     "text": [
      "224/250 [=========================>....] - ETA: 0s"
     ]
    }
   ],
   "source": [
    "test_pred = model.predict_classes(test_set)"
   ]
  },
  {
   "cell_type": "code",
<<<<<<< HEAD
   "execution_count": 66,
   "metadata": {},
||||||| merged common ancestors
   "execution_count": 270,
   "metadata": {
    "collapsed": false
   },
=======
   "execution_count": 86,
   "metadata": {},
>>>>>>> 7ed1cd029230cd2f5c0e37cf91666940db583d02
   "outputs": [
    {
     "data": {
      "text/plain": [
<<<<<<< HEAD
       "0.508"
||||||| merged common ancestors
       "0.51600000000000001"
=======
       "0.476"
>>>>>>> 7ed1cd029230cd2f5c0e37cf91666940db583d02
      ]
     },
<<<<<<< HEAD
     "execution_count": 66,
||||||| merged common ancestors
     "execution_count": 270,
=======
     "execution_count": 86,
>>>>>>> 7ed1cd029230cd2f5c0e37cf91666940db583d02
     "metadata": {},
     "output_type": "execute_result"
    }
   ],
   "source": [
    "accuracy_score(test_classes, test_pred)"
   ]
  },
  {
   "cell_type": "code",
<<<<<<< HEAD
   "execution_count": 67,
   "metadata": {},
||||||| merged common ancestors
   "execution_count": 273,
   "metadata": {
    "collapsed": false
   },
=======
   "execution_count": 87,
   "metadata": {},
>>>>>>> 7ed1cd029230cd2f5c0e37cf91666940db583d02
   "outputs": [
    {
     "name": "stdout",
     "output_type": "stream",
     "text": [
      "30 epochs\n"
     ]
    }
   ],
   "source": [
    "print len(history['loss']), \"epochs\""
   ]
  },
  {
   "cell_type": "markdown",
   "metadata": {
    "collapsed": true
   },
   "source": [
    "## Parallel CNNs\n",
    "\n",
    "The motivation to use parallel CNNs is to use one CNN that detects patterns in the <b>frequencies</b> and another one that captures patterns in the <b>time domain, i.e. rhythm</b> in a combined way to learn better the structures in the sound.\n",
    "\n",
    "To create parallel CNNs we need a \"graph-based\" model. In Keras 1.x this is realized via the functional API of the Model() class.\n",
    "We use it to create two CNN layers that run in parallel to each other and are merged subsequently."
   ]
  },
  {
   "cell_type": "code",
<<<<<<< HEAD
   "execution_count": 68,
   "metadata": {},
||||||| merged common ancestors
   "execution_count": 76,
   "metadata": {
    "collapsed": true
   },
=======
   "execution_count": 88,
   "metadata": {
    "collapsed": true
   },
>>>>>>> 7ed1cd029230cd2f5c0e37cf91666940db583d02
   "outputs": [],
   "source": [
    "n_filters = 16  # e.g. 16 or 32 \n",
    "dropout = 0.25 # None or 0 < dropout < 1"
   ]
  },
  {
   "cell_type": "code",
<<<<<<< HEAD
   "execution_count": 69,
   "metadata": {},
||||||| merged common ancestors
   "execution_count": 77,
   "metadata": {
    "collapsed": false
   },
=======
   "execution_count": 89,
   "metadata": {
    "collapsed": true
   },
>>>>>>> 7ed1cd029230cd2f5c0e37cf91666940db583d02
   "outputs": [],
   "source": [
    "# Input only specifies the input shape\n",
    "input = Input(input_shape)\n",
    "\n",
    "# CNN layers\n",
    "# specify desired number of filters\n",
    "\n",
    "# The functional API allows to specify the predecessor in (brackets) after the new Layer function call\n",
    "conv_layer1 = Convolution2D(n_filters, 10, 4, activation='relu')(input)  # a vertical filter\n",
    "conv_layer2 = Convolution2D(n_filters, 4, 10, activation='relu')(input)  # a horizontal filter\n",
    "\n",
    "# Pooling layers - equal sized\n",
    "#maxpool1 = MaxPooling2D(pool_size=(2,2))(conv_layer1)\n",
    "#maxpool2 = MaxPooling2D(pool_size=(2,2))(conv_layer2)\n",
    "\n",
    "# ALTERNATIVE: Pooling layers - complementary to vertical/horizontal filter\n",
    "#maxpool1 = MaxPooling2D(pool_size=(1,2))(conv_layer1)\n",
    "#maxpool2 = MaxPooling2D(pool_size=(2,1))(conv_layer2)\n",
    "\n",
    "# LARGER Pooling layers - complementary to vertical/horizontal filter\n",
    "maxpool1 = MaxPooling2D(pool_size=(1,5))(conv_layer1)\n",
    "maxpool2 = MaxPooling2D(pool_size=(5,1))(conv_layer2) # used 4,1 first\n",
    "\n",
    "# Dropout for both layers\n",
    "if dropout:\n",
    "    maxpool1 = Dropout(dropout)(maxpool1)\n",
    "    maxpool2 = Dropout(dropout)(maxpool2)\n",
    "\n",
    "# we have to flatten the Pooling output in order to be concatenated\n",
    "poolflat1 = Flatten()(maxpool1)\n",
    "poolflat2 = Flatten()(maxpool2)\n",
    "\n",
    "# Merge the 2 parallel pipelines\n",
    "merged = merge([poolflat1, poolflat2], mode='concat')\n",
    "\n",
    "full = Dense(256, activation='sigmoid')(merged)\n",
    "output_layer = Dense(n_classes, activation='softmax')(full)\n",
    "\n",
    "# finally create the model\n",
    "model = Model(input=input, output=output_layer)"
   ]
  },
  {
   "cell_type": "code",
<<<<<<< HEAD
   "execution_count": 70,
   "metadata": {},
||||||| merged common ancestors
   "execution_count": 78,
   "metadata": {
    "collapsed": false
   },
=======
   "execution_count": 90,
   "metadata": {},
>>>>>>> 7ed1cd029230cd2f5c0e37cf91666940db583d02
   "outputs": [
    {
     "name": "stdout",
     "output_type": "stream",
     "text": [
      "____________________________________________________________________________________________________\n",
      "Layer (type)                     Output Shape          Param #     Connected to                     \n",
      "====================================================================================================\n",
      "input_1 (InputLayer)             (None, 1, 40, 80)     0                                            \n",
      "____________________________________________________________________________________________________\n",
<<<<<<< HEAD
      "convolution2d_7 (Convolution2D)  (None, 31, 77, 16)    656         input_1[0][0]                    \n",
||||||| merged common ancestors
      "convolution2d_10 (Convolution2D) (None, 31, 77, 16)    656         input_1[0][0]                    \n",
=======
      "convolution2d_7 (Convolution2D)  (None, 16, 31, 77)    656         input_1[0][0]                    \n",
>>>>>>> 7ed1cd029230cd2f5c0e37cf91666940db583d02
      "____________________________________________________________________________________________________\n",
<<<<<<< HEAD
      "convolution2d_8 (Convolution2D)  (None, 37, 71, 16)    656         input_1[0][0]                    \n",
||||||| merged common ancestors
      "convolution2d_11 (Convolution2D) (None, 37, 71, 16)    656         input_1[0][0]                    \n",
=======
      "convolution2d_8 (Convolution2D)  (None, 16, 37, 71)    656         input_1[0][0]                    \n",
>>>>>>> 7ed1cd029230cd2f5c0e37cf91666940db583d02
      "____________________________________________________________________________________________________\n",
<<<<<<< HEAD
      "maxpooling2d_7 (MaxPooling2D)    (None, 31, 15, 16)    0           convolution2d_7[0][0]            \n",
||||||| merged common ancestors
      "maxpooling2d_9 (MaxPooling2D)    (None, 31, 15, 16)    0           convolution2d_10[0][0]           \n",
=======
      "maxpooling2d_7 (MaxPooling2D)    (None, 16, 31, 15)    0           convolution2d_7[0][0]            \n",
>>>>>>> 7ed1cd029230cd2f5c0e37cf91666940db583d02
      "____________________________________________________________________________________________________\n",
<<<<<<< HEAD
      "maxpooling2d_8 (MaxPooling2D)    (None, 7, 71, 16)     0           convolution2d_8[0][0]            \n",
||||||| merged common ancestors
      "maxpooling2d_10 (MaxPooling2D)   (None, 7, 71, 16)     0           convolution2d_11[0][0]           \n",
=======
      "maxpooling2d_8 (MaxPooling2D)    (None, 16, 7, 71)     0           convolution2d_8[0][0]            \n",
>>>>>>> 7ed1cd029230cd2f5c0e37cf91666940db583d02
      "____________________________________________________________________________________________________\n",
<<<<<<< HEAD
      "dropout_5 (Dropout)              (None, 31, 15, 16)    0           maxpooling2d_7[0][0]             \n",
||||||| merged common ancestors
      "dropout_3 (Dropout)              (None, 31, 15, 16)    0           maxpooling2d_9[0][0]             \n",
=======
      "dropout_5 (Dropout)              (None, 16, 31, 15)    0           maxpooling2d_7[0][0]             \n",
>>>>>>> 7ed1cd029230cd2f5c0e37cf91666940db583d02
      "____________________________________________________________________________________________________\n",
<<<<<<< HEAD
      "dropout_6 (Dropout)              (None, 7, 71, 16)     0           maxpooling2d_8[0][0]             \n",
||||||| merged common ancestors
      "dropout_4 (Dropout)              (None, 7, 71, 16)     0           maxpooling2d_10[0][0]            \n",
=======
      "dropout_6 (Dropout)              (None, 16, 7, 71)     0           maxpooling2d_8[0][0]             \n",
>>>>>>> 7ed1cd029230cd2f5c0e37cf91666940db583d02
      "____________________________________________________________________________________________________\n",
      "flatten_4 (Flatten)              (None, 7440)          0           dropout_5[0][0]                  \n",
      "____________________________________________________________________________________________________\n",
      "flatten_5 (Flatten)              (None, 7952)          0           dropout_6[0][0]                  \n",
      "____________________________________________________________________________________________________\n",
      "merge_1 (Merge)                  (None, 15392)         0           flatten_4[0][0]                  \n",
      "                                                                   flatten_5[0][0]                  \n",
      "____________________________________________________________________________________________________\n",
      "dense_7 (Dense)                  (None, 256)           3940608     merge_1[0][0]                    \n",
      "____________________________________________________________________________________________________\n",
      "dense_8 (Dense)                  (None, 10)            2570        dense_7[0][0]                    \n",
      "====================================================================================================\n",
      "Total params: 3,944,490\n",
      "Trainable params: 3,944,490\n",
      "Non-trainable params: 0\n",
      "____________________________________________________________________________________________________\n"
     ]
    }
   ],
   "source": [
    "model.summary()"
   ]
  },
  {
   "cell_type": "markdown",
   "metadata": {},
   "source": [
    "### Training"
   ]
  },
  {
   "cell_type": "code",
<<<<<<< HEAD
   "execution_count": 71,
   "metadata": {},
||||||| merged common ancestors
   "execution_count": 79,
   "metadata": {
    "collapsed": true
   },
=======
   "execution_count": 91,
   "metadata": {
    "collapsed": true
   },
>>>>>>> 7ed1cd029230cd2f5c0e37cf91666940db583d02
   "outputs": [],
   "source": [
    "# Compiling the model\n",
    "\n",
    "learn_rate = 0.02\n",
    "optimizer = SGD(lr=learn_rate) #, momentum=momentum) \n",
    "\n",
    "model.compile(loss='categorical_crossentropy' , optimizer=optimizer, metrics=['accuracy'])\n",
    "\n",
    "history = None"
   ]
  },
  {
   "cell_type": "code",
<<<<<<< HEAD
   "execution_count": 72,
   "metadata": {},
||||||| merged common ancestors
   "execution_count": 81,
   "metadata": {
    "collapsed": false
   },
=======
   "execution_count": 92,
   "metadata": {},
>>>>>>> 7ed1cd029230cd2f5c0e37cf91666940db583d02
   "outputs": [
    {
     "name": "stdout",
     "output_type": "stream",
     "text": [
      "Epoch 1/15\n",
<<<<<<< HEAD
      "750/750 [==============================] - 4s - loss: 2.1815 - acc: 0.2133     \n",
||||||| merged common ancestors
      "750/750 [==============================] - 2s - loss: 1.0714 - acc: 0.6973     \n",
=======
      "747/747 [==============================] - 5s - loss: 2.1447 - acc: 0.2075     \n",
>>>>>>> 7ed1cd029230cd2f5c0e37cf91666940db583d02
      "Epoch 2/15\n",
<<<<<<< HEAD
      "750/750 [==============================] - 4s - loss: 1.9726 - acc: 0.3120     \n",
||||||| merged common ancestors
      "750/750 [==============================] - 2s - loss: 1.0171 - acc: 0.7067     \n",
=======
      "747/747 [==============================] - 5s - loss: 1.9319 - acc: 0.3400     \n",
>>>>>>> 7ed1cd029230cd2f5c0e37cf91666940db583d02
      "Epoch 3/15\n",
<<<<<<< HEAD
      "750/750 [==============================] - 4s - loss: 1.8602 - acc: 0.3733     \n",
||||||| merged common ancestors
      "750/750 [==============================] - 2s - loss: 0.9761 - acc: 0.7253     \n",
=======
      "747/747 [==============================] - 5s - loss: 1.8067 - acc: 0.3976     \n",
>>>>>>> 7ed1cd029230cd2f5c0e37cf91666940db583d02
      "Epoch 4/15\n",
<<<<<<< HEAD
      "750/750 [==============================] - 4s - loss: 1.7643 - acc: 0.4293     \n",
||||||| merged common ancestors
      "750/750 [==============================] - 2s - loss: 0.9557 - acc: 0.7093     \n",
=======
      "747/747 [==============================] - 4s - loss: 1.7162 - acc: 0.4311     \n",
>>>>>>> 7ed1cd029230cd2f5c0e37cf91666940db583d02
      "Epoch 5/15\n",
<<<<<<< HEAD
      "750/750 [==============================] - 4s - loss: 1.6789 - acc: 0.4333     \n",
||||||| merged common ancestors
      "750/750 [==============================] - 2s - loss: 0.8886 - acc: 0.7573     \n",
=======
      "747/747 [==============================] - 4s - loss: 1.6333 - acc: 0.4418     \n",
>>>>>>> 7ed1cd029230cd2f5c0e37cf91666940db583d02
      "Epoch 6/15\n",
<<<<<<< HEAD
      "750/750 [==============================] - 4s - loss: 1.5814 - acc: 0.4893     \n",
||||||| merged common ancestors
      "750/750 [==============================] - 2s - loss: 0.8656 - acc: 0.7467     \n",
=======
      "747/747 [==============================] - 4s - loss: 1.5468 - acc: 0.4766     \n",
>>>>>>> 7ed1cd029230cd2f5c0e37cf91666940db583d02
      "Epoch 7/15\n",
<<<<<<< HEAD
      "750/750 [==============================] - 4s - loss: 1.5106 - acc: 0.4960     \n",
||||||| merged common ancestors
      "750/750 [==============================] - 2s - loss: 0.8196 - acc: 0.7787     \n",
=======
      "747/747 [==============================] - 4s - loss: 1.4696 - acc: 0.5167     \n",
>>>>>>> 7ed1cd029230cd2f5c0e37cf91666940db583d02
      "Epoch 8/15\n",
<<<<<<< HEAD
      "750/750 [==============================] - 4s - loss: 1.4280 - acc: 0.5413     \n",
||||||| merged common ancestors
      "750/750 [==============================] - 3s - loss: 0.7956 - acc: 0.7760     \n",
=======
      "747/747 [==============================] - 4s - loss: 1.4151 - acc: 0.5167     - ETA: 4s - loss:\n",
>>>>>>> 7ed1cd029230cd2f5c0e37cf91666940db583d02
      "Epoch 9/15\n",
<<<<<<< HEAD
      "750/750 [==============================] - 4s - loss: 1.3924 - acc: 0.5413     \n",
||||||| merged common ancestors
      "750/750 [==============================] - 2s - loss: 0.7656 - acc: 0.7867     \n",
=======
      "747/747 [==============================] - 4s - loss: 1.3360 - acc: 0.5649     \n",
>>>>>>> 7ed1cd029230cd2f5c0e37cf91666940db583d02
      "Epoch 10/15\n",
<<<<<<< HEAD
      "750/750 [==============================] - 4s - loss: 1.3103 - acc: 0.5827     \n",
||||||| merged common ancestors
      "750/750 [==============================] - 3s - loss: 0.7161 - acc: 0.8280     \n",
=======
      "747/747 [==============================] - 4s - loss: 1.2823 - acc: 0.5904     \n",
>>>>>>> 7ed1cd029230cd2f5c0e37cf91666940db583d02
      "Epoch 11/15\n",
<<<<<<< HEAD
      "750/750 [==============================] - 4s - loss: 1.2654 - acc: 0.5947     - ETA: 1s - loss: 1.2764 - acc\n",
||||||| merged common ancestors
      "750/750 [==============================] - 2s - loss: 0.6870 - acc: 0.8240     \n",
=======
      "747/747 [==============================] - 4s - loss: 1.2371 - acc: 0.5944     \n",
>>>>>>> 7ed1cd029230cd2f5c0e37cf91666940db583d02
      "Epoch 12/15\n",
<<<<<<< HEAD
      "750/750 [==============================] - 4s - loss: 1.2176 - acc: 0.6080     - ETA: 0s - loss: 1.2232 - acc: 0.606\n",
||||||| merged common ancestors
      "750/750 [==============================] - 2s - loss: 0.6578 - acc: 0.8293     \n",
=======
      "747/747 [==============================] - 4s - loss: 1.1873 - acc: 0.6252     \n",
>>>>>>> 7ed1cd029230cd2f5c0e37cf91666940db583d02
      "Epoch 13/15\n",
<<<<<<< HEAD
      "750/750 [==============================] - 4s - loss: 1.1498 - acc: 0.6480     \n",
||||||| merged common ancestors
      "750/750 [==============================] - 2s - loss: 0.6507 - acc: 0.8147     \n",
=======
      "747/747 [==============================] - 4s - loss: 1.1351 - acc: 0.6519     \n",
>>>>>>> 7ed1cd029230cd2f5c0e37cf91666940db583d02
      "Epoch 14/15\n",
<<<<<<< HEAD
      "750/750 [==============================] - 4s - loss: 1.1324 - acc: 0.6413     \n",
||||||| merged common ancestors
      "750/750 [==============================] - 2s - loss: 0.6076 - acc: 0.8507     \n",
=======
      "747/747 [==============================] - 4s - loss: 1.0936 - acc: 0.6613     \n",
>>>>>>> 7ed1cd029230cd2f5c0e37cf91666940db583d02
      "Epoch 15/15\n",
<<<<<<< HEAD
      "750/750 [==============================] - 4s - loss: 1.0571 - acc: 0.6773     \n"
||||||| merged common ancestors
      "750/750 [==============================] - 2s - loss: 0.5671 - acc: 0.8680     \n"
=======
      "747/747 [==============================] - 4s - loss: 1.0438 - acc: 0.6867     \n"
>>>>>>> 7ed1cd029230cd2f5c0e37cf91666940db583d02
     ]
    }
   ],
   "source": [
    "# TRAINING the model (45 epochs, i.e. executing this block 3 times, worked well with this model)\n",
    "\n",
    "epochs = 15\n",
    "History = model.fit(train_set, train_classes_1hot, batch_size=32, nb_epoch=epochs)\n",
    "\n",
    "# we keep the history of accuracies on training set\n",
    "if history is None:\n",
    "    history = History.history\n",
    "else:\n",
    "    for key in History.history.keys():\n",
    "        history[key].extend(History.history[key])"
   ]
  },
  {
   "cell_type": "code",
<<<<<<< HEAD
   "execution_count": 73,
   "metadata": {},
||||||| merged common ancestors
   "execution_count": 82,
   "metadata": {
    "collapsed": false
   },
=======
   "execution_count": 93,
   "metadata": {},
>>>>>>> 7ed1cd029230cd2f5c0e37cf91666940db583d02
   "outputs": [
    {
     "data": {
<<<<<<< HEAD
      "image/png": "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\n",
||||||| merged common ancestors
      "image/png": "iVBORw0KGgoAAAANSUhEUgAAAl0AAAGDCAYAAAARXqXpAAAABHNCSVQICAgIfAhkiAAAAAlwSFlz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\nAABJRU5ErkJggg==\n",
=======
      "image/png": "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\n",
>>>>>>> 7ed1cd029230cd2f5c0e37cf91666940db583d02
      "text/plain": [
       "<Figure size 720x432 with 1 Axes>"
      ]
     },
     "metadata": {},
     "output_type": "display_data"
    }
   ],
   "source": [
    "plot_traincurve(history)"
   ]
  },
  {
   "cell_type": "markdown",
   "metadata": {},
   "source": [
    "### Testing"
   ]
  },
  {
   "cell_type": "code",
<<<<<<< HEAD
   "execution_count": 74,
   "metadata": {},
||||||| merged common ancestors
   "execution_count": 83,
   "metadata": {
    "collapsed": false
   },
=======
   "execution_count": 94,
   "metadata": {
    "collapsed": true
   },
>>>>>>> 7ed1cd029230cd2f5c0e37cf91666940db583d02
   "outputs": [],
   "source": [
    "# THE GRAPH MODEL DOES NOT SUPPORT .predict_classes\n",
    "# we use model.predict\n",
    "\n",
    "test_pred = model.predict(test_set)"
   ]
  },
  {
   "cell_type": "code",
<<<<<<< HEAD
   "execution_count": 75,
   "metadata": {},
||||||| merged common ancestors
   "execution_count": 84,
   "metadata": {
    "collapsed": false
   },
=======
   "execution_count": 95,
   "metadata": {},
>>>>>>> 7ed1cd029230cd2f5c0e37cf91666940db583d02
   "outputs": [
    {
     "data": {
      "text/plain": [
<<<<<<< HEAD
       "array([[0.02084035, 0.9432553 , 0.00406357, 0.00011928, 0.00006789, 0.02247729, 0.00032044, 0.00007981, 0.00017719, 0.0085989 ],\n",
       "       [0.11993887, 0.0521589 , 0.2948728 , 0.10294078, 0.02437866, 0.09786761, 0.01136536, 0.1064252 , 0.00564698, 0.18440486],\n",
       "       [0.48422673, 0.00967479, 0.07757679, 0.01504907, 0.01641174, 0.09791378, 0.00342723, 0.00699435, 0.07394927, 0.21477625],\n",
       "       [0.01345885, 0.00257693, 0.0730921 , 0.23133092, 0.07054856, 0.01905341, 0.00034164, 0.22020376, 0.19308363, 0.1763102 ],\n",
       "       [0.2471837 , 0.01731452, 0.17810358, 0.09752746, 0.14674783, 0.02863111, 0.00226382, 0.02565839, 0.01225721, 0.24431238],\n",
       "       [0.21691181, 0.05038677, 0.1455012 , 0.04471096, 0.01377506, 0.16056636, 0.00236132, 0.06172238, 0.07547269, 0.22859144],\n",
       "       [0.0378669 , 0.00078517, 0.05636828, 0.17547859, 0.19342306, 0.00725277, 0.00258012, 0.39432424, 0.03097828, 0.10094258],\n",
       "       [0.07668724, 0.00393614, 0.10384084, 0.1083039 , 0.09079383, 0.01766205, 0.01264051, 0.42760023, 0.00867363, 0.14986163],\n",
       "       [0.0482787 , 0.00173447, 0.02343574, 0.03663759, 0.5239957 , 0.00624395, 0.00083031, 0.01692001, 0.20447083, 0.13745269],\n",
       "       [0.03625958, 0.47056282, 0.07774404, 0.09435714, 0.01904816, 0.06832052, 0.0030218 , 0.0175329 , 0.0977699 , 0.11538315],\n",
       "       ...,\n",
       "       [0.54569536, 0.00125188, 0.02818351, 0.01418158, 0.04417116, 0.03286095, 0.02118174, 0.01427535, 0.11775822, 0.18044023],\n",
       "       [0.64032006, 0.03899852, 0.02643667, 0.00642614, 0.0071131 , 0.20032285, 0.00128908, 0.00150218, 0.03669013, 0.04090126],\n",
       "       [0.05207283, 0.06765348, 0.04373239, 0.12318885, 0.04406789, 0.30548197, 0.00369992, 0.01583841, 0.18393716, 0.1603271 ],\n",
       "       [0.17183748, 0.00065651, 0.02253443, 0.09680125, 0.26257074, 0.00118009, 0.32804742, 0.00350069, 0.01185649, 0.10101489],\n",
       "       [0.03191201, 0.00149594, 0.08066437, 0.14142706, 0.13507318, 0.03293163, 0.00374385, 0.20947987, 0.22969323, 0.13357884],\n",
       "       [0.16198662, 0.00397824, 0.05974485, 0.01391796, 0.02903172, 0.00160238, 0.6263604 , 0.00278699, 0.00144774, 0.0991431 ],\n",
       "       [0.1671101 , 0.00544779, 0.18033122, 0.10633993, 0.11456583, 0.02208781, 0.00635018, 0.0111702 , 0.03874382, 0.34785312],\n",
       "       [0.42472672, 0.00713127, 0.16337214, 0.01431436, 0.06582584, 0.02134466, 0.12615126, 0.02089628, 0.00202886, 0.1542086 ],\n",
       "       [0.09454251, 0.16513555, 0.36695182, 0.01635869, 0.00950939, 0.17308442, 0.00232647, 0.03965224, 0.00909652, 0.12334239],\n",
       "       [0.08609433, 0.00450552, 0.10391824, 0.15745339, 0.12386009, 0.01955497, 0.06825932, 0.21879482, 0.00720994, 0.21034938]], dtype=float32)"
||||||| merged common ancestors
       "array([[ 0.00043646,  0.98931932,  0.00436759,  0.00001794,  0.00001216,  0.00453438,  0.00019744,  0.0000439 ,  0.00002979,  0.001041  ],\n",
       "       [ 0.00844574,  0.12470003,  0.32434964,  0.16000736,  0.02118723,  0.13578941,  0.00821325,  0.11125199,  0.00365224,  0.10240311],\n",
       "       [ 0.06305415,  0.00948036,  0.58081031,  0.00809115,  0.00678716,  0.04766398,  0.00252064,  0.00365547,  0.04745031,  0.23048644],\n",
       "       [ 0.0018243 ,  0.00268403,  0.07446717,  0.42895585,  0.02000883,  0.00710591,  0.0000902 ,  0.14533257,  0.08564722,  0.23388393],\n",
       "       [ 0.1697595 ,  0.02738454,  0.25718343,  0.05802403,  0.19809671,  0.03447007,  0.00213486,  0.00406694,  0.00401251,  0.24486744],\n",
       "       [ 0.03363892,  0.039883  ,  0.59691823,  0.01856548,  0.0019691 ,  0.01827605,  0.00082399,  0.0721187 ,  0.0236307 ,  0.19417585],\n",
       "       [ 0.00156451,  0.00035192,  0.06533996,  0.23433547,  0.05807127,  0.0016106 ,  0.0008087 ,  0.54530102,  0.04272973,  0.04988681],\n",
       "       [ 0.01300247,  0.01400337,  0.25577784,  0.09202667,  0.13012408,  0.02592316,  0.01572308,  0.35725877,  0.00692643,  0.08923414],\n",
       "       [ 0.01167191,  0.00144344,  0.06196297,  0.00495129,  0.76500881,  0.00690992,  0.00051998,  0.0055354 ,  0.05138642,  0.09060987],\n",
       "       [ 0.00077   ,  0.75145453,  0.05904214,  0.04989102,  0.00225172,  0.01658757,  0.00058872,  0.00520269,  0.04991744,  0.06429416],\n",
       "       ..., \n",
       "       [ 0.04234224,  0.00280699,  0.27595246,  0.00736412,  0.01297561,  0.02508295,  0.05347705,  0.01326199,  0.29482126,  0.27191535],\n",
       "       [ 0.08749772,  0.05789911,  0.01001469,  0.00117495,  0.0016663 ,  0.76680946,  0.0023927 ,  0.00008606,  0.04952495,  0.02293406],\n",
       "       [ 0.00852027,  0.11482369,  0.04078041,  0.07222687,  0.00668192,  0.18830532,  0.00709378,  0.00089119,  0.34536806,  0.21530847],\n",
       "       [ 0.0458928 ,  0.00052895,  0.02757379,  0.02345754,  0.10453533,  0.00084572,  0.6832096 ,  0.00006425,  0.00966068,  0.10423131],\n",
       "       [ 0.00428556,  0.00064261,  0.07072847,  0.09085278,  0.07277646,  0.03306702,  0.00086871,  0.35150981,  0.25492269,  0.1203459 ],\n",
       "       [ 0.0151994 ,  0.00161984,  0.01028689,  0.00252117,  0.00525716,  0.00042086,  0.94566774,  0.00007924,  0.00034368,  0.018604  ],\n",
       "       [ 0.05268207,  0.00334131,  0.12881579,  0.12868419,  0.40435469,  0.01144382,  0.01083919,  0.00295482,  0.08926617,  0.16761796],\n",
       "       [ 0.16059241,  0.01728358,  0.32387736,  0.0096334 ,  0.02499543,  0.01583058,  0.37721077,  0.00176173,  0.00075467,  0.06806006],\n",
       "       [ 0.00516533,  0.40452075,  0.38535741,  0.00644216,  0.00830792,  0.10153204,  0.00083376,  0.02961398,  0.0049806 ,  0.05324604],\n",
       "       [ 0.00875878,  0.02236481,  0.16294283,  0.24376246,  0.08791289,  0.05042513,  0.11154605,  0.06734242,  0.00599569,  0.23894893]], dtype=float32)"
=======
       "array([[0.01008644, 0.48850468, 0.10271476, 0.08099674, 0.0159053 , 0.12473128, 0.00536835, 0.01528474, 0.07280622, 0.08360147],\n",
       "       [0.03821958, 0.03675446, 0.31003594, 0.14895621, 0.03247003, 0.19420542, 0.00075596, 0.03698775, 0.02693672, 0.17467795],\n",
       "       [0.02688367, 0.00587623, 0.02745439, 0.16636258, 0.04843133, 0.00496618, 0.5421363 , 0.00299422, 0.00447529, 0.17041978],\n",
       "       [0.05265158, 0.01320518, 0.20393822, 0.07977491, 0.02001624, 0.27093962, 0.0031408 , 0.06983641, 0.16961685, 0.11688021],\n",
       "       [0.00607668, 0.00313667, 0.04794782, 0.05062338, 0.21566004, 0.038432  , 0.01180089, 0.02408088, 0.50976956, 0.09247209],\n",
       "       [0.01302967, 0.00245536, 0.0433457 , 0.38080552, 0.1736416 , 0.01304936, 0.07341395, 0.19924107, 0.01729607, 0.08372167],\n",
       "       [0.01055614, 0.00047475, 0.01545255, 0.05978446, 0.75947136, 0.01990401, 0.02920137, 0.02585801, 0.04218941, 0.03710796],\n",
       "       [0.02351544, 0.00604806, 0.04158041, 0.22619498, 0.04661018, 0.00802045, 0.49578038, 0.00509223, 0.0113193 , 0.13583858],\n",
       "       [0.00475503, 0.79359305, 0.03091566, 0.00013131, 0.00004333, 0.16358992, 0.00073409, 0.00063532, 0.00033833, 0.00526397],\n",
       "       [0.04566457, 0.18432063, 0.13095164, 0.00185924, 0.00055556, 0.5933262 , 0.00153303, 0.00298398, 0.00821521, 0.0305899 ],\n",
       "       ...,\n",
       "       [0.02017152, 0.07938582, 0.5154154 , 0.01572392, 0.00756695, 0.24540943, 0.00123119, 0.03077539, 0.00670025, 0.07762018],\n",
       "       [0.09705317, 0.02582187, 0.12787852, 0.05535984, 0.03990389, 0.15665336, 0.00768976, 0.01178585, 0.40926597, 0.06858778],\n",
       "       [0.04550549, 0.00885037, 0.3244978 , 0.0189125 , 0.01921995, 0.28476804, 0.00240725, 0.02379088, 0.12575193, 0.1462958 ],\n",
       "       [0.06059565, 0.0037381 , 0.13507724, 0.22412725, 0.21765211, 0.08988741, 0.00577531, 0.03454586, 0.04415091, 0.18445015],\n",
       "       [0.04557318, 0.04190906, 0.3791724 , 0.04709994, 0.01794397, 0.23763517, 0.00108779, 0.02512863, 0.01117588, 0.19327398],\n",
       "       [0.04848849, 0.02234605, 0.05773762, 0.00429354, 0.0272685 , 0.5335143 , 0.00730772, 0.00182741, 0.00921507, 0.28800124],\n",
       "       [0.15828405, 0.00300898, 0.02875124, 0.16677786, 0.31474894, 0.08064019, 0.02094862, 0.00181538, 0.04313617, 0.18188857],\n",
       "       [0.0150302 , 0.284523  , 0.16502541, 0.00137657, 0.00023472, 0.51055324, 0.00035277, 0.00221025, 0.00155135, 0.01914246],\n",
       "       [0.09429398, 0.00784764, 0.21030955, 0.16760524, 0.17429128, 0.07496721, 0.00282678, 0.008878  , 0.01221292, 0.24676739],\n",
       "       [0.18889685, 0.05653822, 0.28294623, 0.00102715, 0.00043726, 0.40126282, 0.00205972, 0.00115365, 0.00530822, 0.06036986]], dtype=float32)"
>>>>>>> 7ed1cd029230cd2f5c0e37cf91666940db583d02
      ]
     },
<<<<<<< HEAD
     "execution_count": 75,
||||||| merged common ancestors
     "execution_count": 84,
=======
     "execution_count": 95,
>>>>>>> 7ed1cd029230cd2f5c0e37cf91666940db583d02
     "metadata": {},
     "output_type": "execute_result"
    }
   ],
   "source": [
    "# it predicts the probabilities per class:\n",
    "test_pred"
   ]
  },
  {
   "cell_type": "code",
<<<<<<< HEAD
   "execution_count": 76,
   "metadata": {},
||||||| merged common ancestors
   "execution_count": 85,
   "metadata": {
    "collapsed": false
   },
=======
   "execution_count": 96,
   "metadata": {},
>>>>>>> 7ed1cd029230cd2f5c0e37cf91666940db583d02
   "outputs": [
    {
     "data": {
      "text/plain": [
<<<<<<< HEAD
       "array([1, 2, 0, 3, 0, 9, 7, 7, 4, 1, ..., 0, 0, 5, 6, 8, 6, 9, 0, 2, 7])"
||||||| merged common ancestors
       "array([1, 2, 2, 3, 2, 2, 7, 7, 4, 1, ..., 8, 5, 8, 6, 7, 6, 4, 6, 1, 3])"
=======
       "array([1, 2, 6, 5, 8, 3, 4, 6, 1, 5, ..., 2, 8, 2, 3, 2, 5, 4, 5, 9, 5])"
>>>>>>> 7ed1cd029230cd2f5c0e37cf91666940db583d02
      ]
     },
<<<<<<< HEAD
     "execution_count": 76,
||||||| merged common ancestors
     "execution_count": 85,
=======
     "execution_count": 96,
>>>>>>> 7ed1cd029230cd2f5c0e37cf91666940db583d02
     "metadata": {},
     "output_type": "execute_result"
    }
   ],
   "source": [
    "# we get the predicted class from the maximum value in the probabilities, using argmax to get the class number\n",
    "test_pred = np.argmax(test_pred, axis=1)\n",
    "test_pred"
   ]
  },
  {
   "cell_type": "code",
<<<<<<< HEAD
   "execution_count": 77,
   "metadata": {},
||||||| merged common ancestors
   "execution_count": 86,
   "metadata": {
    "collapsed": false
   },
=======
   "execution_count": 97,
   "metadata": {},
>>>>>>> 7ed1cd029230cd2f5c0e37cf91666940db583d02
   "outputs": [
    {
     "data": {
      "text/plain": [
<<<<<<< HEAD
       "0.492"
||||||| merged common ancestors
       "0.52800000000000002"
=======
       "0.52"
>>>>>>> 7ed1cd029230cd2f5c0e37cf91666940db583d02
      ]
     },
<<<<<<< HEAD
     "execution_count": 77,
||||||| merged common ancestors
     "execution_count": 86,
=======
     "execution_count": 97,
>>>>>>> 7ed1cd029230cd2f5c0e37cf91666940db583d02
     "metadata": {},
     "output_type": "execute_result"
    }
   ],
   "source": [
    "accuracy_score(test_classes, test_pred)"
   ]
  },
  {
   "cell_type": "markdown",
   "metadata": {},
   "source": [
    "## Further Practice\n",
    "\n",
    "As a further practical learning, copy the models from above and try more adaptations:\n",
    "\n",
    "* add more layers\n",
    "* vary:\n",
    " * number of filters\n",
    " * filter sizes (shapes)\n",
    " * max pooling\n",
    " * activation functions: sigmoid, tanh, relu, prelu, elu, ...\n",
    "* try other optimizers: 'from keras.optimizers import SGD, Adagrad, Adam' (RMSprop for binary or multi-label classification)"
   ]
  },
  {
   "cell_type": "code",
   "execution_count": null,
   "metadata": {},
   "outputs": [],
   "source": []
  }
 ],
 "metadata": {
  "kernelspec": {
   "display_name": "pymir",
   "language": "python",
   "name": "pymir"
  },
  "language_info": {
   "codemirror_mode": {
    "name": "ipython",
    "version": 2
   },
   "file_extension": ".py",
   "mimetype": "text/x-python",
   "name": "python",
   "nbconvert_exporter": "python",
   "pygments_lexer": "ipython2",
   "version": "2.7.12"
  }
 },
 "nbformat": 4,
 "nbformat_minor": 1
}
