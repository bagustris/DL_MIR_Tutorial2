{
 "cells": [
  {
   "cell_type": "markdown",
   "metadata": {},
   "source": [
    "# Music Genre Classification with Deep Learning\n",
    "\n",
    "This tutorial shows how different Convolutional Neural Network architectures are used for the taks of music genre classification.\n",
    "\n",
    "The data set used is the [GTZAN](http://marsyasweb.appspot.com/download/data_sets/) genre data set compiled by George Tzanetakis. It consists of 1000 tracks (30 second excerpts) from 10 genres, each with 100 examples.\n",
    "\n",
    "The original tracks are 22050Hz Mono 16-bit audio files in .au format.\n",
    "\n",
    "For a more compact download we provide a version in .mp3 format, also 22050 Hz.\n",
    "\n",
    "This tutorial contains:\n",
    "* Loading and preprocessing of audio files\n",
    "* Loading class files from CSV and using Label Encoder\n",
    "* using One-Hot Encoder to prepare class data for Deep Learning\n",
    "* Generating Mel spectrograms from the audio\n",
    "* Standardization of data\n",
    "* Train/Test set split\n",
    "* Stratified splits\n",
    "* Convolutional Neural Networks: single, stacked, parallel\n",
    "* ReLU Activation\n",
    "* Dropout\n",
    "* Batch Normalization\n",
    "\n",
    "(entensions for later:)\n",
    "* Majority Vote / Max Probability \n",
    "* Recurrent Neural Networks\n",
    "* Cross-validation\n",
    "\n",
    "You can execute the following code blocks by pressing SHIFT+Enter consecutively."
   ]
  },
  {
   "cell_type": "code",
   "execution_count": 1,
   "metadata": {},
   "outputs": [
    {
     "data": {
      "text/plain": [
       "'/media/bagustris/atmaja/workshops/2017/mir-summerschool/DL_MIR_Tutorial2/pymir/bin/python2'"
      ]
     },
     "execution_count": 1,
     "metadata": {},
     "output_type": "execute_result"
    }
   ],
   "source": [
    "import sys\n",
    "# check which python is used\n",
    "sys.executable"
   ]
  },
  {
   "cell_type": "code",
   "execution_count": 2,
   "metadata": {},
   "outputs": [
    {
     "name": "stderr",
     "output_type": "stream",
     "text": [
      "Using Theano backend.\n"
     ]
    }
   ],
   "source": [
    "# General Imports\n",
    "\n",
    "import os\n",
    "\n",
    "# choosing between CPU and GPU\n",
    "#device = 'cpu' # 'cpu' or 'gpu'\n",
    "#os.environ['THEANO_FLAGS']='mode=FAST_RUN,device=' + device + ',floatX=float32'\n",
    "\n",
    "import argparse\n",
    "import csv\n",
    "import datetime\n",
    "import glob\n",
    "import math\n",
    "import sys\n",
    "import time\n",
    "import numpy as np\n",
    "import pandas as pd # Pandas for reading CSV files and easier Data handling in preparation\n",
    "from os.path import join\n",
    "\n",
    "# Machine Learning Preprocessing and Evaluation\n",
    "\n",
    "from sklearn import preprocessing\n",
    "from sklearn.metrics import accuracy_score\n",
    "from sklearn import __version__ as sklearn_version\n",
    "\n",
    "if sklearn_version.startswith('0.17'):\n",
    "    from sklearn.cross_validation import train_test_split\n",
    "    from sklearn.cross_validation import StratifiedShuffleSplit\n",
    "else: # >= 0.18\n",
    "    from sklearn.model_selection import train_test_split\n",
    "    from sklearn.model_selection import StratifiedShuffleSplit\n",
    "\n",
    "# Deep Learning\n",
    "\n",
    "from theano import config\n",
    "\n",
    "import keras\n",
    "from keras.models import Sequential, Model\n",
    "from keras.layers import Input, Convolution2D, MaxPooling2D, Dense, Dropout, Activation, Flatten, merge\n",
    "from keras.layers.normalization import BatchNormalization\n",
    "from keras.optimizers import SGD\n",
    "\n",
    "# Plotting\n",
    "\n",
    "import matplotlib.pyplot as plt\n",
    "%matplotlib inline \n",
    "\n",
    "# Local imports\n",
    "import rp_extract as rp\n",
    "from audiofile_read import audiofile_read\n",
    "\n",
    "# For reading AU file\n",
    "import sunau\n"
   ]
  },
  {
   "cell_type": "markdown",
   "metadata": {},
   "source": [
    "## Set the Path to the Dataset\n",
    "\n",
    "adjust this path to where the data set is stored on your computer:\n"
   ]
  },
  {
   "cell_type": "code",
   "execution_count": 3,
   "metadata": {
    "collapsed": true
   },
   "outputs": [],
   "source": [
    "# SET YOUR OWN PATH HERE\n",
    "AUDIO_PATH = './genres/'"
   ]
  },
  {
   "cell_type": "markdown",
   "metadata": {},
   "source": [
    "## Load the Metadata\n",
    "\n",
    "The tab-separated file contains pairs of filename TAB class category (i.e. genre)."
   ]
  },
  {
   "cell_type": "code",
   "execution_count": 24,
   "metadata": {},
   "outputs": [
    {
     "data": {
      "text/html": [
       "<div>\n",
       "<style scoped>\n",
       "    .dataframe tbody tr th:only-of-type {\n",
       "        vertical-align: middle;\n",
       "    }\n",
       "\n",
       "    .dataframe tbody tr th {\n",
       "        vertical-align: top;\n",
       "    }\n",
       "\n",
       "    .dataframe thead th {\n",
       "        text-align: right;\n",
       "    }\n",
       "</style>\n",
       "<table border=\"1\" class=\"dataframe\">\n",
       "  <thead>\n",
       "    <tr style=\"text-align: right;\">\n",
       "      <th></th>\n",
       "      <th>1</th>\n",
       "    </tr>\n",
       "    <tr>\n",
       "      <th>0</th>\n",
       "      <th></th>\n",
       "    </tr>\n",
       "  </thead>\n",
       "  <tbody>\n",
       "    <tr>\n",
       "      <th>./rock/rock.00053.wav</th>\n",
       "      <td>rock</td>\n",
       "    </tr>\n",
       "    <tr>\n",
       "      <th>./rock/rock.00051.wav</th>\n",
       "      <td>rock</td>\n",
       "    </tr>\n",
       "    <tr>\n",
       "      <th>./rock/rock.00076.wav</th>\n",
       "      <td>rock</td>\n",
       "    </tr>\n",
       "    <tr>\n",
       "      <th>./rock/rock.00084.wav</th>\n",
       "      <td>rock</td>\n",
       "    </tr>\n",
       "    <tr>\n",
       "      <th>./rock/rock.00052.wav</th>\n",
       "      <td>rock</td>\n",
       "    </tr>\n",
       "    <tr>\n",
       "      <th>./rock/rock.00057.wav</th>\n",
       "      <td>rock</td>\n",
       "    </tr>\n",
       "    <tr>\n",
       "      <th>./rock/rock.00028.wav</th>\n",
       "      <td>rock</td>\n",
       "    </tr>\n",
       "    <tr>\n",
       "      <th>./rock/rock.00035.wav</th>\n",
       "      <td>rock</td>\n",
       "    </tr>\n",
       "    <tr>\n",
       "      <th>./rock/rock.00095.wav</th>\n",
       "      <td>rock</td>\n",
       "    </tr>\n",
       "    <tr>\n",
       "      <th>./rock/rock.00088.wav</th>\n",
       "      <td>rock</td>\n",
       "    </tr>\n",
       "  </tbody>\n",
       "</table>\n",
       "</div>"
      ],
      "text/plain": [
       "                          1\n",
       "0                          \n",
       "./rock/rock.00053.wav  rock\n",
       "./rock/rock.00051.wav  rock\n",
       "./rock/rock.00076.wav  rock\n",
       "./rock/rock.00084.wav  rock\n",
       "./rock/rock.00052.wav  rock\n",
       "./rock/rock.00057.wav  rock\n",
       "./rock/rock.00028.wav  rock\n",
       "./rock/rock.00035.wav  rock\n",
       "./rock/rock.00095.wav  rock\n",
       "./rock/rock.00088.wav  rock"
      ]
     },
     "execution_count": 24,
     "metadata": {},
     "output_type": "execute_result"
    },
    {
     "name": "stdout",
     "output_type": "stream",
     "text": [
      "\n"
     ]
    }
   ],
   "source": [
    "# csv_file = join(AUDIO_PATH,'filelist_GTZAN_wav_wclasses.txt')   # previous config\n",
    "csv_file = 'filelist_GTZAN_wav_wclasses.txt'\n",
    "metadata = pd.read_csv(csv_file, index_col=0, header=None)\n",
    "metadata.head(10)"
   ]
  },
  {
   "cell_type": "code",
   "execution_count": 25,
   "metadata": {
    "collapsed": true
   },
   "outputs": [],
   "source": [
    "# create list of filenames with associated classes\n",
    "filelist = metadata.index.tolist()\n",
    "classes = metadata[1].values.tolist()"
   ]
  },
  {
   "cell_type": "markdown",
   "metadata": {},
   "source": [
    "## Encode Labels to Numbers\n",
    "\n",
    "String labels need to be encoded as numbers. We use the LabelEncoder from the scikit-learn package."
   ]
  },
  {
   "cell_type": "code",
   "execution_count": 26,
   "metadata": {
    "scrolled": true
   },
   "outputs": [
    {
     "data": {
      "text/plain": [
       "['rock', 'rock', 'rock', 'rock', 'rock']"
      ]
     },
     "execution_count": 26,
     "metadata": {},
     "output_type": "execute_result"
    }
   ],
   "source": [
    "classes[0:5]"
   ]
  },
  {
   "cell_type": "code",
   "execution_count": 27,
   "metadata": {},
   "outputs": [
    {
     "data": {
      "text/plain": [
       "['rock', 'hiphop', 'hiphop', 'hiphop', 'hiphop', 'hiphop']"
      ]
     },
     "execution_count": 27,
     "metadata": {},
     "output_type": "execute_result"
    }
   ],
   "source": [
    "classes[99:105]"
   ]
  },
  {
   "cell_type": "code",
   "execution_count": 28,
   "metadata": {
    "scrolled": true
   },
   "outputs": [
    {
     "name": "stdout",
     "output_type": "stream",
     "text": [
      "10 classes: blues, classical, country, disco, hiphop, jazz, metal, pop, reggae, rock\n"
     ]
    }
   ],
   "source": [
    "from sklearn.preprocessing import LabelEncoder\n",
    "\n",
    "labelencoder = LabelEncoder()\n",
    "labelencoder.fit(classes)\n",
    "\n",
    "# we keep (and print) the number of classis\n",
    "n_classes = len(labelencoder.classes_)\n",
    "print n_classes, \"classes:\", \", \".join(list(labelencoder.classes_))\n",
    "\n",
    "classes_num = labelencoder.transform(classes)"
   ]
  },
  {
   "cell_type": "markdown",
   "metadata": {},
   "source": [
    "We check how the classes look like now numerically:"
   ]
  },
  {
   "cell_type": "code",
   "execution_count": 29,
   "metadata": {},
   "outputs": [
    {
     "data": {
      "text/plain": [
       "array([9, 9, 9, 9, 9])"
      ]
     },
     "execution_count": 29,
     "metadata": {},
     "output_type": "execute_result"
    }
   ],
   "source": [
    "classes_num[0:5]"
   ]
  },
  {
   "cell_type": "code",
   "execution_count": 30,
   "metadata": {},
   "outputs": [
    {
     "data": {
      "text/plain": [
       "array([9, 4, 4, 4, 4, 4])"
      ]
     },
     "execution_count": 30,
     "metadata": {},
     "output_type": "execute_result"
    }
   ],
   "source": [
    "classes_num[99:105]"
   ]
  },
  {
   "cell_type": "markdown",
   "metadata": {},
   "source": [
    "Note: In order to correctly re-transform any predicted numbers into strings, we keep the labelencoder for later."
   ]
  },
  {
   "cell_type": "code",
   "execution_count": 31,
   "metadata": {},
   "outputs": [
    {
     "data": {
      "text/plain": [
       "array([[0., 0., 0., 0., 0., 0., 0., 0., 0., 1.],\n",
       "       [0., 0., 0., 0., 0., 0., 0., 0., 0., 1.],\n",
       "       [0., 0., 0., 0., 0., 0., 0., 0., 0., 1.],\n",
       "       [0., 0., 0., 0., 0., 0., 0., 0., 0., 1.],\n",
       "       [0., 0., 0., 0., 0., 0., 0., 0., 0., 1.],\n",
       "       [0., 0., 0., 0., 0., 0., 0., 0., 0., 1.],\n",
       "       [0., 0., 0., 0., 0., 0., 0., 0., 0., 1.],\n",
       "       [0., 0., 0., 0., 0., 0., 0., 0., 0., 1.],\n",
       "       [0., 0., 0., 0., 0., 0., 0., 0., 0., 1.],\n",
       "       [0., 0., 0., 0., 0., 0., 0., 0., 0., 1.],\n",
       "       ...,\n",
       "       [0., 0., 1., 0., 0., 0., 0., 0., 0., 0.],\n",
       "       [0., 0., 1., 0., 0., 0., 0., 0., 0., 0.],\n",
       "       [0., 0., 1., 0., 0., 0., 0., 0., 0., 0.],\n",
       "       [0., 0., 1., 0., 0., 0., 0., 0., 0., 0.],\n",
       "       [0., 0., 1., 0., 0., 0., 0., 0., 0., 0.],\n",
       "       [0., 0., 1., 0., 0., 0., 0., 0., 0., 0.],\n",
       "       [0., 0., 1., 0., 0., 0., 0., 0., 0., 0.],\n",
       "       [0., 0., 1., 0., 0., 0., 0., 0., 0., 0.],\n",
       "       [0., 0., 1., 0., 0., 0., 0., 0., 0., 0.],\n",
       "       [0., 0., 1., 0., 0., 0., 0., 0., 0., 0.]])"
      ]
     },
     "execution_count": 31,
     "metadata": {},
     "output_type": "execute_result"
    }
   ],
   "source": [
    "from sklearn.preprocessing import OneHotEncoder\n",
    "\n",
    "# make a row vector a column vector, as needed by OneHotEncoder, using reshape(-1,1) \n",
    "classes_num_col = classes_num.reshape(-1, 1)\n",
    "\n",
    "encoder = OneHotEncoder(sparse=False)\n",
    "classes_num_1hot = encoder.fit_transform(classes_num_col)\n",
    "classes_num_1hot"
   ]
  },
  {
   "cell_type": "code",
   "execution_count": 32,
   "metadata": {},
   "outputs": [
    {
     "data": {
      "text/plain": [
       "(997, 10)"
      ]
     },
     "execution_count": 32,
     "metadata": {},
     "output_type": "execute_result"
    }
   ],
   "source": [
    "classes_num_1hot.shape"
   ]
  },
  {
   "cell_type": "markdown",
   "metadata": {},
   "source": [
    "## Load the Audio Files"
   ]
  },
  {
   "cell_type": "code",
   "execution_count": 33,
   "metadata": {},
   "outputs": [
    {
     "name": "stdout",
     "output_type": "stream",
     "text": [
      ". . . . . . . . . . . . . . . . . . . . . . . . . . . . . . . . . . . . . . . . . . . . . . . . . . . . . . . . . . . . . . . . . . . . . . . . . . . . . . . . . . . . . . . . . . . . . . . . . . . . . . . . . . . . . . . . . . . . . . . . . . . . . . . . . . . . . . . . . . . . . . . . . . . . . . . . . . . . . . . . . . . . . . . . . . . . . . . . . . . . . . . . . . . . . . . . . . . . . . . . . . . . . . . . . . . . . . . . . . . . . . . . . . . . . . . . . . . . . . . . . . . . . . . . . . . . . . . . . . . . . . . . . . . . . . . . . . . . . . . . . . . . . . . . . . . . . . . . . . . . . . . . . . . . . . . . . . . . . . . . . . . . . . . . . . . . . . . . . . . . . . . . . . . . . . . . . . . . . . . . . . . . . . . . . . . . . . . . . . . . . . . . . . . . . . . . . . . . . . . . . . . . . . . . . . . . . . . . . . . . . . . . . . . . . . . . . . . . . . . . . . . . . . . . . . . . . . . . . . . . . . . . . . . . . . . . . . . . . . . . . . . . . . . . . . . . . . . . . . . . . . . . . . . . . . . . . . . . . . . . . . . . . . . . . . . . . . . . . . . . . . . . . . . . . . . . . . . . . . . . . . . . . . . . . . . . . . . . . . . . . . . . . . . . . . . . . . . . . . . . . . . . . . . . . . . . . . . . . . . . . . . . . . . . . . . . . . . . . . . . . . . . . . . . . . . . . . . . . . . . . . . . . . . . . . . . . . . . . . . . . . . . . . . . . . . . . . . . . . . . . . . . . . . . . . . . . . . . . . . . . . . . . . . . . . . . . . . . . . . . . . . . . . . . . . . . . . . . . . . . . . . . . . . . . . . . . . . . . . . . . . . . . . . . . . . . . . . . . . . . . . . . . . . . . . . . . . . . . . . . . . . . . . . . . . . . . . . . . . . . . . . . . . . . . . . . . . . . . . . . . . . . . . . . . . . . . . . . . . . . . . . . . . . . . . . . . . . . . . . . . . . . . . . . . . . . . . . . . . . . . . . . . . . . . . . . . . . . . . . . . . . . . . . . . . . . . . . . . . . . . . . . . . . . . . . . . . . . . . . . . . . . . . . . . . . . . . . . . \n",
      "Read 997 audio files\n"
     ]
    }
   ],
   "source": [
    "\n",
    "list_spectrograms = [] # spectrograms are put into a list first\n",
    "\n",
    "# desired output parameters\n",
    "n_mel_bands = 40   # y axis\n",
    "frames = 80        # x axis\n",
    "\n",
    "# some FFT parameters\n",
    "fft_window_size=1024 #512\n",
    "fft_overlap = 0.5\n",
    "hop_size = int(fft_window_size*(1-fft_overlap))\n",
    "segment_size = fft_window_size + (frames-1) * hop_size # segment size for desired # frames\n",
    "\n",
    "for filename in filelist:\n",
    "    print \".\", \n",
    "    filepath = os.path.join(AUDIO_PATH, filename)\n",
    "    samplerate, samplewidth, wavedata = audiofile_read(filepath,verbose=False)\n",
    "    sample_length = wavedata.shape[0]\n",
    "\n",
    "    # make Mono (in case of multiple channels / stereo)\n",
    "    if wavedata.ndim > 1:\n",
    "        wavedata = np.mean(wavedata, 1)\n",
    "      \n",
    "    # GET AUDIO SEGMENT (BLOCK)\n",
    "    # take only 1 audio segment (80 frames)\n",
    "    # a) from beginning of file\n",
    "    #pos = 0\n",
    "    # b) from middle of file\n",
    "    pos = int(sample_length / 2 - segment_size / 2)\n",
    "    wav_segment = wavedata[pos:pos+segment_size]\n",
    "    \n",
    "    # AUDIO PRE-PROCESSING\n",
    "\n",
    "    # 1) FFT spectrogram \n",
    "    spectrogram = rp.calc_spectrogram(wav_segment,fft_window_size,fft_overlap)\n",
    "\n",
    "    # 2) Transform to perceptual Mel scale (uses librosa.filters.mel)\n",
    "    spectrogram = rp.transform2mel(spectrogram,samplerate,fft_window_size,n_mel_bands)\n",
    "        \n",
    "    # 3) Log 10 transform\n",
    "    spectrogram = np.log10(spectrogram)\n",
    "    \n",
    "    list_spectrograms.append(spectrogram)\n",
    "        \n",
    "print \"\\nRead\", len(filelist), \"audio files\""
   ]
  },
  {
   "cell_type": "code",
   "execution_count": 34,
   "metadata": {},
   "outputs": [
    {
     "name": "stdout",
     "output_type": "stream",
     "text": [
      "Duration of input audio file:\n",
      "30 seconds\n"
     ]
    }
   ],
   "source": [
    "print \"Duration of input audio file:\"\n",
    "print sample_length / samplerate, \"seconds\""
   ]
  },
  {
   "cell_type": "code",
   "execution_count": 35,
   "metadata": {},
   "outputs": [
    {
     "name": "stdout",
     "output_type": "stream",
     "text": [
      "An audio segment is 1.88 seconds long\n"
     ]
    }
   ],
   "source": [
    "print \"An audio segment is\", round(float(segment_size) / samplerate, 2), \"seconds long\""
   ]
  },
  {
   "cell_type": "code",
   "execution_count": 36,
   "metadata": {},
   "outputs": [
    {
     "data": {
      "text/plain": [
       "997"
      ]
     },
     "execution_count": 36,
     "metadata": {},
     "output_type": "execute_result"
    }
   ],
   "source": [
    "# how many spectrograms did we get\n",
    "len(list_spectrograms)"
   ]
  },
  {
   "cell_type": "code",
   "execution_count": 37,
   "metadata": {},
   "outputs": [
    {
     "data": {
      "text/plain": [
       "(40, 80)"
      ]
     },
     "execution_count": 37,
     "metadata": {},
     "output_type": "execute_result"
    }
   ],
   "source": [
    "# whats the shape of 1 spectrogram: 40 Mel bands by 80 frames\n",
    "spectrogram.shape"
   ]
  },
  {
   "cell_type": "markdown",
   "metadata": {},
   "source": [
    "Note: For simplicity of this tutorial, here we load only 1 single segment of ~ 1 second length from each audio file.\n",
    "In a real setting, one would create training instances of as many audio segments as possible to be fed to a Neural Network."
   ]
  },
  {
   "cell_type": "code",
   "execution_count": 38,
   "metadata": {},
   "outputs": [
    {
     "data": {
      "text/plain": [
       "array([[-2.21706899, -2.13685759, -1.93284517, -1.85325874, -1.92972802],\n",
       "       [-1.68157686, -1.68318277, -1.8303628 , -2.0573346 , -2.11926532],\n",
       "       [-2.12279533, -2.36054293, -2.30594199, -1.76131269, -1.47456052],\n",
       "       [-2.18641389, -2.30344135, -2.33540736, -2.13075122, -1.94464886],\n",
       "       [-2.31179852, -3.05191259, -3.52575675, -3.56628314, -4.17664073]])"
      ]
     },
     "execution_count": 38,
     "metadata": {},
     "output_type": "execute_result"
    }
   ],
   "source": [
    "spectrogram[0:5,0:5]"
   ]
  },
  {
   "cell_type": "code",
   "execution_count": 39,
   "metadata": {
    "collapsed": true
   },
   "outputs": [],
   "source": [
    "# TODO plot spectrogram"
   ]
  },
  {
   "cell_type": "markdown",
   "metadata": {},
   "source": [
    "## Make 1 big array of list of spectrograms"
   ]
  },
  {
   "cell_type": "code",
   "execution_count": 40,
   "metadata": {},
   "outputs": [
    {
     "data": {
      "text/plain": [
       "(997, 40, 80)"
      ]
     },
     "execution_count": 40,
     "metadata": {},
     "output_type": "execute_result"
    }
   ],
   "source": [
    "# a list of many 40x80 spectrograms is made into 1 big array\n",
    "# config.floatX is from Theano configration to enforce float32 precision (needed for GPU computation)\n",
    "data = np.array(list_spectrograms, dtype=config.floatX)\n",
    "data.shape"
   ]
  },
  {
   "cell_type": "code",
   "execution_count": 41,
   "metadata": {
    "collapsed": true
   },
   "outputs": [],
   "source": [
    "# check for Inf values\n",
    "\n",
    "# np.log10(spectrogram) will produce -inf if a spectrogram value is 0. we replace -inf by 0 here\n",
    "\n",
    "if np.any(np.isinf(data)):\n",
    "    print \"Warning: Data contains inf values. Replacying by 0.\"\n",
    "    data[np.isinf(data)] = 0"
   ]
  },
  {
   "cell_type": "markdown",
   "metadata": {},
   "source": [
    "## Standardization\n",
    "\n",
    "<b>Always normalize / standardize</b> the data before feeding it into the Neural Network!\n",
    "\n",
    "We use <b>attribute-wise standardization</b>, i.e. each feature (i.e. 'pixel' in the spectrogram) is standardized individually, as opposed to computing a single mean and single standard deviation of all values.\n",
    "\n",
    "(Instead of 'attribute-wise, also 'flat' standardization would also be possible,computing the mean and standard deviation across all pixels).\n",
    "\n",
    "One possibility is 'Min-Max normalization', i.e. scaling the values between 0 and 1.\n",
    "\n",
    "Here we use <b>Zero-mean Unit-variance standardization</b> (also known as Z-score normalization).\n",
    "\n",
    "We use the StandardScaler from the scikit-learn package for our purpose, which performs a Zero-mean Unit-variance standardization."
   ]
  },
  {
   "cell_type": "code",
   "execution_count": 42,
   "metadata": {},
   "outputs": [
    {
     "data": {
      "text/plain": [
       "(997, 3200)"
      ]
     },
     "execution_count": 42,
     "metadata": {},
     "output_type": "execute_result"
    }
   ],
   "source": [
    "# Scalers and normalizers work on vectors. So we have to transfor the matrix of our spectrograms into vector data\n",
    "# ('vectorize' or 'reshape' them).\n",
    "\n",
    "# vectorize\n",
    "N, ydim, xdim = data.shape\n",
    "data = data.reshape(N, xdim*ydim)\n",
    "data.shape"
   ]
  },
  {
   "cell_type": "code",
   "execution_count": 43,
   "metadata": {},
   "outputs": [
    {
     "data": {
      "text/plain": [
       "(1, 3200)"
      ]
     },
     "execution_count": 43,
     "metadata": {},
     "output_type": "execute_result"
    }
   ],
   "source": [
    "data[0:1].shape"
   ]
  },
  {
   "cell_type": "code",
   "execution_count": 44,
   "metadata": {
    "collapsed": true
   },
   "outputs": [],
   "source": [
    "# standardize\n",
    "scaler = preprocessing.StandardScaler()\n",
    "data = scaler.fit_transform(data)"
   ]
  },
  {
   "cell_type": "markdown",
   "metadata": {},
   "source": [
    "Now all the values are transformed into the 0-mean 1-variance space."
   ]
  },
  {
   "cell_type": "code",
   "execution_count": 45,
   "metadata": {},
   "outputs": [
    {
     "data": {
      "text/plain": [
       "array([ 0.00000078,  0.00000059,  0.00000067,  0.00000031, -0.0000008 , -0.00000036,  0.00000103, -0.00000021,  0.00000067,  0.00000045, ..., -0.00000327, -0.000001  , -0.00000153,  0.00000032,\n",
       "        0.00000032, -0.00000134,  0.00000067, -0.00000161, -0.0000007 ,  0.00000041], dtype=float32)"
      ]
     },
     "execution_count": 45,
     "metadata": {},
     "output_type": "execute_result"
    }
   ],
   "source": [
    "np.mean(data, axis=0)"
   ]
  },
  {
   "cell_type": "code",
   "execution_count": 46,
   "metadata": {},
   "outputs": [
    {
     "data": {
      "text/plain": [
       "array([1.0000004 , 0.9999997 , 1.        , 0.9999996 , 0.9999999 , 0.9999996 , 0.99999976, 1.0000001 , 0.99999976, 0.99999917, ..., 1.0000002 , 0.9999998 , 1.        , 1.        , 1.        ,\n",
       "       1.0000002 , 0.9999994 , 1.0000002 , 0.99999964, 1.0000001 ], dtype=float32)"
      ]
     },
     "execution_count": 46,
     "metadata": {},
     "output_type": "execute_result"
    }
   ],
   "source": [
    "np.std(data, axis=0)"
   ]
  },
  {
   "cell_type": "code",
   "execution_count": 47,
   "metadata": {},
   "outputs": [
    {
     "data": {
      "text/plain": [
       "(array([-2.8433895, -2.864513 , -2.8402867, -2.8526828, -2.8371346, -2.8278828, -2.8229005, -2.8337243, -2.838455 , -2.824339 , ..., -7.901412 , -7.917027 , -7.885189 , -7.870407 , -7.8833413,\n",
       "        -7.9073334, -7.8950214, -7.9078255, -7.9078665, -7.916666 ], dtype=float32),\n",
       " array([1.2382029, 1.2369902, 1.2256765, 1.2309545, 1.2586452, 1.2256727, 1.2132349, 1.2043762, 1.1990461, 1.2110823, ..., 2.0765793, 2.0491145, 2.0941658, 2.106527 , 2.1106267, 2.0975487, 2.0893266,\n",
       "        2.0872352, 2.0949612, 2.0953429], dtype=float32))"
      ]
     },
     "execution_count": 47,
     "metadata": {},
     "output_type": "execute_result"
    }
   ],
   "source": [
    "# scaler stores the original values to be able to transform later again\n",
    "# show mean and standard deviation: two vectors with same length as data.shape[1]\n",
    "scaler.mean_, scaler.scale_"
   ]
  },
  {
   "cell_type": "markdown",
   "metadata": {},
   "source": [
    "# Creating Train & Test Set \n",
    "\n",
    "We split the original full data set into two parts: Train Set (75%) and Test Set (25%).\n",
    "\n",
    "Here we compare Random Split vs. Stratified Split:"
   ]
  },
  {
   "cell_type": "code",
   "execution_count": 48,
   "metadata": {
    "collapsed": true
   },
   "outputs": [],
   "source": [
    "testset_size = 0.25 # % portion of whole data set to keep for testing, i.e. 75% is used for training\n",
    "\n",
    "# RANDOM split of data set into 2 parts\n",
    "# from sklearn.model_selection import train_test_split\n",
    "\n",
    "train_set, test_set, train_classes, test_classes = train_test_split(data, classes_num, test_size=testset_size, random_state=0)"
   ]
  },
  {
   "cell_type": "code",
   "execution_count": 49,
   "metadata": {},
   "outputs": [
    {
     "data": {
      "text/plain": [
       "array([5, 3, 9, 9, 1, 0, 2, 2, 3, 4, ..., 7, 9, 6, 7, 7, 0, 4, 8, 1, 8])"
      ]
     },
     "execution_count": 49,
     "metadata": {},
     "output_type": "execute_result"
    }
   ],
   "source": [
    "train_classes"
   ]
  },
  {
   "cell_type": "code",
   "execution_count": 50,
   "metadata": {},
   "outputs": [
    {
     "data": {
      "text/plain": [
       "array([3, 7, 9, 6, 8, 7, 1, 3, 0, 3, ..., 5, 2, 8, 9, 5, 9, 5, 5, 6, 5])"
      ]
     },
     "execution_count": 50,
     "metadata": {},
     "output_type": "execute_result"
    }
   ],
   "source": [
    "test_classes"
   ]
  },
  {
   "cell_type": "code",
   "execution_count": 51,
   "metadata": {},
   "outputs": [
    {
     "name": "stdout",
     "output_type": "stream",
     "text": [
      "Number of files in each category in TRAIN set:\n",
      "0 : 75\n",
      "1 : 77\n",
      "2 : 77\n",
      "3 : 73\n",
      "4 : 82\n",
      "5 : 71\n",
      "6 : 72\n",
      "7 : 74\n",
      "8 : 68\n",
      "9 : 78\n"
     ]
    }
   ],
   "source": [
    "from collections import Counter\n",
    "cnt = Counter(train_classes)\n",
    "\n",
    "print \"Number of files in each category in TRAIN set:\"\n",
    "for k in sorted(cnt.keys()):\n",
    "    print k, \":\", cnt[k]"
   ]
  },
  {
   "cell_type": "markdown",
   "metadata": {},
   "source": [
    "In a Random Split, the number of files per class may be uneven or unbalanced.\n",
    "\n",
    "The better way to do it is to use a <b>Stratified Split</b>:"
   ]
  },
  {
   "cell_type": "code",
   "execution_count": 52,
   "metadata": {},
   "outputs": [
    {
     "name": "stdout",
     "output_type": "stream",
     "text": [
      "TRAIN INDEX: [933 813 580 848 767 229 248 357 134 935 ... 364 618 174  13 326 436 641  29 135  39]\n",
      "TEST INDEX: [531 951 352 790 623 287  80  23 507 435 ... 979 433 480 249 486 869 874 555 885 984]\n",
      "(747, 3200)\n",
      "(250, 3200)\n"
     ]
    }
   ],
   "source": [
    "# better: Stratified Split retains the class balance in both sets\n",
    "# from sklearn.model_selection import StratifiedShuffleSplit\n",
    "\n",
    "if sklearn_version.startswith('0.17'):\n",
    "    splits = StratifiedShuffleSplit(classes_num, n_iter=1, test_size=testset_size, random_state=0)\n",
    "else: # >= 0.18:\n",
    "    splitter = StratifiedShuffleSplit(n_splits=1, test_size=testset_size, random_state=0)\n",
    "    splits = splitter.split(data, classes_num)\n",
    "\n",
    "for train_index, test_index in splits:\n",
    "    print \"TRAIN INDEX:\", train_index\n",
    "    print \"TEST INDEX:\", test_index\n",
    "    \n",
    "    # split the data\n",
    "    train_set = data[train_index]\n",
    "    test_set = data[test_index]\n",
    "    \n",
    "    # and the numeric classes (groundtruth)\n",
    "    train_classes = classes_num[train_index]\n",
    "    train_classes_1hot = classes_num_1hot[train_index]  # 1 hot we need for traning\n",
    "    test_classes = classes_num[test_index]\n",
    "# Note: this for loop is only executed once, if n_splits==1\n",
    "\n",
    "print train_set.shape\n",
    "print test_set.shape\n",
    "# Note: we will reshape the data later back to matrix form "
   ]
  },
  {
   "cell_type": "code",
   "execution_count": 53,
   "metadata": {},
   "outputs": [
    {
     "name": "stdout",
     "output_type": "stream",
     "text": [
      "Number of files in each category in TRAIN set:\n",
      "0 : 75\n",
      "1 : 75\n",
      "2 : 75\n",
      "3 : 75\n",
      "4 : 73\n",
      "5 : 75\n",
      "6 : 74\n",
      "7 : 75\n",
      "8 : 75\n",
      "9 : 75\n"
     ]
    }
   ],
   "source": [
    "cnt = Counter(train_classes)\n",
    "print \"Number of files in each category in TRAIN set:\"\n",
    "for k in sorted(cnt.keys()):\n",
    "    print k, \":\", cnt[k]"
   ]
  },
  {
   "cell_type": "markdown",
   "metadata": {},
   "source": [
    "Now the number of files in each category in the training set is equal.\n",
    "\n",
    "(It is equal because our full set had 100 files in each category; a Stratified Split preserves the relative distribution of instances per category, also if the dataset is unbalanced between the classess.)"
   ]
  },
  {
   "cell_type": "markdown",
   "metadata": {},
   "source": [
    "# Convolutional Neural Networks\n",
    "\n",
    "A Convolutional Neural Network (ConvNet or CNN) is a type of (deep) Neural Network that is well-suited for 2D axes data, such as images or spectrograms, as it is optimized for learning from spatial proximity. Its core elements are 2D filter kernels which essentially learn the weights of the Neural Network, and downscaling functions such as Max Pooling.\n",
    "\n",
    "A CNN can have one or more Convolution layers, each of them having an arbitrary number of N filters (which define the depth of the CNN layer), following typically by a pooling step, which aggregates neighboring pixels together and thus reduces the image resolution by retaining only the maximum values of neighboring pixels."
   ]
  },
  {
   "cell_type": "markdown",
   "metadata": {},
   "source": [
    "## Preparing the Data\n",
    "\n",
    "### Adding the channel\n",
    "\n",
    "As CNNs were invented for image data (often having 3 color channels), we need to add a dimension for the color channel to the data. \n",
    "\n",
    "<b>Spectrograms, are considered like greyscale images, which only have 1 color channel. Still we add the extra dimension, defining just 1 channel.</b>\n",
    "\n",
    "#### Theano vs. Tensorflow\n",
    "\n",
    "In Theano, traditionally the color channel is the <b>first</b> dimension in the image shape. \n",
    "In Tensorflow, the color channel is the <b>last</b> dimension in the image shape. \n",
    "\n",
    "This can be configured now in ~/.keras/keras.json: \"image_dim_ordering\": \"th\" or \"tf\" with \"tf\" (Tensorflow) being the default image ordering even though you use Theano. Depending on this, use one of the code lines below.\n",
    "\n",
    "We created an 'if' statement here to check which dimension ordering to use:"
   ]
  },
  {
   "cell_type": "code",
   "execution_count": 54,
   "metadata": {
    "collapsed": true
   },
   "outputs": [],
   "source": [
    "n_channels = 1 # 1 for grey-scale, 3 for RGB (in this case usually already present in the data)\n",
    "\n",
    "if keras.backend.image_dim_ordering() == 'th':\n",
    "    # Theano ordering (~/.keras/keras.json: \"image_dim_ordering\": \"th\")\n",
    "    train_set = train_set.reshape(train_set.shape[0], n_channels, ydim, xdim)\n",
    "    test_set = test_set.reshape(test_set.shape[0], n_channels, ydim, xdim)\n",
    "else:\n",
    "    # Tensorflow ordering (~/.keras/keras.json: \"image_dim_ordering\": \"tf\")\n",
    "    train_set = train_set.reshape(train_set.shape[0], ydim, xdim, n_channels)\n",
    "    test_set = test_set.reshape(test_set.shape[0], ydim, xdim, n_channels)"
   ]
  },
  {
   "cell_type": "code",
   "execution_count": 55,
   "metadata": {},
   "outputs": [
    {
     "data": {
      "text/plain": [
       "'th'"
      ]
     },
     "execution_count": 55,
     "metadata": {},
     "output_type": "execute_result"
    }
   ],
   "source": [
    "keras.backend.image_dim_ordering()"
   ]
  },
  {
   "cell_type": "code",
   "execution_count": 56,
   "metadata": {},
   "outputs": [
    {
     "data": {
      "text/plain": [
       "(747, 1, 40, 80)"
      ]
     },
     "execution_count": 56,
     "metadata": {},
     "output_type": "execute_result"
    }
   ],
   "source": [
    "train_set.shape"
   ]
  },
  {
   "cell_type": "code",
   "execution_count": 57,
   "metadata": {},
   "outputs": [
    {
     "data": {
      "text/plain": [
       "(250, 1, 40, 80)"
      ]
     },
     "execution_count": 57,
     "metadata": {},
     "output_type": "execute_result"
    }
   ],
   "source": [
    "test_set.shape"
   ]
  },
  {
   "cell_type": "code",
   "execution_count": 58,
   "metadata": {},
   "outputs": [
    {
     "data": {
      "text/plain": [
       "(1, 40, 80)"
      ]
     },
     "execution_count": 58,
     "metadata": {},
     "output_type": "execute_result"
    }
   ],
   "source": [
    "# we store the new shape of the images in the 'input_shape' variable.\n",
    "# take all dimensions except the 0th one (which is the number of images)\n",
    "input_shape = train_set.shape[1:]  \n",
    "input_shape"
   ]
  },
  {
   "cell_type": "markdown",
   "metadata": {},
   "source": [
    "# Creating Neural Network Models in Keras\n",
    "\n",
    "## Sequential Models\n",
    "\n",
    "In Keras, one can choose between a Sequential model and a Graph model. Sequential models are the standard case. Graph models are for parallel networks."
   ]
  },
  {
   "cell_type": "markdown",
   "metadata": {},
   "source": [
    "## Creating a Single Layer and a Two Layer CNN"
   ]
  },
  {
   "cell_type": "markdown",
   "metadata": {},
   "source": [
    "Try: (comment/uncomment code in the following code block)\n",
    "* 1 Layer\n",
    "* 2 Layer\n",
    "* more conv_filters\n",
    "* Dropout"
   ]
  },
  {
   "cell_type": "code",
   "execution_count": 59,
   "metadata": {
    "collapsed": true
   },
   "outputs": [],
   "source": [
    "np.random.seed(0) # make results repeatable\n",
    "\n",
    "model = Sequential()\n",
    "\n",
    "conv_filters = 16   # number of convolution filters (= CNN depth)\n",
    "#conv_filters = 32   # number of convolution filters (= CNN depth)\n",
    "\n",
    "# Layer 1\n",
    "model.add(Convolution2D(conv_filters, 3, 3, input_shape=input_shape))\n",
    "model.add(MaxPooling2D(pool_size=(2, 2))) \n",
    "#model.add(Dropout(0.25)) \n",
    "\n",
    "# Layer 2\n",
    "model.add(Convolution2D(conv_filters, 3, 3))\n",
    "model.add(MaxPooling2D(pool_size=(2, 2))) \n",
    "\n",
    "# After Convolution, we have a 16*x*y matrix output\n",
    "# In order to feed this to a Full(Dense) layer, we need to flatten all data\n",
    "# Note: Keras does automatic shape inference, i.e. it knows how many (flat) input units the next layer will need,\n",
    "# so no parameter is needed for the Flatten() layer.\n",
    "model.add(Flatten()) \n",
    "\n",
    "# Full layer\n",
    "model.add(Dense(200, activation='sigmoid')) \n",
    "#model.add(Dense(256, activation='sigmoid')) \n",
    "\n",
    "# Output layer\n",
    "# For binary/2-class problems use ONE sigmoid unit, for multi-class/multi-label problems use n output units \n",
    "# activation should be 'softmax' for multi-class / single-label output, 'sigmoid' for binary or multi-label tasks\n",
    "model.add(Dense(n_classes,activation='softmax'))"
   ]
  },
  {
   "cell_type": "markdown",
   "metadata": {},
   "source": [
    "If you get OverflowError: Range exceeds valid bounds in the above box, check the correct Theano vs. Tensorflow ordering in the box before and your keras.json configuration file."
   ]
  },
  {
   "cell_type": "code",
   "execution_count": 60,
   "metadata": {},
   "outputs": [
    {
     "name": "stdout",
     "output_type": "stream",
     "text": [
      "____________________________________________________________________________________________________\n",
      "Layer (type)                     Output Shape          Param #     Connected to                     \n",
      "====================================================================================================\n",
      "convolution2d_1 (Convolution2D)  (None, 16, 38, 78)    160         convolution2d_input_1[0][0]      \n",
      "____________________________________________________________________________________________________\n",
      "maxpooling2d_1 (MaxPooling2D)    (None, 16, 19, 39)    0           convolution2d_1[0][0]            \n",
      "____________________________________________________________________________________________________\n",
      "convolution2d_2 (Convolution2D)  (None, 16, 17, 37)    2320        maxpooling2d_1[0][0]             \n",
      "____________________________________________________________________________________________________\n",
      "maxpooling2d_2 (MaxPooling2D)    (None, 16, 8, 18)     0           convolution2d_2[0][0]            \n",
      "____________________________________________________________________________________________________\n",
      "flatten_1 (Flatten)              (None, 2304)          0           maxpooling2d_2[0][0]             \n",
      "____________________________________________________________________________________________________\n",
      "dense_1 (Dense)                  (None, 200)           461000      flatten_1[0][0]                  \n",
      "____________________________________________________________________________________________________\n",
      "dense_2 (Dense)                  (None, 10)            2010        dense_1[0][0]                    \n",
      "====================================================================================================\n",
      "Total params: 465,490\n",
      "Trainable params: 465,490\n",
      "Non-trainable params: 0\n",
      "____________________________________________________________________________________________________\n"
     ]
    }
   ],
   "source": [
    "model.summary()"
   ]
  },
  {
   "cell_type": "markdown",
   "metadata": {},
   "source": [
    "## Training the CNN"
   ]
  },
  {
   "cell_type": "code",
   "execution_count": 61,
   "metadata": {
    "collapsed": true
   },
   "outputs": [],
   "source": [
    "# Define a loss function \n",
    "loss = 'categorical_crossentropy' \n",
    "\n",
    "# Note: for binary classification (2 classes) OR for multi-class problems use:\n",
    "#loss = 'binary_crossentropy' \n",
    "\n",
    "# Optimizer = Stochastic Gradient Descent\n",
    "optimizer = 'sgd' \n",
    "\n",
    "# Compiling the model\n",
    "model.compile(loss=loss, optimizer=optimizer, metrics=['accuracy'])"
   ]
  },
  {
   "cell_type": "code",
   "execution_count": 62,
   "metadata": {
    "collapsed": true
   },
   "outputs": [],
   "source": [
    "history = None"
   ]
  },
  {
   "cell_type": "code",
   "execution_count": 63,
   "metadata": {},
   "outputs": [
    {
     "name": "stdout",
     "output_type": "stream",
     "text": [
      "Epoch 1/15\n",
      "747/747 [==============================] - 1s - loss: 2.3427 - acc: 0.1633     \n",
      "Epoch 2/15\n",
      "747/747 [==============================] - 1s - loss: 2.1124 - acc: 0.2289     \n",
      "Epoch 3/15\n",
      "747/747 [==============================] - 1s - loss: 2.0309 - acc: 0.2691     \n",
      "Epoch 4/15\n",
      "747/747 [==============================] - 1s - loss: 1.9834 - acc: 0.2959     \n",
      "Epoch 5/15\n",
      "747/747 [==============================] - 1s - loss: 1.9424 - acc: 0.3226     \n",
      "Epoch 6/15\n",
      "747/747 [==============================] - 1s - loss: 1.9023 - acc: 0.3320     \n",
      "Epoch 7/15\n",
      "747/747 [==============================] - 1s - loss: 1.8656 - acc: 0.3454     \n",
      "Epoch 8/15\n",
      "747/747 [==============================] - 1s - loss: 1.8356 - acc: 0.3655     \n",
      "Epoch 9/15\n",
      "747/747 [==============================] - 1s - loss: 1.8016 - acc: 0.3722     \n",
      "Epoch 10/15\n",
      "747/747 [==============================] - 1s - loss: 1.7663 - acc: 0.3949     \n",
      "Epoch 11/15\n",
      "747/747 [==============================] - 1s - loss: 1.7397 - acc: 0.3949     \n",
      "Epoch 12/15\n",
      "747/747 [==============================] - 1s - loss: 1.7126 - acc: 0.4083     \n",
      "Epoch 13/15\n",
      "747/747 [==============================] - 1s - loss: 1.6812 - acc: 0.4337     \n",
      "Epoch 14/15\n",
      "747/747 [==============================] - 1s - loss: 1.6547 - acc: 0.4324     \n",
      "Epoch 15/15\n",
      "747/747 [==============================] - 1s - loss: 1.6303 - acc: 0.4511     \n"
     ]
    }
   ],
   "source": [
    "# TRAINING the model\n",
    "\n",
    "# YOU MAY RUN THIS CELL MULTIPLE TIMES TO CONTINUE TO TRAIN THE MODEL FURTHER\n",
    "\n",
    "# for how many epochs (iterations) to train\n",
    "epochs = 15\n",
    "\n",
    "# for training we need the \"1 hot encoded\" numeric classes of the ground truth\n",
    "History = model.fit(train_set, train_classes_1hot, batch_size=32, nb_epoch=epochs)\n",
    "\n",
    "# we keep the history of accuracies on training set\n",
    "# we append this to previous history in case we execute this cell multiple times\n",
    "if history is None:\n",
    "    history = History.history\n",
    "else:\n",
    "    for key in History.history.keys():\n",
    "        history[key].extend(History.history[key])"
   ]
  },
  {
   "cell_type": "code",
   "execution_count": 64,
   "metadata": {
    "collapsed": true
   },
   "outputs": [],
   "source": [
    "def plot_traincurve(history):\n",
    "    # define 4 colors for up to 4 different values in history\n",
    "    colors = {'loss':'r', 'acc':'b', 'val_loss':'m', 'val_acc':'g'}\n",
    "    plt.figure(figsize=(10,6))\n",
    "    plt.title(\"Training Curve\") \n",
    "    plt.xlabel(\"Epoch\")\n",
    "\n",
    "    for measure in history.keys():\n",
    "        color = colors[measure]\n",
    "        ln = len(history[measure])\n",
    "        plt.plot(range(1,ln+1), history[measure], color + '-', label=measure)  # use last 2 values to draw line\n",
    "\n",
    "    plt.legend(loc='upper left', scatterpoints = 1, frameon=False)"
   ]
  },
  {
   "cell_type": "code",
   "execution_count": 65,
   "metadata": {},
   "outputs": [
    {
     "data": {
      "image/png": "[encoded data removed]",
      "text/plain": [
       "<Figure size 720x432 with 1 Axes>"
      ]
     },
     "metadata": {},
     "output_type": "display_data"
    }
   ],
   "source": [
    "plot_traincurve(history)"
   ]
  },
  {
   "cell_type": "markdown",
   "metadata": {},
   "source": [
    "#### Accuracy always goes up on Train set! Also on Test set?"
   ]
  },
  {
   "cell_type": "markdown",
   "metadata": {},
   "source": [
    "### Verifying Accuracy on Test Set"
   ]
  },
  {
   "cell_type": "code",
   "execution_count": 66,
   "metadata": {
    "scrolled": false
   },
   "outputs": [
    {
     "name": "stdout",
     "output_type": "stream",
     "text": [
      "192/250 [======================>.......] - ETA: 0s"
     ]
    }
   ],
   "source": [
    "test_pred = model.predict_classes(test_set)"
   ]
  },
  {
   "cell_type": "code",
   "execution_count": 67,
   "metadata": {},
   "outputs": [
    {
     "data": {
      "text/plain": [
       "array([1, 2, 6, 8, 8, 4, 4, 6, 1, 1, ..., 2, 1, 5, 3, 2, 4, 9, 1, 2, 1])"
      ]
     },
     "execution_count": 67,
     "metadata": {},
     "output_type": "execute_result"
    }
   ],
   "source": [
    "# predictions\n",
    "test_pred"
   ]
  },
  {
   "cell_type": "code",
   "execution_count": 68,
   "metadata": {},
   "outputs": [
    {
     "data": {
      "text/plain": [
       "array([1, 2, 6, 7, 8, 3, 9, 9, 1, 5, ..., 2, 5, 5, 3, 5, 0, 0, 1, 0, 2])"
      ]
     },
     "execution_count": 68,
     "metadata": {},
     "output_type": "execute_result"
    }
   ],
   "source": [
    "# groundtruth\n",
    "test_classes"
   ]
  },
  {
   "cell_type": "code",
   "execution_count": 69,
   "metadata": {},
   "outputs": [
    {
     "data": {
      "text/plain": [
       "0.348"
      ]
     },
     "execution_count": 69,
     "metadata": {},
     "output_type": "execute_result"
    }
   ],
   "source": [
    "# 1 layer\n",
    "accuracy_score(test_classes, test_pred)"
   ]
  },
  {
   "cell_type": "code",
   "execution_count": 70,
   "metadata": {},
   "outputs": [
    {
     "data": {
      "text/plain": [
       "0.348"
      ]
     },
     "execution_count": 70,
     "metadata": {},
     "output_type": "execute_result"
    }
   ],
   "source": [
    "# 2 layer\n",
    "accuracy_score(test_classes, test_pred)"
   ]
  },
  {
   "cell_type": "code",
   "execution_count": 71,
   "metadata": {
    "scrolled": true
   },
   "outputs": [
    {
     "data": {
      "text/plain": [
       "0.348"
      ]
     },
     "execution_count": 71,
     "metadata": {},
     "output_type": "execute_result"
    }
   ],
   "source": [
    "# 2 layer + 32 convolution filters\n",
    "accuracy_score(test_classes, test_pred)"
   ]
  },
  {
   "cell_type": "code",
   "execution_count": 72,
   "metadata": {},
   "outputs": [
    {
     "data": {
      "text/plain": [
       "0.348"
      ]
     },
     "execution_count": 72,
     "metadata": {},
     "output_type": "execute_result"
    }
   ],
   "source": [
    "# 2 layer + 32 convolution filters + ReLU + Dropout\n",
    "accuracy_score(test_classes, test_pred)"
   ]
  },
  {
   "cell_type": "markdown",
   "metadata": {},
   "source": [
    "## Custom Model"
   ]
  },
  {
   "cell_type": "code",
   "execution_count": 73,
   "metadata": {
    "collapsed": true
   },
   "outputs": [],
   "source": [
    "# Try to vary these parameters:\n",
    "\n",
    "conv_filters = 16  # number of convolution filters (= CNN depth), e.g. 16 or 32\n",
    "\n",
    "use_layers = 2    # 1 or 2\n",
    "\n",
    "cnn_activation = 'relu' # sigmoid or relu\n"
   ]
  },
  {
   "cell_type": "code",
   "execution_count": 74,
   "metadata": {
    "collapsed": true
   },
   "outputs": [],
   "source": [
    "model = Sequential()\n",
    "\n",
    "# Layer 1\n",
    "#model.add(Convolution2D(conv_filters, 3, 3, activation=cnn_activation, border_mode='valid', input_shape=input_shape))\n",
    "#model.add(Convolution2D(conv_filters, 4, 12, activation=cnn_activation, border_mode='valid', input_shape=input_shape))\n",
    "model.add(Convolution2D(conv_filters, 10, 4, activation=cnn_activation, border_mode='valid', input_shape=input_shape))\n",
    "\n",
    "if use_layers == 1:\n",
    "    model.add(MaxPooling2D(pool_size=(1, 20))) \n",
    "    #model.add(MaxPooling2D(pool_size=(1, 5))) \n",
    "else:\n",
    "    #model.add(MaxPooling2D(pool_size=(2, 2))) \n",
    "    model.add(MaxPooling2D(pool_size=(1, 5))) \n",
    "\n",
    "# Layer 2\n",
    "if use_layers == 2:\n",
    "    model.add(Convolution2D(conv_filters, 3, 3, activation=cnn_activation, border_mode='valid', input_shape=input_shape))\n",
    "    #model.add(BatchNormalization())\n",
    "    #Smodel.add(Activation(cnn_act)) \n",
    "    model.add(MaxPooling2D(pool_size=(2, 2))) \n",
    "\n",
    "# After Convolution, we have a 16*x*y matrix output\n",
    "# In order to feed this to a Full(Dense) layer, we need to flatten all data\n",
    "# Note: Keras does automatic shape inference, i.e. it knows how many (flat) input units the next layer will need,\n",
    "# so no parameter is needed for the Flatten() layer.\n",
    "model.add(Flatten()) \n",
    "\n",
    "# Full layer\n",
    "model.add(Dense(200, activation='sigmoid'))  \n",
    "model.add(Dropout(0.25))\n",
    "\n",
    "# Output layer\n",
    "# For binary/2-class problems use ONE sigmoid unit, for multi-class/multi-label problems use n output units \n",
    "# activation should be 'softmax' for multi-class / single-label output, 'sigmoid' for binary or multi-label tasks\n",
    "model.add(Dense(n_classes,activation='softmax'))"
   ]
  },
  {
   "cell_type": "markdown",
   "metadata": {},
   "source": [
    "### Training"
   ]
  },
  {
   "cell_type": "code",
   "execution_count": 75,
   "metadata": {
    "collapsed": true
   },
   "outputs": [],
   "source": [
    "# Compiling the model\n",
    "\n",
    "learn_rate = 0.05 # e.g. 0.02 or 0.05\n",
    "optimizer = SGD(lr=learn_rate) #, momentum=momentum) \n",
    "\n",
    "model.compile(loss='categorical_crossentropy' , optimizer=optimizer, metrics=['accuracy'])\n",
    "\n",
    "history = None"
   ]
  },
  {
   "cell_type": "code",
   "execution_count": 76,
   "metadata": {},
   "outputs": [
    {
     "name": "stdout",
     "output_type": "stream",
     "text": [
      "Train on 672 samples, validate on 75 samples\n",
      "Epoch 1/30\n",
      "672/672 [==============================] - 1s - loss: 2.3598 - acc: 0.1057 - val_loss: 2.1742 - val_acc: 0.2533\n",
      "Epoch 2/30\n",
      "672/672 [==============================] - 1s - loss: 2.1512 - acc: 0.2232 - val_loss: 2.0470 - val_acc: 0.2667\n",
      "Epoch 3/30\n",
      "672/672 [==============================] - 1s - loss: 2.0262 - acc: 0.2574 - val_loss: 1.9949 - val_acc: 0.2800\n",
      "Epoch 4/30\n",
      "672/672 [==============================] - 1s - loss: 1.9450 - acc: 0.3244 - val_loss: 1.9197 - val_acc: 0.3467\n",
      "Epoch 5/30\n",
      "672/672 [==============================] - 1s - loss: 1.8810 - acc: 0.3289 - val_loss: 1.8230 - val_acc: 0.3733\n",
      "Epoch 6/30\n",
      "672/672 [==============================] - 1s - loss: 1.7990 - acc: 0.3438 - val_loss: 1.7721 - val_acc: 0.3733\n",
      "Epoch 7/30\n",
      "672/672 [==============================] - 1s - loss: 1.7563 - acc: 0.3943 - val_loss: 1.7626 - val_acc: 0.4267\n",
      "Epoch 8/30\n",
      "672/672 [==============================] - 1s - loss: 1.7061 - acc: 0.3973 - val_loss: 1.7308 - val_acc: 0.4133\n",
      "Epoch 9/30\n",
      "672/672 [==============================] - 1s - loss: 1.6690 - acc: 0.4033 - val_loss: 1.7186 - val_acc: 0.3867\n",
      "Epoch 10/30\n",
      "672/672 [==============================] - 1s - loss: 1.6187 - acc: 0.4107 - val_loss: 1.7567 - val_acc: 0.3600\n",
      "Epoch 11/30\n",
      "672/672 [==============================] - 1s - loss: 1.5783 - acc: 0.4524 - val_loss: 1.6682 - val_acc: 0.3733\n",
      "Epoch 12/30\n",
      "672/672 [==============================] - 1s - loss: 1.5502 - acc: 0.4583 - val_loss: 1.6659 - val_acc: 0.4133\n",
      "Epoch 13/30\n",
      "672/672 [==============================] - 1s - loss: 1.4814 - acc: 0.4926 - val_loss: 1.6412 - val_acc: 0.3733\n",
      "Epoch 14/30\n",
      "672/672 [==============================] - 1s - loss: 1.4491 - acc: 0.5030 - val_loss: 1.5659 - val_acc: 0.4133\n",
      "Epoch 15/30\n",
      "672/672 [==============================] - 1s - loss: 1.3993 - acc: 0.5119 - val_loss: 1.5915 - val_acc: 0.3867\n",
      "Epoch 16/30\n",
      "672/672 [==============================] - 1s - loss: 1.4086 - acc: 0.5238 - val_loss: 1.5305 - val_acc: 0.4133\n",
      "Epoch 17/30\n",
      "672/672 [==============================] - 1s - loss: 1.3262 - acc: 0.5461 - val_loss: 1.5864 - val_acc: 0.4267\n",
      "Epoch 18/30\n",
      "672/672 [==============================] - 1s - loss: 1.3229 - acc: 0.5238 - val_loss: 1.5688 - val_acc: 0.4400\n",
      "Epoch 19/30\n",
      "672/672 [==============================] - 1s - loss: 1.2503 - acc: 0.5699 - val_loss: 1.5363 - val_acc: 0.4533\n",
      "Epoch 20/30\n",
      "672/672 [==============================] - 1s - loss: 1.2313 - acc: 0.5804 - val_loss: 1.5694 - val_acc: 0.4000\n",
      "Epoch 21/30\n",
      "672/672 [==============================] - 1s - loss: 1.1875 - acc: 0.5818 - val_loss: 1.5305 - val_acc: 0.4400\n",
      "Epoch 22/30\n",
      "672/672 [==============================] - 1s - loss: 1.1630 - acc: 0.6146 - val_loss: 1.4571 - val_acc: 0.4533\n",
      "Epoch 23/30\n",
      "672/672 [==============================] - 1s - loss: 1.1010 - acc: 0.6190 - val_loss: 1.6260 - val_acc: 0.3467\n",
      "Epoch 24/30\n",
      "672/672 [==============================] - 1s - loss: 1.0844 - acc: 0.6086 - val_loss: 1.4558 - val_acc: 0.4400\n",
      "Epoch 25/30\n",
      "672/672 [==============================] - 1s - loss: 1.0313 - acc: 0.6622 - val_loss: 1.4921 - val_acc: 0.4267\n",
      "Epoch 26/30\n",
      "672/672 [==============================] - 1s - loss: 1.0084 - acc: 0.6562 - val_loss: 1.4503 - val_acc: 0.4533\n",
      "Epoch 27/30\n",
      "672/672 [==============================] - 1s - loss: 0.9767 - acc: 0.6637 - val_loss: 1.4560 - val_acc: 0.4400\n",
      "Epoch 28/30\n",
      "672/672 [==============================] - 1s - loss: 0.9376 - acc: 0.6920 - val_loss: 1.4751 - val_acc: 0.4800\n",
      "Epoch 29/30\n",
      "672/672 [==============================] - 1s - loss: 0.9320 - acc: 0.6935 - val_loss: 1.4658 - val_acc: 0.4267\n",
      "Epoch 30/30\n",
      "672/672 [==============================] - 1s - loss: 0.8454 - acc: 0.7292 - val_loss: 1.4997 - val_acc: 0.4667\n"
     ]
    }
   ],
   "source": [
    "# TRAINING the model - (you may repeat execution of this cell to FURTHER train the model!)\n",
    "epochs = 30\n",
    "#History = model.fit(train_set, train_classes_1hot, batch_size=32, nb_epoch=epochs)\n",
    "\n",
    "# adding a validation set:\n",
    "validation_percent = 0.1\n",
    "History = model.fit(train_set, train_classes_1hot, validation_split=validation_percent, batch_size=32, nb_epoch=epochs)\n",
    "\n",
    "# we keep the history of accuracies on training set\n",
    "# we append this to previous history in case we execute this cell multiple times\n",
    "if history is None:\n",
    "    history = History.history\n",
    "else:\n",
    "    for key in History.history.keys():\n",
    "        history[key].extend(History.history[key])"
   ]
  },
  {
   "cell_type": "code",
   "execution_count": 77,
   "metadata": {},
   "outputs": [
    {
     "data": {
      "image/png": "[encoded data removed]",
      "text/plain": [
       "<Figure size 720x432 with 1 Axes>"
      ]
     },
     "metadata": {},
     "output_type": "display_data"
    }
   ],
   "source": [
    "plot_traincurve(history)"
   ]
  },
  {
   "cell_type": "markdown",
   "metadata": {},
   "source": [
    "### Testing"
   ]
  },
  {
   "cell_type": "code",
   "execution_count": 78,
   "metadata": {
    "scrolled": true
   },
   "outputs": [
    {
     "name": "stdout",
     "output_type": "stream",
     "text": [
      "224/250 [=========================>....] - ETA: 0s"
     ]
    }
   ],
   "source": [
    "test_pred = model.predict_classes(test_set)"
   ]
  },
  {
   "cell_type": "code",
   "execution_count": 79,
   "metadata": {},
   "outputs": [
    {
     "data": {
      "text/plain": [
       "0.476"
      ]
     },
     "execution_count": 79,
     "metadata": {},
     "output_type": "execute_result"
    }
   ],
   "source": [
    "accuracy_score(test_classes, test_pred)"
   ]
  },
  {
   "cell_type": "markdown",
   "metadata": {},
   "source": [
    "## Advanced Model: Additional Parameters & Techniques\n",
    "\n",
    "Try:\n",
    "* Adding Batch normalization\n",
    "* Adding ReLU activation\n",
    "* Adding Dropout"
   ]
  },
  {
   "cell_type": "code",
   "execution_count": 80,
   "metadata": {
    "collapsed": true
   },
   "outputs": [],
   "source": [
    "# Adapt parameters here:\n",
    "\n",
    "conv_filters = 16   # number of convolution filters (= CNN depth), e.g. 16 or 32\n",
    "\n",
    "batch_norm = True  # True or False\n",
    "\n",
    "activation = 'relu' # sigmoid or relu\n",
    "\n",
    "#dropout = None # None or 0 < dropout < 1\n",
    "dropout = 0.25 # None or 0 < dropout < 1"
   ]
  },
  {
   "cell_type": "code",
   "execution_count": 81,
   "metadata": {
    "collapsed": true
   },
   "outputs": [],
   "source": [
    "model = Sequential()\n",
    "\n",
    "# Layer 1\n",
    "if batch_norm:\n",
    "    model.add(BatchNormalization(input_shape=input_shape))\n",
    "model.add(Convolution2D(conv_filters, 3, 3, border_mode='valid', input_shape=input_shape))\n",
    "#model.add(Convolution2D(conv_filters, 4, 12, border_mode='valid', input_shape=input_shape))\n",
    "model.add(Activation(activation))\n",
    "model.add(MaxPooling2D(pool_size=(2, 2))) \n",
    "#model.add(MaxPooling2D(pool_size=(1, 20))) \n",
    "if dropout:\n",
    "    model.add(Dropout(dropout))\n",
    "\n",
    "# Layer 2\n",
    "if batch_norm:\n",
    "    model.add(BatchNormalization())\n",
    "model.add(Convolution2D(conv_filters, 3, 3, border_mode='valid', input_shape=input_shape))\n",
    "model.add(Activation(activation)) \n",
    "model.add(MaxPooling2D(pool_size=(2, 2))) \n",
    "if dropout:\n",
    "    model.add(Dropout(dropout))\n",
    "\n",
    "# After Convolution, we have a 16*x*y matrix output\n",
    "# In order to feed this to a Full(Dense) layer, we need to flatten all data\n",
    "# Note: Keras does automatic shape inference, i.e. it knows how many (flat) input units the next layer will need,\n",
    "# so no parameter is needed for the Flatten() layer.\n",
    "model.add(Flatten()) \n",
    "\n",
    "# Full layer\n",
    "model.add(Dense(256))  \n",
    "model.add(Activation(activation))\n",
    "if dropout:\n",
    "    model.add(Dropout(dropout))\n",
    "\n",
    "# Output layer\n",
    "# For binary/2-class problems use ONE sigmoid unit, \n",
    "# for multi-class/multi-label problems use n output units and activation='softmax!'\n",
    "model.add(Dense(n_classes,activation='softmax'))"
   ]
  },
  {
   "cell_type": "markdown",
   "metadata": {},
   "source": [
    "### Training"
   ]
  },
  {
   "cell_type": "code",
   "execution_count": 82,
   "metadata": {
    "collapsed": true
   },
   "outputs": [],
   "source": [
    "# Compiling the model\n",
    "\n",
    "optimizer = 'sgd'\n",
    "\n",
    "#learn_rate = 0.02\n",
    "#optimizer = SGD(lr=learn_rate) #, momentum=momentum) \n",
    "\n",
    "model.compile(loss='categorical_crossentropy' , optimizer=optimizer, metrics=['accuracy'])\n",
    "\n",
    "history = None"
   ]
  },
  {
   "cell_type": "code",
   "execution_count": 83,
   "metadata": {},
   "outputs": [
    {
     "name": "stdout",
     "output_type": "stream",
     "text": [
      "Epoch 1/30\n",
      "747/747 [==============================] - 2s - loss: 2.5354 - acc: 0.1714     \n",
      "Epoch 2/30\n",
      "747/747 [==============================] - 2s - loss: 2.1651 - acc: 0.2236     \n",
      "Epoch 3/30\n",
      "747/747 [==============================] - 2s - loss: 2.0451 - acc: 0.2731     \n",
      "Epoch 4/30\n",
      "747/747 [==============================] - 2s - loss: 1.9882 - acc: 0.3066     \n",
      "Epoch 5/30\n",
      "747/747 [==============================] - 2s - loss: 1.9672 - acc: 0.3039     \n",
      "Epoch 6/30\n",
      "747/747 [==============================] - 2s - loss: 1.8823 - acc: 0.3320     \n",
      "Epoch 7/30\n",
      "747/747 [==============================] - 2s - loss: 1.8541 - acc: 0.3387     \n",
      "Epoch 8/30\n",
      "747/747 [==============================] - 2s - loss: 1.7940 - acc: 0.3762     \n",
      "Epoch 9/30\n",
      "747/747 [==============================] - 2s - loss: 1.7370 - acc: 0.3869     \n",
      "Epoch 10/30\n",
      "747/747 [==============================] - 2s - loss: 1.6890 - acc: 0.3909     \n",
      "Epoch 11/30\n",
      "747/747 [==============================] - 2s - loss: 1.6576 - acc: 0.4070     \n",
      "Epoch 12/30\n",
      "747/747 [==============================] - 2s - loss: 1.5690 - acc: 0.4485     \n",
      "Epoch 13/30\n",
      "747/747 [==============================] - 2s - loss: 1.5656 - acc: 0.4685     \n",
      "Epoch 14/30\n",
      "747/747 [==============================] - 2s - loss: 1.5271 - acc: 0.4900     \n",
      "Epoch 15/30\n",
      "747/747 [==============================] - 2s - loss: 1.4759 - acc: 0.4953     \n",
      "Epoch 16/30\n",
      "747/747 [==============================] - 2s - loss: 1.4045 - acc: 0.5207     \n",
      "Epoch 17/30\n",
      "747/747 [==============================] - 2s - loss: 1.3679 - acc: 0.5127     \n",
      "Epoch 18/30\n",
      "747/747 [==============================] - 2s - loss: 1.3450 - acc: 0.5435     \n",
      "Epoch 19/30\n",
      "747/747 [==============================] - 2s - loss: 1.3198 - acc: 0.5475     \n",
      "Epoch 20/30\n",
      "747/747 [==============================] - 2s - loss: 1.2614 - acc: 0.5743     \n",
      "Epoch 21/30\n",
      "747/747 [==============================] - 2s - loss: 1.2771 - acc: 0.5542     \n",
      "Epoch 22/30\n",
      "747/747 [==============================] - 2s - loss: 1.2057 - acc: 0.5730     \n",
      "Epoch 23/30\n",
      "747/747 [==============================] - 3s - loss: 1.1357 - acc: 0.5850     \n",
      "Epoch 24/30\n",
      "747/747 [==============================] - 3s - loss: 1.2235 - acc: 0.5582     \n",
      "Epoch 25/30\n",
      "747/747 [==============================] - 3s - loss: 1.0871 - acc: 0.6372     \n",
      "Epoch 26/30\n",
      "747/747 [==============================] - 3s - loss: 1.0762 - acc: 0.6265     \n",
      "Epoch 27/30\n",
      "747/747 [==============================] - 3s - loss: 1.0795 - acc: 0.6171     \n",
      "Epoch 28/30\n",
      "747/747 [==============================] - 2s - loss: 0.9866 - acc: 0.6680     \n",
      "Epoch 29/30\n",
      "747/747 [==============================] - 2s - loss: 0.9938 - acc: 0.6600     \n",
      "Epoch 30/30\n",
      "747/747 [==============================] - 2s - loss: 0.9620 - acc: 0.6854     \n"
     ]
    }
   ],
   "source": [
    "# TRAINING the model - (you may repeat execution of this cell to FURTHER train the model!)\n",
    "epochs = 30\n",
    "History = model.fit(train_set, train_classes_1hot, batch_size=32, nb_epoch=epochs)\n",
    "\n",
    "# we keep the history of accuracies on training set\n",
    "# we append this to previous history in case we execute this cell multiple times\n",
    "if history is None:\n",
    "    history = History.history\n",
    "else:\n",
    "    for key in History.history.keys():\n",
    "        history[key].extend(History.history[key])"
   ]
  },
  {
   "cell_type": "code",
   "execution_count": 84,
   "metadata": {
    "scrolled": true
   },
   "outputs": [
    {
     "data": {
      "image/png": "[encoded data removed]",
      "text/plain": [
       "<Figure size 720x432 with 1 Axes>"
      ]
     },
     "metadata": {},
     "output_type": "display_data"
    }
   ],
   "source": [
    "plot_traincurve(history)"
   ]
  },
  {
   "cell_type": "markdown",
   "metadata": {},
   "source": [
    "### Testing"
   ]
  },
  {
   "cell_type": "code",
   "execution_count": 85,
   "metadata": {},
   "outputs": [
    {
     "name": "stdout",
     "output_type": "stream",
     "text": [
      "250/250 [==============================] - 0s     \n"
     ]
    }
   ],
   "source": [
    "test_pred = model.predict_classes(test_set)"
   ]
  },
  {
   "cell_type": "code",
   "execution_count": 86,
   "metadata": {},
   "outputs": [
    {
     "data": {
      "text/plain": [
       "0.476"
      ]
     },
     "execution_count": 86,
     "metadata": {},
     "output_type": "execute_result"
    }
   ],
   "source": [
    "accuracy_score(test_classes, test_pred)"
   ]
  },
  {
   "cell_type": "code",
   "execution_count": 87,
   "metadata": {},
   "outputs": [
    {
     "name": "stdout",
     "output_type": "stream",
     "text": [
      "30 epochs\n"
     ]
    }
   ],
   "source": [
    "print len(history['loss']), \"epochs\""
   ]
  },
  {
   "cell_type": "markdown",
   "metadata": {
    "collapsed": true
   },
   "source": [
    "## Parallel CNNs\n",
    "\n",
    "The motivation to use parallel CNNs is to use one CNN that detects patterns in the <b>frequencies</b> and another one that captures patterns in the <b>time domain, i.e. rhythm</b> in a combined way to learn better the structures in the sound.\n",
    "\n",
    "To create parallel CNNs we need a \"graph-based\" model. In Keras 1.x this is realized via the functional API of the Model() class.\n",
    "We use it to create two CNN layers that run in parallel to each other and are merged subsequently."
   ]
  },
  {
   "cell_type": "code",
   "execution_count": 88,
   "metadata": {
    "collapsed": true
   },
   "outputs": [],
   "source": [
    "n_filters = 16  # e.g. 16 or 32 \n",
    "dropout = 0.25 # None or 0 < dropout < 1"
   ]
  },
  {
   "cell_type": "code",
   "execution_count": 89,
   "metadata": {
    "collapsed": true
   },
   "outputs": [],
   "source": [
    "# Input only specifies the input shape\n",
    "input = Input(input_shape)\n",
    "\n",
    "# CNN layers\n",
    "# specify desired number of filters\n",
    "\n",
    "# The functional API allows to specify the predecessor in (brackets) after the new Layer function call\n",
    "conv_layer1 = Convolution2D(n_filters, 10, 4, activation='relu')(input)  # a vertical filter\n",
    "conv_layer2 = Convolution2D(n_filters, 4, 10, activation='relu')(input)  # a horizontal filter\n",
    "\n",
    "# Pooling layers - equal sized\n",
    "#maxpool1 = MaxPooling2D(pool_size=(2,2))(conv_layer1)\n",
    "#maxpool2 = MaxPooling2D(pool_size=(2,2))(conv_layer2)\n",
    "\n",
    "# ALTERNATIVE: Pooling layers - complementary to vertical/horizontal filter\n",
    "#maxpool1 = MaxPooling2D(pool_size=(1,2))(conv_layer1)\n",
    "#maxpool2 = MaxPooling2D(pool_size=(2,1))(conv_layer2)\n",
    "\n",
    "# LARGER Pooling layers - complementary to vertical/horizontal filter\n",
    "maxpool1 = MaxPooling2D(pool_size=(1,5))(conv_layer1)\n",
    "maxpool2 = MaxPooling2D(pool_size=(5,1))(conv_layer2) # used 4,1 first\n",
    "\n",
    "# Dropout for both layers\n",
    "if dropout:\n",
    "    maxpool1 = Dropout(dropout)(maxpool1)\n",
    "    maxpool2 = Dropout(dropout)(maxpool2)\n",
    "\n",
    "# we have to flatten the Pooling output in order to be concatenated\n",
    "poolflat1 = Flatten()(maxpool1)\n",
    "poolflat2 = Flatten()(maxpool2)\n",
    "\n",
    "# Merge the 2 parallel pipelines\n",
    "merged = merge([poolflat1, poolflat2], mode='concat')\n",
    "\n",
    "full = Dense(256, activation='sigmoid')(merged)\n",
    "output_layer = Dense(n_classes, activation='softmax')(full)\n",
    "\n",
    "# finally create the model\n",
    "model = Model(input=input, output=output_layer)"
   ]
  },
  {
   "cell_type": "code",
   "execution_count": 90,
   "metadata": {},
   "outputs": [
    {
     "name": "stdout",
     "output_type": "stream",
     "text": [
      "____________________________________________________________________________________________________\n",
      "Layer (type)                     Output Shape          Param #     Connected to                     \n",
      "====================================================================================================\n",
      "input_1 (InputLayer)             (None, 1, 40, 80)     0                                            \n",
      "____________________________________________________________________________________________________\n",
      "convolution2d_7 (Convolution2D)  (None, 16, 31, 77)    656         input_1[0][0]                    \n",
      "____________________________________________________________________________________________________\n",
      "convolution2d_8 (Convolution2D)  (None, 16, 37, 71)    656         input_1[0][0]                    \n",
      "____________________________________________________________________________________________________\n",
      "maxpooling2d_7 (MaxPooling2D)    (None, 16, 31, 15)    0           convolution2d_7[0][0]            \n",
      "____________________________________________________________________________________________________\n",
      "maxpooling2d_8 (MaxPooling2D)    (None, 16, 7, 71)     0           convolution2d_8[0][0]            \n",
      "____________________________________________________________________________________________________\n",
      "dropout_5 (Dropout)              (None, 16, 31, 15)    0           maxpooling2d_7[0][0]             \n",
      "____________________________________________________________________________________________________\n",
      "dropout_6 (Dropout)              (None, 16, 7, 71)     0           maxpooling2d_8[0][0]             \n",
      "____________________________________________________________________________________________________\n",
      "flatten_4 (Flatten)              (None, 7440)          0           dropout_5[0][0]                  \n",
      "____________________________________________________________________________________________________\n",
      "flatten_5 (Flatten)              (None, 7952)          0           dropout_6[0][0]                  \n",
      "____________________________________________________________________________________________________\n",
      "merge_1 (Merge)                  (None, 15392)         0           flatten_4[0][0]                  \n",
      "                                                                   flatten_5[0][0]                  \n",
      "____________________________________________________________________________________________________\n",
      "dense_7 (Dense)                  (None, 256)           3940608     merge_1[0][0]                    \n",
      "____________________________________________________________________________________________________\n",
      "dense_8 (Dense)                  (None, 10)            2570        dense_7[0][0]                    \n",
      "====================================================================================================\n",
      "Total params: 3,944,490\n",
      "Trainable params: 3,944,490\n",
      "Non-trainable params: 0\n",
      "____________________________________________________________________________________________________\n"
     ]
    }
   ],
   "source": [
    "model.summary()"
   ]
  },
  {
   "cell_type": "markdown",
   "metadata": {},
   "source": [
    "### Training"
   ]
  },
  {
   "cell_type": "code",
   "execution_count": 91,
   "metadata": {
    "collapsed": true
   },
   "outputs": [],
   "source": [
    "# Compiling the model\n",
    "\n",
    "learn_rate = 0.02\n",
    "optimizer = SGD(lr=learn_rate) #, momentum=momentum) \n",
    "\n",
    "model.compile(loss='categorical_crossentropy' , optimizer=optimizer, metrics=['accuracy'])\n",
    "\n",
    "history = None"
   ]
  },
  {
   "cell_type": "code",
   "execution_count": 92,
   "metadata": {},
   "outputs": [
    {
     "name": "stdout",
     "output_type": "stream",
     "text": [
      "Epoch 1/15\n",
      "747/747 [==============================] - 5s - loss: 2.1447 - acc: 0.2075     \n",
      "Epoch 2/15\n",
      "747/747 [==============================] - 5s - loss: 1.9319 - acc: 0.3400     \n",
      "Epoch 3/15\n",
      "747/747 [==============================] - 5s - loss: 1.8067 - acc: 0.3976     \n",
      "Epoch 4/15\n",
      "747/747 [==============================] - 4s - loss: 1.7162 - acc: 0.4311     \n",
      "Epoch 5/15\n",
      "747/747 [==============================] - 4s - loss: 1.6333 - acc: 0.4418     \n",
      "Epoch 6/15\n",
      "747/747 [==============================] - 4s - loss: 1.5468 - acc: 0.4766     \n",
      "Epoch 7/15\n",
      "747/747 [==============================] - 4s - loss: 1.4696 - acc: 0.5167     \n",
      "Epoch 8/15\n",
      "747/747 [==============================] - 4s - loss: 1.4151 - acc: 0.5167     - ETA: 4s - loss:\n",
      "Epoch 9/15\n",
      "747/747 [==============================] - 4s - loss: 1.3360 - acc: 0.5649     \n",
      "Epoch 10/15\n",
      "747/747 [==============================] - 4s - loss: 1.2823 - acc: 0.5904     \n",
      "Epoch 11/15\n",
      "747/747 [==============================] - 4s - loss: 1.2371 - acc: 0.5944     \n",
      "Epoch 12/15\n",
      "747/747 [==============================] - 4s - loss: 1.1873 - acc: 0.6252     \n",
      "Epoch 13/15\n",
      "747/747 [==============================] - 4s - loss: 1.1351 - acc: 0.6519     \n",
      "Epoch 14/15\n",
      "747/747 [==============================] - 4s - loss: 1.0936 - acc: 0.6613     \n",
      "Epoch 15/15\n",
      "747/747 [==============================] - 4s - loss: 1.0438 - acc: 0.6867     \n"
     ]
    }
   ],
   "source": [
    "# TRAINING the model (45 epochs, i.e. executing this block 3 times, worked well with this model)\n",
    "\n",
    "epochs = 15\n",
    "History = model.fit(train_set, train_classes_1hot, batch_size=32, nb_epoch=epochs)\n",
    "\n",
    "# we keep the history of accuracies on training set\n",
    "if history is None:\n",
    "    history = History.history\n",
    "else:\n",
    "    for key in History.history.keys():\n",
    "        history[key].extend(History.history[key])"
   ]
  },
  {
   "cell_type": "code",
   "execution_count": 93,
   "metadata": {},
   "outputs": [
    {
     "data": {
      "image/png": "[encoded data removed]",
      "text/plain": [
       "<Figure size 720x432 with 1 Axes>"
      ]
     },
     "metadata": {},
     "output_type": "display_data"
    }
   ],
   "source": [
    "plot_traincurve(history)"
   ]
  },
  {
   "cell_type": "markdown",
   "metadata": {},
   "source": [
    "### Testing"
   ]
  },
  {
   "cell_type": "code",
   "execution_count": 94,
   "metadata": {
    "collapsed": true
   },
   "outputs": [],
   "source": [
    "# THE GRAPH MODEL DOES NOT SUPPORT .predict_classes\n",
    "# we use model.predict\n",
    "\n",
    "test_pred = model.predict(test_set)"
   ]
  },
  {
   "cell_type": "code",
   "execution_count": 95,
   "metadata": {},
   "outputs": [
    {
     "data": {
      "text/plain": [
       "array([[0.01008644, 0.48850468, 0.10271476, 0.08099674, 0.0159053 , 0.12473128, 0.00536835, 0.01528474, 0.07280622, 0.08360147],\n",
       "       [0.03821958, 0.03675446, 0.31003594, 0.14895621, 0.03247003, 0.19420542, 0.00075596, 0.03698775, 0.02693672, 0.17467795],\n",
       "       [0.02688367, 0.00587623, 0.02745439, 0.16636258, 0.04843133, 0.00496618, 0.5421363 , 0.00299422, 0.00447529, 0.17041978],\n",
       "       [0.05265158, 0.01320518, 0.20393822, 0.07977491, 0.02001624, 0.27093962, 0.0031408 , 0.06983641, 0.16961685, 0.11688021],\n",
       "       [0.00607668, 0.00313667, 0.04794782, 0.05062338, 0.21566004, 0.038432  , 0.01180089, 0.02408088, 0.50976956, 0.09247209],\n",
       "       [0.01302967, 0.00245536, 0.0433457 , 0.38080552, 0.1736416 , 0.01304936, 0.07341395, 0.19924107, 0.01729607, 0.08372167],\n",
       "       [0.01055614, 0.00047475, 0.01545255, 0.05978446, 0.75947136, 0.01990401, 0.02920137, 0.02585801, 0.04218941, 0.03710796],\n",
       "       [0.02351544, 0.00604806, 0.04158041, 0.22619498, 0.04661018, 0.00802045, 0.49578038, 0.00509223, 0.0113193 , 0.13583858],\n",
       "       [0.00475503, 0.79359305, 0.03091566, 0.00013131, 0.00004333, 0.16358992, 0.00073409, 0.00063532, 0.00033833, 0.00526397],\n",
       "       [0.04566457, 0.18432063, 0.13095164, 0.00185924, 0.00055556, 0.5933262 , 0.00153303, 0.00298398, 0.00821521, 0.0305899 ],\n",
       "       ...,\n",
       "       [0.02017152, 0.07938582, 0.5154154 , 0.01572392, 0.00756695, 0.24540943, 0.00123119, 0.03077539, 0.00670025, 0.07762018],\n",
       "       [0.09705317, 0.02582187, 0.12787852, 0.05535984, 0.03990389, 0.15665336, 0.00768976, 0.01178585, 0.40926597, 0.06858778],\n",
       "       [0.04550549, 0.00885037, 0.3244978 , 0.0189125 , 0.01921995, 0.28476804, 0.00240725, 0.02379088, 0.12575193, 0.1462958 ],\n",
       "       [0.06059565, 0.0037381 , 0.13507724, 0.22412725, 0.21765211, 0.08988741, 0.00577531, 0.03454586, 0.04415091, 0.18445015],\n",
       "       [0.04557318, 0.04190906, 0.3791724 , 0.04709994, 0.01794397, 0.23763517, 0.00108779, 0.02512863, 0.01117588, 0.19327398],\n",
       "       [0.04848849, 0.02234605, 0.05773762, 0.00429354, 0.0272685 , 0.5335143 , 0.00730772, 0.00182741, 0.00921507, 0.28800124],\n",
       "       [0.15828405, 0.00300898, 0.02875124, 0.16677786, 0.31474894, 0.08064019, 0.02094862, 0.00181538, 0.04313617, 0.18188857],\n",
       "       [0.0150302 , 0.284523  , 0.16502541, 0.00137657, 0.00023472, 0.51055324, 0.00035277, 0.00221025, 0.00155135, 0.01914246],\n",
       "       [0.09429398, 0.00784764, 0.21030955, 0.16760524, 0.17429128, 0.07496721, 0.00282678, 0.008878  , 0.01221292, 0.24676739],\n",
       "       [0.18889685, 0.05653822, 0.28294623, 0.00102715, 0.00043726, 0.40126282, 0.00205972, 0.00115365, 0.00530822, 0.06036986]], dtype=float32)"
      ]
     },
     "execution_count": 95,
     "metadata": {},
     "output_type": "execute_result"
    }
   ],
   "source": [
    "# it predicts the probabilities per class:\n",
    "test_pred"
   ]
  },
  {
   "cell_type": "code",
   "execution_count": 96,
   "metadata": {},
   "outputs": [
    {
     "data": {
      "text/plain": [
       "array([1, 2, 6, 5, 8, 3, 4, 6, 1, 5, ..., 2, 8, 2, 3, 2, 5, 4, 5, 9, 5])"
      ]
     },
     "execution_count": 96,
     "metadata": {},
     "output_type": "execute_result"
    }
   ],
   "source": [
    "# we get the predicted class from the maximum value in the probabilities, using argmax to get the class number\n",
    "test_pred = np.argmax(test_pred, axis=1)\n",
    "test_pred"
   ]
  },
  {
   "cell_type": "code",
   "execution_count": 97,
   "metadata": {},
   "outputs": [
    {
     "data": {
      "text/plain": [
       "0.52"
      ]
     },
     "execution_count": 97,
     "metadata": {},
     "output_type": "execute_result"
    }
   ],
   "source": [
    "accuracy_score(test_classes, test_pred)"
   ]
  },
  {
   "cell_type": "markdown",
   "metadata": {},
   "source": [
    "## Further Practice\n",
    "\n",
    "As a further practical learning, copy the models from above and try more adaptations:\n",
    "\n",
    "* add more layers\n",
    "* vary:\n",
    " * number of filters\n",
    " * filter sizes (shapes)\n",
    " * max pooling\n",
    " * activation functions: sigmoid, tanh, relu, prelu, elu, ...\n",
    "* try other optimizers: 'from keras.optimizers import SGD, Adagrad, Adam' (RMSprop for binary or multi-label classification)"
   ]
  },
  {
   "cell_type": "code",
   "execution_count": null,
   "metadata": {
    "collapsed": true
   },
   "outputs": [],
   "source": []
  }
 ],
 "metadata": {
  "kernelspec": {
   "display_name": "pymir",
   "language": "python",
   "name": "pymir"
  },
  "language_info": {
   "codemirror_mode": {
    "name": "ipython",
    "version": 2
   },
   "file_extension": ".py",
   "mimetype": "text/x-python",
   "name": "python",
   "nbconvert_exporter": "python",
   "pygments_lexer": "ipython2",
   "version": "2.7.12"
  }
 },
 "nbformat": 4,
 "nbformat_minor": 1
}
