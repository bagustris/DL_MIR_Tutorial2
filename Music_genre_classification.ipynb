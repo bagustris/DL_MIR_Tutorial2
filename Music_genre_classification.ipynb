{
 "cells": [
  {
   "cell_type": "markdown",
   "metadata": {},
   "source": [
    "# Music Genre Classification with Deep Learning\n",
    "\n",
    "This tutorial shows how different Convolutional Neural Network architectures are used for the taks of music genre classification.\n",
    "\n",
    "The data set used is the [GTZAN](http://marsyasweb.appspot.com/download/data_sets/) genre data set compiled by George Tzanetakis. It consists of 1000 tracks (30 second excerpts) from 10 genres, each with 100 examples.\n",
    "\n",
    "The original tracks are 22050Hz Mono 16-bit audio files in .au format.\n",
    "\n",
    "For a more compact download we provide a version in .mp3 format, also 22050 Hz.\n",
    "\n",
    "This tutorial contains:\n",
    "* Loading and preprocessing of audio files\n",
    "* Loading class files from CSV and using Label Encoder\n",
    "* using One-Hot Encoder to prepare class data for Deep Learning\n",
    "* Generating Mel spectrograms from the audio\n",
    "* Standardization of data\n",
    "* Train/Test set split\n",
    "* Stratified splits\n",
    "* Convolutional Neural Networks: single, stacked, parallel\n",
    "* ReLU Activation\n",
    "* Dropout\n",
    "* Batch Normalization\n",
    "\n",
    "(entensions for later:)\n",
    "* Majority Vote / Max Probability \n",
    "* Recurrent Neural Networks\n",
    "* Cross-validation\n",
    "\n",
    "You can execute the following code blocks by pressing SHIFT+Enter consecutively."
   ]
  },
  {
   "cell_type": "code",
   "execution_count": 1,
   "metadata": {},
   "outputs": [
    {
     "name": "stderr",
     "output_type": "stream",
     "text": [
      "Using Theano backend.\n"
     ]
    }
   ],
   "source": [
    "# General Imports\n",
    "\n",
    "import os\n",
    "\n",
    "# choosing between CPU and GPU\n",
    "#device = 'cpu' # 'cpu' or 'gpu'\n",
    "#os.environ['THEANO_FLAGS']='mode=FAST_RUN,device=' + device + ',floatX=float32'\n",
    "\n",
    "import argparse\n",
    "import csv\n",
    "import datetime\n",
    "import glob\n",
    "import math\n",
    "import sys\n",
    "import time\n",
    "import numpy as np\n",
    "import pandas as pd # Pandas for reading CSV files and easier Data handling in preparation\n",
    "from os.path import join\n",
    "\n",
    "# Machine Learning Preprocessing and Evaluation\n",
    "\n",
    "from sklearn import preprocessing\n",
    "from sklearn.metrics import accuracy_score\n",
    "from sklearn import __version__ as sklearn_version\n",
    "\n",
    "if sklearn_version.startswith('0.17'):\n",
    "    from sklearn.cross_validation import train_test_split\n",
    "    from sklearn.cross_validation import StratifiedShuffleSplit\n",
    "else: # >= 0.18\n",
    "    from sklearn.model_selection import train_test_split\n",
    "    from sklearn.model_selection import StratifiedShuffleSplit\n",
    "\n",
    "# Deep Learning\n",
    "\n",
    "from theano import config\n",
    "\n",
    "import keras\n",
    "from keras.models import Sequential, Model\n",
    "from keras.layers import Input, Convolution2D, MaxPooling2D, Dense, Dropout, Activation, Flatten, merge\n",
    "from keras.layers.normalization import BatchNormalization\n",
    "from keras.optimizers import SGD\n",
    "\n",
    "# Plotting\n",
    "\n",
    "import matplotlib.pyplot as plt\n",
    "%matplotlib inline \n",
    "\n",
    "# Local imports\n",
    "import rp_extract as rp\n",
    "from audiofile_read import audiofile_read\n"
   ]
  },
  {
   "cell_type": "markdown",
   "metadata": {},
   "source": [
    "## Set the Path to the Dataset\n",
    "\n",
    "adjust this path to where the data set is stored on your computer:\n"
   ]
  },
  {
   "cell_type": "code",
   "execution_count": 2,
   "metadata": {
    "collapsed": true
   },
   "outputs": [],
   "source": [
    "# SET YOUR OWN PATH HERE\n",
    "AUDIO_PATH = '../data/GTZAN_mp3'"
   ]
  },
  {
   "cell_type": "markdown",
   "metadata": {},
   "source": [
    "## Load the Metadata\n",
    "\n",
    "The tab-separated file contains pairs of filename TAB class category (i.e. genre)."
   ]
  },
  {
   "cell_type": "code",
   "execution_count": 3,
   "metadata": {},
   "outputs": [
    {
     "data": {
      "text/html": [
       "<div>\n",
       "<style scoped>\n",
       "    .dataframe tbody tr th:only-of-type {\n",
       "        vertical-align: middle;\n",
       "    }\n",
       "\n",
       "    .dataframe tbody tr th {\n",
       "        vertical-align: top;\n",
       "    }\n",
       "\n",
       "    .dataframe thead th {\n",
       "        text-align: right;\n",
       "    }\n",
       "</style>\n",
       "<table border=\"1\" class=\"dataframe\">\n",
       "  <thead>\n",
       "    <tr style=\"text-align: right;\">\n",
       "      <th></th>\n",
       "      <th>1</th>\n",
       "    </tr>\n",
       "    <tr>\n",
       "      <th>0</th>\n",
       "      <th></th>\n",
       "    </tr>\n",
       "  </thead>\n",
       "  <tbody>\n",
       "    <tr>\n",
       "      <th>./rock/rock.00053.mp3</th>\n",
       "      <td>rock</td>\n",
       "    </tr>\n",
       "    <tr>\n",
       "      <th>./rock/rock.00051.mp3</th>\n",
       "      <td>rock</td>\n",
       "    </tr>\n",
       "    <tr>\n",
       "      <th>./rock/rock.00076.mp3</th>\n",
       "      <td>rock</td>\n",
       "    </tr>\n",
       "    <tr>\n",
       "      <th>./rock/rock.00084.mp3</th>\n",
       "      <td>rock</td>\n",
       "    </tr>\n",
       "    <tr>\n",
       "      <th>./rock/rock.00052.mp3</th>\n",
       "      <td>rock</td>\n",
       "    </tr>\n",
       "    <tr>\n",
       "      <th>./rock/rock.00057.mp3</th>\n",
       "      <td>rock</td>\n",
       "    </tr>\n",
       "    <tr>\n",
       "      <th>./rock/rock.00028.mp3</th>\n",
       "      <td>rock</td>\n",
       "    </tr>\n",
       "    <tr>\n",
       "      <th>./rock/rock.00035.mp3</th>\n",
       "      <td>rock</td>\n",
       "    </tr>\n",
       "    <tr>\n",
       "      <th>./rock/rock.00095.mp3</th>\n",
       "      <td>rock</td>\n",
       "    </tr>\n",
       "    <tr>\n",
       "      <th>./rock/rock.00088.mp3</th>\n",
       "      <td>rock</td>\n",
       "    </tr>\n",
       "  </tbody>\n",
       "</table>\n",
       "</div>"
      ],
      "text/plain": [
       "                          1\n",
       "0                          \n",
       "./rock/rock.00053.mp3  rock\n",
       "./rock/rock.00051.mp3  rock\n",
       "./rock/rock.00076.mp3  rock\n",
       "./rock/rock.00084.mp3  rock\n",
       "./rock/rock.00052.mp3  rock\n",
       "./rock/rock.00057.mp3  rock\n",
       "./rock/rock.00028.mp3  rock\n",
       "./rock/rock.00035.mp3  rock\n",
       "./rock/rock.00095.mp3  rock\n",
       "./rock/rock.00088.mp3  rock"
      ]
     },
     "execution_count": 3,
     "metadata": {},
     "output_type": "execute_result"
    }
   ],
   "source": [
    "csv_file = join(AUDIO_PATH,'filelist_GTZAN_mp3_wclasses.txt')\n",
    "metadata = pd.read_csv(csv_file, index_col=0, header=None)\n",
    "metadata.head(10)"
   ]
  },
  {
   "cell_type": "code",
   "execution_count": 4,
   "metadata": {
    "collapsed": true
   },
   "outputs": [],
   "source": [
    "# create list of filenames with associated classes\n",
    "filelist = metadata.index.tolist()\n",
    "classes = metadata[1].values.tolist()"
   ]
  },
  {
   "cell_type": "markdown",
   "metadata": {},
   "source": [
    "## Encode Labels to Numbers\n",
    "\n",
    "String labels need to be encoded as numbers. We use the LabelEncoder from the scikit-learn package."
   ]
  },
  {
   "cell_type": "code",
   "execution_count": 5,
   "metadata": {
    "scrolled": true
   },
   "outputs": [
    {
     "data": {
      "text/plain": [
       "['rock', 'rock', 'rock', 'rock', 'rock']"
      ]
     },
     "execution_count": 5,
     "metadata": {},
     "output_type": "execute_result"
    }
   ],
   "source": [
    "classes[0:5]"
   ]
  },
  {
   "cell_type": "code",
   "execution_count": 6,
   "metadata": {},
   "outputs": [
    {
     "data": {
      "text/plain": [
       "['rock', 'hiphop', 'hiphop', 'hiphop', 'hiphop', 'hiphop']"
      ]
     },
     "execution_count": 6,
     "metadata": {},
     "output_type": "execute_result"
    }
   ],
   "source": [
    "classes[99:105]"
   ]
  },
  {
   "cell_type": "code",
   "execution_count": 7,
   "metadata": {
    "scrolled": true
   },
   "outputs": [
    {
     "name": "stdout",
     "output_type": "stream",
     "text": [
      "10 classes: blues, classical, country, disco, hiphop, jazz, metal, pop, reggae, rock\n"
     ]
    }
   ],
   "source": [
    "from sklearn.preprocessing import LabelEncoder\n",
    "\n",
    "labelencoder = LabelEncoder()\n",
    "labelencoder.fit(classes)\n",
    "\n",
    "# we keep (and print) the number of classis\n",
    "n_classes = len(labelencoder.classes_)\n",
    "print n_classes, \"classes:\", \", \".join(list(labelencoder.classes_))\n",
    "\n",
    "classes_num = labelencoder.transform(classes)"
   ]
  },
  {
   "cell_type": "markdown",
   "metadata": {},
   "source": [
    "We check how the classes look like now numerically:"
   ]
  },
  {
   "cell_type": "code",
   "execution_count": 8,
   "metadata": {},
   "outputs": [
    {
     "data": {
      "text/plain": [
       "array([9, 9, 9, 9, 9])"
      ]
     },
     "execution_count": 8,
     "metadata": {},
     "output_type": "execute_result"
    }
   ],
   "source": [
    "classes_num[0:5]"
   ]
  },
  {
   "cell_type": "code",
   "execution_count": 9,
   "metadata": {},
   "outputs": [
    {
     "data": {
      "text/plain": [
       "array([9, 4, 4, 4, 4, 4])"
      ]
     },
     "execution_count": 9,
     "metadata": {},
     "output_type": "execute_result"
    }
   ],
   "source": [
    "classes_num[99:105]"
   ]
  },
  {
   "cell_type": "markdown",
   "metadata": {},
   "source": [
    "Note: In order to correctly re-transform any predicted numbers into strings, we keep the labelencoder for later."
   ]
  },
  {
   "cell_type": "code",
   "execution_count": 10,
   "metadata": {},
   "outputs": [
    {
     "data": {
      "text/plain": [
       "array([[0., 0., 0., 0., 0., 0., 0., 0., 0., 1.],\n",
       "       [0., 0., 0., 0., 0., 0., 0., 0., 0., 1.],\n",
       "       [0., 0., 0., 0., 0., 0., 0., 0., 0., 1.],\n",
       "       [0., 0., 0., 0., 0., 0., 0., 0., 0., 1.],\n",
       "       [0., 0., 0., 0., 0., 0., 0., 0., 0., 1.],\n",
       "       [0., 0., 0., 0., 0., 0., 0., 0., 0., 1.],\n",
       "       [0., 0., 0., 0., 0., 0., 0., 0., 0., 1.],\n",
       "       [0., 0., 0., 0., 0., 0., 0., 0., 0., 1.],\n",
       "       [0., 0., 0., 0., 0., 0., 0., 0., 0., 1.],\n",
       "       [0., 0., 0., 0., 0., 0., 0., 0., 0., 1.],\n",
       "       ...,\n",
       "       [0., 0., 1., 0., 0., 0., 0., 0., 0., 0.],\n",
       "       [0., 0., 1., 0., 0., 0., 0., 0., 0., 0.],\n",
       "       [0., 0., 1., 0., 0., 0., 0., 0., 0., 0.],\n",
       "       [0., 0., 1., 0., 0., 0., 0., 0., 0., 0.],\n",
       "       [0., 0., 1., 0., 0., 0., 0., 0., 0., 0.],\n",
       "       [0., 0., 1., 0., 0., 0., 0., 0., 0., 0.],\n",
       "       [0., 0., 1., 0., 0., 0., 0., 0., 0., 0.],\n",
       "       [0., 0., 1., 0., 0., 0., 0., 0., 0., 0.],\n",
       "       [0., 0., 1., 0., 0., 0., 0., 0., 0., 0.],\n",
       "       [0., 0., 1., 0., 0., 0., 0., 0., 0., 0.]])"
      ]
     },
     "execution_count": 10,
     "metadata": {},
     "output_type": "execute_result"
    }
   ],
   "source": [
    "from sklearn.preprocessing import OneHotEncoder\n",
    "\n",
    "# make a row vector a column vector, as needed by OneHotEncoder, using reshape(-1,1) \n",
    "classes_num_col = classes_num.reshape(-1, 1)\n",
    "\n",
    "encoder = OneHotEncoder(sparse=False)\n",
    "classes_num_1hot = encoder.fit_transform(classes_num_col)\n",
    "classes_num_1hot"
   ]
  },
  {
   "cell_type": "code",
   "execution_count": 11,
   "metadata": {},
   "outputs": [
    {
     "data": {
      "text/plain": [
       "(1000, 10)"
      ]
     },
     "execution_count": 11,
     "metadata": {},
     "output_type": "execute_result"
    }
   ],
   "source": [
    "classes_num_1hot.shape"
   ]
  },
  {
   "cell_type": "markdown",
   "metadata": {},
   "source": [
    "## Load the Audio Files"
   ]
  },
  {
   "cell_type": "code",
   "execution_count": 12,
   "metadata": {},
   "outputs": [
    {
     "name": "stdout",
     "output_type": "stream",
     "text": [
      ". . . . . . . . . . . . . . . . . . . . . . . . . . . . . . . . . . . . . . . . . . . . . . . . . . . . . . . . . . . . . . . . . . . . . . . . . . . . . . . . . . . . . . . . . . . . . . . . . . . . . . . . . . . . . . . . . . . . . . . . . . . . . . . . . . . . . . . . . . . . . . . . . . . . . . . . . . . . . . . . . . . . . . . . . . . . . . . . . . . . . . . . . . . . . . . . . . . . . . . . . . . . . . . . . . . . . . . . . . . . . . . . . . . . . . . . . . . . . . . . . . . . . . . . . . . . . . . . . . . . . . . . . . . . . . . . . . . . . . . . . . . . . . . . . . . . . . . . . . . . . . . . . . . . . . . . . . . . . . . . . . . . . . . . . . . . . . . . . . . . . . . . . . . . . . . . . . . . . . . . . . . . . . . . . . . . . . . . . . . . . . . . . . . . . . . . . . . . . . . . . . . . . . . . . . . . . . . . . . . . . . . . . . . . . . . . . . . . . . . . . . . . . . . . . . . . . . . . . . . . . . . . . . . . . . . . . . . . . . . . . . . . . . . . . . . . . . . . . . . . . . . . . . . . . . . . . . . . . . . . . . . . . . . . . . . . . . . . . . . . . . . . . . . . . . . . . . . . . . . . . . . . . . . . . . . . . . . . . . . . . . . . . . . . . . . . . . . . . . . . . . . . . . . . . . . . . . . . . . . . . . . . . . . . . . . . . . . . . . . . . . . . . . . . . . . . . . . . . . . . . . . . . . . . . . . . . . . . . . . . . . . . . . . . . . . . . . . . . . . . . . . . . . . . . . . . . . . . . . . . . . . . . . . . . . . . . . . . . . . . . . . . . . . . . . . . . . . . . . . . . . . . . . . . . . . . . . . . . . . . . . . . . . . . . . . . . . . . . . . . . . . . . . . . . . . . . . . . . . . . . . . . . . . . . . . . . . . . . . . . . . . . . . . . . . . . . . . . . . . . . . . . . . . . . . . . . . . . . . . . . . . . . . . . . . . . . . . . . . . . . . . . . . . . . . . . . . . . . . . . . . . . . . . . . . . . . . . . . . . . . . . . . . . . . . . . . . . . . . . . . . . . . . . . . . . . . . . . . . . . . . . . . . . . . . . . . . . . . . . . \n",
      "Read 1000 audio files\n"
     ]
    }
   ],
   "source": [
    "\n",
    "list_spectrograms = [] # spectrograms are put into a list first\n",
    "\n",
    "# desired output parameters\n",
    "n_mel_bands = 40   # y axis\n",
    "frames = 80        # x axis\n",
    "\n",
    "# some FFT parameters\n",
    "fft_window_size=1024 #512\n",
    "fft_overlap = 0.5\n",
    "hop_size = int(fft_window_size*(1-fft_overlap))\n",
    "segment_size = fft_window_size + (frames-1) * hop_size # segment size for desired # frames\n",
    "\n",
    "for filename in filelist:\n",
    "    print \".\", \n",
    "    filepath = os.path.join(AUDIO_PATH, filename)\n",
    "    samplerate, samplewidth, wavedata = audiofile_read(filepath,verbose=False)\n",
    "    sample_length = wavedata.shape[0]\n",
    "\n",
    "    # make Mono (in case of multiple channels / stereo)\n",
    "    if wavedata.ndim > 1:\n",
    "        wavedata = np.mean(wavedata, 1)\n",
    "      \n",
    "    # GET AUDIO SEGMENT (BLOCK)\n",
    "    # take only 1 audio segment (80 frames)\n",
    "    # a) from beginning of file\n",
    "    #pos = 0\n",
    "    # b) from middle of file\n",
    "    pos = int(sample_length / 2 - segment_size / 2)\n",
    "    wav_segment = wavedata[pos:pos+segment_size]\n",
    "    \n",
    "    # AUDIO PRE-PROCESSING\n",
    "\n",
    "    # 1) FFT spectrogram \n",
    "    spectrogram = rp.calc_spectrogram(wav_segment,fft_window_size,fft_overlap)\n",
    "\n",
    "    # 2) Transform to perceptual Mel scale (uses librosa.filters.mel)\n",
    "    spectrogram = rp.transform2mel(spectrogram,samplerate,fft_window_size,n_mel_bands)\n",
    "        \n",
    "    # 3) Log 10 transform\n",
    "    spectrogram = np.log10(spectrogram)\n",
    "    \n",
    "    list_spectrograms.append(spectrogram)\n",
    "        \n",
    "print \"\\nRead\", len(filelist), \"audio files\""
   ]
  },
  {
   "cell_type": "code",
   "execution_count": 13,
   "metadata": {},
   "outputs": [
    {
     "name": "stdout",
     "output_type": "stream",
     "text": [
      "Duration of input audio file:\n",
      "30 seconds\n"
     ]
    }
   ],
   "source": [
    "print \"Duration of input audio file:\"\n",
    "print sample_length / samplerate, \"seconds\""
   ]
  },
  {
   "cell_type": "code",
   "execution_count": 14,
   "metadata": {},
   "outputs": [
    {
     "name": "stdout",
     "output_type": "stream",
     "text": [
      "An audio segment is 1.88 seconds long\n"
     ]
    }
   ],
   "source": [
    "print \"An audio segment is\", round(float(segment_size) / samplerate, 2), \"seconds long\""
   ]
  },
  {
   "cell_type": "code",
   "execution_count": 15,
   "metadata": {},
   "outputs": [
    {
     "data": {
      "text/plain": [
       "1000"
      ]
     },
     "execution_count": 15,
     "metadata": {},
     "output_type": "execute_result"
    }
   ],
   "source": [
    "# how many spectrograms did we get\n",
    "len(list_spectrograms)"
   ]
  },
  {
   "cell_type": "code",
   "execution_count": 16,
   "metadata": {},
   "outputs": [
    {
     "data": {
      "text/plain": [
       "(40, 80)"
      ]
     },
     "execution_count": 16,
     "metadata": {},
     "output_type": "execute_result"
    }
   ],
   "source": [
    "# whats the shape of 1 spectrogram: 40 Mel bands by 80 frames\n",
    "spectrogram.shape"
   ]
  },
  {
   "cell_type": "markdown",
   "metadata": {},
   "source": [
    "Note: For simplicity of this tutorial, here we load only 1 single segment of ~ 1 second length from each audio file.\n",
    "In a real setting, one would create training instances of as many audio segments as possible to be fed to a Neural Network."
   ]
  },
  {
   "cell_type": "code",
   "execution_count": 17,
   "metadata": {},
   "outputs": [
    {
     "data": {
      "text/plain": [
       "array([[-2.22468213, -2.16998997, -1.99815287, -2.15930204, -2.09368433],\n",
       "       [-1.8034697 , -1.92510318, -1.78896157, -1.84884177, -1.75989478],\n",
       "       [-2.04151898, -2.02549384, -2.07876139, -2.28285471, -2.21626449],\n",
       "       [-2.24475796, -2.0991296 , -2.21757485, -2.15755237, -2.18409557],\n",
       "       [-2.18591406, -2.664581  , -2.39105314, -2.4990512 , -3.22714398]])"
      ]
     },
     "execution_count": 17,
     "metadata": {},
     "output_type": "execute_result"
    }
   ],
   "source": [
    "spectrogram[0:5,0:5]"
   ]
  },
  {
   "cell_type": "code",
   "execution_count": 18,
   "metadata": {
    "collapsed": true
   },
   "outputs": [],
   "source": [
    "# TODO plot spectrogram"
   ]
  },
  {
   "cell_type": "markdown",
   "metadata": {},
   "source": [
    "## Make 1 big array of list of spectrograms"
   ]
  },
  {
   "cell_type": "code",
   "execution_count": 19,
   "metadata": {},
   "outputs": [
    {
     "data": {
      "text/plain": [
       "(1000, 40, 80)"
      ]
     },
     "execution_count": 19,
     "metadata": {},
     "output_type": "execute_result"
    }
   ],
   "source": [
    "# a list of many 40x80 spectrograms is made into 1 big array\n",
    "# config.floatX is from Theano configration to enforce float32 precision (needed for GPU computation)\n",
    "data = np.array(list_spectrograms, dtype=config.floatX)\n",
    "data.shape"
   ]
  },
  {
   "cell_type": "code",
   "execution_count": 20,
   "metadata": {
    "collapsed": true
   },
   "outputs": [],
   "source": [
    "# check for Inf values\n",
    "\n",
    "# np.log10(spectrogram) will produce -inf if a spectrogram value is 0. we replace -inf by 0 here\n",
    "\n",
    "if np.any(np.isinf(data)):\n",
    "    print \"Warning: Data contains inf values. Replacying by 0.\"\n",
    "    data[np.isinf(data)] = 0"
   ]
  },
  {
   "cell_type": "markdown",
   "metadata": {},
   "source": [
    "## Standardization\n",
    "\n",
    "<b>Always normalize / standardize</b> the data before feeding it into the Neural Network!\n",
    "\n",
    "We use <b>attribute-wise standardization</b>, i.e. each feature (i.e. 'pixel' in the spectrogram) is standardized individually, as opposed to computing a single mean and single standard deviation of all values.\n",
    "\n",
    "(Instead of 'attribute-wise, also 'flat' standardization would also be possible,computing the mean and standard deviation across all pixels).\n",
    "\n",
    "One possibility is 'Min-Max normalization', i.e. scaling the values between 0 and 1.\n",
    "\n",
    "Here we use <b>Zero-mean Unit-variance standardization</b> (also known as Z-score normalization).\n",
    "\n",
    "We use the StandardScaler from the scikit-learn package for our purpose, which performs a Zero-mean Unit-variance standardization."
   ]
  },
  {
   "cell_type": "code",
   "execution_count": 21,
   "metadata": {},
   "outputs": [
    {
     "data": {
      "text/plain": [
       "(1000, 3200)"
      ]
     },
     "execution_count": 21,
     "metadata": {},
     "output_type": "execute_result"
    }
   ],
   "source": [
    "# Scalers and normalizers work on vectors. So we have to transfor the matrix of our spectrograms into vector data\n",
    "# ('vectorize' or 'reshape' them).\n",
    "\n",
    "# vectorize\n",
    "N, ydim, xdim = data.shape\n",
    "data = data.reshape(N, xdim*ydim)\n",
    "data.shape"
   ]
  },
  {
   "cell_type": "code",
   "execution_count": 22,
   "metadata": {},
   "outputs": [
    {
     "data": {
      "text/plain": [
       "(1, 3200)"
      ]
     },
     "execution_count": 22,
     "metadata": {},
     "output_type": "execute_result"
    }
   ],
   "source": [
    "data[0:1].shape"
   ]
  },
  {
   "cell_type": "code",
   "execution_count": 23,
   "metadata": {
    "collapsed": true
   },
   "outputs": [],
   "source": [
    "# standardize\n",
    "scaler = preprocessing.StandardScaler()\n",
    "data = scaler.fit_transform(data)"
   ]
  },
  {
   "cell_type": "markdown",
   "metadata": {},
   "source": [
    "Now all the values are transformed into the 0-mean 1-variance space."
   ]
  },
  {
   "cell_type": "code",
   "execution_count": 24,
   "metadata": {},
   "outputs": [
    {
     "data": {
      "text/plain": [
       "array([-0.00000016,  0.00000198, -0.00000071,  0.00000026,  0.00000031,  0.00000028, -0.00000196,  0.00000028, -0.00000096,  0.00000035, ..., -0.00000306,  0.00000075, -0.00000212,  0.00000144,\n",
       "        0.00000044,  0.00000232, -0.00000006,  0.00000235,  0.0000038 , -0.00000178], dtype=float32)"
      ]
     },
     "execution_count": 24,
     "metadata": {},
     "output_type": "execute_result"
    }
   ],
   "source": [
    "np.mean(data, axis=0)"
   ]
  },
  {
   "cell_type": "code",
   "execution_count": 25,
   "metadata": {},
   "outputs": [
    {
     "data": {
      "text/plain": [
       "array([1.0000002 , 1.0000001 , 0.9999995 , 0.9999998 , 0.9999998 , 0.9999996 , 1.0000001 , 0.9999994 , 1.0000006 , 1.        , ..., 0.9999999 , 1.        , 1.0000001 , 0.9999997 , 0.9999996 ,\n",
       "       1.0000002 , 1.0000001 , 0.9999998 , 1.0000006 , 0.99999917], dtype=float32)"
      ]
     },
     "execution_count": 25,
     "metadata": {},
     "output_type": "execute_result"
    }
   ],
   "source": [
    "np.std(data, axis=0)"
   ]
  },
  {
   "cell_type": "code",
   "execution_count": 26,
   "metadata": {},
   "outputs": [
    {
     "data": {
      "text/plain": [
       "(array([-2.7922487, -2.7972338, -2.8139663, -2.8257937, -2.82365  , -2.813596 , -2.8148146, -2.7987456, -2.788141 , -2.8013287, ..., -7.885947 , -7.890145 , -7.8984437, -7.9158945, -7.89929  ,\n",
       "        -7.8827167, -7.8949404, -7.902914 , -7.9160657, -7.9111657], dtype=float32),\n",
       " array([1.2103081, 1.2076975, 1.2142786, 1.219454 , 1.2187734, 1.2100364, 1.2215177, 1.2336966, 1.2032224, 1.1890508, ..., 2.0901494, 2.0953228, 2.0720236, 2.041632 , 2.052476 , 2.111386 , 2.1099262,\n",
       "        2.1075273, 2.0892918, 2.0912967], dtype=float32))"
      ]
     },
     "execution_count": 26,
     "metadata": {},
     "output_type": "execute_result"
    }
   ],
   "source": [
    "# scaler stores the original values to be able to transform later again\n",
    "# show mean and standard deviation: two vectors with same length as data.shape[1]\n",
    "scaler.mean_, scaler.scale_"
   ]
  },
  {
   "cell_type": "markdown",
   "metadata": {},
   "source": [
    "# Creating Train & Test Set \n",
    "\n",
    "We split the original full data set into two parts: Train Set (75%) and Test Set (25%).\n",
    "\n",
    "Here we compare Random Split vs. Stratified Split:"
   ]
  },
  {
   "cell_type": "code",
   "execution_count": 27,
   "metadata": {
    "collapsed": true
   },
   "outputs": [],
   "source": [
    "testset_size = 0.25 # % portion of whole data set to keep for testing, i.e. 75% is used for training\n",
    "\n",
    "# RANDOM split of data set into 2 parts\n",
    "# from sklearn.model_selection import train_test_split\n",
    "\n",
    "train_set, test_set, train_classes, test_classes = train_test_split(data, classes_num, test_size=testset_size, random_state=0)"
   ]
  },
  {
   "cell_type": "code",
   "execution_count": 28,
   "metadata": {},
   "outputs": [
    {
     "data": {
      "text/plain": [
       "array([3, 8, 9, 2, 9, 7, 8, 5, 2, 9, ..., 7, 9, 6, 7, 7, 0, 4, 8, 1, 8])"
      ]
     },
     "execution_count": 28,
     "metadata": {},
     "output_type": "execute_result"
    }
   ],
   "source": [
    "train_classes"
   ]
  },
  {
   "cell_type": "code",
   "execution_count": 29,
   "metadata": {},
   "outputs": [
    {
     "data": {
      "text/plain": [
       "array([2, 0, 3, 1, 8, 2, 9, 3, 6, 7, ..., 1, 5, 3, 6, 2, 5, 6, 9, 5, 8])"
      ]
     },
     "execution_count": 29,
     "metadata": {},
     "output_type": "execute_result"
    }
   ],
   "source": [
    "test_classes"
   ]
  },
  {
   "cell_type": "code",
   "execution_count": 30,
   "metadata": {},
   "outputs": [
    {
     "name": "stdout",
     "output_type": "stream",
     "text": [
      "Number of files in each category in TRAIN set:\n",
      "0 : 80\n",
      "1 : 74\n",
      "2 : 70\n",
      "3 : 70\n",
      "4 : 84\n",
      "5 : 72\n",
      "6 : 74\n",
      "7 : 74\n",
      "8 : 73\n",
      "9 : 79\n"
     ]
    }
   ],
   "source": [
    "from collections import Counter\n",
    "cnt = Counter(train_classes)\n",
    "\n",
    "print \"Number of files in each category in TRAIN set:\"\n",
    "for k in sorted(cnt.keys()):\n",
    "    print k, \":\", cnt[k]"
   ]
  },
  {
   "cell_type": "markdown",
   "metadata": {},
   "source": [
    "In a Random Split, the number of files per class may be uneven or unbalanced.\n",
    "\n",
    "The better way to do it is to use a <b>Stratified Split</b>:"
   ]
  },
  {
   "cell_type": "code",
   "execution_count": 31,
   "metadata": {},
   "outputs": [
    {
     "name": "stdout",
     "output_type": "stream",
     "text": [
      "TRAIN INDEX: [349 816 960 261 665 517 653 438 170 472 ... 336 602 117  93 322 434 624  83 118  97]\n",
      "TEST INDEX: [510 781 478 246 888 793 772 445 199 534 ... 967 490 486 683 984 390 858 372 982 499]\n",
      "(750, 3200)\n",
      "(250, 3200)\n"
     ]
    }
   ],
   "source": [
    "# better: Stratified Split retains the class balance in both sets\n",
    "# from sklearn.model_selection import StratifiedShuffleSplit\n",
    "\n",
    "if sklearn_version.startswith('0.17'):\n",
    "    splits = StratifiedShuffleSplit(classes_num, n_iter=1, test_size=testset_size, random_state=0)\n",
    "else: # >= 0.18:\n",
    "    splitter = StratifiedShuffleSplit(n_splits=1, test_size=testset_size, random_state=0)\n",
    "    splits = splitter.split(data, classes_num)\n",
    "\n",
    "for train_index, test_index in splits:\n",
    "    print \"TRAIN INDEX:\", train_index\n",
    "    print \"TEST INDEX:\", test_index\n",
    "    \n",
    "    # split the data\n",
    "    train_set = data[train_index]\n",
    "    test_set = data[test_index]\n",
    "    \n",
    "    # and the numeric classes (groundtruth)\n",
    "    train_classes = classes_num[train_index]\n",
    "    train_classes_1hot = classes_num_1hot[train_index]  # 1 hot we need for traning\n",
    "    test_classes = classes_num[test_index]\n",
    "# Note: this for loop is only executed once, if n_splits==1\n",
    "\n",
    "print train_set.shape\n",
    "print test_set.shape\n",
    "# Note: we will reshape the data later back to matrix form "
   ]
  },
  {
   "cell_type": "code",
   "execution_count": 32,
   "metadata": {},
   "outputs": [
    {
     "name": "stdout",
     "output_type": "stream",
     "text": [
      "Number of files in each category in TRAIN set:\n",
      "0 : 75\n",
      "1 : 75\n",
      "2 : 75\n",
      "3 : 75\n",
      "4 : 75\n",
      "5 : 75\n",
      "6 : 75\n",
      "7 : 75\n",
      "8 : 75\n",
      "9 : 75\n"
     ]
    }
   ],
   "source": [
    "cnt = Counter(train_classes)\n",
    "print \"Number of files in each category in TRAIN set:\"\n",
    "for k in sorted(cnt.keys()):\n",
    "    print k, \":\", cnt[k]"
   ]
  },
  {
   "cell_type": "markdown",
   "metadata": {},
   "source": [
    "Now the number of files in each category in the training set is equal.\n",
    "\n",
    "(It is equal because our full set had 100 files in each category; a Stratified Split preserves the relative distribution of instances per category, also if the dataset is unbalanced between the classess.)"
   ]
  },
  {
   "cell_type": "markdown",
   "metadata": {},
   "source": [
    "# Convolutional Neural Networks\n",
    "\n",
    "A Convolutional Neural Network (ConvNet or CNN) is a type of (deep) Neural Network that is well-suited for 2D axes data, such as images or spectrograms, as it is optimized for learning from spatial proximity. Its core elements are 2D filter kernels which essentially learn the weights of the Neural Network, and downscaling functions such as Max Pooling.\n",
    "\n",
    "A CNN can have one or more Convolution layers, each of them having an arbitrary number of N filters (which define the depth of the CNN layer), following typically by a pooling step, which aggregates neighboring pixels together and thus reduces the image resolution by retaining only the maximum values of neighboring pixels."
   ]
  },
  {
   "cell_type": "markdown",
   "metadata": {},
   "source": [
    "## Preparing the Data\n",
    "\n",
    "### Adding the channel\n",
    "\n",
    "As CNNs were invented for image data (often having 3 color channels), we need to add a dimension for the color channel to the data. \n",
    "\n",
    "<b>Spectrograms, are considered like greyscale images, which only have 1 color channel. Still we add the extra dimension, defining just 1 channel.</b>\n",
    "\n",
    "#### Theano vs. Tensorflow\n",
    "\n",
    "In Theano, traditionally the color channel is the <b>first</b> dimension in the image shape. \n",
    "In Tensorflow, the color channel is the <b>last</b> dimension in the image shape. \n",
    "\n",
    "This can be configured now in ~/.keras/keras.json: \"image_dim_ordering\": \"th\" or \"tf\" with \"tf\" (Tensorflow) being the default image ordering even though you use Theano. Depending on this, use one of the code lines below.\n",
    "\n",
    "We created an 'if' statement here to check which dimension ordering to use:"
   ]
  },
  {
   "cell_type": "code",
   "execution_count": 33,
   "metadata": {
    "collapsed": true
   },
   "outputs": [],
   "source": [
    "n_channels = 1 # 1 for grey-scale, 3 for RGB (in this case usually already present in the data)\n",
    "\n",
    "if keras.backend.image_dim_ordering() == 'th':\n",
    "    # Theano ordering (~/.keras/keras.json: \"image_dim_ordering\": \"th\")\n",
    "    train_set = train_set.reshape(train_set.shape[0], n_channels, ydim, xdim)\n",
    "    test_set = test_set.reshape(test_set.shape[0], n_channels, ydim, xdim)\n",
    "else:\n",
    "    # Tensorflow ordering (~/.keras/keras.json: \"image_dim_ordering\": \"tf\")\n",
    "    train_set = train_set.reshape(train_set.shape[0], ydim, xdim, n_channels)\n",
    "    test_set = test_set.reshape(test_set.shape[0], ydim, xdim, n_channels)"
   ]
  },
  {
   "cell_type": "code",
   "execution_count": 34,
   "metadata": {},
   "outputs": [
    {
     "data": {
      "text/plain": [
       "'th'"
      ]
     },
     "execution_count": 34,
     "metadata": {},
     "output_type": "execute_result"
    }
   ],
   "source": [
    "keras.backend.image_dim_ordering()"
   ]
  },
  {
   "cell_type": "code",
   "execution_count": 35,
   "metadata": {},
   "outputs": [
    {
     "data": {
      "text/plain": [
       "(750, 1, 40, 80)"
      ]
     },
     "execution_count": 35,
     "metadata": {},
     "output_type": "execute_result"
    }
   ],
   "source": [
    "train_set.shape"
   ]
  },
  {
   "cell_type": "code",
   "execution_count": 36,
   "metadata": {},
   "outputs": [
    {
     "data": {
      "text/plain": [
       "(250, 1, 40, 80)"
      ]
     },
     "execution_count": 36,
     "metadata": {},
     "output_type": "execute_result"
    }
   ],
   "source": [
    "test_set.shape"
   ]
  },
  {
   "cell_type": "code",
   "execution_count": 37,
   "metadata": {},
   "outputs": [
    {
     "data": {
      "text/plain": [
       "(1, 40, 80)"
      ]
     },
     "execution_count": 37,
     "metadata": {},
     "output_type": "execute_result"
    }
   ],
   "source": [
    "# we store the new shape of the images in the 'input_shape' variable.\n",
    "# take all dimensions except the 0th one (which is the number of images)\n",
    "input_shape = train_set.shape[1:]  \n",
    "input_shape"
   ]
  },
  {
   "cell_type": "markdown",
   "metadata": {},
   "source": [
    "# Creating Neural Network Models in Keras\n",
    "\n",
    "## Sequential Models\n",
    "\n",
    "In Keras, one can choose between a Sequential model and a Graph model. Sequential models are the standard case. Graph models are for parallel networks."
   ]
  },
  {
   "cell_type": "markdown",
   "metadata": {},
   "source": [
    "## Creating a Single Layer and a Two Layer CNN"
   ]
  },
  {
   "cell_type": "markdown",
   "metadata": {},
   "source": [
    "Try: (comment/uncomment code in the following code block)\n",
    "* 1 Layer\n",
    "* 2 Layer\n",
    "* more conv_filters\n",
    "* Dropout"
   ]
  },
  {
   "cell_type": "code",
   "execution_count": 38,
   "metadata": {
    "collapsed": true
   },
   "outputs": [],
   "source": [
    "np.random.seed(0) # make results repeatable\n",
    "\n",
    "model = Sequential()\n",
    "\n",
    "conv_filters = 16   # number of convolution filters (= CNN depth)\n",
    "#conv_filters = 32   # number of convolution filters (= CNN depth)\n",
    "\n",
    "# Layer 1\n",
    "model.add(Convolution2D(conv_filters, 3, 3, input_shape=input_shape))\n",
    "model.add(MaxPooling2D(pool_size=(2, 2))) \n",
    "#model.add(Dropout(0.25)) \n",
    "\n",
    "# Layer 2\n",
    "model.add(Convolution2D(conv_filters, 3, 3))\n",
    "model.add(MaxPooling2D(pool_size=(2, 2))) \n",
    "\n",
    "# After Convolution, we have a 16*x*y matrix output\n",
    "# In order to feed this to a Full(Dense) layer, we need to flatten all data\n",
    "# Note: Keras does automatic shape inference, i.e. it knows how many (flat) input units the next layer will need,\n",
    "# so no parameter is needed for the Flatten() layer.\n",
    "model.add(Flatten()) \n",
    "\n",
    "# Full layer\n",
    "model.add(Dense(200, activation='sigmoid')) \n",
    "#model.add(Dense(256, activation='sigmoid')) \n",
    "\n",
    "# Output layer\n",
    "# For binary/2-class problems use ONE sigmoid unit, for multi-class/multi-label problems use n output units \n",
    "# activation should be 'softmax' for multi-class / single-label output, 'sigmoid' for binary or multi-label tasks\n",
    "model.add(Dense(n_classes,activation='softmax'))"
   ]
  },
  {
   "cell_type": "markdown",
   "metadata": {},
   "source": [
    "If you get OverflowError: Range exceeds valid bounds in the above box, check the correct Theano vs. Tensorflow ordering in the box before and your keras.json configuration file."
   ]
  },
  {
   "cell_type": "code",
   "execution_count": 39,
   "metadata": {},
   "outputs": [
    {
     "name": "stdout",
     "output_type": "stream",
     "text": [
      "____________________________________________________________________________________________________\n",
      "Layer (type)                     Output Shape          Param #     Connected to                     \n",
      "====================================================================================================\n",
      "convolution2d_1 (Convolution2D)  (None, 16, 38, 78)    160         convolution2d_input_1[0][0]      \n",
      "____________________________________________________________________________________________________\n",
      "maxpooling2d_1 (MaxPooling2D)    (None, 16, 19, 39)    0           convolution2d_1[0][0]            \n",
      "____________________________________________________________________________________________________\n",
      "convolution2d_2 (Convolution2D)  (None, 16, 17, 37)    2320        maxpooling2d_1[0][0]             \n",
      "____________________________________________________________________________________________________\n",
      "maxpooling2d_2 (MaxPooling2D)    (None, 16, 8, 18)     0           convolution2d_2[0][0]            \n",
      "____________________________________________________________________________________________________\n",
      "flatten_1 (Flatten)              (None, 2304)          0           maxpooling2d_2[0][0]             \n",
      "____________________________________________________________________________________________________\n",
      "dense_1 (Dense)                  (None, 200)           461000      flatten_1[0][0]                  \n",
      "____________________________________________________________________________________________________\n",
      "dense_2 (Dense)                  (None, 10)            2010        dense_1[0][0]                    \n",
      "====================================================================================================\n",
      "Total params: 465,490\n",
      "Trainable params: 465,490\n",
      "Non-trainable params: 0\n",
      "____________________________________________________________________________________________________\n"
     ]
    }
   ],
   "source": [
    "model.summary()"
   ]
  },
  {
   "cell_type": "markdown",
   "metadata": {},
   "source": [
    "## Training the CNN"
   ]
  },
  {
   "cell_type": "code",
   "execution_count": 40,
   "metadata": {
    "collapsed": true
   },
   "outputs": [],
   "source": [
    "# Define a loss function \n",
    "loss = 'categorical_crossentropy' \n",
    "\n",
    "# Note: for binary classification (2 classes) OR for multi-class problems use:\n",
    "#loss = 'binary_crossentropy' \n",
    "\n",
    "# Optimizer = Stochastic Gradient Descent\n",
    "optimizer = 'sgd' \n",
    "\n",
    "# Compiling the model\n",
    "model.compile(loss=loss, optimizer=optimizer, metrics=['accuracy'])"
   ]
  },
  {
   "cell_type": "code",
   "execution_count": 41,
   "metadata": {
    "collapsed": true
   },
   "outputs": [],
   "source": [
    "history = None"
   ]
  },
  {
   "cell_type": "code",
   "execution_count": 42,
   "metadata": {},
   "outputs": [
    {
     "name": "stdout",
     "output_type": "stream",
     "text": [
      "Epoch 1/15\n",
      "750/750 [==============================] - 1s - loss: 2.3547 - acc: 0.1707     \n",
      "Epoch 2/15\n",
      "750/750 [==============================] - 1s - loss: 2.1289 - acc: 0.2187     \n",
      "Epoch 3/15\n",
      "750/750 [==============================] - 1s - loss: 2.0581 - acc: 0.2440     \n",
      "Epoch 4/15\n",
      "750/750 [==============================] - 1s - loss: 2.0094 - acc: 0.2893     \n",
      "Epoch 5/15\n",
      "750/750 [==============================] - 1s - loss: 1.9675 - acc: 0.3200     \n",
      "Epoch 6/15\n",
      "750/750 [==============================] - 1s - loss: 1.9287 - acc: 0.3267     \n",
      "Epoch 7/15\n",
      "750/750 [==============================] - 1s - loss: 1.8945 - acc: 0.3467     \n",
      "Epoch 8/15\n",
      "750/750 [==============================] - 1s - loss: 1.8579 - acc: 0.3680     \n",
      "Epoch 9/15\n",
      "750/750 [==============================] - 1s - loss: 1.8234 - acc: 0.3787     \n",
      "Epoch 10/15\n",
      "750/750 [==============================] - 1s - loss: 1.7914 - acc: 0.3840     \n",
      "Epoch 11/15\n",
      "750/750 [==============================] - 1s - loss: 1.7603 - acc: 0.3800     \n",
      "Epoch 12/15\n",
      "750/750 [==============================] - 1s - loss: 1.7311 - acc: 0.4000     \n",
      "Epoch 13/15\n",
      "750/750 [==============================] - 1s - loss: 1.7042 - acc: 0.4147     \n",
      "Epoch 14/15\n",
      "750/750 [==============================] - 1s - loss: 1.6818 - acc: 0.4253     \n",
      "Epoch 15/15\n",
      "750/750 [==============================] - 1s - loss: 1.6567 - acc: 0.4320     \n"
     ]
    }
   ],
   "source": [
    "# TRAINING the model\n",
    "\n",
    "# YOU MAY RUN THIS CELL MULTIPLE TIMES TO CONTINUE TO TRAIN THE MODEL FURTHER\n",
    "\n",
    "# for how many epochs (iterations) to train\n",
    "epochs = 15\n",
    "\n",
    "# for training we need the \"1 hot encoded\" numeric classes of the ground truth\n",
    "History = model.fit(train_set, train_classes_1hot, batch_size=32, nb_epoch=epochs)\n",
    "\n",
    "# we keep the history of accuracies on training set\n",
    "# we append this to previous history in case we execute this cell multiple times\n",
    "if history is None:\n",
    "    history = History.history\n",
    "else:\n",
    "    for key in History.history.keys():\n",
    "        history[key].extend(History.history[key])"
   ]
  },
  {
   "cell_type": "code",
   "execution_count": 43,
   "metadata": {
    "collapsed": true
   },
   "outputs": [],
   "source": [
    "def plot_traincurve(history):\n",
    "    # define 4 colors for up to 4 different values in history\n",
    "    colors = {'loss':'r', 'acc':'b', 'val_loss':'m', 'val_acc':'g'}\n",
    "    plt.figure(figsize=(10,6))\n",
    "    plt.title(\"Training Curve\") \n",
    "    plt.xlabel(\"Epoch\")\n",
    "\n",
    "    for measure in history.keys():\n",
    "        color = colors[measure]\n",
    "        ln = len(history[measure])\n",
    "        plt.plot(range(1,ln+1), history[measure], color + '-', label=measure)  # use last 2 values to draw line\n",
    "\n",
    "    plt.legend(loc='upper left', scatterpoints = 1, frameon=False)"
   ]
  },
  {
   "cell_type": "code",
   "execution_count": 44,
   "metadata": {},
   "outputs": [
    {
     "data": {
      "image/png": "[encoded data removed]",
      "text/plain": [
       "<Figure size 720x432 with 1 Axes>"
      ]
     },
     "metadata": {},
     "output_type": "display_data"
    }
   ],
   "source": [
    "plot_traincurve(history)"
   ]
  },
  {
   "cell_type": "markdown",
   "metadata": {},
   "source": [
    "#### Accuracy always goes up on Train set! Also on Test set?"
   ]
  },
  {
   "cell_type": "markdown",
   "metadata": {},
   "source": [
    "### Verifying Accuracy on Test Set"
   ]
  },
  {
   "cell_type": "code",
   "execution_count": 45,
   "metadata": {
    "scrolled": false
   },
   "outputs": [
    {
     "name": "stdout",
     "output_type": "stream",
     "text": [
      "250/250 [==============================] - 0s     \n"
     ]
    }
   ],
   "source": [
    "test_pred = model.predict_classes(test_set)"
   ]
  },
  {
   "cell_type": "code",
   "execution_count": 46,
   "metadata": {},
   "outputs": [
    {
     "data": {
      "text/plain": [
       "array([1, 2, 5, 2, 2, 8, 7, 7, 2, 1, ..., 8, 5, 8, 6, 7, 6, 9, 7, 2, 6])"
      ]
     },
     "execution_count": 46,
     "metadata": {},
     "output_type": "execute_result"
    }
   ],
   "source": [
    "# predictions\n",
    "test_pred"
   ]
  },
  {
   "cell_type": "code",
   "execution_count": 47,
   "metadata": {},
   "outputs": [
    {
     "data": {
      "text/plain": [
       "array([1, 7, 5, 3, 0, 7, 7, 5, 4, 1, ..., 2, 5, 5, 8, 2, 6, 0, 6, 2, 5])"
      ]
     },
     "execution_count": 47,
     "metadata": {},
     "output_type": "execute_result"
    }
   ],
   "source": [
    "# groundtruth\n",
    "test_classes"
   ]
  },
  {
   "cell_type": "code",
   "execution_count": 48,
   "metadata": {},
   "outputs": [
    {
     "data": {
      "text/plain": [
       "0.372"
      ]
     },
     "execution_count": 48,
     "metadata": {},
     "output_type": "execute_result"
    }
   ],
   "source": [
    "# 1 layer\n",
    "accuracy_score(test_classes, test_pred)"
   ]
  },
  {
   "cell_type": "code",
   "execution_count": 49,
   "metadata": {},
   "outputs": [
    {
     "data": {
      "text/plain": [
       "0.372"
      ]
     },
     "execution_count": 49,
     "metadata": {},
     "output_type": "execute_result"
    }
   ],
   "source": [
    "# 2 layer\n",
    "accuracy_score(test_classes, test_pred)"
   ]
  },
  {
   "cell_type": "code",
   "execution_count": 50,
   "metadata": {
    "scrolled": true
   },
   "outputs": [
    {
     "data": {
      "text/plain": [
       "0.372"
      ]
     },
     "execution_count": 50,
     "metadata": {},
     "output_type": "execute_result"
    }
   ],
   "source": [
    "# 2 layer + 32 convolution filters\n",
    "accuracy_score(test_classes, test_pred)"
   ]
  },
  {
   "cell_type": "code",
   "execution_count": 51,
   "metadata": {},
   "outputs": [
    {
     "data": {
      "text/plain": [
       "0.372"
      ]
     },
     "execution_count": 51,
     "metadata": {},
     "output_type": "execute_result"
    }
   ],
   "source": [
    "# 2 layer + 32 convolution filters + ReLU + Dropout\n",
    "accuracy_score(test_classes, test_pred)"
   ]
  },
  {
   "cell_type": "markdown",
   "metadata": {},
   "source": [
    "## Custom Model"
   ]
  },
  {
   "cell_type": "code",
   "execution_count": 52,
   "metadata": {
    "collapsed": true
   },
   "outputs": [],
   "source": [
    "# Try to vary these parameters:\n",
    "\n",
    "conv_filters = 16  # number of convolution filters (= CNN depth), e.g. 16 or 32\n",
    "\n",
    "use_layers = 2    # 1 or 2\n",
    "\n",
    "cnn_activation = 'relu' # sigmoid or relu\n"
   ]
  },
  {
   "cell_type": "code",
   "execution_count": 53,
   "metadata": {
    "collapsed": true
   },
   "outputs": [],
   "source": [
    "model = Sequential()\n",
    "\n",
    "# Layer 1\n",
    "#model.add(Convolution2D(conv_filters, 3, 3, activation=cnn_activation, border_mode='valid', input_shape=input_shape))\n",
    "#model.add(Convolution2D(conv_filters, 4, 12, activation=cnn_activation, border_mode='valid', input_shape=input_shape))\n",
    "model.add(Convolution2D(conv_filters, 10, 4, activation=cnn_activation, border_mode='valid', input_shape=input_shape))\n",
    "\n",
    "if use_layers == 1:\n",
    "    model.add(MaxPooling2D(pool_size=(1, 20))) \n",
    "    #model.add(MaxPooling2D(pool_size=(1, 5))) \n",
    "else:\n",
    "    #model.add(MaxPooling2D(pool_size=(2, 2))) \n",
    "    model.add(MaxPooling2D(pool_size=(1, 5))) \n",
    "\n",
    "# Layer 2\n",
    "if use_layers == 2:\n",
    "    model.add(Convolution2D(conv_filters, 3, 3, activation=cnn_activation, border_mode='valid', input_shape=input_shape))\n",
    "    #model.add(BatchNormalization())\n",
    "    #Smodel.add(Activation(cnn_act)) \n",
    "    model.add(MaxPooling2D(pool_size=(2, 2))) \n",
    "\n",
    "# After Convolution, we have a 16*x*y matrix output\n",
    "# In order to feed this to a Full(Dense) layer, we need to flatten all data\n",
    "# Note: Keras does automatic shape inference, i.e. it knows how many (flat) input units the next layer will need,\n",
    "# so no parameter is needed for the Flatten() layer.\n",
    "model.add(Flatten()) \n",
    "\n",
    "# Full layer\n",
    "model.add(Dense(200, activation='sigmoid'))  \n",
    "model.add(Dropout(0.25))\n",
    "\n",
    "# Output layer\n",
    "# For binary/2-class problems use ONE sigmoid unit, for multi-class/multi-label problems use n output units \n",
    "# activation should be 'softmax' for multi-class / single-label output, 'sigmoid' for binary or multi-label tasks\n",
    "model.add(Dense(n_classes,activation='softmax'))"
   ]
  },
  {
   "cell_type": "markdown",
   "metadata": {},
   "source": [
    "### Training"
   ]
  },
  {
   "cell_type": "code",
   "execution_count": 54,
   "metadata": {
    "collapsed": true
   },
   "outputs": [],
   "source": [
    "# Compiling the model\n",
    "\n",
    "learn_rate = 0.05 # e.g. 0.02 or 0.05\n",
    "optimizer = SGD(lr=learn_rate) #, momentum=momentum) \n",
    "\n",
    "model.compile(loss='categorical_crossentropy' , optimizer=optimizer, metrics=['accuracy'])\n",
    "\n",
    "history = None"
   ]
  },
  {
   "cell_type": "code",
   "execution_count": 55,
   "metadata": {},
   "outputs": [
    {
     "name": "stdout",
     "output_type": "stream",
     "text": [
      "Train on 675 samples, validate on 75 samples\n",
      "Epoch 1/30\n",
      "675/675 [==============================] - 1s - loss: 2.3653 - acc: 0.1052 - val_loss: 2.2538 - val_acc: 0.1867\n",
      "Epoch 2/30\n",
      "675/675 [==============================] - 1s - loss: 2.2004 - acc: 0.1748 - val_loss: 2.4430 - val_acc: 0.1067\n",
      "Epoch 3/30\n",
      "675/675 [==============================] - 1s - loss: 2.0928 - acc: 0.2296 - val_loss: 2.5089 - val_acc: 0.2133\n",
      "Epoch 4/30\n",
      "675/675 [==============================] - 1s - loss: 2.0386 - acc: 0.2578 - val_loss: 2.3809 - val_acc: 0.1600\n",
      "Epoch 5/30\n",
      "675/675 [==============================] - 1s - loss: 2.0034 - acc: 0.2400 - val_loss: 2.4129 - val_acc: 0.1600\n",
      "Epoch 6/30\n",
      "675/675 [==============================] - 1s - loss: 1.9437 - acc: 0.2919 - val_loss: 2.2806 - val_acc: 0.1200\n",
      "Epoch 7/30\n",
      "675/675 [==============================] - 1s - loss: 1.8972 - acc: 0.3170 - val_loss: 3.0092 - val_acc: 0.1467\n",
      "Epoch 8/30\n",
      "675/675 [==============================] - 1s - loss: 1.8703 - acc: 0.3393 - val_loss: 2.3402 - val_acc: 0.1333\n",
      "Epoch 9/30\n",
      "675/675 [==============================] - 1s - loss: 1.8097 - acc: 0.3541 - val_loss: 2.1528 - val_acc: 0.2133\n",
      "Epoch 10/30\n",
      "675/675 [==============================] - 1s - loss: 1.7813 - acc: 0.3852 - val_loss: 2.1458 - val_acc: 0.2000\n",
      "Epoch 11/30\n",
      "675/675 [==============================] - 1s - loss: 1.7739 - acc: 0.3615 - val_loss: 2.0107 - val_acc: 0.2800\n",
      "Epoch 12/30\n",
      "675/675 [==============================] - 1s - loss: 1.7489 - acc: 0.3659 - val_loss: 2.1461 - val_acc: 0.2400\n",
      "Epoch 13/30\n",
      "675/675 [==============================] - 1s - loss: 1.7359 - acc: 0.3733 - val_loss: 2.1580 - val_acc: 0.2267\n",
      "Epoch 14/30\n",
      "675/675 [==============================] - 1s - loss: 1.6680 - acc: 0.4074 - val_loss: 2.0752 - val_acc: 0.2800\n",
      "Epoch 15/30\n",
      "675/675 [==============================] - 1s - loss: 1.6273 - acc: 0.4222 - val_loss: 1.8780 - val_acc: 0.3333\n",
      "Epoch 16/30\n",
      "675/675 [==============================] - 1s - loss: 1.5679 - acc: 0.4637 - val_loss: 1.8827 - val_acc: 0.3600\n",
      "Epoch 17/30\n",
      "675/675 [==============================] - 1s - loss: 1.5480 - acc: 0.4652 - val_loss: 2.0488 - val_acc: 0.3333\n",
      "Epoch 18/30\n",
      "675/675 [==============================] - 1s - loss: 1.4856 - acc: 0.4874 - val_loss: 2.3205 - val_acc: 0.2800\n",
      "Epoch 19/30\n",
      "675/675 [==============================] - 1s - loss: 1.4833 - acc: 0.4741 - val_loss: 1.7813 - val_acc: 0.3467\n",
      "Epoch 20/30\n",
      "675/675 [==============================] - 1s - loss: 1.3825 - acc: 0.5363 - val_loss: 2.2454 - val_acc: 0.2933\n",
      "Epoch 21/30\n",
      "675/675 [==============================] - 1s - loss: 1.3639 - acc: 0.5259 - val_loss: 1.9017 - val_acc: 0.3200\n",
      "Epoch 22/30\n",
      "675/675 [==============================] - 1s - loss: 1.3245 - acc: 0.5511 - val_loss: 1.7611 - val_acc: 0.3200\n",
      "Epoch 23/30\n",
      "675/675 [==============================] - 1s - loss: 1.2548 - acc: 0.5763 - val_loss: 1.8425 - val_acc: 0.3733\n",
      "Epoch 24/30\n",
      "675/675 [==============================] - 1s - loss: 1.2232 - acc: 0.5733 - val_loss: 2.5871 - val_acc: 0.1733\n",
      "Epoch 25/30\n",
      "675/675 [==============================] - 1s - loss: 1.2368 - acc: 0.5763 - val_loss: 3.1492 - val_acc: 0.2667\n",
      "Epoch 26/30\n",
      "675/675 [==============================] - 1s - loss: 1.2617 - acc: 0.5852 - val_loss: 1.8322 - val_acc: 0.4000\n",
      "Epoch 27/30\n",
      "675/675 [==============================] - 1s - loss: 1.0871 - acc: 0.6459 - val_loss: 2.0533 - val_acc: 0.3467\n",
      "Epoch 28/30\n",
      "675/675 [==============================] - 1s - loss: 1.1078 - acc: 0.6444 - val_loss: 2.0176 - val_acc: 0.3067\n",
      "Epoch 29/30\n",
      "675/675 [==============================] - 1s - loss: 1.0352 - acc: 0.6652 - val_loss: 1.7741 - val_acc: 0.4133\n",
      "Epoch 30/30\n",
      "675/675 [==============================] - 1s - loss: 0.9726 - acc: 0.6904 - val_loss: 2.1808 - val_acc: 0.2267\n"
     ]
    }
   ],
   "source": [
    "# TRAINING the model - (you may repeat execution of this cell to FURTHER train the model!)\n",
    "epochs = 30\n",
    "#History = model.fit(train_set, train_classes_1hot, batch_size=32, nb_epoch=epochs)\n",
    "\n",
    "# adding a validation set:\n",
    "validation_percent = 0.1\n",
    "History = model.fit(train_set, train_classes_1hot, validation_split=validation_percent, batch_size=32, nb_epoch=epochs)\n",
    "\n",
    "# we keep the history of accuracies on training set\n",
    "# we append this to previous history in case we execute this cell multiple times\n",
    "if history is None:\n",
    "    history = History.history\n",
    "else:\n",
    "    for key in History.history.keys():\n",
    "        history[key].extend(History.history[key])"
   ]
  },
  {
   "cell_type": "code",
   "execution_count": 56,
   "metadata": {},
   "outputs": [
    {
     "data": {
      "image/png": "[encoded data removed]",
      "text/plain": [
       "<Figure size 720x432 with 1 Axes>"
      ]
     },
     "metadata": {},
     "output_type": "display_data"
    }
   ],
   "source": [
    "plot_traincurve(history)"
   ]
  },
  {
   "cell_type": "markdown",
   "metadata": {},
   "source": [
    "### Testing"
   ]
  },
  {
   "cell_type": "code",
   "execution_count": 57,
   "metadata": {
    "scrolled": true
   },
   "outputs": [
    {
     "name": "stdout",
     "output_type": "stream",
     "text": [
      "224/250 [=========================>....] - ETA: 0s"
     ]
    }
   ],
   "source": [
    "test_pred = model.predict_classes(test_set)"
   ]
  },
  {
   "cell_type": "code",
   "execution_count": 58,
   "metadata": {},
   "outputs": [
    {
     "data": {
      "text/plain": [
       "0.336"
      ]
     },
     "execution_count": 58,
     "metadata": {},
     "output_type": "execute_result"
    }
   ],
   "source": [
    "accuracy_score(test_classes, test_pred)"
   ]
  },
  {
   "cell_type": "markdown",
   "metadata": {},
   "source": [
    "## Advanced Model: Additional Parameters & Techniques\n",
    "\n",
    "Try:\n",
    "* Adding Batch normalization\n",
    "* Adding ReLU activation\n",
    "* Adding Dropout"
   ]
  },
  {
   "cell_type": "code",
   "execution_count": 59,
   "metadata": {
    "collapsed": true
   },
   "outputs": [],
   "source": [
    "# Adapt parameters here:\n",
    "\n",
    "conv_filters = 16   # number of convolution filters (= CNN depth), e.g. 16 or 32\n",
    "\n",
    "batch_norm = True  # True or False\n",
    "\n",
    "activation = 'relu' # sigmoid or relu\n",
    "\n",
    "#dropout = None # None or 0 < dropout < 1\n",
    "dropout = 0.25 # None or 0 < dropout < 1"
   ]
  },
  {
   "cell_type": "code",
   "execution_count": 60,
   "metadata": {
    "collapsed": true
   },
   "outputs": [],
   "source": [
    "model = Sequential()\n",
    "\n",
    "# Layer 1\n",
    "if batch_norm:\n",
    "    model.add(BatchNormalization(input_shape=input_shape))\n",
    "model.add(Convolution2D(conv_filters, 3, 3, border_mode='valid', input_shape=input_shape))\n",
    "#model.add(Convolution2D(conv_filters, 4, 12, border_mode='valid', input_shape=input_shape))\n",
    "model.add(Activation(activation))\n",
    "model.add(MaxPooling2D(pool_size=(2, 2))) \n",
    "#model.add(MaxPooling2D(pool_size=(1, 20))) \n",
    "if dropout:\n",
    "    model.add(Dropout(dropout))\n",
    "\n",
    "# Layer 2\n",
    "if batch_norm:\n",
    "    model.add(BatchNormalization())\n",
    "model.add(Convolution2D(conv_filters, 3, 3, border_mode='valid', input_shape=input_shape))\n",
    "model.add(Activation(activation)) \n",
    "model.add(MaxPooling2D(pool_size=(2, 2))) \n",
    "if dropout:\n",
    "    model.add(Dropout(dropout))\n",
    "\n",
    "# After Convolution, we have a 16*x*y matrix output\n",
    "# In order to feed this to a Full(Dense) layer, we need to flatten all data\n",
    "# Note: Keras does automatic shape inference, i.e. it knows how many (flat) input units the next layer will need,\n",
    "# so no parameter is needed for the Flatten() layer.\n",
    "model.add(Flatten()) \n",
    "\n",
    "# Full layer\n",
    "model.add(Dense(256))  \n",
    "model.add(Activation(activation))\n",
    "if dropout:\n",
    "    model.add(Dropout(dropout))\n",
    "\n",
    "# Output layer\n",
    "# For binary/2-class problems use ONE sigmoid unit, \n",
    "# for multi-class/multi-label problems use n output units and activation='softmax!'\n",
    "model.add(Dense(n_classes,activation='softmax'))"
   ]
  },
  {
   "cell_type": "markdown",
   "metadata": {},
   "source": [
    "### Training"
   ]
  },
  {
   "cell_type": "code",
   "execution_count": 61,
   "metadata": {
    "collapsed": true
   },
   "outputs": [],
   "source": [
    "# Compiling the model\n",
    "\n",
    "optimizer = 'sgd'\n",
    "\n",
    "#learn_rate = 0.02\n",
    "#optimizer = SGD(lr=learn_rate) #, momentum=momentum) \n",
    "\n",
    "model.compile(loss='categorical_crossentropy' , optimizer=optimizer, metrics=['accuracy'])\n",
    "\n",
    "history = None"
   ]
  },
  {
   "cell_type": "code",
   "execution_count": 62,
   "metadata": {},
   "outputs": [
    {
     "name": "stdout",
     "output_type": "stream",
     "text": [
      "Epoch 1/30\n",
      "750/750 [==============================] - 2s - loss: 2.5713 - acc: 0.1520     \n",
      "Epoch 2/30\n",
      "750/750 [==============================] - 2s - loss: 2.1891 - acc: 0.2213     \n",
      "Epoch 3/30\n",
      "750/750 [==============================] - 2s - loss: 2.0189 - acc: 0.2627     \n",
      "Epoch 4/30\n",
      "750/750 [==============================] - 2s - loss: 1.9687 - acc: 0.2653     \n",
      "Epoch 5/30\n",
      "750/750 [==============================] - 2s - loss: 1.9151 - acc: 0.3173     \n",
      "Epoch 6/30\n",
      "750/750 [==============================] - 2s - loss: 1.8769 - acc: 0.3387     \n",
      "Epoch 7/30\n",
      "750/750 [==============================] - 2s - loss: 1.8175 - acc: 0.3467     \n",
      "Epoch 8/30\n",
      "750/750 [==============================] - 2s - loss: 1.7615 - acc: 0.3760     \n",
      "Epoch 9/30\n",
      "750/750 [==============================] - 2s - loss: 1.6831 - acc: 0.3947     \n",
      "Epoch 10/30\n",
      "750/750 [==============================] - 2s - loss: 1.6362 - acc: 0.4173     \n",
      "Epoch 11/30\n",
      "750/750 [==============================] - 2s - loss: 1.5718 - acc: 0.4453     \n",
      "Epoch 12/30\n",
      "750/750 [==============================] - 2s - loss: 1.5262 - acc: 0.4360     \n",
      "Epoch 13/30\n",
      "750/750 [==============================] - 2s - loss: 1.5023 - acc: 0.4627     \n",
      "Epoch 14/30\n",
      "750/750 [==============================] - 2s - loss: 1.4948 - acc: 0.4680     \n",
      "Epoch 15/30\n",
      "750/750 [==============================] - 2s - loss: 1.4063 - acc: 0.5053     \n",
      "Epoch 16/30\n",
      "750/750 [==============================] - 2s - loss: 1.4139 - acc: 0.4987     \n",
      "Epoch 17/30\n",
      "750/750 [==============================] - 2s - loss: 1.3021 - acc: 0.5507     \n",
      "Epoch 18/30\n",
      "750/750 [==============================] - 2s - loss: 1.2857 - acc: 0.5560     \n",
      "Epoch 19/30\n",
      "750/750 [==============================] - 2s - loss: 1.2335 - acc: 0.5867     \n",
      "Epoch 20/30\n",
      "750/750 [==============================] - 2s - loss: 1.1800 - acc: 0.6067     \n",
      "Epoch 21/30\n",
      "750/750 [==============================] - 2s - loss: 1.1648 - acc: 0.5800     \n",
      "Epoch 22/30\n",
      "750/750 [==============================] - 2s - loss: 1.0654 - acc: 0.6253     \n",
      "Epoch 23/30\n",
      "750/750 [==============================] - 2s - loss: 1.0704 - acc: 0.6240     \n",
      "Epoch 24/30\n",
      "750/750 [==============================] - 2s - loss: 1.0796 - acc: 0.6280     \n",
      "Epoch 25/30\n",
      "750/750 [==============================] - 2s - loss: 1.0507 - acc: 0.6467     \n",
      "Epoch 26/30\n",
      "750/750 [==============================] - 2s - loss: 0.9940 - acc: 0.6413     \n",
      "Epoch 27/30\n",
      "750/750 [==============================] - 2s - loss: 0.9616 - acc: 0.6747     \n",
      "Epoch 28/30\n",
      "750/750 [==============================] - 2s - loss: 0.9693 - acc: 0.6573     \n",
      "Epoch 29/30\n",
      "750/750 [==============================] - 2s - loss: 0.9046 - acc: 0.6800     \n",
      "Epoch 30/30\n",
      "750/750 [==============================] - 2s - loss: 0.8628 - acc: 0.7107     \n"
     ]
    }
   ],
   "source": [
    "# TRAINING the model - (you may repeat execution of this cell to FURTHER train the model!)\n",
    "epochs = 30\n",
    "History = model.fit(train_set, train_classes_1hot, batch_size=32, nb_epoch=epochs)\n",
    "\n",
    "# we keep the history of accuracies on training set\n",
    "# we append this to previous history in case we execute this cell multiple times\n",
    "if history is None:\n",
    "    history = History.history\n",
    "else:\n",
    "    for key in History.history.keys():\n",
    "        history[key].extend(History.history[key])"
   ]
  },
  {
   "cell_type": "code",
   "execution_count": 63,
   "metadata": {
    "scrolled": true
   },
   "outputs": [
    {
     "data": {
      "image/png": "[encoded data removed]",
      "text/plain": [
       "<Figure size 720x432 with 1 Axes>"
      ]
     },
     "metadata": {},
     "output_type": "display_data"
    }
   ],
   "source": [
    "plot_traincurve(history)"
   ]
  },
  {
   "cell_type": "markdown",
   "metadata": {},
   "source": [
    "### Testing"
   ]
  },
  {
   "cell_type": "code",
   "execution_count": 64,
   "metadata": {},
   "outputs": [
    {
     "name": "stdout",
     "output_type": "stream",
     "text": [
      "224/250 [=========================>....] - ETA: 0s"
     ]
    }
   ],
   "source": [
    "test_pred = model.predict_classes(test_set)"
   ]
  },
  {
   "cell_type": "code",
   "execution_count": 65,
   "metadata": {},
   "outputs": [
    {
     "data": {
      "text/plain": [
       "0.48"
      ]
     },
     "execution_count": 65,
     "metadata": {},
     "output_type": "execute_result"
    }
   ],
   "source": [
    "accuracy_score(test_classes, test_pred)"
   ]
  },
  {
   "cell_type": "code",
   "execution_count": 66,
   "metadata": {},
   "outputs": [
    {
     "name": "stdout",
     "output_type": "stream",
     "text": [
      "30 epochs\n"
     ]
    }
   ],
   "source": [
    "print len(history['loss']), \"epochs\""
   ]
  },
  {
   "cell_type": "markdown",
   "metadata": {
    "collapsed": true
   },
   "source": [
    "## Parallel CNNs\n",
    "\n",
    "The motivation to use parallel CNNs is to use one CNN that detects patterns in the <b>frequencies</b> and another one that captures patterns in the <b>time domain, i.e. rhythm</b> in a combined way to learn better the structures in the sound.\n",
    "\n",
    "To create parallel CNNs we need a \"graph-based\" model. In Keras 1.x this is realized via the functional API of the Model() class.\n",
    "We use it to create two CNN layers that run in parallel to each other and are merged subsequently."
   ]
  },
  {
   "cell_type": "code",
   "execution_count": 67,
   "metadata": {
    "collapsed": true
   },
   "outputs": [],
   "source": [
    "n_filters = 16  # e.g. 16 or 32 \n",
    "dropout = 0.25 # None or 0 < dropout < 1"
   ]
  },
  {
   "cell_type": "code",
   "execution_count": 68,
   "metadata": {
    "collapsed": true
   },
   "outputs": [],
   "source": [
    "# Input only specifies the input shape\n",
    "input = Input(input_shape)\n",
    "\n",
    "# CNN layers\n",
    "# specify desired number of filters\n",
    "\n",
    "# The functional API allows to specify the predecessor in (brackets) after the new Layer function call\n",
    "conv_layer1 = Convolution2D(n_filters, 10, 4, activation='relu')(input)  # a vertical filter\n",
    "conv_layer2 = Convolution2D(n_filters, 4, 10, activation='relu')(input)  # a horizontal filter\n",
    "\n",
    "# Pooling layers - equal sized\n",
    "#maxpool1 = MaxPooling2D(pool_size=(2,2))(conv_layer1)\n",
    "#maxpool2 = MaxPooling2D(pool_size=(2,2))(conv_layer2)\n",
    "\n",
    "# ALTERNATIVE: Pooling layers - complementary to vertical/horizontal filter\n",
    "#maxpool1 = MaxPooling2D(pool_size=(1,2))(conv_layer1)\n",
    "#maxpool2 = MaxPooling2D(pool_size=(2,1))(conv_layer2)\n",
    "\n",
    "# LARGER Pooling layers - complementary to vertical/horizontal filter\n",
    "maxpool1 = MaxPooling2D(pool_size=(1,5))(conv_layer1)\n",
    "maxpool2 = MaxPooling2D(pool_size=(5,1))(conv_layer2) # used 4,1 first\n",
    "\n",
    "# Dropout for both layers\n",
    "if dropout:\n",
    "    maxpool1 = Dropout(dropout)(maxpool1)\n",
    "    maxpool2 = Dropout(dropout)(maxpool2)\n",
    "\n",
    "# we have to flatten the Pooling output in order to be concatenated\n",
    "poolflat1 = Flatten()(maxpool1)\n",
    "poolflat2 = Flatten()(maxpool2)\n",
    "\n",
    "# Merge the 2 parallel pipelines\n",
    "merged = merge([poolflat1, poolflat2], mode='concat')\n",
    "\n",
    "full = Dense(256, activation='sigmoid')(merged)\n",
    "output_layer = Dense(n_classes, activation='softmax')(full)\n",
    "\n",
    "# finally create the model\n",
    "model = Model(input=input, output=output_layer)"
   ]
  },
  {
   "cell_type": "code",
   "execution_count": 69,
   "metadata": {},
   "outputs": [
    {
     "name": "stdout",
     "output_type": "stream",
     "text": [
      "____________________________________________________________________________________________________\n",
      "Layer (type)                     Output Shape          Param #     Connected to                     \n",
      "====================================================================================================\n",
      "input_1 (InputLayer)             (None, 1, 40, 80)     0                                            \n",
      "____________________________________________________________________________________________________\n",
      "convolution2d_7 (Convolution2D)  (None, 16, 31, 77)    656         input_1[0][0]                    \n",
      "____________________________________________________________________________________________________\n",
      "convolution2d_8 (Convolution2D)  (None, 16, 37, 71)    656         input_1[0][0]                    \n",
      "____________________________________________________________________________________________________\n",
      "maxpooling2d_7 (MaxPooling2D)    (None, 16, 31, 15)    0           convolution2d_7[0][0]            \n",
      "____________________________________________________________________________________________________\n",
      "maxpooling2d_8 (MaxPooling2D)    (None, 16, 7, 71)     0           convolution2d_8[0][0]            \n",
      "____________________________________________________________________________________________________\n",
      "dropout_5 (Dropout)              (None, 16, 31, 15)    0           maxpooling2d_7[0][0]             \n",
      "____________________________________________________________________________________________________\n",
      "dropout_6 (Dropout)              (None, 16, 7, 71)     0           maxpooling2d_8[0][0]             \n",
      "____________________________________________________________________________________________________\n",
      "flatten_4 (Flatten)              (None, 7440)          0           dropout_5[0][0]                  \n",
      "____________________________________________________________________________________________________\n",
      "flatten_5 (Flatten)              (None, 7952)          0           dropout_6[0][0]                  \n",
      "____________________________________________________________________________________________________\n",
      "merge_1 (Merge)                  (None, 15392)         0           flatten_4[0][0]                  \n",
      "                                                                   flatten_5[0][0]                  \n",
      "____________________________________________________________________________________________________\n",
      "dense_7 (Dense)                  (None, 256)           3940608     merge_1[0][0]                    \n",
      "____________________________________________________________________________________________________\n",
      "dense_8 (Dense)                  (None, 10)            2570        dense_7[0][0]                    \n",
      "====================================================================================================\n",
      "Total params: 3,944,490\n",
      "Trainable params: 3,944,490\n",
      "Non-trainable params: 0\n",
      "____________________________________________________________________________________________________\n"
     ]
    }
   ],
   "source": [
    "model.summary()"
   ]
  },
  {
   "cell_type": "markdown",
   "metadata": {},
   "source": [
    "### Training"
   ]
  },
  {
   "cell_type": "code",
   "execution_count": 70,
   "metadata": {
    "collapsed": true
   },
   "outputs": [],
   "source": [
    "# Compiling the model\n",
    "\n",
    "learn_rate = 0.02\n",
    "optimizer = SGD(lr=learn_rate) #, momentum=momentum) \n",
    "\n",
    "model.compile(loss='categorical_crossentropy' , optimizer=optimizer, metrics=['accuracy'])\n",
    "\n",
    "history = None"
   ]
  },
  {
   "cell_type": "code",
   "execution_count": 71,
   "metadata": {},
   "outputs": [
    {
     "name": "stdout",
     "output_type": "stream",
     "text": [
      "Epoch 1/15\n",
      "750/750 [==============================] - 4s - loss: 2.1544 - acc: 0.2280     \n",
      "Epoch 2/15\n",
      "750/750 [==============================] - 4s - loss: 1.9616 - acc: 0.3293     \n",
      "Epoch 3/15\n",
      "750/750 [==============================] - 4s - loss: 1.8492 - acc: 0.3653     \n",
      "Epoch 4/15\n",
      "750/750 [==============================] - 4s - loss: 1.7546 - acc: 0.4227     \n",
      "Epoch 5/15\n",
      "750/750 [==============================] - 4s - loss: 1.6717 - acc: 0.4400     \n",
      "Epoch 6/15\n",
      "750/750 [==============================] - 4s - loss: 1.5861 - acc: 0.4733     \n",
      "Epoch 7/15\n",
      "750/750 [==============================] - 4s - loss: 1.5213 - acc: 0.5040     \n",
      "Epoch 8/15\n",
      "750/750 [==============================] - 4s - loss: 1.4494 - acc: 0.5440     \n",
      "Epoch 9/15\n",
      "750/750 [==============================] - 4s - loss: 1.4105 - acc: 0.5427     \n",
      "Epoch 10/15\n",
      "750/750 [==============================] - 4s - loss: 1.3263 - acc: 0.5800     \n",
      "Epoch 11/15\n",
      "750/750 [==============================] - 5s - loss: 1.2817 - acc: 0.5840     \n",
      "Epoch 12/15\n",
      "750/750 [==============================] - 5s - loss: 1.2478 - acc: 0.5907     \n",
      "Epoch 13/15\n",
      "750/750 [==============================] - 4s - loss: 1.1819 - acc: 0.6373     \n",
      "Epoch 14/15\n",
      "750/750 [==============================] - 4s - loss: 1.1649 - acc: 0.6387     \n",
      "Epoch 15/15\n",
      "750/750 [==============================] - 4s - loss: 1.0938 - acc: 0.6600     \n"
     ]
    }
   ],
   "source": [
    "# TRAINING the model (45 epochs, i.e. executing this block 3 times, worked well with this model)\n",
    "\n",
    "epochs = 15\n",
    "History = model.fit(train_set, train_classes_1hot, batch_size=32, nb_epoch=epochs)\n",
    "\n",
    "# we keep the history of accuracies on training set\n",
    "if history is None:\n",
    "    history = History.history\n",
    "else:\n",
    "    for key in History.history.keys():\n",
    "        history[key].extend(History.history[key])"
   ]
  },
  {
   "cell_type": "code",
   "execution_count": 72,
   "metadata": {},
   "outputs": [
    {
     "data": {
      "image/png": "[encoded data removed]",
      "text/plain": [
       "<Figure size 720x432 with 1 Axes>"
      ]
     },
     "metadata": {},
     "output_type": "display_data"
    }
   ],
   "source": [
    "plot_traincurve(history)"
   ]
  },
  {
   "cell_type": "markdown",
   "metadata": {},
   "source": [
    "### Testing"
   ]
  },
  {
   "cell_type": "code",
   "execution_count": 73,
   "metadata": {
    "collapsed": true
   },
   "outputs": [],
   "source": [
    "# THE GRAPH MODEL DOES NOT SUPPORT .predict_classes\n",
    "# we use model.predict\n",
    "\n",
    "test_pred = model.predict(test_set)"
   ]
  },
  {
   "cell_type": "code",
   "execution_count": 74,
   "metadata": {},
   "outputs": [
    {
     "data": {
      "text/plain": [
       "array([[0.07069733, 0.8700122 , 0.00879377, 0.00019371, 0.00014664, 0.03839605, 0.00062024, 0.00032799, 0.00064674, 0.01016532],\n",
       "       [0.14269978, 0.04302152, 0.32882234, 0.13455491, 0.01706294, 0.07126109, 0.01242902, 0.13601576, 0.00611502, 0.10801763],\n",
       "       [0.58328366, 0.01026349, 0.0701495 , 0.01012297, 0.01729721, 0.07419922, 0.00269768, 0.00418267, 0.06161249, 0.16619113],\n",
       "       [0.01684405, 0.0017284 , 0.05176261, 0.3383514 , 0.088616  , 0.01234194, 0.00054763, 0.15525927, 0.21446027, 0.12008845],\n",
       "       [0.2777342 , 0.02227891, 0.19762912, 0.09915836, 0.10143815, 0.03859397, 0.00258439, 0.0184733 , 0.01054821, 0.23156139],\n",
       "       [0.28191215, 0.02180249, 0.11162482, 0.06694648, 0.01810998, 0.12678738, 0.00199289, 0.06470364, 0.11474912, 0.19137107],\n",
       "       [0.02952047, 0.00058001, 0.07478354, 0.19161472, 0.13621566, 0.00719968, 0.0021104 , 0.46998838, 0.02323983, 0.06474733],\n",
       "       [0.06607569, 0.0032687 , 0.09858812, 0.164826  , 0.06176544, 0.01929877, 0.01154074, 0.45440352, 0.00890695, 0.11132605],\n",
       "       [0.078848  , 0.00232823, 0.0543986 , 0.03316831, 0.47722465, 0.00527125, 0.00075991, 0.01386051, 0.18718007, 0.14696045],\n",
       "       [0.03516361, 0.51903296, 0.08970796, 0.07851982, 0.01640485, 0.08151397, 0.00549218, 0.01100654, 0.09804523, 0.06511289],\n",
       "       ...,\n",
       "       [0.6667671 , 0.00114839, 0.01876091, 0.00935951, 0.04030397, 0.03618944, 0.01071364, 0.01374931, 0.08830959, 0.11469814],\n",
       "       [0.54807925, 0.03803084, 0.02795518, 0.00367284, 0.0044485 , 0.31073895, 0.00196707, 0.00159774, 0.02596209, 0.03754751],\n",
       "       [0.11825448, 0.05152787, 0.04861232, 0.06920604, 0.03073121, 0.10444856, 0.00584306, 0.01551608, 0.3318791 , 0.22398126],\n",
       "       [0.14644568, 0.00113346, 0.02040454, 0.10869343, 0.25313577, 0.00161373, 0.33212215, 0.00259248, 0.01284731, 0.12101144],\n",
       "       [0.03367361, 0.00123485, 0.07557847, 0.18834828, 0.16677202, 0.03767066, 0.0052781 , 0.17692128, 0.22913364, 0.08538909],\n",
       "       [0.1398726 , 0.00404305, 0.0359857 , 0.01391464, 0.02313795, 0.00171115, 0.69218683, 0.00141365, 0.00141131, 0.0863231 ],\n",
       "       [0.19010259, 0.00764134, 0.15360785, 0.11044727, 0.13787685, 0.03060347, 0.00906563, 0.00689547, 0.03340828, 0.32035124],\n",
       "       [0.4040545 , 0.00688892, 0.15278268, 0.02412974, 0.05776573, 0.02076145, 0.16113897, 0.02442518, 0.00238683, 0.145666  ],\n",
       "       [0.10396273, 0.1496684 , 0.35665637, 0.02225713, 0.01164636, 0.18424882, 0.00227808, 0.03818971, 0.01014597, 0.12094644],\n",
       "       [0.06655616, 0.00462715, 0.10030898, 0.20902129, 0.107664  , 0.01846072, 0.07072824, 0.18926814, 0.0082385 , 0.22512685]], dtype=float32)"
      ]
     },
     "execution_count": 74,
     "metadata": {},
     "output_type": "execute_result"
    }
   ],
   "source": [
    "# it predicts the probabilities per class:\n",
    "test_pred"
   ]
  },
  {
   "cell_type": "code",
   "execution_count": 75,
   "metadata": {},
   "outputs": [
    {
     "data": {
      "text/plain": [
       "array([1, 2, 0, 3, 0, 0, 7, 7, 4, 1, ..., 0, 0, 8, 6, 8, 6, 9, 0, 2, 9])"
      ]
     },
     "execution_count": 75,
     "metadata": {},
     "output_type": "execute_result"
    }
   ],
   "source": [
    "# we get the predicted class from the maximum value in the probabilities, using argmax to get the class number\n",
    "test_pred = np.argmax(test_pred, axis=1)\n",
    "test_pred"
   ]
  },
  {
   "cell_type": "code",
   "execution_count": 76,
   "metadata": {},
   "outputs": [
    {
     "data": {
      "text/plain": [
       "0.464"
      ]
     },
     "execution_count": 76,
     "metadata": {},
     "output_type": "execute_result"
    }
   ],
   "source": [
    "accuracy_score(test_classes, test_pred)"
   ]
  },
  {
   "cell_type": "markdown",
   "metadata": {},
   "source": [
    "## Further Practice\n",
    "\n",
    "As a further practical learning, copy the models from above and try more adaptations:\n",
    "\n",
    "* add more layers\n",
    "* vary:\n",
    " * number of filters\n",
    " * filter sizes (shapes)\n",
    " * max pooling\n",
    " * activation functions: sigmoid, tanh, relu, prelu, elu, ...\n",
    "* try other optimizers: 'from keras.optimizers import SGD, Adagrad, Adam' (RMSprop for binary or multi-label classification)"
   ]
  },
  {
   "cell_type": "code",
   "execution_count": null,
   "metadata": {
    "collapsed": true
   },
   "outputs": [],
   "source": []
  }
 ],
 "metadata": {
  "kernelspec": {
   "display_name": "pymir",
   "language": "python",
   "name": "pymir"
  },
  "language_info": {
   "codemirror_mode": {
    "name": "ipython",
    "version": 2
   },
   "file_extension": ".py",
   "mimetype": "text/x-python",
   "name": "python",
   "nbconvert_exporter": "python",
   "pygments_lexer": "ipython2",
   "version": "2.7.12"
  }
 },
 "nbformat": 4,
 "nbformat_minor": 1
}
