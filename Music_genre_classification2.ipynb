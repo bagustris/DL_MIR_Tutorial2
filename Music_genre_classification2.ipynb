{
 "cells": [
  {
   "cell_type": "markdown",
   "metadata": {},
   "source": [
    "# Music Genre Classification dengan Deep Learning\n",
    "\n",
    "\n",
    "Tutorial ini akan menunjukkan bagaimana arsitektur Convolutional Neural Network digunakan untuk menyelesaikan pengenalan klasifikasi genre musik.\n",
    "\n",
    "Dataset yang digunakan adalah gtzan (ada dalam folder data, download dan extrak). Dataset tersebut berisi kurang lebih 1000 track (potongan 30 detik lagu) dari 10 genre musik, setiap genrenya terdiri dari 100 sampel.\n",
    "\n",
    "Data aslinya di-sample dengan frekuensi sampling 22050 Hz dalam format .au. Agar ukurannya lebih kecil, data dalam folder `data` diatas sudah dikompres ke dalam format .mp3, juga dalam frekuensi sampling 22050 Hz.\n",
    "\n",
    "Tutorial ini terdiri atas:\n",
    "* Loading dan preprocssing file audio\n",
    "* Loading class file dari CSV dan menggunakan Label Encoder\n",
    "* Menggunakan One-Hot Encoder untuk menyiapkan data class untuk Deep Learning\n",
    "* Membangkitkan Mel spectrogram dari file audio\n",
    "* Standarisasi data\n",
    "* Memisahkan data train/test set\n",
    "* Pemisahan stratified\n",
    "* Convolutional Neural Networks: single, stacked, parallel\n",
    "* ReLU activation\n",
    "* Dropout\n",
    "* Batch Normalization\n",
    "\n",
    "\n",
    "Materi lanjutan:\n",
    "* Majority Vote / Max Probability \n",
    "* Recurrent Neural Networks\n",
    "* Cross-validation\n",
    "\n",
    "Anda bisa mengeksekusi block demi blok kode di bawah ini dengan menekan SHIFT+ENTER"
   ]
  },
  {
   "cell_type": "code",
   "execution_count": 2,
   "metadata": {},
   "outputs": [
    {
     "name": "stderr",
     "output_type": "stream",
     "text": [
      "Using Theano backend.\n"
     ]
    }
   ],
   "source": [
    "# General Imports\n",
    "\n",
    "import os\n",
    "\n",
    "# choosing between CPU and GPU\n",
    "#device = 'cpu' # 'cpu' or 'gpu'\n",
    "#os.environ['THEANO_FLAGS']='mode=FAST_RUN,device=' + device + ',floatX=float32'\n",
    "\n",
    "import argparse\n",
    "import csv\n",
    "import datetime\n",
    "import glob\n",
    "import math\n",
    "import sys\n",
    "import time\n",
    "import numpy as np\n",
    "import pandas as pd # Pandas for reading CSV files and easier Data handling in preparation\n",
    "from os.path import join\n",
    "\n",
    "# Machine Learning Preprocessing and Evaluation\n",
    "\n",
    "from sklearn import preprocessing\n",
    "from sklearn.metrics import accuracy_score\n",
    "from sklearn import __version__ as sklearn_version\n",
    "\n",
    "if sklearn_version.startswith('0.17'):\n",
    "    from sklearn.cross_validation import train_test_split\n",
    "    from sklearn.cross_validation import StratifiedShuffleSplit\n",
    "else: # >= 0.18\n",
    "    from sklearn.model_selection import train_test_split\n",
    "    from sklearn.model_selection import StratifiedShuffleSplit\n",
    "\n",
    "# Deep Learning\n",
    "# Pastikan setting keras di ~/.keras/keras.json menggunakan theano, \"backend\" = \"theano\"\n",
    " \n",
    "from theano import config\n",
    "\n",
    "import keras\n",
    "from keras.models import Sequential, Model\n",
    "from keras.layers import Input, Convolution2D, MaxPooling2D, Dense, Dropout, Activation, Flatten, merge\n",
    "from keras.layers.normalization import BatchNormalization\n",
    "from keras.optimizers import SGD\n",
    "\n",
    "# Plotting\n",
    "\n",
    "import matplotlib.pyplot as plt\n",
    "%matplotlib inline \n",
    "\n",
    "# Local imports\n",
    "import rp_extract as rp\n",
    "from audiofile_read import audiofile_read\n"
   ]
  },
  {
   "cell_type": "markdown",
   "metadata": {},
   "source": [
    "## Set path ke tempat Dataset\n",
    "\n",
    "Arahkan variable `AUDIO_PATH` ke direktori dimana dataset disimpat, contohnya di ./data/gtzan_mp3\n"
   ]
  },
  {
   "cell_type": "code",
   "execution_count": 3,
   "metadata": {},
   "outputs": [],
   "source": [
    "# SET PATH DATASET DISINI\n",
    "AUDIO_PATH = './data/gtzan_mp3'"
   ]
  },
  {
   "cell_type": "markdown",
   "metadata": {},
   "source": [
    "## Load Metadata\n",
    "\n",
    "File `filelist_GTZAN_mp3_wclasses.txt` di dalam direktori dataset berisi metadata (genre) dalam format tab-separated value. File tersebut kita baca dengan perintah di bawah ini (dengan modul panda)"
   ]
  },
  {
   "cell_type": "code",
<<<<<<< HEAD
   "execution_count": 8,
||||||| merged common ancestors
   "execution_count": 3,
=======
   "execution_count": 5,
>>>>>>> 7ed1cd029230cd2f5c0e37cf91666940db583d02
   "metadata": {},
   "outputs": [
    {
     "data": {
      "text/html": [
       "<div>\n",
       "<style scoped>\n",
       "    .dataframe tbody tr th:only-of-type {\n",
       "        vertical-align: middle;\n",
       "    }\n",
       "\n",
       "    .dataframe tbody tr th {\n",
       "        vertical-align: top;\n",
       "    }\n",
       "\n",
       "    .dataframe thead th {\n",
       "        text-align: right;\n",
       "    }\n",
       "</style>\n",
       "<table border=\"1\" class=\"dataframe\">\n",
       "  <thead>\n",
       "    <tr style=\"text-align: right;\">\n",
       "      <th></th>\n",
       "      <th>1</th>\n",
       "    </tr>\n",
       "    <tr>\n",
       "      <th>0</th>\n",
       "      <th></th>\n",
       "    </tr>\n",
       "  </thead>\n",
       "  <tbody>\n",
       "    <tr>\n",
       "      <th>./rock/rock.00053.mp3</th>\n",
       "      <td>rock</td>\n",
       "    </tr>\n",
       "    <tr>\n",
       "      <th>./rock/rock.00051.mp3</th>\n",
       "      <td>rock</td>\n",
       "    </tr>\n",
       "    <tr>\n",
       "      <th>./rock/rock.00076.mp3</th>\n",
       "      <td>rock</td>\n",
       "    </tr>\n",
       "    <tr>\n",
       "      <th>./rock/rock.00084.mp3</th>\n",
       "      <td>rock</td>\n",
       "    </tr>\n",
       "    <tr>\n",
       "      <th>./rock/rock.00052.mp3</th>\n",
       "      <td>rock</td>\n",
       "    </tr>\n",
       "    <tr>\n",
       "      <th>./rock/rock.00057.mp3</th>\n",
       "      <td>rock</td>\n",
       "    </tr>\n",
       "    <tr>\n",
       "      <th>./rock/rock.00028.mp3</th>\n",
       "      <td>rock</td>\n",
       "    </tr>\n",
       "    <tr>\n",
       "      <th>./rock/rock.00035.mp3</th>\n",
       "      <td>rock</td>\n",
       "    </tr>\n",
       "    <tr>\n",
       "      <th>./rock/rock.00095.mp3</th>\n",
       "      <td>rock</td>\n",
       "    </tr>\n",
       "    <tr>\n",
       "      <th>./rock/rock.00088.mp3</th>\n",
       "      <td>rock</td>\n",
       "    </tr>\n",
       "  </tbody>\n",
       "</table>\n",
       "</div>"
      ],
      "text/plain": [
       "                          1\n",
       "0                          \n",
       "./rock/rock.00053.mp3  rock\n",
       "./rock/rock.00051.mp3  rock\n",
       "./rock/rock.00076.mp3  rock\n",
       "./rock/rock.00084.mp3  rock\n",
       "./rock/rock.00052.mp3  rock\n",
       "./rock/rock.00057.mp3  rock\n",
       "./rock/rock.00028.mp3  rock\n",
       "./rock/rock.00035.mp3  rock\n",
       "./rock/rock.00095.mp3  rock\n",
       "./rock/rock.00088.mp3  rock"
      ]
     },
<<<<<<< HEAD
     "execution_count": 8,
||||||| merged common ancestors
     "execution_count": 3,
=======
     "execution_count": 5,
>>>>>>> 7ed1cd029230cd2f5c0e37cf91666940db583d02
     "metadata": {},
     "output_type": "execute_result"
    }
   ],
   "source": [
    "csv_file = join(AUDIO_PATH,'filelist_GTZAN_mp3_wclasses.txt')\n",
    "metadata = pd.read_csv(csv_file, index_col=0, header=None)\n",
    "metadata.head(10)"
   ]
  },
  {
   "cell_type": "code",
<<<<<<< HEAD
   "execution_count": 9,
   "metadata": {},
||||||| merged common ancestors
   "execution_count": 4,
   "metadata": {},
=======
   "execution_count": 6,
   "metadata": {
    "collapsed": true
   },
>>>>>>> 7ed1cd029230cd2f5c0e37cf91666940db583d02
   "outputs": [],
   "source": [
    "# membuat list dari filename dengan genre yang berkesesuaian\n",
    "filelist = metadata.index.tolist()\n",
    "classes = metadata[1].values.tolist()"
   ]
  },
  {
   "cell_type": "code",
   "execution_count": 13,
   "metadata": {},
   "outputs": [
    {
     "data": {
      "text/plain": [
       "(['./rock/rock.00053.mp3',\n",
       "  './rock/rock.00051.mp3',\n",
       "  './rock/rock.00076.mp3',\n",
       "  './rock/rock.00084.mp3',\n",
       "  './rock/rock.00052.mp3',\n",
       "  './rock/rock.00057.mp3',\n",
       "  './rock/rock.00028.mp3',\n",
       "  './rock/rock.00035.mp3',\n",
       "  './rock/rock.00095.mp3',\n",
       "  './rock/rock.00088.mp3',\n",
       "  './rock/rock.00048.mp3',\n",
       "  './rock/rock.00009.mp3',\n",
       "  './rock/rock.00036.mp3',\n",
       "  './rock/rock.00032.mp3',\n",
       "  './rock/rock.00019.mp3',\n",
       "  './rock/rock.00042.mp3',\n",
       "  './rock/rock.00003.mp3',\n",
       "  './rock/rock.00061.mp3',\n",
       "  './rock/rock.00013.mp3',\n",
       "  './rock/rock.00038.mp3',\n",
       "  './rock/rock.00054.mp3',\n",
       "  './rock/rock.00014.mp3',\n",
       "  './rock/rock.00004.mp3',\n",
       "  './rock/rock.00091.mp3',\n",
       "  './rock/rock.00025.mp3',\n",
       "  './rock/rock.00086.mp3',\n",
       "  './rock/rock.00090.mp3',\n",
       "  './rock/rock.00046.mp3',\n",
       "  './rock/rock.00075.mp3',\n",
       "  './rock/rock.00026.mp3',\n",
       "  './rock/rock.00049.mp3',\n",
       "  './rock/rock.00093.mp3',\n",
       "  './rock/rock.00001.mp3',\n",
       "  './rock/rock.00099.mp3',\n",
       "  './rock/rock.00010.mp3',\n",
       "  './rock/rock.00081.mp3',\n",
       "  './rock/rock.00089.mp3',\n",
       "  './rock/rock.00016.mp3',\n",
       "  './rock/rock.00012.mp3',\n",
       "  './rock/rock.00069.mp3',\n",
       "  './rock/rock.00083.mp3',\n",
       "  './rock/rock.00043.mp3',\n",
       "  './rock/rock.00062.mp3',\n",
       "  './rock/rock.00073.mp3',\n",
       "  './rock/rock.00060.mp3',\n",
       "  './rock/rock.00056.mp3',\n",
       "  './rock/rock.00023.mp3',\n",
       "  './rock/rock.00077.mp3',\n",
       "  './rock/rock.00041.mp3',\n",
       "  './rock/rock.00015.mp3',\n",
       "  './rock/rock.00033.mp3',\n",
       "  './rock/rock.00027.mp3',\n",
       "  './rock/rock.00058.mp3',\n",
       "  './rock/rock.00094.mp3',\n",
       "  './rock/rock.00020.mp3',\n",
       "  './rock/rock.00017.mp3',\n",
       "  './rock/rock.00005.mp3',\n",
       "  './rock/rock.00031.mp3',\n",
       "  './rock/rock.00050.mp3',\n",
       "  './rock/rock.00024.mp3',\n",
       "  './rock/rock.00021.mp3',\n",
       "  './rock/rock.00018.mp3',\n",
       "  './rock/rock.00065.mp3',\n",
       "  './rock/rock.00087.mp3',\n",
       "  './rock/rock.00097.mp3',\n",
       "  './rock/rock.00000.mp3',\n",
       "  './rock/rock.00085.mp3',\n",
       "  './rock/rock.00082.mp3',\n",
       "  './rock/rock.00007.mp3',\n",
       "  './rock/rock.00002.mp3',\n",
       "  './rock/rock.00037.mp3',\n",
       "  './rock/rock.00059.mp3',\n",
       "  './rock/rock.00080.mp3',\n",
       "  './rock/rock.00039.mp3',\n",
       "  './rock/rock.00072.mp3',\n",
       "  './rock/rock.00022.mp3',\n",
       "  './rock/rock.00079.mp3',\n",
       "  './rock/rock.00047.mp3',\n",
       "  './rock/rock.00006.mp3',\n",
       "  './rock/rock.00008.mp3',\n",
       "  './rock/rock.00040.mp3',\n",
       "  './rock/rock.00096.mp3',\n",
       "  './rock/rock.00045.mp3',\n",
       "  './rock/rock.00029.mp3',\n",
       "  './rock/rock.00030.mp3',\n",
       "  './rock/rock.00064.mp3',\n",
       "  './rock/rock.00063.mp3',\n",
       "  './rock/rock.00074.mp3',\n",
       "  './rock/rock.00055.mp3',\n",
       "  './rock/rock.00068.mp3',\n",
       "  './rock/rock.00067.mp3',\n",
       "  './rock/rock.00044.mp3',\n",
       "  './rock/rock.00070.mp3',\n",
       "  './rock/rock.00066.mp3',\n",
       "  './rock/rock.00092.mp3',\n",
       "  './rock/rock.00098.mp3',\n",
       "  './rock/rock.00078.mp3',\n",
       "  './rock/rock.00034.mp3',\n",
       "  './rock/rock.00071.mp3',\n",
       "  './rock/rock.00011.mp3',\n",
       "  './hiphop/hiphop.00096.mp3',\n",
       "  './hiphop/hiphop.00023.mp3',\n",
       "  './hiphop/hiphop.00097.mp3',\n",
       "  './hiphop/hiphop.00090.mp3',\n",
       "  './hiphop/hiphop.00053.mp3',\n",
       "  './hiphop/hiphop.00085.mp3',\n",
       "  './hiphop/hiphop.00073.mp3',\n",
       "  './hiphop/hiphop.00007.mp3',\n",
       "  './hiphop/hiphop.00036.mp3',\n",
       "  './hiphop/hiphop.00010.mp3',\n",
       "  './hiphop/hiphop.00071.mp3',\n",
       "  './hiphop/hiphop.00047.mp3',\n",
       "  './hiphop/hiphop.00035.mp3',\n",
       "  './hiphop/hiphop.00066.mp3',\n",
       "  './hiphop/hiphop.00052.mp3',\n",
       "  './hiphop/hiphop.00095.mp3',\n",
       "  './hiphop/hiphop.00046.mp3',\n",
       "  './hiphop/hiphop.00089.mp3',\n",
       "  './hiphop/hiphop.00029.mp3',\n",
       "  './hiphop/hiphop.00025.mp3',\n",
       "  './hiphop/hiphop.00088.mp3',\n",
       "  './hiphop/hiphop.00100.mp3',\n",
       "  './hiphop/hiphop.00058.mp3',\n",
       "  './hiphop/hiphop.00050.mp3',\n",
       "  './hiphop/hiphop.00051.mp3',\n",
       "  './hiphop/hiphop.00057.mp3',\n",
       "  './hiphop/hiphop.00080.mp3',\n",
       "  './hiphop/hiphop.00032.mp3',\n",
       "  './hiphop/hiphop.00013.mp3',\n",
       "  './hiphop/hiphop.00011.mp3',\n",
       "  './hiphop/hiphop.00092.mp3',\n",
       "  './hiphop/hiphop.00028.mp3',\n",
       "  './hiphop/hiphop.00000.mp3',\n",
       "  './hiphop/hiphop.00079.mp3',\n",
       "  './hiphop/hiphop.00001.mp3',\n",
       "  './hiphop/hiphop.00072.mp3',\n",
       "  './hiphop/hiphop.00049.mp3',\n",
       "  './hiphop/hiphop.00087.mp3',\n",
       "  './hiphop/hiphop.00041.mp3',\n",
       "  './hiphop/hiphop.00083.mp3',\n",
       "  './hiphop/hiphop.00059.mp3',\n",
       "  './hiphop/hiphop.00063.mp3',\n",
       "  './hiphop/hiphop.00048.mp3',\n",
       "  './hiphop/hiphop.00039.mp3',\n",
       "  './hiphop/hiphop.00009.mp3',\n",
       "  './hiphop/hiphop.00008.mp3',\n",
       "  './hiphop/hiphop.00101.mp3',\n",
       "  './hiphop/hiphop.00068.mp3',\n",
       "  './hiphop/hiphop.00031.mp3',\n",
       "  './hiphop/hiphop.00061.mp3',\n",
       "  './hiphop/hiphop.00024.mp3',\n",
       "  './hiphop/hiphop.00081.mp3',\n",
       "  './hiphop/hiphop.00054.mp3',\n",
       "  './hiphop/hiphop.00094.mp3',\n",
       "  './hiphop/hiphop.00075.mp3',\n",
       "  './hiphop/hiphop.00042.mp3',\n",
       "  './hiphop/hiphop.00078.mp3',\n",
       "  './hiphop/hiphop.00027.mp3',\n",
       "  './hiphop/hiphop.00026.mp3',\n",
       "  './hiphop/hiphop.00074.mp3',\n",
       "  './hiphop/hiphop.00004.mp3',\n",
       "  './hiphop/hiphop.00060.mp3',\n",
       "  './hiphop/hiphop.00043.mp3',\n",
       "  './hiphop/hiphop.00014.mp3',\n",
       "  './hiphop/hiphop.00018.mp3',\n",
       "  './hiphop/hiphop.00062.mp3',\n",
       "  './hiphop/hiphop.00076.mp3',\n",
       "  './hiphop/hiphop.00020.mp3',\n",
       "  './hiphop/hiphop.00064.mp3',\n",
       "  './hiphop/hiphop.00055.mp3',\n",
       "  './hiphop/hiphop.00017.mp3',\n",
       "  './hiphop/hiphop.00070.mp3',\n",
       "  './hiphop/hiphop.00033.mp3',\n",
       "  './hiphop/hiphop.00040.mp3',\n",
       "  './hiphop/hiphop.00012.mp3',\n",
       "  './hiphop/hiphop.00002.mp3',\n",
       "  './hiphop/hiphop.00015.mp3',\n",
       "  './hiphop/hiphop.00077.mp3',\n",
       "  './hiphop/hiphop.00044.mp3',\n",
       "  './hiphop/hiphop.00056.mp3',\n",
       "  './hiphop/hiphop.00038.mp3',\n",
       "  './hiphop/hiphop.00086.mp3',\n",
       "  './hiphop/hiphop.00091.mp3',\n",
       "  './hiphop/hiphop.00037.mp3',\n",
       "  './hiphop/hiphop.00016.mp3',\n",
       "  './hiphop/hiphop.00067.mp3',\n",
       "  './hiphop/hiphop.00082.mp3',\n",
       "  './hiphop/hiphop.00069.mp3',\n",
       "  './hiphop/hiphop.00005.mp3',\n",
       "  './hiphop/hiphop.00034.mp3',\n",
       "  './hiphop/hiphop.00065.mp3',\n",
       "  './hiphop/hiphop.00084.mp3',\n",
       "  './hiphop/hiphop.00021.mp3',\n",
       "  './hiphop/hiphop.00098.mp3',\n",
       "  './hiphop/hiphop.00045.mp3',\n",
       "  './hiphop/hiphop.00093.mp3',\n",
       "  './hiphop/hiphop.00099.mp3',\n",
       "  './hiphop/hiphop.00006.mp3',\n",
       "  './hiphop/hiphop.00003.mp3',\n",
       "  './hiphop/hiphop.00022.mp3',\n",
       "  './disco/disco.00047.mp3',\n",
       "  './disco/disco.00066.mp3',\n",
       "  './disco/disco.00027.mp3',\n",
       "  './disco/disco.00046.mp3',\n",
       "  './disco/disco.00067.mp3',\n",
       "  './disco/disco.00052.mp3',\n",
       "  './disco/disco.00086.mp3',\n",
       "  './disco/disco.00026.mp3',\n",
       "  './disco/disco.00060.mp3',\n",
       "  './disco/disco.00096.mp3',\n",
       "  './disco/disco.00076.mp3',\n",
       "  './disco/disco.00058.mp3',\n",
       "  './disco/disco.00097.mp3',\n",
       "  './disco/disco.00002.mp3',\n",
       "  './disco/disco.00032.mp3',\n",
       "  './disco/disco.00024.mp3',\n",
       "  './disco/disco.00091.mp3',\n",
       "  './disco/disco.00006.mp3',\n",
       "  './disco/disco.00078.mp3',\n",
       "  './disco/disco.00092.mp3',\n",
       "  './disco/disco.00020.mp3',\n",
       "  './disco/disco.00073.mp3',\n",
       "  './disco/disco.00057.mp3',\n",
       "  './disco/disco.00072.mp3',\n",
       "  './disco/disco.00011.mp3',\n",
       "  './disco/disco.00065.mp3',\n",
       "  './disco/disco.00068.mp3',\n",
       "  './disco/disco.00033.mp3',\n",
       "  './disco/disco.00083.mp3',\n",
       "  './disco/disco.00085.mp3',\n",
       "  './disco/disco.00093.mp3',\n",
       "  './disco/disco.00036.mp3',\n",
       "  './disco/disco.00037.mp3',\n",
       "  './disco/disco.00071.mp3',\n",
       "  './disco/disco.00088.mp3',\n",
       "  './disco/disco.00090.mp3',\n",
       "  './disco/disco.00008.mp3',\n",
       "  './disco/disco.00098.mp3',\n",
       "  './disco/disco.00022.mp3',\n",
       "  './disco/disco.00001.mp3',\n",
       "  './disco/disco.00061.mp3',\n",
       "  './disco/disco.00041.mp3',\n",
       "  './disco/disco.00082.mp3',\n",
       "  './disco/disco.00074.mp3',\n",
       "  './disco/disco.00042.mp3',\n",
       "  './disco/disco.00012.mp3',\n",
       "  './disco/disco.00000.mp3',\n",
       "  './disco/disco.00080.mp3',\n",
       "  './disco/disco.00095.mp3',\n",
       "  './disco/disco.00051.mp3',\n",
       "  './disco/disco.00040.mp3',\n",
       "  './disco/disco.00069.mp3',\n",
       "  './disco/disco.00028.mp3',\n",
       "  './disco/disco.00016.mp3',\n",
       "  './disco/disco.00062.mp3',\n",
       "  './disco/disco.00014.mp3',\n",
       "  './disco/disco.00007.mp3',\n",
       "  './disco/disco.00087.mp3',\n",
       "  './disco/disco.00049.mp3',\n",
       "  './disco/disco.00029.mp3',\n",
       "  './disco/disco.00018.mp3',\n",
       "  './disco/disco.00081.mp3',\n",
       "  './disco/disco.00039.mp3',\n",
       "  './disco/disco.00025.mp3',\n",
       "  './disco/disco.00050.mp3',\n",
       "  './disco/disco.00059.mp3',\n",
       "  './disco/disco.00015.mp3',\n",
       "  './disco/disco.00004.mp3',\n",
       "  './disco/disco.00070.mp3',\n",
       "  './disco/disco.00079.mp3',\n",
       "  './disco/disco.00043.mp3',\n",
       "  './disco/disco.00094.mp3',\n",
       "  './disco/disco.00064.mp3',\n",
       "  './disco/disco.00099.mp3',\n",
       "  './disco/disco.00034.mp3',\n",
       "  './disco/disco.00075.mp3',\n",
       "  './disco/disco.00013.mp3',\n",
       "  './disco/disco.00077.mp3',\n",
       "  './disco/disco.00045.mp3',\n",
       "  './disco/disco.00023.mp3',\n",
       "  './disco/disco.00009.mp3',\n",
       "  './disco/disco.00035.mp3',\n",
       "  './disco/disco.00031.mp3',\n",
       "  './disco/disco.00003.mp3',\n",
       "  './disco/disco.00089.mp3',\n",
       "  './disco/disco.00010.mp3',\n",
       "  './disco/disco.00063.mp3',\n",
       "  './disco/disco.00019.mp3',\n",
       "  './disco/disco.00054.mp3',\n",
       "  './disco/disco.00030.mp3',\n",
       "  './disco/disco.00048.mp3',\n",
       "  './disco/disco.00055.mp3',\n",
       "  './disco/disco.00044.mp3',\n",
       "  './disco/disco.00053.mp3',\n",
       "  './disco/disco.00017.mp3',\n",
       "  './disco/disco.00056.mp3',\n",
       "  './disco/disco.00084.mp3',\n",
       "  './disco/disco.00038.mp3',\n",
       "  './disco/disco.00021.mp3',\n",
       "  './disco/disco.00005.mp3',\n",
       "  './metal/metal.00058.mp3',\n",
       "  './metal/metal.00053.mp3',\n",
       "  './metal/metal.00059.mp3',\n",
       "  './metal/metal.00043.mp3',\n",
       "  './metal/metal.00086.mp3',\n",
       "  './metal/metal.00006.mp3',\n",
       "  './metal/metal.00035.mp3',\n",
       "  './metal/metal.00028.mp3',\n",
       "  './metal/metal.00048.mp3',\n",
       "  './metal/metal.00020.mp3',\n",
       "  './metal/metal.00052.mp3',\n",
       "  './metal/metal.00071.mp3',\n",
       "  './metal/metal.00080.mp3',\n",
       "  './metal/metal.00091.mp3',\n",
       "  './metal/metal.00065.mp3',\n",
       "  './metal/metal.00025.mp3',\n",
       "  './metal/metal.00083.mp3',\n",
       "  './metal/metal.00013.mp3',\n",
       "  './metal/metal.00030.mp3',\n",
       "  './metal/metal.00019.mp3',\n",
       "  './metal/metal.00072.mp3',\n",
       "  './metal/metal.00050.mp3',\n",
       "  './metal/metal.00024.mp3',\n",
       "  './metal/metal.00060.mp3',\n",
       "  './metal/metal.00045.mp3',\n",
       "  './metal/metal.00026.mp3',\n",
       "  './metal/metal.00081.mp3',\n",
       "  './metal/metal.00005.mp3',\n",
       "  './metal/metal.00015.mp3',\n",
       "  './metal/metal.00051.mp3',\n",
       "  './metal/metal.00097.mp3',\n",
       "  './metal/metal.00016.mp3',\n",
       "  './metal/metal.00036.mp3',\n",
       "  './metal/metal.00057.mp3',\n",
       "  './metal/metal.00040.mp3',\n",
       "  './metal/metal.00011.mp3',\n",
       "  './metal/metal.00032.mp3',\n",
       "  './metal/metal.00087.mp3',\n",
       "  './metal/metal.00061.mp3',\n",
       "  './metal/metal.00085.mp3',\n",
       "  './metal/metal.00004.mp3',\n",
       "  './metal/metal.00009.mp3',\n",
       "  './metal/metal.00038.mp3',\n",
       "  './metal/metal.00075.mp3',\n",
       "  './metal/metal.00039.mp3',\n",
       "  './metal/metal.00031.mp3',\n",
       "  './metal/metal.00084.mp3',\n",
       "  './metal/metal.00070.mp3',\n",
       "  './metal/metal.00055.mp3',\n",
       "  './metal/metal.00062.mp3',\n",
       "  './metal/metal.00041.mp3',\n",
       "  './metal/metal.00023.mp3',\n",
       "  './metal/metal.00090.mp3',\n",
       "  './metal/metal.00069.mp3',\n",
       "  './metal/metal.00079.mp3',\n",
       "  './metal/metal.00001.mp3',\n",
       "  './metal/metal.00088.mp3',\n",
       "  './metal/metal.00018.mp3',\n",
       "  './metal/metal.00063.mp3',\n",
       "  './metal/metal.00049.mp3',\n",
       "  './metal/metal.00096.mp3',\n",
       "  './metal/metal.00056.mp3',\n",
       "  './metal/metal.00077.mp3',\n",
       "  './metal/metal.00002.mp3',\n",
       "  './metal/metal.00010.mp3',\n",
       "  './metal/metal.00003.mp3',\n",
       "  './metal/metal.00037.mp3',\n",
       "  './metal/metal.00017.mp3',\n",
       "  './metal/metal.00073.mp3',\n",
       "  './metal/metal.00078.mp3',\n",
       "  './metal/metal.00008.mp3',\n",
       "  './metal/metal.00076.mp3',\n",
       "  './metal/metal.00022.mp3',\n",
       "  './metal/metal.00092.mp3',\n",
       "  './metal/metal.00042.mp3',\n",
       "  './metal/metal.00033.mp3',\n",
       "  './metal/metal.00074.mp3',\n",
       "  './metal/metal.00094.mp3',\n",
       "  './metal/metal.00027.mp3',\n",
       "  './metal/metal.00054.mp3',\n",
       "  './metal/metal.00064.mp3',\n",
       "  './metal/metal.00068.mp3',\n",
       "  './metal/metal.00089.mp3',\n",
       "  './metal/metal.00044.mp3',\n",
       "  './metal/metal.00047.mp3',\n",
       "  './metal/metal.00066.mp3',\n",
       "  './metal/metal.00000.mp3',\n",
       "  './metal/metal.00067.mp3',\n",
       "  './metal/metal.00099.mp3',\n",
       "  './metal/metal.00093.mp3',\n",
       "  './metal/metal.00046.mp3',\n",
       "  './metal/metal.00082.mp3',\n",
       "  './metal/metal.00012.mp3',\n",
       "  './metal/metal.00014.mp3',\n",
       "  './metal/metal.00034.mp3',\n",
       "  './metal/metal.00021.mp3',\n",
       "  './metal/metal.00007.mp3',\n",
       "  './metal/metal.00098.mp3',\n",
       "  './metal/metal.00029.mp3',\n",
       "  './metal/metal.00100.mp3',\n",
       "  './jazz/jazz.00026.mp3',\n",
       "  './jazz/jazz.00075.mp3',\n",
       "  './jazz/jazz.00030.mp3',\n",
       "  './jazz/jazz.00080.mp3',\n",
       "  './jazz/jazz.00042.mp3',\n",
       "  './jazz/jazz.00073.mp3',\n",
       "  './jazz/jazz.00014.mp3',\n",
       "  './jazz/jazz.00015.mp3',\n",
       "  './jazz/jazz.00007.mp3',\n",
       "  './jazz/jazz.00059.mp3',\n",
       "  './jazz/jazz.00021.mp3',\n",
       "  './jazz/jazz.00003.mp3',\n",
       "  './jazz/jazz.00091.mp3',\n",
       "  './jazz/jazz.00052.mp3',\n",
       "  './jazz/jazz.00041.mp3',\n",
       "  './jazz/jazz.00049.mp3',\n",
       "  './jazz/jazz.00088.mp3',\n",
       "  './jazz/jazz.00022.mp3',\n",
       "  './jazz/jazz.00004.mp3',\n",
       "  './jazz/jazz.00067.mp3',\n",
       "  './jazz/jazz.00043.mp3',\n",
       "  './jazz/jazz.00082.mp3',\n",
       "  './jazz/jazz.00083.mp3',\n",
       "  './jazz/jazz.00074.mp3',\n",
       "  './jazz/jazz.00077.mp3',\n",
       "  './jazz/jazz.00016.mp3',\n",
       "  './jazz/jazz.00098.mp3',\n",
       "  './jazz/jazz.00000.mp3',\n",
       "  './jazz/jazz.00096.mp3',\n",
       "  './jazz/jazz.00097.mp3',\n",
       "  './jazz/jazz.00090.mp3',\n",
       "  './jazz/jazz.00034.mp3',\n",
       "  './jazz/jazz.00028.mp3',\n",
       "  './jazz/jazz.00010.mp3',\n",
       "  './jazz/jazz.00070.mp3',\n",
       "  './jazz/jazz.00093.mp3',\n",
       "  './jazz/jazz.00008.mp3',\n",
       "  './jazz/jazz.00055.mp3',\n",
       "  './jazz/jazz.00094.mp3',\n",
       "  './jazz/jazz.00009.mp3',\n",
       "  './jazz/jazz.00085.mp3',\n",
       "  './jazz/jazz.00063.mp3',\n",
       "  './jazz/jazz.00011.mp3',\n",
       "  './jazz/jazz.00086.mp3',\n",
       "  './jazz/jazz.00047.mp3',\n",
       "  './jazz/jazz.00061.mp3',\n",
       "  './jazz/jazz.00056.mp3',\n",
       "  './jazz/jazz.00078.mp3',\n",
       "  './jazz/jazz.00054.mp3',\n",
       "  './jazz/jazz.00072.mp3',\n",
       "  './jazz/jazz.00020.mp3',\n",
       "  './jazz/jazz.00039.mp3',\n",
       "  './jazz/jazz.00019.mp3',\n",
       "  './jazz/jazz.00071.mp3',\n",
       "  './jazz/jazz.00065.mp3',\n",
       "  './jazz/jazz.00081.mp3',\n",
       "  './jazz/jazz.00035.mp3',\n",
       "  './jazz/jazz.00057.mp3',\n",
       "  './jazz/jazz.00023.mp3',\n",
       "  './jazz/jazz.00001.mp3',\n",
       "  './jazz/jazz.00068.mp3',\n",
       "  './jazz/jazz.00048.mp3',\n",
       "  './jazz/jazz.00002.mp3',\n",
       "  './jazz/jazz.00087.mp3',\n",
       "  './jazz/jazz.00053.mp3',\n",
       "  './jazz/jazz.00069.mp3',\n",
       "  './jazz/jazz.00095.mp3',\n",
       "  './jazz/jazz.00060.mp3',\n",
       "  './jazz/jazz.00089.mp3',\n",
       "  './jazz/jazz.00084.mp3',\n",
       "  './jazz/jazz.00058.mp3',\n",
       "  './jazz/jazz.00064.mp3',\n",
       "  './jazz/jazz.00006.mp3',\n",
       "  './jazz/jazz.00099.mp3',\n",
       "  './jazz/jazz.00018.mp3',\n",
       "  './jazz/jazz.00031.mp3',\n",
       "  './jazz/jazz.00044.mp3',\n",
       "  './jazz/jazz.00032.mp3',\n",
       "  './jazz/jazz.00038.mp3',\n",
       "  './jazz/jazz.00033.mp3',\n",
       "  './jazz/jazz.00051.mp3',\n",
       "  './jazz/jazz.00005.mp3',\n",
       "  './jazz/jazz.00012.mp3',\n",
       "  './jazz/jazz.00062.mp3',\n",
       "  './jazz/jazz.00029.mp3',\n",
       "  './jazz/jazz.00025.mp3',\n",
       "  './jazz/jazz.00024.mp3',\n",
       "  './jazz/jazz.00027.mp3',\n",
       "  './jazz/jazz.00092.mp3',\n",
       "  './jazz/jazz.00076.mp3',\n",
       "  './jazz/jazz.00046.mp3',\n",
       "  './jazz/jazz.00037.mp3',\n",
       "  './jazz/jazz.00036.mp3',\n",
       "  './jazz/jazz.00013.mp3',\n",
       "  './jazz/jazz.00066.mp3',\n",
       "  './jazz/jazz.00079.mp3',\n",
       "  './jazz/jazz.00017.mp3',\n",
       "  './jazz/jazz.00040.mp3',\n",
       "  './jazz/jazz.00045.mp3',\n",
       "  './jazz/jazz.00050.mp3',\n",
       "  './classical/classical.00070.mp3',\n",
       "  './classical/classical.00006.mp3',\n",
       "  './classical/classical.00045.mp3',\n",
       "  './classical/classical.00065.mp3',\n",
       "  './classical/classical.00077.mp3',\n",
       "  './classical/classical.00044.mp3',\n",
       "  './classical/classical.00082.mp3',\n",
       "  './classical/classical.00053.mp3',\n",
       "  './classical/classical.00021.mp3',\n",
       "  './classical/classical.00092.mp3',\n",
       "  './classical/classical.00078.mp3',\n",
       "  './classical/classical.00054.mp3',\n",
       "  './classical/classical.00074.mp3',\n",
       "  './classical/classical.00000.mp3',\n",
       "  './classical/classical.00089.mp3',\n",
       "  './classical/classical.00024.mp3',\n",
       "  './classical/classical.00020.mp3',\n",
       "  './classical/classical.00017.mp3',\n",
       "  './classical/classical.00069.mp3',\n",
       "  './classical/classical.00026.mp3',\n",
       "  './classical/classical.00018.mp3',\n",
       "  './classical/classical.00029.mp3',\n",
       "  './classical/classical.00052.mp3',\n",
       "  './classical/classical.00094.mp3',\n",
       "  './classical/classical.00073.mp3',\n",
       "  './classical/classical.00013.mp3',\n",
       "  './classical/classical.00022.mp3',\n",
       "  './classical/classical.00056.mp3',\n",
       "  './classical/classical.00075.mp3',\n",
       "  './classical/classical.00007.mp3',\n",
       "  './classical/classical.00050.mp3',\n",
       "  './classical/classical.00047.mp3',\n",
       "  './classical/classical.00025.mp3',\n",
       "  './classical/classical.00083.mp3',\n",
       "  './classical/classical.00060.mp3',\n",
       "  './classical/classical.00014.mp3',\n",
       "  './classical/classical.00057.mp3',\n",
       "  './classical/classical.00058.mp3',\n",
       "  './classical/classical.00027.mp3',\n",
       "  './classical/classical.00091.mp3',\n",
       "  './classical/classical.00086.mp3',\n",
       "  './classical/classical.00068.mp3',\n",
       "  './classical/classical.00031.mp3',\n",
       "  './classical/classical.00038.mp3',\n",
       "  './classical/classical.00071.mp3',\n",
       "  './classical/classical.00098.mp3',\n",
       "  './classical/classical.00011.mp3',\n",
       "  './classical/classical.00061.mp3',\n",
       "  './classical/classical.00002.mp3',\n",
       "  './classical/classical.00030.mp3',\n",
       "  './classical/classical.00093.mp3',\n",
       "  './classical/classical.00087.mp3',\n",
       "  './classical/classical.00096.mp3',\n",
       "  './classical/classical.00037.mp3',\n",
       "  './classical/classical.00036.mp3',\n",
       "  './classical/classical.00095.mp3',\n",
       "  './classical/classical.00028.mp3',\n",
       "  './classical/classical.00019.mp3',\n",
       "  './classical/classical.00012.mp3',\n",
       "  './classical/classical.00035.mp3',\n",
       "  './classical/classical.00016.mp3',\n",
       "  './classical/classical.00010.mp3',\n",
       "  './classical/classical.00040.mp3',\n",
       "  './classical/classical.00043.mp3',\n",
       "  './classical/classical.00062.mp3',\n",
       "  './classical/classical.00059.mp3',\n",
       "  './classical/classical.00079.mp3',\n",
       "  './classical/classical.00088.mp3',\n",
       "  './classical/classical.00097.mp3',\n",
       "  './classical/classical.00051.mp3',\n",
       "  './classical/classical.00041.mp3',\n",
       "  './classical/classical.00085.mp3',\n",
       "  './classical/classical.00033.mp3',\n",
       "  './classical/classical.00004.mp3',\n",
       "  './classical/classical.00048.mp3',\n",
       "  './classical/classical.00049.mp3',\n",
       "  './classical/classical.00084.mp3',\n",
       "  './classical/classical.00023.mp3',\n",
       "  './classical/classical.00055.mp3',\n",
       "  './classical/classical.00003.mp3',\n",
       "  './classical/classical.00081.mp3',\n",
       "  './classical/classical.00080.mp3',\n",
       "  './classical/classical.00001.mp3',\n",
       "  './classical/classical.00032.mp3',\n",
       "  './classical/classical.00064.mp3',\n",
       "  './classical/classical.00063.mp3',\n",
       "  './classical/classical.00090.mp3',\n",
       "  './classical/classical.00009.mp3',\n",
       "  './classical/classical.00099.mp3',\n",
       "  './classical/classical.00066.mp3',\n",
       "  './classical/classical.00072.mp3',\n",
       "  './classical/classical.00039.mp3',\n",
       "  './classical/classical.00034.mp3',\n",
       "  './classical/classical.00046.mp3',\n",
       "  './classical/classical.00008.mp3',\n",
       "  './classical/classical.00005.mp3',\n",
       "  './classical/classical.00076.mp3',\n",
       "  './classical/classical.00042.mp3',\n",
       "  './classical/classical.00015.mp3',\n",
       "  './classical/classical.00067.mp3',\n",
       "  './reggae/reggae.00073.mp3',\n",
       "  './reggae/reggae.00044.mp3',\n",
       "  './reggae/reggae.00014.mp3',\n",
       "  './reggae/reggae.00030.mp3',\n",
       "  './reggae/reggae.00068.mp3',\n",
       "  './reggae/reggae.00027.mp3',\n",
       "  './reggae/reggae.00034.mp3',\n",
       "  './reggae/reggae.00066.mp3',\n",
       "  './reggae/reggae.00038.mp3',\n",
       "  './reggae/reggae.00007.mp3',\n",
       "  './reggae/reggae.00063.mp3',\n",
       "  './reggae/reggae.00074.mp3',\n",
       "  './reggae/reggae.00090.mp3',\n",
       "  './reggae/reggae.00062.mp3',\n",
       "  './reggae/reggae.00086.mp3',\n",
       "  './reggae/reggae.00021.mp3',\n",
       "  './reggae/reggae.00033.mp3',\n",
       "  './reggae/reggae.00058.mp3',\n",
       "  './reggae/reggae.00029.mp3',\n",
       "  './reggae/reggae.00067.mp3',\n",
       "  './reggae/reggae.00023.mp3',\n",
       "  './reggae/reggae.00022.mp3',\n",
       "  './reggae/reggae.00028.mp3',\n",
       "  './reggae/reggae.00025.mp3',\n",
       "  './reggae/reggae.00024.mp3',\n",
       "  './reggae/reggae.00011.mp3',\n",
       "  './reggae/reggae.00078.mp3',\n",
       "  './reggae/reggae.00080.mp3',\n",
       "  './reggae/reggae.00057.mp3',\n",
       "  './reggae/reggae.00082.mp3',\n",
       "  './reggae/reggae.00016.mp3',\n",
       "  './reggae/reggae.00079.mp3',\n",
       "  './reggae/reggae.00039.mp3',\n",
       "  './reggae/reggae.00008.mp3',\n",
       "  './reggae/reggae.00012.mp3',\n",
       "  './reggae/reggae.00056.mp3',\n",
       "  './reggae/reggae.00059.mp3',\n",
       "  './reggae/reggae.00083.mp3',\n",
       "  './reggae/reggae.00010.mp3',\n",
       "  './reggae/reggae.00052.mp3',\n",
       "  './reggae/reggae.00095.mp3',\n",
       "  './reggae/reggae.00003.mp3',\n",
       "  './reggae/reggae.00001.mp3',\n",
       "  './reggae/reggae.00075.mp3',\n",
       "  './reggae/reggae.00065.mp3',\n",
       "  './reggae/reggae.00060.mp3',\n",
       "  './reggae/reggae.00081.mp3',\n",
       "  './reggae/reggae.00048.mp3',\n",
       "  './reggae/reggae.00019.mp3',\n",
       "  './reggae/reggae.00045.mp3',\n",
       "  './reggae/reggae.00091.mp3',\n",
       "  './reggae/reggae.00097.mp3',\n",
       "  './reggae/reggae.00037.mp3',\n",
       "  './reggae/reggae.00018.mp3',\n",
       "  './reggae/reggae.00049.mp3',\n",
       "  './reggae/reggae.00031.mp3',\n",
       "  './reggae/reggae.00017.mp3',\n",
       "  './reggae/reggae.00042.mp3',\n",
       "  './reggae/reggae.00004.mp3',\n",
       "  './reggae/reggae.00088.mp3',\n",
       "  './reggae/reggae.00085.mp3',\n",
       "  './reggae/reggae.00092.mp3',\n",
       "  './reggae/reggae.00070.mp3',\n",
       "  './reggae/reggae.00093.mp3',\n",
       "  './reggae/reggae.00084.mp3',\n",
       "  './reggae/reggae.00064.mp3',\n",
       "  './reggae/reggae.00050.mp3',\n",
       "  './reggae/reggae.00032.mp3',\n",
       "  './reggae/reggae.00046.mp3',\n",
       "  './reggae/reggae.00035.mp3',\n",
       "  './reggae/reggae.00009.mp3',\n",
       "  './reggae/reggae.00076.mp3',\n",
       "  './reggae/reggae.00089.mp3',\n",
       "  './reggae/reggae.00047.mp3',\n",
       "  './reggae/reggae.00043.mp3',\n",
       "  './reggae/reggae.00005.mp3',\n",
       "  './reggae/reggae.00071.mp3',\n",
       "  './reggae/reggae.00000.mp3',\n",
       "  './reggae/reggae.00040.mp3',\n",
       "  './reggae/reggae.00072.mp3',\n",
       "  './reggae/reggae.00013.mp3',\n",
       "  './reggae/reggae.00015.mp3',\n",
       "  './reggae/reggae.00077.mp3',\n",
       "  './reggae/reggae.00099.mp3',\n",
       "  './reggae/reggae.00096.mp3',\n",
       "  './reggae/reggae.00006.mp3',\n",
       "  './reggae/reggae.00061.mp3',\n",
       "  './reggae/reggae.00002.mp3',\n",
       "  './reggae/reggae.00094.mp3',\n",
       "  './reggae/reggae.00051.mp3',\n",
       "  './reggae/reggae.00055.mp3',\n",
       "  './reggae/reggae.00026.mp3',\n",
       "  './reggae/reggae.00036.mp3',\n",
       "  './reggae/reggae.00087.mp3',\n",
       "  './reggae/reggae.00020.mp3',\n",
       "  './reggae/reggae.00053.mp3',\n",
       "  './reggae/reggae.00069.mp3',\n",
       "  './reggae/reggae.00054.mp3',\n",
       "  './reggae/reggae.00041.mp3',\n",
       "  './reggae/reggae.00098.mp3',\n",
       "  './pop/pop.00066.mp3',\n",
       "  './pop/pop.00002.mp3',\n",
       "  './pop/pop.00082.mp3',\n",
       "  './pop/pop.00093.mp3',\n",
       "  './pop/pop.00088.mp3',\n",
       "  './pop/pop.00025.mp3',\n",
       "  './pop/pop.00083.mp3',\n",
       "  './pop/pop.00061.mp3',\n",
       "  './pop/pop.00076.mp3',\n",
       "  './pop/pop.00069.mp3',\n",
       "  './pop/pop.00065.mp3',\n",
       "  './pop/pop.00053.mp3',\n",
       "  './pop/pop.00050.mp3',\n",
       "  './pop/pop.00058.mp3',\n",
       "  './pop/pop.00018.mp3',\n",
       "  './pop/pop.00052.mp3',\n",
       "  './pop/pop.00008.mp3',\n",
       "  './pop/pop.00094.mp3',\n",
       "  './pop/pop.00022.mp3',\n",
       "  './pop/pop.00028.mp3',\n",
       "  './pop/pop.00091.mp3',\n",
       "  './pop/pop.00090.mp3',\n",
       "  './pop/pop.00057.mp3',\n",
       "  './pop/pop.00005.mp3',\n",
       "  './pop/pop.00027.mp3',\n",
       "  './pop/pop.00011.mp3',\n",
       "  './pop/pop.00086.mp3',\n",
       "  './pop/pop.00074.mp3',\n",
       "  './pop/pop.00084.mp3',\n",
       "  './pop/pop.00099.mp3',\n",
       "  './pop/pop.00044.mp3',\n",
       "  './pop/pop.00024.mp3',\n",
       "  './pop/pop.00075.mp3',\n",
       "  './pop/pop.00095.mp3',\n",
       "  './pop/pop.00039.mp3',\n",
       "  './pop/pop.00045.mp3',\n",
       "  './pop/pop.00009.mp3',\n",
       "  './pop/pop.00034.mp3',\n",
       "  './pop/pop.00081.mp3',\n",
       "  './pop/pop.00042.mp3',\n",
       "  './pop/pop.00001.mp3',\n",
       "  './pop/pop.00004.mp3',\n",
       "  './pop/pop.00020.mp3',\n",
       "  './pop/pop.00068.mp3',\n",
       "  './pop/pop.00041.mp3',\n",
       "  './pop/pop.00089.mp3',\n",
       "  './pop/pop.00019.mp3',\n",
       "  './pop/pop.00012.mp3',\n",
       "  './pop/pop.00078.mp3',\n",
       "  './pop/pop.00051.mp3',\n",
       "  './pop/pop.00029.mp3',\n",
       "  './pop/pop.00033.mp3',\n",
       "  './pop/pop.00067.mp3',\n",
       "  './pop/pop.00055.mp3',\n",
       "  './pop/pop.00060.mp3',\n",
       "  './pop/pop.00097.mp3',\n",
       "  './pop/pop.00030.mp3',\n",
       "  './pop/pop.00015.mp3',\n",
       "  './pop/pop.00026.mp3',\n",
       "  './pop/pop.00092.mp3',\n",
       "  './pop/pop.00071.mp3',\n",
       "  './pop/pop.00096.mp3',\n",
       "  './pop/pop.00072.mp3',\n",
       "  './pop/pop.00064.mp3',\n",
       "  './pop/pop.00035.mp3',\n",
       "  './pop/pop.00007.mp3',\n",
       "  './pop/pop.00062.mp3',\n",
       "  './pop/pop.00000.mp3',\n",
       "  './pop/pop.00032.mp3',\n",
       "  './pop/pop.00037.mp3',\n",
       "  './pop/pop.00087.mp3',\n",
       "  './pop/pop.00063.mp3',\n",
       "  './pop/pop.00036.mp3',\n",
       "  './pop/pop.00046.mp3',\n",
       "  './pop/pop.00023.mp3',\n",
       "  './pop/pop.00049.mp3',\n",
       "  './pop/pop.00070.mp3',\n",
       "  './pop/pop.00043.mp3',\n",
       "  './pop/pop.00038.mp3',\n",
       "  './pop/pop.00080.mp3',\n",
       "  './pop/pop.00014.mp3',\n",
       "  './pop/pop.00040.mp3',\n",
       "  './pop/pop.00098.mp3',\n",
       "  './pop/pop.00013.mp3',\n",
       "  './pop/pop.00010.mp3',\n",
       "  './pop/pop.00047.mp3',\n",
       "  './pop/pop.00021.mp3',\n",
       "  './pop/pop.00048.mp3',\n",
       "  './pop/pop.00054.mp3',\n",
       "  './pop/pop.00085.mp3',\n",
       "  './pop/pop.00017.mp3',\n",
       "  './pop/pop.00031.mp3',\n",
       "  './pop/pop.00056.mp3',\n",
       "  './pop/pop.00006.mp3',\n",
       "  './pop/pop.00059.mp3',\n",
       "  './pop/pop.00077.mp3',\n",
       "  './pop/pop.00016.mp3',\n",
       "  './pop/pop.00079.mp3',\n",
       "  './pop/pop.00073.mp3',\n",
       "  './pop/pop.00003.mp3',\n",
       "  './blues/blues.00053.mp3',\n",
       "  './blues/blues.00039.mp3',\n",
       "  './blues/blues.00066.mp3',\n",
       "  './blues/blues.00011.mp3',\n",
       "  './blues/blues.00005.mp3',\n",
       "  './blues/blues.00000.mp3',\n",
       "  './blues/blues.00029.mp3',\n",
       "  './blues/blues.00086.mp3',\n",
       "  './blues/blues.00052.mp3',\n",
       "  './blues/blues.00051.mp3',\n",
       "  './blues/blues.00087.mp3',\n",
       "  './blues/blues.00034.mp3',\n",
       "  './blues/blues.00037.mp3',\n",
       "  './blues/blues.00045.mp3',\n",
       "  './blues/blues.00082.mp3',\n",
       "  './blues/blues.00028.mp3',\n",
       "  './blues/blues.00054.mp3',\n",
       "  './blues/blues.00032.mp3',\n",
       "  './blues/blues.00060.mp3',\n",
       "  './blues/blues.00081.mp3',\n",
       "  './blues/blues.00092.mp3',\n",
       "  './blues/blues.00030.mp3',\n",
       "  './blues/blues.00017.mp3',\n",
       "  './blues/blues.00036.mp3',\n",
       "  './blues/blues.00001.mp3',\n",
       "  './blues/blues.00004.mp3',\n",
       "  './blues/blues.00091.mp3',\n",
       "  './blues/blues.00093.mp3',\n",
       "  './blues/blues.00077.mp3',\n",
       "  './blues/blues.00064.mp3',\n",
       "  './blues/blues.00020.mp3',\n",
       "  './blues/blues.00084.mp3',\n",
       "  './blues/blues.00043.mp3',\n",
       "  './blues/blues.00035.mp3',\n",
       "  './blues/blues.00042.mp3',\n",
       "  './blues/blues.00022.mp3',\n",
       "  './blues/blues.00023.mp3',\n",
       "  './blues/blues.00059.mp3',\n",
       "  './blues/blues.00015.mp3',\n",
       "  './blues/blues.00072.mp3',\n",
       "  './blues/blues.00048.mp3',\n",
       "  './blues/blues.00047.mp3',\n",
       "  './blues/blues.00044.mp3',\n",
       "  './blues/blues.00078.mp3',\n",
       "  './blues/blues.00065.mp3',\n",
       "  './blues/blues.00056.mp3',\n",
       "  './blues/blues.00003.mp3',\n",
       "  './blues/blues.00019.mp3',\n",
       "  './blues/blues.00016.mp3',\n",
       "  './blues/blues.00097.mp3',\n",
       "  './blues/blues.00062.mp3',\n",
       "  './blues/blues.00040.mp3',\n",
       "  './blues/blues.00069.mp3',\n",
       "  './blues/blues.00006.mp3',\n",
       "  './blues/blues.00098.mp3',\n",
       "  './blues/blues.00057.mp3',\n",
       "  './blues/blues.00095.mp3',\n",
       "  './blues/blues.00099.mp3',\n",
       "  './blues/blues.00008.mp3',\n",
       "  './blues/blues.00013.mp3',\n",
       "  './blues/blues.00074.mp3',\n",
       "  './blues/blues.00096.mp3',\n",
       "  './blues/blues.00070.mp3',\n",
       "  './blues/blues.00088.mp3',\n",
       "  './blues/blues.00010.mp3',\n",
       "  './blues/blues.00038.mp3',\n",
       "  './blues/blues.00046.mp3',\n",
       "  './blues/blues.00073.mp3',\n",
       "  './blues/blues.00083.mp3',\n",
       "  './blues/blues.00007.mp3',\n",
       "  './blues/blues.00041.mp3',\n",
       "  './blues/blues.00049.mp3',\n",
       "  './blues/blues.00009.mp3',\n",
       "  './blues/blues.00090.mp3',\n",
       "  './blues/blues.00012.mp3',\n",
       "  './blues/blues.00085.mp3',\n",
       "  './blues/blues.00089.mp3',\n",
       "  './blues/blues.00050.mp3',\n",
       "  './blues/blues.00076.mp3',\n",
       "  './blues/blues.00080.mp3',\n",
       "  './blues/blues.00021.mp3',\n",
       "  './blues/blues.00061.mp3',\n",
       "  './blues/blues.00067.mp3',\n",
       "  './blues/blues.00063.mp3',\n",
       "  './blues/blues.00024.mp3',\n",
       "  './blues/blues.00031.mp3',\n",
       "  './blues/blues.00071.mp3',\n",
       "  './blues/blues.00027.mp3',\n",
       "  './blues/blues.00002.mp3',\n",
       "  './blues/blues.00014.mp3',\n",
       "  './blues/blues.00058.mp3',\n",
       "  './blues/blues.00025.mp3',\n",
       "  './blues/blues.00079.mp3',\n",
       "  './blues/blues.00094.mp3',\n",
       "  './blues/blues.00068.mp3',\n",
       "  './blues/blues.00026.mp3',\n",
       "  './blues/blues.00018.mp3',\n",
       "  './blues/blues.00055.mp3',\n",
       "  './blues/blues.00075.mp3',\n",
       "  './blues/blues.00033.mp3',\n",
       "  './country/country.00021.mp3',\n",
       "  './country/country.00057.mp3',\n",
       "  './country/country.00060.mp3',\n",
       "  './country/country.00000.mp3',\n",
       "  './country/country.00006.mp3',\n",
       "  './country/country.00076.mp3',\n",
       "  './country/country.00061.mp3',\n",
       "  './country/country.00085.mp3',\n",
       "  './country/country.00091.mp3',\n",
       "  './country/country.00009.mp3',\n",
       "  './country/country.00087.mp3',\n",
       "  './country/country.00016.mp3',\n",
       "  './country/country.00005.mp3',\n",
       "  './country/country.00064.mp3',\n",
       "  './country/country.00088.mp3',\n",
       "  './country/country.00046.mp3',\n",
       "  './country/country.00097.mp3',\n",
       "  './country/country.00036.mp3',\n",
       "  './country/country.00096.mp3',\n",
       "  './country/country.00074.mp3',\n",
       "  './country/country.00070.mp3',\n",
       "  './country/country.00043.mp3',\n",
       "  './country/country.00079.mp3',\n",
       "  './country/country.00083.mp3',\n",
       "  './country/country.00038.mp3',\n",
       "  './country/country.00054.mp3',\n",
       "  './country/country.00062.mp3',\n",
       "  './country/country.00026.mp3',\n",
       "  './country/country.00086.mp3',\n",
       "  './country/country.00053.mp3',\n",
       "  './country/country.00014.mp3',\n",
       "  './country/country.00045.mp3',\n",
       "  './country/country.00001.mp3',\n",
       "  './country/country.00024.mp3',\n",
       "  './country/country.00004.mp3',\n",
       "  './country/country.00056.mp3',\n",
       "  './country/country.00002.mp3',\n",
       "  './country/country.00013.mp3',\n",
       "  './country/country.00041.mp3',\n",
       "  './country/country.00029.mp3',\n",
       "  './country/country.00037.mp3',\n",
       "  './country/country.00023.mp3',\n",
       "  './country/country.00050.mp3',\n",
       "  './country/country.00098.mp3',\n",
       "  './country/country.00081.mp3',\n",
       "  './country/country.00008.mp3',\n",
       "  './country/country.00073.mp3',\n",
       "  './country/country.00055.mp3',\n",
       "  './country/country.00092.mp3',\n",
       "  './country/country.00030.mp3',\n",
       "  './country/country.00031.mp3',\n",
       "  './country/country.00080.mp3',\n",
       "  './country/country.00007.mp3',\n",
       "  './country/country.00022.mp3',\n",
       "  './country/country.00044.mp3',\n",
       "  './country/country.00049.mp3',\n",
       "  './country/country.00048.mp3',\n",
       "  './country/country.00063.mp3',\n",
       "  './country/country.00019.mp3',\n",
       "  './country/country.00090.mp3',\n",
       "  './country/country.00072.mp3',\n",
       "  './country/country.00003.mp3',\n",
       "  './country/country.00011.mp3',\n",
       "  './country/country.00035.mp3',\n",
       "  './country/country.00066.mp3',\n",
       "  './country/country.00069.mp3',\n",
       "  './country/country.00071.mp3',\n",
       "  './country/country.00010.mp3',\n",
       "  './country/country.00047.mp3',\n",
       "  './country/country.00051.mp3',\n",
       "  './country/country.00012.mp3',\n",
       "  './country/country.00089.mp3',\n",
       "  './country/country.00099.mp3',\n",
       "  './country/country.00068.mp3',\n",
       "  './country/country.00032.mp3',\n",
       "  './country/country.00082.mp3',\n",
       "  './country/country.00020.mp3',\n",
       "  './country/country.00094.mp3',\n",
       "  './country/country.00017.mp3',\n",
       "  './country/country.00078.mp3',\n",
       "  './country/country.00052.mp3',\n",
       "  './country/country.00034.mp3',\n",
       "  './country/country.00028.mp3',\n",
       "  './country/country.00093.mp3',\n",
       "  './country/country.00040.mp3',\n",
       "  './country/country.00065.mp3',\n",
       "  './country/country.00059.mp3',\n",
       "  './country/country.00067.mp3',\n",
       "  './country/country.00027.mp3',\n",
       "  './country/country.00039.mp3',\n",
       "  './country/country.00058.mp3',\n",
       "  './country/country.00033.mp3',\n",
       "  './country/country.00077.mp3',\n",
       "  './country/country.00025.mp3',\n",
       "  './country/country.00018.mp3',\n",
       "  './country/country.00042.mp3',\n",
       "  './country/country.00075.mp3',\n",
       "  './country/country.00095.mp3',\n",
       "  './country/country.00015.mp3',\n",
       "  './country/country.00084.mp3'],\n",
       " ['rock',\n",
       "  'rock',\n",
       "  'rock',\n",
       "  'rock',\n",
       "  'rock',\n",
       "  'rock',\n",
       "  'rock',\n",
       "  'rock',\n",
       "  'rock',\n",
       "  'rock',\n",
       "  'rock',\n",
       "  'rock',\n",
       "  'rock',\n",
       "  'rock',\n",
       "  'rock',\n",
       "  'rock',\n",
       "  'rock',\n",
       "  'rock',\n",
       "  'rock',\n",
       "  'rock',\n",
       "  'rock',\n",
       "  'rock',\n",
       "  'rock',\n",
       "  'rock',\n",
       "  'rock',\n",
       "  'rock',\n",
       "  'rock',\n",
       "  'rock',\n",
       "  'rock',\n",
       "  'rock',\n",
       "  'rock',\n",
       "  'rock',\n",
       "  'rock',\n",
       "  'rock',\n",
       "  'rock',\n",
       "  'rock',\n",
       "  'rock',\n",
       "  'rock',\n",
       "  'rock',\n",
       "  'rock',\n",
       "  'rock',\n",
       "  'rock',\n",
       "  'rock',\n",
       "  'rock',\n",
       "  'rock',\n",
       "  'rock',\n",
       "  'rock',\n",
       "  'rock',\n",
       "  'rock',\n",
       "  'rock',\n",
       "  'rock',\n",
       "  'rock',\n",
       "  'rock',\n",
       "  'rock',\n",
       "  'rock',\n",
       "  'rock',\n",
       "  'rock',\n",
       "  'rock',\n",
       "  'rock',\n",
       "  'rock',\n",
       "  'rock',\n",
       "  'rock',\n",
       "  'rock',\n",
       "  'rock',\n",
       "  'rock',\n",
       "  'rock',\n",
       "  'rock',\n",
       "  'rock',\n",
       "  'rock',\n",
       "  'rock',\n",
       "  'rock',\n",
       "  'rock',\n",
       "  'rock',\n",
       "  'rock',\n",
       "  'rock',\n",
       "  'rock',\n",
       "  'rock',\n",
       "  'rock',\n",
       "  'rock',\n",
       "  'rock',\n",
       "  'rock',\n",
       "  'rock',\n",
       "  'rock',\n",
       "  'rock',\n",
       "  'rock',\n",
       "  'rock',\n",
       "  'rock',\n",
       "  'rock',\n",
       "  'rock',\n",
       "  'rock',\n",
       "  'rock',\n",
       "  'rock',\n",
       "  'rock',\n",
       "  'rock',\n",
       "  'rock',\n",
       "  'rock',\n",
       "  'rock',\n",
       "  'rock',\n",
       "  'rock',\n",
       "  'rock',\n",
       "  'hiphop',\n",
       "  'hiphop',\n",
       "  'hiphop',\n",
       "  'hiphop',\n",
       "  'hiphop',\n",
       "  'hiphop',\n",
       "  'hiphop',\n",
       "  'hiphop',\n",
       "  'hiphop',\n",
       "  'hiphop',\n",
       "  'hiphop',\n",
       "  'hiphop',\n",
       "  'hiphop',\n",
       "  'hiphop',\n",
       "  'hiphop',\n",
       "  'hiphop',\n",
       "  'hiphop',\n",
       "  'hiphop',\n",
       "  'hiphop',\n",
       "  'hiphop',\n",
       "  'hiphop',\n",
       "  'hiphop',\n",
       "  'hiphop',\n",
       "  'hiphop',\n",
       "  'hiphop',\n",
       "  'hiphop',\n",
       "  'hiphop',\n",
       "  'hiphop',\n",
       "  'hiphop',\n",
       "  'hiphop',\n",
       "  'hiphop',\n",
       "  'hiphop',\n",
       "  'hiphop',\n",
       "  'hiphop',\n",
       "  'hiphop',\n",
       "  'hiphop',\n",
       "  'hiphop',\n",
       "  'hiphop',\n",
       "  'hiphop',\n",
       "  'hiphop',\n",
       "  'hiphop',\n",
       "  'hiphop',\n",
       "  'hiphop',\n",
       "  'hiphop',\n",
       "  'hiphop',\n",
       "  'hiphop',\n",
       "  'hiphop',\n",
       "  'hiphop',\n",
       "  'hiphop',\n",
       "  'hiphop',\n",
       "  'hiphop',\n",
       "  'hiphop',\n",
       "  'hiphop',\n",
       "  'hiphop',\n",
       "  'hiphop',\n",
       "  'hiphop',\n",
       "  'hiphop',\n",
       "  'hiphop',\n",
       "  'hiphop',\n",
       "  'hiphop',\n",
       "  'hiphop',\n",
       "  'hiphop',\n",
       "  'hiphop',\n",
       "  'hiphop',\n",
       "  'hiphop',\n",
       "  'hiphop',\n",
       "  'hiphop',\n",
       "  'hiphop',\n",
       "  'hiphop',\n",
       "  'hiphop',\n",
       "  'hiphop',\n",
       "  'hiphop',\n",
       "  'hiphop',\n",
       "  'hiphop',\n",
       "  'hiphop',\n",
       "  'hiphop',\n",
       "  'hiphop',\n",
       "  'hiphop',\n",
       "  'hiphop',\n",
       "  'hiphop',\n",
       "  'hiphop',\n",
       "  'hiphop',\n",
       "  'hiphop',\n",
       "  'hiphop',\n",
       "  'hiphop',\n",
       "  'hiphop',\n",
       "  'hiphop',\n",
       "  'hiphop',\n",
       "  'hiphop',\n",
       "  'hiphop',\n",
       "  'hiphop',\n",
       "  'hiphop',\n",
       "  'hiphop',\n",
       "  'hiphop',\n",
       "  'hiphop',\n",
       "  'hiphop',\n",
       "  'hiphop',\n",
       "  'hiphop',\n",
       "  'hiphop',\n",
       "  'hiphop',\n",
       "  'disco',\n",
       "  'disco',\n",
       "  'disco',\n",
       "  'disco',\n",
       "  'disco',\n",
       "  'disco',\n",
       "  'disco',\n",
       "  'disco',\n",
       "  'disco',\n",
       "  'disco',\n",
       "  'disco',\n",
       "  'disco',\n",
       "  'disco',\n",
       "  'disco',\n",
       "  'disco',\n",
       "  'disco',\n",
       "  'disco',\n",
       "  'disco',\n",
       "  'disco',\n",
       "  'disco',\n",
       "  'disco',\n",
       "  'disco',\n",
       "  'disco',\n",
       "  'disco',\n",
       "  'disco',\n",
       "  'disco',\n",
       "  'disco',\n",
       "  'disco',\n",
       "  'disco',\n",
       "  'disco',\n",
       "  'disco',\n",
       "  'disco',\n",
       "  'disco',\n",
       "  'disco',\n",
       "  'disco',\n",
       "  'disco',\n",
       "  'disco',\n",
       "  'disco',\n",
       "  'disco',\n",
       "  'disco',\n",
       "  'disco',\n",
       "  'disco',\n",
       "  'disco',\n",
       "  'disco',\n",
       "  'disco',\n",
       "  'disco',\n",
       "  'disco',\n",
       "  'disco',\n",
       "  'disco',\n",
       "  'disco',\n",
       "  'disco',\n",
       "  'disco',\n",
       "  'disco',\n",
       "  'disco',\n",
       "  'disco',\n",
       "  'disco',\n",
       "  'disco',\n",
       "  'disco',\n",
       "  'disco',\n",
       "  'disco',\n",
       "  'disco',\n",
       "  'disco',\n",
       "  'disco',\n",
       "  'disco',\n",
       "  'disco',\n",
       "  'disco',\n",
       "  'disco',\n",
       "  'disco',\n",
       "  'disco',\n",
       "  'disco',\n",
       "  'disco',\n",
       "  'disco',\n",
       "  'disco',\n",
       "  'disco',\n",
       "  'disco',\n",
       "  'disco',\n",
       "  'disco',\n",
       "  'disco',\n",
       "  'disco',\n",
       "  'disco',\n",
       "  'disco',\n",
       "  'disco',\n",
       "  'disco',\n",
       "  'disco',\n",
       "  'disco',\n",
       "  'disco',\n",
       "  'disco',\n",
       "  'disco',\n",
       "  'disco',\n",
       "  'disco',\n",
       "  'disco',\n",
       "  'disco',\n",
       "  'disco',\n",
       "  'disco',\n",
       "  'disco',\n",
       "  'disco',\n",
       "  'disco',\n",
       "  'disco',\n",
       "  'disco',\n",
       "  'disco',\n",
       "  'metal',\n",
       "  'metal',\n",
       "  'metal',\n",
       "  'metal',\n",
       "  'metal',\n",
       "  'metal',\n",
       "  'metal',\n",
       "  'metal',\n",
       "  'metal',\n",
       "  'metal',\n",
       "  'metal',\n",
       "  'metal',\n",
       "  'metal',\n",
       "  'metal',\n",
       "  'metal',\n",
       "  'metal',\n",
       "  'metal',\n",
       "  'metal',\n",
       "  'metal',\n",
       "  'metal',\n",
       "  'metal',\n",
       "  'metal',\n",
       "  'metal',\n",
       "  'metal',\n",
       "  'metal',\n",
       "  'metal',\n",
       "  'metal',\n",
       "  'metal',\n",
       "  'metal',\n",
       "  'metal',\n",
       "  'metal',\n",
       "  'metal',\n",
       "  'metal',\n",
       "  'metal',\n",
       "  'metal',\n",
       "  'metal',\n",
       "  'metal',\n",
       "  'metal',\n",
       "  'metal',\n",
       "  'metal',\n",
       "  'metal',\n",
       "  'metal',\n",
       "  'metal',\n",
       "  'metal',\n",
       "  'metal',\n",
       "  'metal',\n",
       "  'metal',\n",
       "  'metal',\n",
       "  'metal',\n",
       "  'metal',\n",
       "  'metal',\n",
       "  'metal',\n",
       "  'metal',\n",
       "  'metal',\n",
       "  'metal',\n",
       "  'metal',\n",
       "  'metal',\n",
       "  'metal',\n",
       "  'metal',\n",
       "  'metal',\n",
       "  'metal',\n",
       "  'metal',\n",
       "  'metal',\n",
       "  'metal',\n",
       "  'metal',\n",
       "  'metal',\n",
       "  'metal',\n",
       "  'metal',\n",
       "  'metal',\n",
       "  'metal',\n",
       "  'metal',\n",
       "  'metal',\n",
       "  'metal',\n",
       "  'metal',\n",
       "  'metal',\n",
       "  'metal',\n",
       "  'metal',\n",
       "  'metal',\n",
       "  'metal',\n",
       "  'metal',\n",
       "  'metal',\n",
       "  'metal',\n",
       "  'metal',\n",
       "  'metal',\n",
       "  'metal',\n",
       "  'metal',\n",
       "  'metal',\n",
       "  'metal',\n",
       "  'metal',\n",
       "  'metal',\n",
       "  'metal',\n",
       "  'metal',\n",
       "  'metal',\n",
       "  'metal',\n",
       "  'metal',\n",
       "  'metal',\n",
       "  'metal',\n",
       "  'metal',\n",
       "  'metal',\n",
       "  'metal',\n",
       "  'jazz',\n",
       "  'jazz',\n",
       "  'jazz',\n",
       "  'jazz',\n",
       "  'jazz',\n",
       "  'jazz',\n",
       "  'jazz',\n",
       "  'jazz',\n",
       "  'jazz',\n",
       "  'jazz',\n",
       "  'jazz',\n",
       "  'jazz',\n",
       "  'jazz',\n",
       "  'jazz',\n",
       "  'jazz',\n",
       "  'jazz',\n",
       "  'jazz',\n",
       "  'jazz',\n",
       "  'jazz',\n",
       "  'jazz',\n",
       "  'jazz',\n",
       "  'jazz',\n",
       "  'jazz',\n",
       "  'jazz',\n",
       "  'jazz',\n",
       "  'jazz',\n",
       "  'jazz',\n",
       "  'jazz',\n",
       "  'jazz',\n",
       "  'jazz',\n",
       "  'jazz',\n",
       "  'jazz',\n",
       "  'jazz',\n",
       "  'jazz',\n",
       "  'jazz',\n",
       "  'jazz',\n",
       "  'jazz',\n",
       "  'jazz',\n",
       "  'jazz',\n",
       "  'jazz',\n",
       "  'jazz',\n",
       "  'jazz',\n",
       "  'jazz',\n",
       "  'jazz',\n",
       "  'jazz',\n",
       "  'jazz',\n",
       "  'jazz',\n",
       "  'jazz',\n",
       "  'jazz',\n",
       "  'jazz',\n",
       "  'jazz',\n",
       "  'jazz',\n",
       "  'jazz',\n",
       "  'jazz',\n",
       "  'jazz',\n",
       "  'jazz',\n",
       "  'jazz',\n",
       "  'jazz',\n",
       "  'jazz',\n",
       "  'jazz',\n",
       "  'jazz',\n",
       "  'jazz',\n",
       "  'jazz',\n",
       "  'jazz',\n",
       "  'jazz',\n",
       "  'jazz',\n",
       "  'jazz',\n",
       "  'jazz',\n",
       "  'jazz',\n",
       "  'jazz',\n",
       "  'jazz',\n",
       "  'jazz',\n",
       "  'jazz',\n",
       "  'jazz',\n",
       "  'jazz',\n",
       "  'jazz',\n",
       "  'jazz',\n",
       "  'jazz',\n",
       "  'jazz',\n",
       "  'jazz',\n",
       "  'jazz',\n",
       "  'jazz',\n",
       "  'jazz',\n",
       "  'jazz',\n",
       "  'jazz',\n",
       "  'jazz',\n",
       "  'jazz',\n",
       "  'jazz',\n",
       "  'jazz',\n",
       "  'jazz',\n",
       "  'jazz',\n",
       "  'jazz',\n",
       "  'jazz',\n",
       "  'jazz',\n",
       "  'jazz',\n",
       "  'jazz',\n",
       "  'jazz',\n",
       "  'jazz',\n",
       "  'jazz',\n",
       "  'jazz',\n",
       "  'classical',\n",
       "  'classical',\n",
       "  'classical',\n",
       "  'classical',\n",
       "  'classical',\n",
       "  'classical',\n",
       "  'classical',\n",
       "  'classical',\n",
       "  'classical',\n",
       "  'classical',\n",
       "  'classical',\n",
       "  'classical',\n",
       "  'classical',\n",
       "  'classical',\n",
       "  'classical',\n",
       "  'classical',\n",
       "  'classical',\n",
       "  'classical',\n",
       "  'classical',\n",
       "  'classical',\n",
       "  'classical',\n",
       "  'classical',\n",
       "  'classical',\n",
       "  'classical',\n",
       "  'classical',\n",
       "  'classical',\n",
       "  'classical',\n",
       "  'classical',\n",
       "  'classical',\n",
       "  'classical',\n",
       "  'classical',\n",
       "  'classical',\n",
       "  'classical',\n",
       "  'classical',\n",
       "  'classical',\n",
       "  'classical',\n",
       "  'classical',\n",
       "  'classical',\n",
       "  'classical',\n",
       "  'classical',\n",
       "  'classical',\n",
       "  'classical',\n",
       "  'classical',\n",
       "  'classical',\n",
       "  'classical',\n",
       "  'classical',\n",
       "  'classical',\n",
       "  'classical',\n",
       "  'classical',\n",
       "  'classical',\n",
       "  'classical',\n",
       "  'classical',\n",
       "  'classical',\n",
       "  'classical',\n",
       "  'classical',\n",
       "  'classical',\n",
       "  'classical',\n",
       "  'classical',\n",
       "  'classical',\n",
       "  'classical',\n",
       "  'classical',\n",
       "  'classical',\n",
       "  'classical',\n",
       "  'classical',\n",
       "  'classical',\n",
       "  'classical',\n",
       "  'classical',\n",
       "  'classical',\n",
       "  'classical',\n",
       "  'classical',\n",
       "  'classical',\n",
       "  'classical',\n",
       "  'classical',\n",
       "  'classical',\n",
       "  'classical',\n",
       "  'classical',\n",
       "  'classical',\n",
       "  'classical',\n",
       "  'classical',\n",
       "  'classical',\n",
       "  'classical',\n",
       "  'classical',\n",
       "  'classical',\n",
       "  'classical',\n",
       "  'classical',\n",
       "  'classical',\n",
       "  'classical',\n",
       "  'classical',\n",
       "  'classical',\n",
       "  'classical',\n",
       "  'classical',\n",
       "  'classical',\n",
       "  'classical',\n",
       "  'classical',\n",
       "  'classical',\n",
       "  'classical',\n",
       "  'classical',\n",
       "  'classical',\n",
       "  'classical',\n",
       "  'classical',\n",
       "  'reggae',\n",
       "  'reggae',\n",
       "  'reggae',\n",
       "  'reggae',\n",
       "  'reggae',\n",
       "  'reggae',\n",
       "  'reggae',\n",
       "  'reggae',\n",
       "  'reggae',\n",
       "  'reggae',\n",
       "  'reggae',\n",
       "  'reggae',\n",
       "  'reggae',\n",
       "  'reggae',\n",
       "  'reggae',\n",
       "  'reggae',\n",
       "  'reggae',\n",
       "  'reggae',\n",
       "  'reggae',\n",
       "  'reggae',\n",
       "  'reggae',\n",
       "  'reggae',\n",
       "  'reggae',\n",
       "  'reggae',\n",
       "  'reggae',\n",
       "  'reggae',\n",
       "  'reggae',\n",
       "  'reggae',\n",
       "  'reggae',\n",
       "  'reggae',\n",
       "  'reggae',\n",
       "  'reggae',\n",
       "  'reggae',\n",
       "  'reggae',\n",
       "  'reggae',\n",
       "  'reggae',\n",
       "  'reggae',\n",
       "  'reggae',\n",
       "  'reggae',\n",
       "  'reggae',\n",
       "  'reggae',\n",
       "  'reggae',\n",
       "  'reggae',\n",
       "  'reggae',\n",
       "  'reggae',\n",
       "  'reggae',\n",
       "  'reggae',\n",
       "  'reggae',\n",
       "  'reggae',\n",
       "  'reggae',\n",
       "  'reggae',\n",
       "  'reggae',\n",
       "  'reggae',\n",
       "  'reggae',\n",
       "  'reggae',\n",
       "  'reggae',\n",
       "  'reggae',\n",
       "  'reggae',\n",
       "  'reggae',\n",
       "  'reggae',\n",
       "  'reggae',\n",
       "  'reggae',\n",
       "  'reggae',\n",
       "  'reggae',\n",
       "  'reggae',\n",
       "  'reggae',\n",
       "  'reggae',\n",
       "  'reggae',\n",
       "  'reggae',\n",
       "  'reggae',\n",
       "  'reggae',\n",
       "  'reggae',\n",
       "  'reggae',\n",
       "  'reggae',\n",
       "  'reggae',\n",
       "  'reggae',\n",
       "  'reggae',\n",
       "  'reggae',\n",
       "  'reggae',\n",
       "  'reggae',\n",
       "  'reggae',\n",
       "  'reggae',\n",
       "  'reggae',\n",
       "  'reggae',\n",
       "  'reggae',\n",
       "  'reggae',\n",
       "  'reggae',\n",
       "  'reggae',\n",
       "  'reggae',\n",
       "  'reggae',\n",
       "  'reggae',\n",
       "  'reggae',\n",
       "  'reggae',\n",
       "  'reggae',\n",
       "  'reggae',\n",
       "  'reggae',\n",
       "  'reggae',\n",
       "  'reggae',\n",
       "  'reggae',\n",
       "  'reggae',\n",
       "  'pop',\n",
       "  'pop',\n",
       "  'pop',\n",
       "  'pop',\n",
       "  'pop',\n",
       "  'pop',\n",
       "  'pop',\n",
       "  'pop',\n",
       "  'pop',\n",
       "  'pop',\n",
       "  'pop',\n",
       "  'pop',\n",
       "  'pop',\n",
       "  'pop',\n",
       "  'pop',\n",
       "  'pop',\n",
       "  'pop',\n",
       "  'pop',\n",
       "  'pop',\n",
       "  'pop',\n",
       "  'pop',\n",
       "  'pop',\n",
       "  'pop',\n",
       "  'pop',\n",
       "  'pop',\n",
       "  'pop',\n",
       "  'pop',\n",
       "  'pop',\n",
       "  'pop',\n",
       "  'pop',\n",
       "  'pop',\n",
       "  'pop',\n",
       "  'pop',\n",
       "  'pop',\n",
       "  'pop',\n",
       "  'pop',\n",
       "  'pop',\n",
       "  'pop',\n",
       "  'pop',\n",
       "  'pop',\n",
       "  'pop',\n",
       "  'pop',\n",
       "  'pop',\n",
       "  'pop',\n",
       "  'pop',\n",
       "  'pop',\n",
       "  'pop',\n",
       "  'pop',\n",
       "  'pop',\n",
       "  'pop',\n",
       "  'pop',\n",
       "  'pop',\n",
       "  'pop',\n",
       "  'pop',\n",
       "  'pop',\n",
       "  'pop',\n",
       "  'pop',\n",
       "  'pop',\n",
       "  'pop',\n",
       "  'pop',\n",
       "  'pop',\n",
       "  'pop',\n",
       "  'pop',\n",
       "  'pop',\n",
       "  'pop',\n",
       "  'pop',\n",
       "  'pop',\n",
       "  'pop',\n",
       "  'pop',\n",
       "  'pop',\n",
       "  'pop',\n",
       "  'pop',\n",
       "  'pop',\n",
       "  'pop',\n",
       "  'pop',\n",
       "  'pop',\n",
       "  'pop',\n",
       "  'pop',\n",
       "  'pop',\n",
       "  'pop',\n",
       "  'pop',\n",
       "  'pop',\n",
       "  'pop',\n",
       "  'pop',\n",
       "  'pop',\n",
       "  'pop',\n",
       "  'pop',\n",
       "  'pop',\n",
       "  'pop',\n",
       "  'pop',\n",
       "  'pop',\n",
       "  'pop',\n",
       "  'pop',\n",
       "  'pop',\n",
       "  'pop',\n",
       "  'pop',\n",
       "  'pop',\n",
       "  'pop',\n",
       "  'pop',\n",
       "  'pop',\n",
       "  'blues',\n",
       "  'blues',\n",
       "  'blues',\n",
       "  'blues',\n",
       "  'blues',\n",
       "  'blues',\n",
       "  'blues',\n",
       "  'blues',\n",
       "  'blues',\n",
       "  'blues',\n",
       "  'blues',\n",
       "  'blues',\n",
       "  'blues',\n",
       "  'blues',\n",
       "  'blues',\n",
       "  'blues',\n",
       "  'blues',\n",
       "  'blues',\n",
       "  'blues',\n",
       "  'blues',\n",
       "  'blues',\n",
       "  'blues',\n",
       "  'blues',\n",
       "  'blues',\n",
       "  'blues',\n",
       "  'blues',\n",
       "  'blues',\n",
       "  'blues',\n",
       "  'blues',\n",
       "  'blues',\n",
       "  'blues',\n",
       "  'blues',\n",
       "  'blues',\n",
       "  'blues',\n",
       "  'blues',\n",
       "  'blues',\n",
       "  'blues',\n",
       "  'blues',\n",
       "  'blues',\n",
       "  'blues',\n",
       "  'blues',\n",
       "  'blues',\n",
       "  'blues',\n",
       "  'blues',\n",
       "  'blues',\n",
       "  'blues',\n",
       "  'blues',\n",
       "  'blues',\n",
       "  'blues',\n",
       "  'blues',\n",
       "  'blues',\n",
       "  'blues',\n",
       "  'blues',\n",
       "  'blues',\n",
       "  'blues',\n",
       "  'blues',\n",
       "  'blues',\n",
       "  'blues',\n",
       "  'blues',\n",
       "  'blues',\n",
       "  'blues',\n",
       "  'blues',\n",
       "  'blues',\n",
       "  'blues',\n",
       "  'blues',\n",
       "  'blues',\n",
       "  'blues',\n",
       "  'blues',\n",
       "  'blues',\n",
       "  'blues',\n",
       "  'blues',\n",
       "  'blues',\n",
       "  'blues',\n",
       "  'blues',\n",
       "  'blues',\n",
       "  'blues',\n",
       "  'blues',\n",
       "  'blues',\n",
       "  'blues',\n",
       "  'blues',\n",
       "  'blues',\n",
       "  'blues',\n",
       "  'blues',\n",
       "  'blues',\n",
       "  'blues',\n",
       "  'blues',\n",
       "  'blues',\n",
       "  'blues',\n",
       "  'blues',\n",
       "  'blues',\n",
       "  'blues',\n",
       "  'blues',\n",
       "  'blues',\n",
       "  'blues',\n",
       "  'blues',\n",
       "  'blues',\n",
       "  'blues',\n",
       "  'blues',\n",
       "  'blues',\n",
       "  'blues',\n",
       "  'country',\n",
       "  'country',\n",
       "  'country',\n",
       "  'country',\n",
       "  'country',\n",
       "  'country',\n",
       "  'country',\n",
       "  'country',\n",
       "  'country',\n",
       "  'country',\n",
       "  'country',\n",
       "  'country',\n",
       "  'country',\n",
       "  'country',\n",
       "  'country',\n",
       "  'country',\n",
       "  'country',\n",
       "  'country',\n",
       "  'country',\n",
       "  'country',\n",
       "  'country',\n",
       "  'country',\n",
       "  'country',\n",
       "  'country',\n",
       "  'country',\n",
       "  'country',\n",
       "  'country',\n",
       "  'country',\n",
       "  'country',\n",
       "  'country',\n",
       "  'country',\n",
       "  'country',\n",
       "  'country',\n",
       "  'country',\n",
       "  'country',\n",
       "  'country',\n",
       "  'country',\n",
       "  'country',\n",
       "  'country',\n",
       "  'country',\n",
       "  'country',\n",
       "  'country',\n",
       "  'country',\n",
       "  'country',\n",
       "  'country',\n",
       "  'country',\n",
       "  'country',\n",
       "  'country',\n",
       "  'country',\n",
       "  'country',\n",
       "  'country',\n",
       "  'country',\n",
       "  'country',\n",
       "  'country',\n",
       "  'country',\n",
       "  'country',\n",
       "  'country',\n",
       "  'country',\n",
       "  'country',\n",
       "  'country',\n",
       "  'country',\n",
       "  'country',\n",
       "  'country',\n",
       "  'country',\n",
       "  'country',\n",
       "  'country',\n",
       "  'country',\n",
       "  'country',\n",
       "  'country',\n",
       "  'country',\n",
       "  'country',\n",
       "  'country',\n",
       "  'country',\n",
       "  'country',\n",
       "  'country',\n",
       "  'country',\n",
       "  'country',\n",
       "  'country',\n",
       "  'country',\n",
       "  'country',\n",
       "  'country',\n",
       "  'country',\n",
       "  'country',\n",
       "  'country',\n",
       "  'country',\n",
       "  'country',\n",
       "  'country',\n",
       "  'country',\n",
       "  'country',\n",
       "  'country',\n",
       "  'country',\n",
       "  'country',\n",
       "  'country',\n",
       "  'country',\n",
       "  'country',\n",
       "  'country',\n",
       "  'country',\n",
       "  'country',\n",
       "  'country',\n",
       "  'country'])"
      ]
     },
     "execution_count": 13,
     "metadata": {},
     "output_type": "execute_result"
    }
   ],
   "source": [
    "filelist, classes"
   ]
  },
  {
   "cell_type": "markdown",
   "metadata": {},
   "source": [
    "## Merubah label menjadi angka\n",
    "\n",
    "Label dalam format string perlu dirubah dalam bentuk angka. Kita menggunakan LabelEncoder dari paket scikit-learn."
   ]
  },
  {
   "cell_type": "code",
   "execution_count": 7,
   "metadata": {
    "scrolled": true
   },
   "outputs": [
    {
     "data": {
      "text/plain": [
       "['rock', 'rock', 'rock', 'rock', 'rock']"
      ]
     },
     "execution_count": 7,
     "metadata": {},
     "output_type": "execute_result"
    }
   ],
   "source": [
    "classes[0:5]"
   ]
  },
  {
   "cell_type": "code",
   "execution_count": 8,
   "metadata": {},
   "outputs": [
    {
     "data": {
      "text/plain": [
       "['rock', 'hiphop', 'hiphop', 'hiphop', 'hiphop', 'hiphop']"
      ]
     },
     "execution_count": 8,
     "metadata": {},
     "output_type": "execute_result"
    }
   ],
   "source": [
    "classes[99:105]"
   ]
  },
  {
   "cell_type": "code",
<<<<<<< HEAD
   "execution_count": 14,
||||||| merged common ancestors
   "execution_count": 7,
=======
   "execution_count": 9,
>>>>>>> 7ed1cd029230cd2f5c0e37cf91666940db583d02
   "metadata": {
    "scrolled": true
   },
   "outputs": [
    {
     "name": "stdout",
     "output_type": "stream",
     "text": [
      "10 classes: blues, classical, country, disco, hiphop, jazz, metal, pop, reggae, rock\n"
     ]
    }
   ],
   "source": [
    "from sklearn.preprocessing import LabelEncoder\n",
    "\n",
    "labelencoder = LabelEncoder()\n",
    "labelencoder.fit(classes)\n",
    "\n",
    "# Angka dari gener musik kita simpat dan tampilkan\n",
    "n_classes = len(labelencoder.classes_)\n",
    "print n_classes, \"classes:\", \", \".join(list(labelencoder.classes_))\n",
    "\n",
    "classes_num = labelencoder.transform(classes)"
   ]
  },
  {
   "cell_type": "markdown",
   "metadata": {},
   "source": [
    "Kemudian kita check sekarang hasil perubahan dari string menjadi angka tersebut."
   ]
  },
  {
   "cell_type": "code",
<<<<<<< HEAD
   "execution_count": 15,
||||||| merged common ancestors
   "execution_count": 8,
=======
   "execution_count": 10,
>>>>>>> 7ed1cd029230cd2f5c0e37cf91666940db583d02
   "metadata": {},
   "outputs": [
    {
     "data": {
      "text/plain": [
       "array([9, 9, 9, 9, 9])"
      ]
     },
<<<<<<< HEAD
     "execution_count": 15,
||||||| merged common ancestors
     "execution_count": 8,
=======
     "execution_count": 10,
>>>>>>> 7ed1cd029230cd2f5c0e37cf91666940db583d02
     "metadata": {},
     "output_type": "execute_result"
    }
   ],
   "source": [
    "classes_num[0:5]"
   ]
  },
  {
   "cell_type": "code",
<<<<<<< HEAD
   "execution_count": 16,
||||||| merged common ancestors
   "execution_count": 9,
=======
   "execution_count": 11,
>>>>>>> 7ed1cd029230cd2f5c0e37cf91666940db583d02
   "metadata": {},
   "outputs": [
    {
     "data": {
      "text/plain": [
       "array([9, 4, 4, 4, 4, 4])"
      ]
     },
<<<<<<< HEAD
     "execution_count": 16,
||||||| merged common ancestors
     "execution_count": 9,
=======
     "execution_count": 11,
>>>>>>> 7ed1cd029230cd2f5c0e37cf91666940db583d02
     "metadata": {},
     "output_type": "execute_result"
    }
   ],
   "source": [
    "classes_num[99:105]"
   ]
  },
  {
   "cell_type": "markdown",
   "metadata": {},
   "source": [
    "Catatan: Agar bisa me-retransform secara benar hasil prediksi genre musing kembali kedalam string, LabelEncoder kita simpat untuk kita pakai nanti."
   ]
  },
  {
   "cell_type": "code",
<<<<<<< HEAD
   "execution_count": 17,
||||||| merged common ancestors
   "execution_count": 10,
=======
   "execution_count": 12,
>>>>>>> 7ed1cd029230cd2f5c0e37cf91666940db583d02
   "metadata": {},
   "outputs": [
    {
     "data": {
      "text/plain": [
       "array([[0., 0., 0., 0., 0., 0., 0., 0., 0., 1.],\n",
       "       [0., 0., 0., 0., 0., 0., 0., 0., 0., 1.],\n",
       "       [0., 0., 0., 0., 0., 0., 0., 0., 0., 1.],\n",
       "       [0., 0., 0., 0., 0., 0., 0., 0., 0., 1.],\n",
       "       [0., 0., 0., 0., 0., 0., 0., 0., 0., 1.],\n",
       "       [0., 0., 0., 0., 0., 0., 0., 0., 0., 1.],\n",
       "       [0., 0., 0., 0., 0., 0., 0., 0., 0., 1.],\n",
       "       [0., 0., 0., 0., 0., 0., 0., 0., 0., 1.],\n",
       "       [0., 0., 0., 0., 0., 0., 0., 0., 0., 1.],\n",
       "       [0., 0., 0., 0., 0., 0., 0., 0., 0., 1.],\n",
       "       ...,\n",
       "       [0., 0., 1., 0., 0., 0., 0., 0., 0., 0.],\n",
       "       [0., 0., 1., 0., 0., 0., 0., 0., 0., 0.],\n",
       "       [0., 0., 1., 0., 0., 0., 0., 0., 0., 0.],\n",
       "       [0., 0., 1., 0., 0., 0., 0., 0., 0., 0.],\n",
       "       [0., 0., 1., 0., 0., 0., 0., 0., 0., 0.],\n",
       "       [0., 0., 1., 0., 0., 0., 0., 0., 0., 0.],\n",
       "       [0., 0., 1., 0., 0., 0., 0., 0., 0., 0.],\n",
       "       [0., 0., 1., 0., 0., 0., 0., 0., 0., 0.],\n",
       "       [0., 0., 1., 0., 0., 0., 0., 0., 0., 0.],\n",
       "       [0., 0., 1., 0., 0., 0., 0., 0., 0., 0.]])"
      ]
     },
<<<<<<< HEAD
     "execution_count": 17,
||||||| merged common ancestors
     "execution_count": 10,
=======
     "execution_count": 12,
>>>>>>> 7ed1cd029230cd2f5c0e37cf91666940db583d02
     "metadata": {},
     "output_type": "execute_result"
    }
   ],
   "source": [
    "from sklearn.preprocessing import OneHotEncoder\n",
    "\n",
    "# merubah vektor baris menjadi vektor kolom, seperi yang dibuthkan oleh OneHotEncoder, menggunakan reshape (-1,1)\n",
    "classes_num_col = classes_num.reshape(-1, 1)\n",
    "\n",
    "encoder = OneHotEncoder(sparse=False)\n",
    "classes_num_1hot = encoder.fit_transform(classes_num_col)\n",
    "classes_num_1hot"
   ]
  },
  {
   "cell_type": "code",
<<<<<<< HEAD
   "execution_count": 18,
||||||| merged common ancestors
   "execution_count": 11,
=======
   "execution_count": 13,
>>>>>>> 7ed1cd029230cd2f5c0e37cf91666940db583d02
   "metadata": {},
   "outputs": [
    {
     "data": {
      "text/plain": [
       "(1000, 10)"
      ]
     },
<<<<<<< HEAD
     "execution_count": 18,
||||||| merged common ancestors
     "execution_count": 11,
=======
     "execution_count": 13,
>>>>>>> 7ed1cd029230cd2f5c0e37cf91666940db583d02
     "metadata": {},
     "output_type": "execute_result"
    }
   ],
   "source": [
    "classes_num_1hot.shape"
   ]
  },
  {
   "cell_type": "markdown",
   "metadata": {},
   "source": [
    "## Load File Audio"
   ]
  },
  {
   "cell_type": "code",
<<<<<<< HEAD
   "execution_count": 19,
||||||| merged common ancestors
   "execution_count": 12,
=======
   "execution_count": 14,
>>>>>>> 7ed1cd029230cd2f5c0e37cf91666940db583d02
   "metadata": {},
   "outputs": [
    {
     "name": "stdout",
     "output_type": "stream",
     "text": [
      ". . . . . . . . . . . . . . . . . . . . . . . . . . . . . . . . . . . . . . . . . . . . . . . . . . . . . . . . . . . . . . . . . . . . . . . . . . . . . . . . . . . . . . . . . . . . . . . . . . . . . . . . . . . . . . . . . . . . . . . . . . . . . . . . . . . . . . . . . . . . . . . . . . . . . . . . . . . . . . . . . . . . . . . . . . . . . . . . . . . . . . . . . . . . . . . . . . . . . . . . . . . . . . . . . . . . . . . . . . . . . . . . . . . . . . . . . . . . . . . . . . . . . . . . . . . . . . . . . . . . . . . . . . . . . . . . . . . . . . . . . . . . . . . . . . . . . . . . . . . . . . . . . . . . . . . . . . . . . . . . . . . . . . . . . . . . . . . . . . . . . . . . . . . . . . . . . . . . . . . . . . . . . . . . . . . . . . . . . . . . . . . . . . . . . . . . . . . . . . . . . . . . . . . . . . . . . . . . . . . . . . . . . . . . . . . . . . . . . . . . . . . . . . . . . . . . . . . . . . . . . . . . . . . . . . . . . . . . . . . . . . . . . . . . . . . . . . . . . . . . . . . . . . . . . . . . . . . . . . . . . . . . . . . . . . . . . . . . . . . . . . . . . . . . . . . . . . . . . . . . . . . . . . . . . . . . . . . . . . . . . . . . . . . . . . . . . . . . . . . . . . . . . . . . . . . . . . . . . . . . . . . . . . . . . . . . . . . . . . . . . . . . . . . . . . . . . . . . . . . . . . . . . . . . . . . . . . . . . . . . . . . . . . . . . . . . . . . . . . . . . . . . . . . . . . . . . . . . . . . . . . . . . . . . . . . . . . . . . . . . . . . . . . . . . . . . . . . . . . . . . . . . . . . . . . . . . . . . . . . . . . . . . . . . . . . . . . . . . . . . . . . . . . . . . . . . . . . . . . . . . . . . . . . . . . . . . . . . . . . . . . . . . . . . . . . . . . . . . . . . . . . . . . . . . . . . . . . . . . . . . . . . . . . . . . . . . . . . . . . . . . . . . . . . . . . . . . . . . . . . . . . . . . . . . . . . . . . . . . . . . . . . . . . . . . . . . . . . . . . . . . . . . . . . . . . . . . . . . . . . . . . . . . . . . . . . . . . . . . . . \n",
      "Read 1000 audio files\n"
     ]
    }
   ],
   "source": [
    "# membuat list daftar spektrogram untuk digunakan nanti\n",
    "list_spectrograms = [] \n",
    "\n",
    "# parameter output yang diinginkan\n",
    "n_mel_bands = 40   # y axis\n",
    "frames = 80        # x axis\n",
    "\n",
    "# parameter FFT\n",
    "fft_window_size = 1024 #512\n",
    "fft_overlap = 0.5\n",
    "hop_size = int(fft_window_size*(1-fft_overlap))\n",
    "segment_size = fft_window_size + (frames-1) * hop_size # ukuran segment yang diinginkan, frames\n",
    "\n",
    "for filename in filelist:\n",
    "    print \".\", \n",
    "    filepath = os.path.join(AUDIO_PATH, filename)\n",
    "    samplerate, samplewidth, wavedata = audiofile_read(filepath,verbose=False)\n",
    "    sample_length = wavedata.shape[0]\n",
    "\n",
    "    # merubah menjadi mono (jika multiple channels / stereo)\n",
    "    if wavedata.ndim > 1:\n",
    "        wavedata = np.mean(wavedata, 1)\n",
    "    \n",
    "    # mencari segment audio (block)\n",
    "    # hanya menghitung 1 segment audio (80 frame)\n",
    "    # a) dari awal file     \n",
    "    # pos = 0\n",
    "    # b) dari tengah file\n",
    "    pos = int(sample_length / 2 - segment_size / 2)\n",
    "    wav_segment = wavedata[pos:pos+segment_size]\n",
    "    \n",
    "    # AUDIO PRE-PROCESSING\n",
    "\n",
    "    # 1) FFT spectrogram \n",
    "    spectrogram = rp.calc_spectrogram(wav_segment,fft_window_size,fft_overlap)\n",
    "\n",
    "    # 2) Transform ke perceptual Mel scale (menggunakan librosa.filters.mel)\n",
    "    spectrogram = rp.transform2mel(spectrogram,samplerate,fft_window_size,n_mel_bands)\n",
    "        \n",
    "    # 3) Rubah ke dalam bentuk Log 10\n",
    "    spectrogram = np.log10(spectrogram)\n",
    "    \n",
    "    list_spectrograms.append(spectrogram)\n",
    "        \n",
    "print \"\\nRead\", len(filelist), \"audio files\""
   ]
  },
  {
   "cell_type": "code",
   "execution_count": 20,
   "metadata": {},
   "outputs": [
    {
     "name": "stdout",
     "output_type": "stream",
     "text": [
      "Duration of input audio file:\n",
      "30 seconds\n"
     ]
    }
   ],
   "source": [
    "print \"Duration of input audio file:\"\n",
    "print sample_length / samplerate, \"seconds\""
   ]
  },
  {
   "cell_type": "code",
   "execution_count": 21,
   "metadata": {},
   "outputs": [
    {
     "name": "stdout",
     "output_type": "stream",
     "text": [
      "An audio segment is 1.88 seconds long\n"
     ]
    }
   ],
   "source": [
    "print \"An audio segment is\", round(float(segment_size) / samplerate, 2), \"seconds long\""
   ]
  },
  {
   "cell_type": "code",
   "execution_count": 22,
   "metadata": {},
   "outputs": [
    {
     "data": {
      "text/plain": [
       "1000"
      ]
     },
     "execution_count": 22,
     "metadata": {},
     "output_type": "execute_result"
    }
   ],
   "source": [
    "# Berapa banyak spectrogram yang kita dapatkan\n",
    "len(list_spectrograms)"
   ]
  },
  {
   "cell_type": "code",
   "execution_count": 23,
   "metadata": {},
   "outputs": [
    {
     "data": {
      "text/plain": [
       "(40, 80)"
      ]
     },
     "execution_count": 23,
     "metadata": {},
     "output_type": "execute_result"
    }
   ],
   "source": [
    "# Bagaimana bentuk 1 spectrogram yang kita dapatkan, apakah 40 Mel bands dengan 80 frames\n",
    "spectrogram.shape"
   ]
  },
  {
   "cell_type": "markdown",
   "metadata": {},
   "source": [
    "Catatan: Untuk penyederhanaan tutorial ini, kita hanya meload 1 segment dari ~1 detik di dalam file audio. \n",
    "Dalam real world setting, kita bisa membuat training instance dari sebanyak mungkin segment audio untuk diiskan dalam jaringan syarat tiruan."
   ]
  },
  {
   "cell_type": "code",
   "execution_count": 24,
   "metadata": {},
   "outputs": [
    {
     "data": {
      "text/plain": [
       "array([[-2.22468213, -2.16998997, -1.99815287, -2.15930204, -2.09368433],\n",
       "       [-1.8034697 , -1.92510318, -1.78896157, -1.84884177, -1.75989478],\n",
       "       [-2.04151898, -2.02549384, -2.07876139, -2.28285471, -2.21626449],\n",
       "       [-2.24475796, -2.0991296 , -2.21757485, -2.15755237, -2.18409557],\n",
       "       [-2.18591406, -2.664581  , -2.39105314, -2.4990512 , -3.22714398]])"
      ]
     },
     "execution_count": 24,
     "metadata": {},
     "output_type": "execute_result"
    }
   ],
   "source": [
    "spectrogram[0:5,0:5]"
   ]
  },
  {
   "cell_type": "code",
<<<<<<< HEAD
   "execution_count": 36,
   "metadata": {},
||||||| merged common ancestors
   "execution_count": 18,
   "metadata": {
    "collapsed": true
   },
=======
   "execution_count": null,
   "metadata": {
    "collapsed": true
   },
>>>>>>> 7ed1cd029230cd2f5c0e37cf91666940db583d02
   "outputs": [],
   "source": [
    "# plot spectrogram\n",
    "# plt.specgram(spectrogram[0], 22050, binsize=1024, ignore=True);\n",
    "# plt.pcolormesh(, spectrogram[0])"
   ]
  },
  {
   "cell_type": "markdown",
   "metadata": {},
   "source": [
    "## Membuat 1 array besar dari list spectrograms"
   ]
  },
  {
   "cell_type": "code",
<<<<<<< HEAD
   "execution_count": 37,
||||||| merged common ancestors
   "execution_count": 19,
=======
   "execution_count": 18,
>>>>>>> 7ed1cd029230cd2f5c0e37cf91666940db583d02
   "metadata": {},
   "outputs": [
    {
     "data": {
      "text/plain": [
       "(1000, 40, 80)"
      ]
     },
<<<<<<< HEAD
     "execution_count": 37,
||||||| merged common ancestors
     "execution_count": 19,
=======
     "execution_count": 18,
>>>>>>> 7ed1cd029230cd2f5c0e37cf91666940db583d02
     "metadata": {},
     "output_type": "execute_result"
    }
   ],
   "source": [
    "# Sebuah list dari 40 x 80 spectrogram dibuat ke dalam satu array\n",
    "# config.floatX adalah data type dari konfigurasi theano untuk tipe data float32 (dibutuhkan untuk kpomputasi GPU)\n",
    "data = np.array(list_spectrograms, dtype=config.floatX)\n",
    "data.shape"
   ]
  },
  {
   "cell_type": "code",
<<<<<<< HEAD
   "execution_count": 38,
   "metadata": {},
||||||| merged common ancestors
   "execution_count": 20,
   "metadata": {},
=======
   "execution_count": 19,
   "metadata": {
    "collapsed": true
   },
>>>>>>> 7ed1cd029230cd2f5c0e37cf91666940db583d02
   "outputs": [],
   "source": [
    "# check Untuk nilai Inf (Infinity)\n",
    "\n",
    "# np.log10(spectrogram) akan menghasilkan nilai inf jika nilai spectrogramnya 0, maka kita ganti dengan 0\n",
    "\n",
    "if np.any(np.isinf(data)):\n",
    "    print \"Warning: Data contains inf values. Replacying by 0.\"\n",
    "    data[np.isinf(data)] = 0"
   ]
  },
  {
   "cell_type": "markdown",
   "metadata": {},
   "source": [
    "## Standardisasi\n",
    "\n",
    "**Selalu normaliasi/standardisasi** data anda sebelum measukkankannya ke dalam jaringan syaraf tiruan (NN).\n",
    "\n",
    "Kita menggunakan **attribute-wise standardization** yakni setiap fitur (pixel dalam spectrogram) dinormalisasikan secara invididu bukan menghitung nilai rata-rata dan standar deviasi dari semua nilai.\n",
    "\n",
    "Selain 'attribute-wise', kita juga bisa menggunakan normalisasi 'flat' yakni menghitung nilai rata-rata dan standar deviasi dari semua pixel.\n",
    "\n",
    "Salah satu tekniknya adalah dengan 'normalisasi max-min', yakni membatasi nilai bawah menjadi 0 dan nilai atas menjadi 1. \n",
    "Disini kita menggunakan normalisasi **zero-mean unit-variance** atau disebut juga Z-score normalization.\n",
    "\n",
    "Dari scikit-learn, kita menggunakan `StandardScaler` untuk tujuan ini, yang akan menghasilkan normalisasi zero-mean unit-variance."
   ]
  },
  {
   "cell_type": "code",
<<<<<<< HEAD
   "execution_count": 39,
||||||| merged common ancestors
   "execution_count": 21,
=======
   "execution_count": 20,
>>>>>>> 7ed1cd029230cd2f5c0e37cf91666940db583d02
   "metadata": {},
   "outputs": [
    {
     "data": {
      "text/plain": [
       "(1000, 3200)"
      ]
     },
<<<<<<< HEAD
     "execution_count": 39,
||||||| merged common ancestors
     "execution_count": 21,
=======
     "execution_count": 20,
>>>>>>> 7ed1cd029230cd2f5c0e37cf91666940db583d02
     "metadata": {},
     "output_type": "execute_result"
    }
   ],
   "source": [
    "# Scaler dan normalzier bekerja pada vektor. Karenanya kita perlu mentransform matrix dari spectrogram\n",
    "# ke dalam bentuk data vektor (vectorize atau reshape)\n",
    "\n",
    "# vectorisasi\n",
    "N, ydim, xdim = data.shape\n",
    "data = data.reshape(N, xdim*ydim)\n",
    "data.shape"
   ]
  },
  {
   "cell_type": "code",
<<<<<<< HEAD
   "execution_count": 40,
||||||| merged common ancestors
   "execution_count": 22,
=======
   "execution_count": 21,
>>>>>>> 7ed1cd029230cd2f5c0e37cf91666940db583d02
   "metadata": {},
   "outputs": [
    {
     "data": {
      "text/plain": [
       "(1, 3200)"
      ]
     },
<<<<<<< HEAD
     "execution_count": 40,
||||||| merged common ancestors
     "execution_count": 22,
=======
     "execution_count": 21,
>>>>>>> 7ed1cd029230cd2f5c0e37cf91666940db583d02
     "metadata": {},
     "output_type": "execute_result"
    }
   ],
   "source": [
    "data[0:1].shape"
   ]
  },
  {
   "cell_type": "code",
<<<<<<< HEAD
   "execution_count": 42,
   "metadata": {},
||||||| merged common ancestors
   "execution_count": 23,
   "metadata": {},
=======
   "execution_count": 22,
   "metadata": {
    "collapsed": true
   },
>>>>>>> 7ed1cd029230cd2f5c0e37cf91666940db583d02
   "outputs": [],
   "source": [
    "# Normalisasi\n",
    "scaler = preprocessing.StandardScaler()\n",
    "data = scaler.fit_transform(data)"
   ]
  },
  {
   "cell_type": "markdown",
   "metadata": {},
   "source": [
    "Sekarang, semua nilai akan ditransformasikan menjadi variansi ruang 0-1."
   ]
  },
  {
   "cell_type": "code",
<<<<<<< HEAD
   "execution_count": 43,
||||||| merged common ancestors
   "execution_count": 24,
=======
   "execution_count": 23,
>>>>>>> 7ed1cd029230cd2f5c0e37cf91666940db583d02
   "metadata": {},
   "outputs": [
    {
     "data": {
      "text/plain": [
       "array([ 0.00000001, -0.00000003,  0.00000002,  0.00000001,  0.00000001,  0.00000003,  0.00000014,  0.00000002, -0.00000001, -0.00000001, ..., -0.00000003, -0.00000005,  0.00000005,  0.00000003,\n",
       "        0.00000001,  0.        , -0.00000001,  0.00000003, -0.00000002,  0.00000001], dtype=float32)"
      ]
     },
<<<<<<< HEAD
     "execution_count": 43,
||||||| merged common ancestors
     "execution_count": 24,
=======
     "execution_count": 23,
>>>>>>> 7ed1cd029230cd2f5c0e37cf91666940db583d02
     "metadata": {},
     "output_type": "execute_result"
    }
   ],
   "source": [
    "np.mean(data, axis=0)"
   ]
  },
  {
   "cell_type": "code",
<<<<<<< HEAD
   "execution_count": 44,
||||||| merged common ancestors
   "execution_count": 25,
=======
   "execution_count": 24,
>>>>>>> 7ed1cd029230cd2f5c0e37cf91666940db583d02
   "metadata": {},
   "outputs": [
    {
     "data": {
      "text/plain": [
       "array([0.99999994, 1.        , 1.        , 1.        , 1.        , 1.        , 1.        , 1.        , 1.        , 1.        , ..., 1.        , 1.        , 1.        , 1.        , 1.0000001 ,\n",
       "       1.        , 0.99999994, 0.99999994, 1.0000001 , 1.0000002 ], dtype=float32)"
      ]
     },
<<<<<<< HEAD
     "execution_count": 44,
||||||| merged common ancestors
     "execution_count": 25,
=======
     "execution_count": 24,
>>>>>>> 7ed1cd029230cd2f5c0e37cf91666940db583d02
     "metadata": {},
     "output_type": "execute_result"
    }
   ],
   "source": [
    "np.std(data, axis=0)"
   ]
  },
  {
   "cell_type": "code",
<<<<<<< HEAD
   "execution_count": 45,
||||||| merged common ancestors
   "execution_count": 26,
=======
   "execution_count": 25,
>>>>>>> 7ed1cd029230cd2f5c0e37cf91666940db583d02
   "metadata": {},
   "outputs": [
    {
     "data": {
      "text/plain": [
       "(array([-0.00000016,  0.00000198, -0.00000071,  0.00000026,  0.00000031,  0.00000028, -0.00000196,  0.00000028, -0.00000096,  0.00000035, ..., -0.00000306,  0.00000075, -0.00000212,  0.00000144,\n",
       "         0.00000044,  0.00000232, -0.00000006,  0.00000235,  0.0000038 , -0.00000178], dtype=float32),\n",
       " array([1.0000002 , 1.0000001 , 0.9999995 , 0.9999998 , 0.9999998 , 0.9999996 , 1.0000001 , 0.9999994 , 1.0000006 , 1.        , ..., 0.9999999 , 1.        , 1.0000001 , 0.9999997 , 0.9999996 ,\n",
       "        1.0000002 , 1.0000001 , 0.9999998 , 1.0000006 , 0.99999917], dtype=float32))"
      ]
     },
<<<<<<< HEAD
     "execution_count": 45,
||||||| merged common ancestors
     "execution_count": 26,
=======
     "execution_count": 25,
>>>>>>> 7ed1cd029230cd2f5c0e37cf91666940db583d02
     "metadata": {},
     "output_type": "execute_result"
    }
   ],
   "source": [
    "# scaler menyimpan nilai asli untuk ditransformasikan lagi nanti,\n",
    "# Sekarng kit tampilkan nilai rata-rata dan standar deviasi, dua vektor dengan panjang yang sama dengan data.shape[1]\n",
    "scaler.mean_, scaler.scale_"
   ]
  },
  {
   "cell_type": "markdown",
   "metadata": {},
   "source": [
    "# Membuat data Train dan Test\n",
    "\n",
    "Salah satu best practice dari NN adalah memecah data menjadi dua bagian: Train Set (75%) dan Test Set (25%).\n",
    "\n",
    "Disini kita bandingkan Radom splot dengan Stratified split:"
   ]
  },
  {
   "cell_type": "code",
<<<<<<< HEAD
   "execution_count": 46,
   "metadata": {},
||||||| merged common ancestors
   "execution_count": 27,
   "metadata": {},
=======
   "execution_count": 26,
   "metadata": {
    "collapsed": true
   },
>>>>>>> 7ed1cd029230cd2f5c0e37cf91666940db583d02
   "outputs": [],
   "source": [
    "# 25% dari data set digunakan untuk testing, sisanya untuk training\n",
    "testset_size = 0.25 # % portion of whole data set to keep for testing, i.e. 75% is used for training\n",
    "\n",
    "# RANDOM split dari data menjadi 2 bagian\n",
    "# from sklearn.model_selection import train_test_split\n",
    "\n",
    "train_set, test_set, train_classes, test_classes = train_test_split(data, classes_num, test_size=testset_size, random_state=0)"
   ]
  },
  {
   "cell_type": "code",
<<<<<<< HEAD
   "execution_count": 47,
||||||| merged common ancestors
   "execution_count": 28,
=======
   "execution_count": 27,
>>>>>>> 7ed1cd029230cd2f5c0e37cf91666940db583d02
   "metadata": {},
   "outputs": [
    {
     "data": {
      "text/plain": [
       "array([3, 8, 9, 2, 9, 7, 8, 5, 2, 9, ..., 7, 9, 6, 7, 7, 0, 4, 8, 1, 8])"
      ]
     },
<<<<<<< HEAD
     "execution_count": 47,
||||||| merged common ancestors
     "execution_count": 28,
=======
     "execution_count": 27,
>>>>>>> 7ed1cd029230cd2f5c0e37cf91666940db583d02
     "metadata": {},
     "output_type": "execute_result"
    }
   ],
   "source": [
    "train_classes"
   ]
  },
  {
   "cell_type": "code",
<<<<<<< HEAD
   "execution_count": 48,
||||||| merged common ancestors
   "execution_count": 29,
=======
   "execution_count": 28,
>>>>>>> 7ed1cd029230cd2f5c0e37cf91666940db583d02
   "metadata": {},
   "outputs": [
    {
     "data": {
      "text/plain": [
       "array([2, 0, 3, 1, 8, 2, 9, 3, 6, 7, ..., 1, 5, 3, 6, 2, 5, 6, 9, 5, 8])"
      ]
     },
<<<<<<< HEAD
     "execution_count": 48,
||||||| merged common ancestors
     "execution_count": 29,
=======
     "execution_count": 28,
>>>>>>> 7ed1cd029230cd2f5c0e37cf91666940db583d02
     "metadata": {},
     "output_type": "execute_result"
    }
   ],
   "source": [
    "test_classes"
   ]
  },
  {
   "cell_type": "code",
<<<<<<< HEAD
   "execution_count": 49,
||||||| merged common ancestors
   "execution_count": 30,
=======
   "execution_count": 29,
>>>>>>> 7ed1cd029230cd2f5c0e37cf91666940db583d02
   "metadata": {},
   "outputs": [
    {
     "name": "stdout",
     "output_type": "stream",
     "text": [
      "Number of files in each category in TRAIN set:\n",
      "0 : 80\n",
      "1 : 74\n",
      "2 : 70\n",
      "3 : 70\n",
      "4 : 84\n",
      "5 : 72\n",
      "6 : 74\n",
      "7 : 74\n",
      "8 : 73\n",
      "9 : 79\n"
     ]
    }
   ],
   "source": [
    "from collections import Counter\n",
    "cnt = Counter(train_classes)\n",
    "\n",
    "print \"Number of files in each category in TRAIN set:\"\n",
    "for k in sorted(cnt.keys()):\n",
    "    print k, \":\", cnt[k]"
   ]
  },
  {
   "cell_type": "markdown",
   "metadata": {},
   "source": [
    "Dalam random split, jumlah file per kelas (genre) bisa jadi tidak imbang/rata.\n",
    "Pembagian yang lebih baik bisa dilakukan dengan menggunakan **stratified split**."
   ]
  },
  {
   "cell_type": "code",
<<<<<<< HEAD
   "execution_count": 50,
||||||| merged common ancestors
   "execution_count": 31,
=======
   "execution_count": 30,
>>>>>>> 7ed1cd029230cd2f5c0e37cf91666940db583d02
   "metadata": {},
   "outputs": [
    {
     "name": "stdout",
     "output_type": "stream",
     "text": [
      "TRAIN INDEX: [349 816 960 261 665 517 653 438 170 472 ... 336 602 117  93 322 434 624  83 118  97]\n",
      "TEST INDEX: [510 781 478 246 888 793 772 445 199 534 ... 967 490 486 683 984 390 858 372 982 499]\n",
      "(750, 3200)\n",
      "(250, 3200)\n"
     ]
    }
   ],
   "source": [
    "# Kelebihan stratified split: data dalam tiap kelas (genre) diambil sama\n",
    "# from sklearn.model_selection import StratifiedShuffleSplit\n",
    "\n",
    "if sklearn_version.startswith('0.17'):\n",
    "    splits = StratifiedShuffleSplit(classes_num, n_iter=1, test_size=testset_size, random_state=0)\n",
    "else: # >= 0.18:\n",
    "    splitter = StratifiedShuffleSplit(n_splits=1, test_size=testset_size, random_state=0)\n",
    "    splits = splitter.split(data, classes_num)\n",
    "\n",
    "for train_index, test_index in splits:\n",
    "    print \"TRAIN INDEX:\", train_index\n",
    "    print \"TEST INDEX:\", test_index\n",
    "    \n",
    "    # split the data\n",
    "    train_set = data[train_index]\n",
    "    test_set = data[test_index]\n",
    "    \n",
    "    # and the numeric classes (groundtruth)\n",
    "    train_classes = classes_num[train_index]\n",
    "    train_classes_1hot = classes_num_1hot[train_index]  # 1 hot we need for traning\n",
    "    test_classes = classes_num[test_index]\n",
    "# Note: this for loop is only executed once, if n_splits==1\n",
    "\n",
    "print train_set.shape\n",
    "print test_set.shape\n",
    "# Note: we will reshape the data later back to matrix form "
   ]
  },
  {
   "cell_type": "code",
<<<<<<< HEAD
   "execution_count": 51,
||||||| merged common ancestors
   "execution_count": 32,
=======
   "execution_count": 31,
>>>>>>> 7ed1cd029230cd2f5c0e37cf91666940db583d02
   "metadata": {},
   "outputs": [
    {
     "name": "stdout",
     "output_type": "stream",
     "text": [
      "Number of files in each category in TRAIN set:\n",
      "0 : 75\n",
      "1 : 75\n",
      "2 : 75\n",
      "3 : 75\n",
      "4 : 75\n",
      "5 : 75\n",
      "6 : 75\n",
      "7 : 75\n",
      "8 : 75\n",
      "9 : 75\n"
     ]
    }
   ],
   "source": [
    "cnt = Counter(train_classes)\n",
    "print \"Number of files in each category in TRAIN set:\"\n",
    "for k in sorted(cnt.keys()):\n",
    "    print k, \":\", cnt[k]"
   ]
  },
  {
   "cell_type": "markdown",
   "metadata": {},
   "source": [
    "Sekarang, jumlah file dalam tiap kategori/kelas (genre) berimbang.\n",
    "Karena kita memiliki 100 data dalam setiap kategori, stratified split menjaga\n",
    "agar distribusi tiap kategori sama dengan kategori lainnya, juga bila dataset sendiri tidak \n",
    "imbang antar kategori."
   ]
  },
  {
   "cell_type": "markdown",
   "metadata": {},
   "source": [
    "# Convolutional Neural Networks\n",
    "\n",
    "Sebuah Convolutional Neural Network (CNN) adalah sebuah tipe (deep) Neural Network yang cocok untuk data 2D, seperti citra dan spectrogram, karena metode ini dioptimasi untuk belajar dari jarak spasial. Sebagai core elementnya adalah filter kernel 2D yang secara esensial mempelajari bobot dari NN dan menurunkan nilai costfunction dengan maxpooling.\n",
    "\n",
    "Sebuah CNN bisa saja memiliki lebih dari satu lapis konvolusi, setiap lapisnya memiliki sejumlah N filter (yang mendefinisikan depth dari CNN layer), kemudian diikuti oleh pooling, yang mengambil pixel dari segolongan pixel-pixel yang berdekatan dan karenanya menurunkan resolusi citra dengan mengambil nilai maksimum dari pixel yang berdekatan tadi."
   ]
  },
  {
   "cell_type": "markdown",
   "metadata": {},
   "source": [
    "## Menyiapkan data\n",
    "### Menambahkan kanal\n",
    "\n",
    "Karena CNN pada awalnya digunakan untuk data citra (yang memiliki 3 kanal warna, RGB), kita perlu menambahkan dimensi untuk kanal warna pada data.\n",
    "\n",
    "Pada spectrogram, warna tersebut bisa dianggap sebagai warna grayscale yang hanya punya 1 jenis warna saja. Jadi kita tambahkan satu dimensi untuk kanal warna pada data.\n",
    "\n",
    "#### Theano vs. Tensorflow\n",
    "\n",
    "Pada theano, secara tradisional kanal warna adalah dimensi pertama pada bentuk citra.\n",
    "Pada tensorflow, kanal warna adalah dimensi terakhir dari bentuk citra.\n",
    "\n",
    "Hal tersebut bisa dikonfigurasi pada file `~/.keras/keras.json`: \"image_dim_ordering\": \"th\" ATAU \"tf\" dimana \"tf\" (Tensorflow) merupakan default image ordering meskipun kita menggunakan Theano. \n",
    "\n",
    "Kita buat `if` statement untuk menyelesaikan permasalahan ini."
   ]
  },
  {
   "cell_type": "code",
<<<<<<< HEAD
   "execution_count": 52,
   "metadata": {},
||||||| merged common ancestors
   "execution_count": 33,
   "metadata": {},
=======
   "execution_count": 32,
   "metadata": {
    "collapsed": true
   },
>>>>>>> 7ed1cd029230cd2f5c0e37cf91666940db583d02
   "outputs": [],
   "source": [
    "n_channels = 1 # 1 for grey-scale, 3 for RGB (in this case usually already present in the data)\n",
    "\n",
    "if keras.backend.image_dim_ordering() == 'th':\n",
    "    # Theano ordering (~/.keras/keras.json: \"image_dim_ordering\": \"th\")\n",
    "    train_set = train_set.reshape(train_set.shape[0], n_channels, ydim, xdim)\n",
    "    test_set = test_set.reshape(test_set.shape[0], n_channels, ydim, xdim)\n",
    "else:\n",
    "    # Tensorflow ordering (~/.keras/keras.json: \"image_dim_ordering\": \"tf\")\n",
    "    train_set = train_set.reshape(train_set.shape[0], ydim, xdim, n_channels)\n",
    "    test_set = test_set.reshape(test_set.shape[0], ydim, xdim, n_channels)"
   ]
  },
  {
   "cell_type": "code",
<<<<<<< HEAD
   "execution_count": 53,
||||||| merged common ancestors
   "execution_count": 34,
=======
   "execution_count": 33,
>>>>>>> 7ed1cd029230cd2f5c0e37cf91666940db583d02
   "metadata": {},
   "outputs": [
    {
     "data": {
      "text/plain": [
       "'th'"
      ]
     },
<<<<<<< HEAD
     "execution_count": 53,
||||||| merged common ancestors
     "execution_count": 34,
=======
     "execution_count": 33,
>>>>>>> 7ed1cd029230cd2f5c0e37cf91666940db583d02
     "metadata": {},
     "output_type": "execute_result"
    }
   ],
   "source": [
    "keras.backend.image_dim_ordering()"
   ]
  },
  {
   "cell_type": "code",
<<<<<<< HEAD
   "execution_count": 54,
||||||| merged common ancestors
   "execution_count": 35,
=======
   "execution_count": 34,
>>>>>>> 7ed1cd029230cd2f5c0e37cf91666940db583d02
   "metadata": {},
   "outputs": [
    {
     "data": {
      "text/plain": [
       "(750, 1, 40, 80)"
      ]
     },
<<<<<<< HEAD
     "execution_count": 54,
||||||| merged common ancestors
     "execution_count": 35,
=======
     "execution_count": 34,
>>>>>>> 7ed1cd029230cd2f5c0e37cf91666940db583d02
     "metadata": {},
     "output_type": "execute_result"
    }
   ],
   "source": [
    "train_set.shape"
   ]
  },
  {
   "cell_type": "code",
<<<<<<< HEAD
   "execution_count": 55,
||||||| merged common ancestors
   "execution_count": 36,
=======
   "execution_count": 35,
>>>>>>> 7ed1cd029230cd2f5c0e37cf91666940db583d02
   "metadata": {},
   "outputs": [
    {
     "data": {
      "text/plain": [
       "(250, 1, 40, 80)"
      ]
     },
<<<<<<< HEAD
     "execution_count": 55,
||||||| merged common ancestors
     "execution_count": 36,
=======
     "execution_count": 35,
>>>>>>> 7ed1cd029230cd2f5c0e37cf91666940db583d02
     "metadata": {},
     "output_type": "execute_result"
    }
   ],
   "source": [
    "test_set.shape"
   ]
  },
  {
   "cell_type": "code",
<<<<<<< HEAD
   "execution_count": 57,
||||||| merged common ancestors
   "execution_count": 37,
=======
   "execution_count": 36,
>>>>>>> 7ed1cd029230cd2f5c0e37cf91666940db583d02
   "metadata": {},
   "outputs": [
    {
     "data": {
      "text/plain": [
       "(1, 40, 80)"
      ]
     },
<<<<<<< HEAD
     "execution_count": 57,
||||||| merged common ancestors
     "execution_count": 37,
=======
     "execution_count": 36,
>>>>>>> 7ed1cd029230cd2f5c0e37cf91666940db583d02
     "metadata": {},
     "output_type": "execute_result"
    }
   ],
   "source": [
    "# Kita simpan nilai dari bentuk citra yang baru dalam variabel `input_shape`\n",
    "# Kemudian kita ambil semua nilainya kecual dimensi ke-0 (kanal warna)\n",
    "\n",
    "input_shape = train_set.shape[1:]  \n",
    "input_shape"
   ]
  },
  {
   "cell_type": "markdown",
   "metadata": {},
   "source": [
    "# Membuat Model Neural Network di Keras\n",
    "\n",
    "## Sequential Models\n",
    "\n",
    "Pada Keras, kita bisa memilih antara model sekuensial atau model grafik. Model sekuensial adalah model standar, sedangkan model grafik digunakan untuk jaringan parallel."
   ]
  },
  {
   "cell_type": "markdown",
   "metadata": {},
   "source": [
    "## Membuat 1 Layer dan 2 Layer CNN"
   ]
  },
  {
   "cell_type": "markdown",
   "metadata": {},
   "source": [
    "Cobalah untuk meng-comment/uncomment variabel berikut pada blok kode dibawah\n",
    "* 1 Layer\n",
    "* 2 Layer\n",
    "* more conv_filters\n",
    "* Dropout"
   ]
  },
  {
   "cell_type": "code",
<<<<<<< HEAD
   "execution_count": 58,
   "metadata": {},
||||||| merged common ancestors
   "execution_count": 38,
   "metadata": {},
=======
   "execution_count": 37,
   "metadata": {
    "collapsed": true
   },
>>>>>>> 7ed1cd029230cd2f5c0e37cf91666940db583d02
   "outputs": [],
   "source": [
    "np.random.seed(0) # make results repeatable\n",
    "\n",
    "model = Sequential()\n",
    "\n",
    "conv_filters = 16   # number of convolution filters (= CNN depth)\n",
    "#conv_filters = 32   # number of convolution filters (= CNN depth)\n",
    "\n",
    "# Layer 1\n",
    "model.add(Convolution2D(conv_filters, 3, 3, input_shape=input_shape))\n",
    "model.add(MaxPooling2D(pool_size=(2, 2))) \n",
    "#model.add(Dropout(0.25)) \n",
    "\n",
    "# Layer 2\n",
    "#model.add(Convolution2D(conv_filters, 3, 3))\n",
    "#model.add(MaxPooling2D(pool_size=(2, 2))) \n",
    "\n",
    "# After Convolution, we have a 16*x*y matrix output\n",
    "# In order to feed this to a Full(Dense) layer, we need to flatten all data\n",
    "# Note: Keras does automatic shape inference, i.e. it knows how many (flat) input units the next layer will need,\n",
    "# so no parameter is needed for the Flatten() layer.\n",
    "model.add(Flatten()) \n",
    "\n",
    "# Full layer\n",
    "model.add(Dense(200, activation='sigmoid')) \n",
    "#model.add(Dense(256, activation='sigmoid')) \n",
    "\n",
    "# Output layer\n",
    "# For binary/2-class problems use ONE sigmoid unit, for multi-class/multi-label problems use n output units \n",
    "# activation should be 'softmax' for multi-class / single-label output, 'sigmoid' for binary or multi-label tasks\n",
    "model.add(Dense(n_classes,activation='softmax'))"
   ]
  },
  {
   "cell_type": "markdown",
   "metadata": {},
   "source": [
    "Jika anda mendapati Overflow error: range node melebihi batas valid dari kotak di atas, check lagi urutan dimensi pada Theano vs Tensorflow pada blok kode sebelumnya, juga konfigurasi `keras.json` anda."
   ]
  },
  {
   "cell_type": "code",
<<<<<<< HEAD
   "execution_count": 59,
||||||| merged common ancestors
   "execution_count": 39,
=======
   "execution_count": 38,
>>>>>>> 7ed1cd029230cd2f5c0e37cf91666940db583d02
   "metadata": {},
   "outputs": [
    {
     "name": "stdout",
     "output_type": "stream",
     "text": [
      "____________________________________________________________________________________________________\n",
      "Layer (type)                     Output Shape          Param #     Connected to                     \n",
      "====================================================================================================\n",
      "convolution2d_1 (Convolution2D)  (None, 16, 38, 78)    160         convolution2d_input_1[0][0]      \n",
      "____________________________________________________________________________________________________\n",
      "maxpooling2d_1 (MaxPooling2D)    (None, 16, 19, 39)    0           convolution2d_1[0][0]            \n",
      "____________________________________________________________________________________________________\n",
      "flatten_1 (Flatten)              (None, 11856)         0           maxpooling2d_1[0][0]             \n",
      "____________________________________________________________________________________________________\n",
      "dense_1 (Dense)                  (None, 200)           2371400     flatten_1[0][0]                  \n",
      "____________________________________________________________________________________________________\n",
      "dense_2 (Dense)                  (None, 10)            2010        dense_1[0][0]                    \n",
      "====================================================================================================\n",
      "Total params: 2,373,570\n",
      "Trainable params: 2,373,570\n",
      "Non-trainable params: 0\n",
      "____________________________________________________________________________________________________\n"
     ]
    }
   ],
   "source": [
    "model.summary()"
   ]
  },
  {
   "cell_type": "markdown",
   "metadata": {},
   "source": [
    "## Training CNN"
   ]
  },
  {
   "cell_type": "code",
<<<<<<< HEAD
   "execution_count": 60,
   "metadata": {},
||||||| merged common ancestors
   "execution_count": 40,
   "metadata": {
    "collapsed": true
   },
=======
   "execution_count": 39,
   "metadata": {
    "collapsed": true
   },
>>>>>>> 7ed1cd029230cd2f5c0e37cf91666940db583d02
   "outputs": [],
   "source": [
    "# Mendefinisikan loss function \n",
    "loss = 'categorical_crossentropy' \n",
    "\n",
    "# Catatan: Untuk klasifikasi biner (2 kasus ) atau multi-class problem, gunakan:\n",
    "#loss = 'binary_crossentropy' \n",
    "\n",
    "# Optimizer = Stochastic Gradient Descent\n",
    "optimizer = 'sgd' \n",
    "\n",
    "# Compiling model\n",
    "model.compile(loss=loss, optimizer=optimizer, metrics=['accuracy'])"
   ]
  },
  {
   "cell_type": "code",
<<<<<<< HEAD
   "execution_count": 61,
   "metadata": {},
||||||| merged common ancestors
   "execution_count": 41,
   "metadata": {
    "collapsed": true
   },
=======
   "execution_count": 40,
   "metadata": {
    "collapsed": true
   },
>>>>>>> 7ed1cd029230cd2f5c0e37cf91666940db583d02
   "outputs": [],
   "source": [
    "history = None"
   ]
  },
  {
   "cell_type": "code",
<<<<<<< HEAD
   "execution_count": 62,
||||||| merged common ancestors
   "execution_count": 42,
=======
   "execution_count": 41,
>>>>>>> 7ed1cd029230cd2f5c0e37cf91666940db583d02
   "metadata": {},
   "outputs": [
    {
     "name": "stdout",
     "output_type": "stream",
     "text": [
      "Epoch 1/15\n",
      "750/750 [==============================] - 1s - loss: 2.1761 - acc: 0.1707     \n",
      "Epoch 2/15\n",
      "750/750 [==============================] - 1s - loss: 1.9776 - acc: 0.2960     \n",
      "Epoch 3/15\n",
      "750/750 [==============================] - 1s - loss: 1.8886 - acc: 0.3627     \n",
      "Epoch 4/15\n",
      "750/750 [==============================] - 1s - loss: 1.8106 - acc: 0.3907     \n",
      "Epoch 5/15\n",
      "750/750 [==============================] - 1s - loss: 1.7465 - acc: 0.4293     \n",
      "Epoch 6/15\n",
      "750/750 [==============================] - 1s - loss: 1.6875 - acc: 0.4653     \n",
      "Epoch 7/15\n",
      "750/750 [==============================] - 1s - loss: 1.6286 - acc: 0.4680     \n",
      "Epoch 8/15\n",
      "750/750 [==============================] - 1s - loss: 1.5864 - acc: 0.4867     \n",
      "Epoch 9/15\n",
      "750/750 [==============================] - 1s - loss: 1.5355 - acc: 0.5213     \n",
      "Epoch 10/15\n",
      "750/750 [==============================] - 1s - loss: 1.4961 - acc: 0.5040     \n",
      "Epoch 11/15\n",
      "750/750 [==============================] - 1s - loss: 1.4478 - acc: 0.5267     \n",
      "Epoch 12/15\n",
      "750/750 [==============================] - 1s - loss: 1.4150 - acc: 0.5587     \n",
      "Epoch 13/15\n",
      "750/750 [==============================] - 1s - loss: 1.3753 - acc: 0.5747     \n",
      "Epoch 14/15\n",
      "750/750 [==============================] - 1s - loss: 1.3491 - acc: 0.5787     \n",
      "Epoch 15/15\n",
      "750/750 [==============================] - 1s - loss: 1.3071 - acc: 0.6067     \n"
     ]
    }
   ],
   "source": [
    "# TRAINING model\n",
    "\n",
    "# ANDA bisa me-run blok kode ini beberapa kali\n",
    "\n",
    "# jumlah epoch yang ingin dilakukan\n",
    "epochs = 15\n",
    "\n",
    "# Untuk training kita membutuhkan \"1 hot encoded\" kategori angka sebagai ground truth\n",
    "History = model.fit(train_set, train_classes_1hot, batch_size=32, nb_epoch=epochs)\n",
    "\n",
    "# kita simpan history dari accuracy training set\n",
    "# kita tambahkan data ini ke dalam history sebelumnya jika kita me-run blok kode ini beberapa kali\n",
    "if history is None:\n",
    "    history = History.history\n",
    "else:\n",
    "    for key in History.history.keys():\n",
    "        history[key].extend(History.history[key])"
   ]
  },
  {
   "cell_type": "code",
<<<<<<< HEAD
   "execution_count": 63,
   "metadata": {},
||||||| merged common ancestors
   "execution_count": 43,
   "metadata": {},
=======
   "execution_count": 42,
   "metadata": {
    "collapsed": true
   },
>>>>>>> 7ed1cd029230cd2f5c0e37cf91666940db583d02
   "outputs": [],
   "source": [
    "def plot_traincurve(history):\n",
    "    # definisikan 4 warna untu 4 nilai berbeda pada history\n",
    "    colors = {'loss':'r', 'acc':'b', 'val_loss':'m', 'val_acc':'g'}\n",
    "    plt.figure(figsize=(10,6))\n",
    "    plt.title(\"Training Curve\") \n",
    "    plt.xlabel(\"Epoch\")\n",
    "\n",
    "    for measure in history.keys():\n",
    "        color = colors[measure]\n",
    "        ln = len(history[measure])\n",
    "        plt.plot(range(1,ln+1), history[measure], color + '-', label=measure)  # use last 2 values to draw line\n",
    "\n",
    "    plt.legend(loc='upper left', scatterpoints = 1, frameon=False)"
   ]
  },
  {
   "cell_type": "code",
<<<<<<< HEAD
   "execution_count": 64,
||||||| merged common ancestors
   "execution_count": 44,
=======
   "execution_count": 43,
>>>>>>> 7ed1cd029230cd2f5c0e37cf91666940db583d02
   "metadata": {},
   "outputs": [
    {
     "data": {
      "image/png": "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\n",
      "text/plain": [
<<<<<<< HEAD
       "<Figure size 720x432 with 1 Axes>"
||||||| merged common ancestors
       "<matplotlib.figure.Figure at 0x7fd39675a450>"
=======
       "<matplotlib.figure.Figure at 0x7f56b8ac7690>"
>>>>>>> 7ed1cd029230cd2f5c0e37cf91666940db583d02
      ]
     },
     "metadata": {},
     "output_type": "display_data"
    }
   ],
   "source": [
    "plot_traincurve(history)"
   ]
  },
  {
   "cell_type": "markdown",
   "metadata": {},
   "source": [
    "#### Akurasi selalu naik ke atas pada data training, apakah hal ini juga berlaku pada data testing?"
   ]
  },
  {
   "cell_type": "markdown",
   "metadata": {},
   "source": [
    "### Verifikasi Akurasi pada Test Set"
   ]
  },
  {
   "cell_type": "code",
<<<<<<< HEAD
   "execution_count": 66,
||||||| merged common ancestors
   "execution_count": 45,
=======
   "execution_count": 44,
>>>>>>> 7ed1cd029230cd2f5c0e37cf91666940db583d02
   "metadata": {
    "scrolled": false
   },
   "outputs": [
    {
     "name": "stdout",
     "output_type": "stream",
     "text": [
      "250/250 [==============================] - 0s     \n"
     ]
    }
   ],
   "source": [
    "test_pred = model.predict_classes(test_set)"
   ]
  },
  {
   "cell_type": "code",
<<<<<<< HEAD
   "execution_count": 68,
||||||| merged common ancestors
   "execution_count": 46,
=======
   "execution_count": 45,
>>>>>>> 7ed1cd029230cd2f5c0e37cf91666940db583d02
   "metadata": {},
   "outputs": [
    {
     "data": {
      "text/plain": [
       "array([1, 7, 0, 7, 2, 8, 7, 7, 4, 1, ..., 8, 5, 8, 6, 7, 6, 2, 0, 2, 7])"
      ]
     },
<<<<<<< HEAD
     "execution_count": 68,
||||||| merged common ancestors
     "execution_count": 46,
=======
     "execution_count": 45,
>>>>>>> 7ed1cd029230cd2f5c0e37cf91666940db583d02
     "metadata": {},
     "output_type": "execute_result"
    }
   ],
   "source": [
    "# prediksi\n",
    "test_pred"
   ]
  },
  {
   "cell_type": "code",
<<<<<<< HEAD
   "execution_count": 69,
||||||| merged common ancestors
   "execution_count": 47,
=======
   "execution_count": 46,
>>>>>>> 7ed1cd029230cd2f5c0e37cf91666940db583d02
   "metadata": {},
   "outputs": [
    {
     "data": {
      "text/plain": [
       "array([1, 7, 5, 3, 0, 7, 7, 5, 4, 1, ..., 2, 5, 5, 8, 2, 6, 0, 6, 2, 5])"
      ]
     },
<<<<<<< HEAD
     "execution_count": 69,
||||||| merged common ancestors
     "execution_count": 47,
=======
     "execution_count": 46,
>>>>>>> 7ed1cd029230cd2f5c0e37cf91666940db583d02
     "metadata": {},
     "output_type": "execute_result"
    }
   ],
   "source": [
    "# groundtruth\n",
    "test_classes"
   ]
  },
  {
   "cell_type": "code",
<<<<<<< HEAD
   "execution_count": 70,
||||||| merged common ancestors
   "execution_count": 48,
=======
   "execution_count": 47,
>>>>>>> 7ed1cd029230cd2f5c0e37cf91666940db583d02
   "metadata": {},
   "outputs": [
    {
     "data": {
      "text/plain": [
       "0.436"
      ]
     },
<<<<<<< HEAD
     "execution_count": 70,
||||||| merged common ancestors
     "execution_count": 48,
=======
     "execution_count": 47,
>>>>>>> 7ed1cd029230cd2f5c0e37cf91666940db583d02
     "metadata": {},
     "output_type": "execute_result"
    }
   ],
   "source": [
    "# 1 layer\n",
    "accuracy_score(test_classes, test_pred)"
   ]
  },
  {
   "cell_type": "code",
<<<<<<< HEAD
   "execution_count": 71,
||||||| merged common ancestors
   "execution_count": 49,
=======
   "execution_count": 48,
>>>>>>> 7ed1cd029230cd2f5c0e37cf91666940db583d02
   "metadata": {},
   "outputs": [
    {
     "data": {
      "text/plain": [
       "0.436"
      ]
     },
<<<<<<< HEAD
     "execution_count": 71,
||||||| merged common ancestors
     "execution_count": 49,
=======
     "execution_count": 48,
>>>>>>> 7ed1cd029230cd2f5c0e37cf91666940db583d02
     "metadata": {},
     "output_type": "execute_result"
    }
   ],
   "source": [
    "# 2 layer\n",
    "accuracy_score(test_classes, test_pred)"
   ]
  },
  {
   "cell_type": "code",
<<<<<<< HEAD
   "execution_count": 72,
||||||| merged common ancestors
   "execution_count": 50,
=======
   "execution_count": 49,
>>>>>>> 7ed1cd029230cd2f5c0e37cf91666940db583d02
   "metadata": {
    "scrolled": true
   },
   "outputs": [
    {
     "data": {
      "text/plain": [
       "0.436"
      ]
     },
<<<<<<< HEAD
     "execution_count": 72,
||||||| merged common ancestors
     "execution_count": 50,
=======
     "execution_count": 49,
>>>>>>> 7ed1cd029230cd2f5c0e37cf91666940db583d02
     "metadata": {},
     "output_type": "execute_result"
    }
   ],
   "source": [
    "# 2 layer + 32 convolution filters\n",
    "accuracy_score(test_classes, test_pred)"
   ]
  },
  {
   "cell_type": "code",
<<<<<<< HEAD
   "execution_count": 73,
||||||| merged common ancestors
   "execution_count": 51,
=======
   "execution_count": 50,
>>>>>>> 7ed1cd029230cd2f5c0e37cf91666940db583d02
   "metadata": {},
   "outputs": [
    {
     "data": {
      "text/plain": [
       "0.436"
      ]
     },
<<<<<<< HEAD
     "execution_count": 73,
||||||| merged common ancestors
     "execution_count": 51,
=======
     "execution_count": 50,
>>>>>>> 7ed1cd029230cd2f5c0e37cf91666940db583d02
     "metadata": {},
     "output_type": "execute_result"
    }
   ],
   "source": [
    "# 2 layer + 32 convolution filters + ReLU + Dropout\n",
    "accuracy_score(test_classes, test_pred)"
   ]
  },
  {
   "cell_type": "markdown",
   "metadata": {},
   "source": [
    "## Custom Model"
   ]
  },
  {
   "cell_type": "code",
<<<<<<< HEAD
   "execution_count": 52,
   "metadata": {},
||||||| merged common ancestors
   "execution_count": 54,
   "metadata": {
    "collapsed": true
   },
=======
   "execution_count": 51,
   "metadata": {
    "collapsed": true
   },
>>>>>>> 7ed1cd029230cd2f5c0e37cf91666940db583d02
   "outputs": [],
   "source": [
    "# Try to vary these parameters:\n",
    "\n",
    "conv_filters = 16  # number of convolution filters (= CNN depth), e.g. 16 or 32\n",
    "\n",
    "use_layers = 2    # 1 or 2\n",
    "\n",
    "cnn_activation = 'relu' # sigmoid or relu\n"
   ]
  },
  {
   "cell_type": "code",
<<<<<<< HEAD
   "execution_count": 53,
   "metadata": {},
||||||| merged common ancestors
   "execution_count": 56,
   "metadata": {},
=======
   "execution_count": 52,
   "metadata": {
    "collapsed": true
   },
>>>>>>> 7ed1cd029230cd2f5c0e37cf91666940db583d02
   "outputs": [],
   "source": [
    "model = Sequential()\n",
    "\n",
    "# Layer 1\n",
    "#model.add(Convolution2D(conv_filters, 3, 3, activation=cnn_activation, border_mode='valid', input_shape=input_shape))\n",
    "#model.add(Convolution2D(conv_filters, 4, 12, activation=cnn_activation, border_mode='valid', input_shape=input_shape))\n",
    "model.add(Convolution2D(conv_filters, 10, 4, activation=cnn_activation, border_mode='valid', input_shape=input_shape))\n",
    "\n",
    "if use_layers == 1:\n",
    "    model.add(MaxPooling2D(pool_size=(1, 20))) \n",
    "    #model.add(MaxPooling2D(pool_size=(1, 5))) \n",
    "else:\n",
    "    #model.add(MaxPooling2D(pool_size=(2, 2))) \n",
    "    model.add(MaxPooling2D(pool_size=(1, 5))) \n",
    "\n",
    "# Layer 2\n",
    "if use_layers == 2:\n",
    "    model.add(Convolution2D(conv_filters, 3, 3, activation=cnn_activation, border_mode='valid', input_shape=input_shape))\n",
    "    #model.add(BatchNormalization())\n",
    "    #model.add(Activation(cnn_act)) \n",
    "    model.add(MaxPooling2D(pool_size=(2, 2))) \n",
    "\n",
    "# After Convolution, we have a 16*x*y matrix output\n",
    "# In order to feed this to a Full(Dense) layer, we need to flatten all data\n",
    "# Note: Keras does automatic shape inference, i.e. it knows how many (flat) input units the next layer will need,\n",
    "# so no parameter is needed for the Flatten() layer.\n",
    "model.add(Flatten()) \n",
    "\n",
    "# Full layer\n",
    "model.add(Dense(200, activation='sigmoid'))  \n",
    "model.add(Dropout(0.25))\n",
    "\n",
    "# Output layer\n",
    "# For binary/2-class problems use ONE sigmoid unit, for multi-class/multi-label problems use n output units \n",
    "# activation should be 'softmax' for multi-class / single-label output, 'sigmoid' for binary or multi-label tasks\n",
    "model.add(Dense(n_classes,activation='softmax'))"
   ]
  },
  {
   "cell_type": "markdown",
   "metadata": {},
   "source": [
    "### Training"
   ]
  },
  {
   "cell_type": "code",
<<<<<<< HEAD
   "execution_count": 54,
   "metadata": {},
||||||| merged common ancestors
   "execution_count": 58,
   "metadata": {
    "collapsed": true
   },
=======
   "execution_count": 53,
   "metadata": {
    "collapsed": true
   },
>>>>>>> 7ed1cd029230cd2f5c0e37cf91666940db583d02
   "outputs": [],
   "source": [
    "# Compiling the model\n",
    "\n",
    "learn_rate = 0.05 # e.g. 0.02 or 0.05\n",
    "optimizer = SGD(lr=learn_rate) #, momentum=momentum) \n",
    "\n",
    "model.compile(loss='categorical_crossentropy' , optimizer=optimizer, metrics=['accuracy'])\n",
    "\n",
    "history = None"
   ]
  },
  {
   "cell_type": "code",
<<<<<<< HEAD
   "execution_count": 55,
||||||| merged common ancestors
   "execution_count": 61,
=======
   "execution_count": 54,
>>>>>>> 7ed1cd029230cd2f5c0e37cf91666940db583d02
   "metadata": {},
   "outputs": [
    {
     "name": "stdout",
     "output_type": "stream",
     "text": [
      "Train on 675 samples, validate on 75 samples\n",
      "Epoch 1/30\n",
<<<<<<< HEAD
      "675/675 [==============================] - 1s - loss: 2.3705 - acc: 0.1200 - val_loss: 2.4558 - val_acc: 0.1467\n",
||||||| merged common ancestors
      "675/675 [==============================] - 1s - loss: 1.0090 - acc: 0.6504 - val_loss: 1.7810 - val_acc: 0.4133\n",
=======
      "675/675 [==============================] - 1s - loss: 2.3569 - acc: 0.1274 - val_loss: 2.4648 - val_acc: 0.1333\n",
>>>>>>> 7ed1cd029230cd2f5c0e37cf91666940db583d02
      "Epoch 2/30\n",
<<<<<<< HEAD
      "675/675 [==============================] - 1s - loss: 2.2278 - acc: 0.1600 - val_loss: 2.4165 - val_acc: 0.1600\n",
||||||| merged common ancestors
      "675/675 [==============================] - 1s - loss: 1.0152 - acc: 0.6563 - val_loss: 1.8644 - val_acc: 0.3467\n",
=======
      "675/675 [==============================] - 2s - loss: 2.2103 - acc: 0.1807 - val_loss: 2.3050 - val_acc: 0.1733\n",
>>>>>>> 7ed1cd029230cd2f5c0e37cf91666940db583d02
      "Epoch 3/30\n",
<<<<<<< HEAD
      "675/675 [==============================] - 1s - loss: 2.0920 - acc: 0.2311 - val_loss: 2.5171 - val_acc: 0.1467\n",
||||||| merged common ancestors
      "675/675 [==============================] - 1s - loss: 0.9036 - acc: 0.7096 - val_loss: 1.8777 - val_acc: 0.4133\n",
=======
      "675/675 [==============================] - 1s - loss: 2.0811 - acc: 0.2222 - val_loss: 2.3903 - val_acc: 0.1733\n",
>>>>>>> 7ed1cd029230cd2f5c0e37cf91666940db583d02
      "Epoch 4/30\n",
<<<<<<< HEAD
      "675/675 [==============================] - 1s - loss: 2.0498 - acc: 0.2519 - val_loss: 2.1515 - val_acc: 0.1467\n",
||||||| merged common ancestors
      "675/675 [==============================] - 1s - loss: 0.9122 - acc: 0.7170 - val_loss: 2.3369 - val_acc: 0.3200\n",
=======
      "675/675 [==============================] - 2s - loss: 2.0513 - acc: 0.2459 - val_loss: 2.1109 - val_acc: 0.1467\n",
>>>>>>> 7ed1cd029230cd2f5c0e37cf91666940db583d02
      "Epoch 5/30\n",
<<<<<<< HEAD
      "675/675 [==============================] - 2s - loss: 1.9741 - acc: 0.2963 - val_loss: 2.1392 - val_acc: 0.2533\n",
||||||| merged common ancestors
      "675/675 [==============================] - 1s - loss: 0.9164 - acc: 0.7156 - val_loss: 1.7193 - val_acc: 0.4267\n",
=======
      "675/675 [==============================] - 2s - loss: 1.9540 - acc: 0.3037 - val_loss: 2.0860 - val_acc: 0.2267\n",
>>>>>>> 7ed1cd029230cd2f5c0e37cf91666940db583d02
      "Epoch 6/30\n",
<<<<<<< HEAD
      "675/675 [==============================] - 2s - loss: 1.9370 - acc: 0.2859 - val_loss: 2.4573 - val_acc: 0.1467\n",
||||||| merged common ancestors
      "675/675 [==============================] - 1s - loss: 0.8118 - acc: 0.7570 - val_loss: 1.7412 - val_acc: 0.4400\n",
=======
      "675/675 [==============================] - 1s - loss: 1.8952 - acc: 0.3215 - val_loss: 2.2871 - val_acc: 0.1467\n",
>>>>>>> 7ed1cd029230cd2f5c0e37cf91666940db583d02
      "Epoch 7/30\n",
<<<<<<< HEAD
      "675/675 [==============================] - 2s - loss: 1.8926 - acc: 0.3081 - val_loss: 1.9959 - val_acc: 0.2933\n",
||||||| merged common ancestors
      "675/675 [==============================] - 1s - loss: 0.8025 - acc: 0.7289 - val_loss: 1.8466 - val_acc: 0.3733\n",
=======
      "675/675 [==============================] - 1s - loss: 1.8322 - acc: 0.3319 - val_loss: 1.9807 - val_acc: 0.2800\n",
>>>>>>> 7ed1cd029230cd2f5c0e37cf91666940db583d02
      "Epoch 8/30\n",
<<<<<<< HEAD
      "675/675 [==============================] - 2s - loss: 1.8279 - acc: 0.3496 - val_loss: 2.2743 - val_acc: 0.1867\n",
||||||| merged common ancestors
      "675/675 [==============================] - 1s - loss: 0.7595 - acc: 0.7659 - val_loss: 2.1256 - val_acc: 0.3467\n",
=======
      "675/675 [==============================] - 1s - loss: 1.7598 - acc: 0.3763 - val_loss: 2.3054 - val_acc: 0.2133\n",
>>>>>>> 7ed1cd029230cd2f5c0e37cf91666940db583d02
      "Epoch 9/30\n",
<<<<<<< HEAD
      "675/675 [==============================] - 2s - loss: 1.7937 - acc: 0.3585 - val_loss: 2.1338 - val_acc: 0.2533\n",
||||||| merged common ancestors
      "675/675 [==============================] - 1s - loss: 0.6972 - acc: 0.7926 - val_loss: 2.1504 - val_acc: 0.3600\n",
=======
      "675/675 [==============================] - 1s - loss: 1.7100 - acc: 0.4074 - val_loss: 2.0722 - val_acc: 0.2533\n",
>>>>>>> 7ed1cd029230cd2f5c0e37cf91666940db583d02
      "Epoch 10/30\n",
<<<<<<< HEAD
      "675/675 [==============================] - 1s - loss: 1.7231 - acc: 0.3881 - val_loss: 2.0401 - val_acc: 0.2133\n",
||||||| merged common ancestors
      "675/675 [==============================] - 1s - loss: 0.7144 - acc: 0.7778 - val_loss: 1.8085 - val_acc: 0.3733\n",
=======
      "675/675 [==============================] - 1s - loss: 1.6115 - acc: 0.4326 - val_loss: 1.9409 - val_acc: 0.3200\n",
>>>>>>> 7ed1cd029230cd2f5c0e37cf91666940db583d02
      "Epoch 11/30\n",
<<<<<<< HEAD
      "675/675 [==============================] - 2s - loss: 1.7042 - acc: 0.3970 - val_loss: 1.8458 - val_acc: 0.3600\n",
||||||| merged common ancestors
      "675/675 [==============================] - 1s - loss: 0.6464 - acc: 0.8030 - val_loss: 1.7350 - val_acc: 0.4000\n",
=======
      "675/675 [==============================] - 1s - loss: 1.5955 - acc: 0.4430 - val_loss: 1.8674 - val_acc: 0.3200\n",
>>>>>>> 7ed1cd029230cd2f5c0e37cf91666940db583d02
      "Epoch 12/30\n",
<<<<<<< HEAD
      "675/675 [==============================] - 1s - loss: 1.6250 - acc: 0.4296 - val_loss: 2.0172 - val_acc: 0.2933\n",
||||||| merged common ancestors
      "675/675 [==============================] - 2s - loss: 0.6144 - acc: 0.8148 - val_loss: 1.7489 - val_acc: 0.4267\n",
=======
      "675/675 [==============================] - 1s - loss: 1.5325 - acc: 0.4637 - val_loss: 2.1410 - val_acc: 0.2667\n",
>>>>>>> 7ed1cd029230cd2f5c0e37cf91666940db583d02
      "Epoch 13/30\n",
<<<<<<< HEAD
      "675/675 [==============================] - 2s - loss: 1.5951 - acc: 0.4074 - val_loss: 1.9138 - val_acc: 0.3067\n",
||||||| merged common ancestors
      "675/675 [==============================] - 1s - loss: 0.5200 - acc: 0.8519 - val_loss: 1.8594 - val_acc: 0.4133\n",
=======
      "675/675 [==============================] - 1s - loss: 1.4931 - acc: 0.4785 - val_loss: 2.0833 - val_acc: 0.1867\n",
>>>>>>> 7ed1cd029230cd2f5c0e37cf91666940db583d02
      "Epoch 14/30\n",
<<<<<<< HEAD
      "675/675 [==============================] - 2s - loss: 1.5632 - acc: 0.4326 - val_loss: 2.2751 - val_acc: 0.2800\n",
||||||| merged common ancestors
      "675/675 [==============================] - 1s - loss: 0.5063 - acc: 0.8726 - val_loss: 1.9946 - val_acc: 0.4267\n",
=======
      "675/675 [==============================] - 1s - loss: 1.4409 - acc: 0.4741 - val_loss: 2.3351 - val_acc: 0.2667\n",
>>>>>>> 7ed1cd029230cd2f5c0e37cf91666940db583d02
      "Epoch 15/30\n",
<<<<<<< HEAD
      "675/675 [==============================] - 2s - loss: 1.5687 - acc: 0.4178 - val_loss: 1.9689 - val_acc: 0.2800\n",
||||||| merged common ancestors
      "675/675 [==============================] - 1s - loss: 0.5112 - acc: 0.8593 - val_loss: 2.0647 - val_acc: 0.3600\n",
=======
      "675/675 [==============================] - 2s - loss: 1.4566 - acc: 0.4859 - val_loss: 1.9383 - val_acc: 0.3067\n",
>>>>>>> 7ed1cd029230cd2f5c0e37cf91666940db583d02
      "Epoch 16/30\n",
<<<<<<< HEAD
      "675/675 [==============================] - 1s - loss: 1.4701 - acc: 0.4889 - val_loss: 1.6996 - val_acc: 0.2800\n",
||||||| merged common ancestors
      "675/675 [==============================] - 1s - loss: 0.5504 - acc: 0.8400 - val_loss: 1.8472 - val_acc: 0.3867\n",
=======
      "675/675 [==============================] - 2s - loss: 1.3385 - acc: 0.5407 - val_loss: 1.7578 - val_acc: 0.3467\n",
>>>>>>> 7ed1cd029230cd2f5c0e37cf91666940db583d02
      "Epoch 17/30\n",
<<<<<<< HEAD
      "675/675 [==============================] - 1s - loss: 1.4226 - acc: 0.4889 - val_loss: 1.7261 - val_acc: 0.3467\n",
||||||| merged common ancestors
      "675/675 [==============================] - 1s - loss: 0.4174 - acc: 0.8993 - val_loss: 1.7886 - val_acc: 0.4267\n",
=======
      "675/675 [==============================] - 1s - loss: 1.2888 - acc: 0.5600 - val_loss: 1.7404 - val_acc: 0.3467\n",
>>>>>>> 7ed1cd029230cd2f5c0e37cf91666940db583d02
      "Epoch 18/30\n",
<<<<<<< HEAD
      "675/675 [==============================] - 1s - loss: 1.4141 - acc: 0.4874 - val_loss: 2.2498 - val_acc: 0.2533\n",
||||||| merged common ancestors
      "675/675 [==============================] - 1s - loss: 0.4058 - acc: 0.9081 - val_loss: 1.7669 - val_acc: 0.4267\n",
=======
      "675/675 [==============================] - 1s - loss: 1.2510 - acc: 0.5659 - val_loss: 2.3079 - val_acc: 0.2667\n",
>>>>>>> 7ed1cd029230cd2f5c0e37cf91666940db583d02
      "Epoch 19/30\n",
<<<<<<< HEAD
      "675/675 [==============================] - 1s - loss: 1.4066 - acc: 0.5096 - val_loss: 2.1161 - val_acc: 0.3067\n",
||||||| merged common ancestors
      "675/675 [==============================] - 1s - loss: 0.3684 - acc: 0.9156 - val_loss: 1.9411 - val_acc: 0.3867\n",
=======
      "675/675 [==============================] - 1s - loss: 1.2467 - acc: 0.5541 - val_loss: 2.2354 - val_acc: 0.2800\n",
>>>>>>> 7ed1cd029230cd2f5c0e37cf91666940db583d02
      "Epoch 20/30\n",
<<<<<<< HEAD
      "675/675 [==============================] - 1s - loss: 1.3609 - acc: 0.5274 - val_loss: 2.2489 - val_acc: 0.2933\n",
||||||| merged common ancestors
      "675/675 [==============================] - 1s - loss: 0.3326 - acc: 0.9333 - val_loss: 1.8263 - val_acc: 0.4400\n",
=======
      "675/675 [==============================] - 1s - loss: 1.2096 - acc: 0.5970 - val_loss: 2.3861 - val_acc: 0.2933\n",
>>>>>>> 7ed1cd029230cd2f5c0e37cf91666940db583d02
      "Epoch 21/30\n",
<<<<<<< HEAD
      "675/675 [==============================] - 1s - loss: 1.3116 - acc: 0.5348 - val_loss: 2.9650 - val_acc: 0.2533\n",
||||||| merged common ancestors
      "675/675 [==============================] - 1s - loss: 0.2946 - acc: 0.9452 - val_loss: 1.8555 - val_acc: 0.4133\n",
=======
      "675/675 [==============================] - 1s - loss: 1.1577 - acc: 0.6030 - val_loss: 2.5594 - val_acc: 0.2533\n",
>>>>>>> 7ed1cd029230cd2f5c0e37cf91666940db583d02
      "Epoch 22/30\n",
<<<<<<< HEAD
      "675/675 [==============================] - 1s - loss: 1.4844 - acc: 0.5111 - val_loss: 1.7158 - val_acc: 0.3467\n",
||||||| merged common ancestors
      "675/675 [==============================] - 1s - loss: 0.2791 - acc: 0.9556 - val_loss: 2.1550 - val_acc: 0.3600\n",
=======
      "675/675 [==============================] - 1s - loss: 1.1710 - acc: 0.6104 - val_loss: 1.8745 - val_acc: 0.3333\n",
>>>>>>> 7ed1cd029230cd2f5c0e37cf91666940db583d02
      "Epoch 23/30\n",
<<<<<<< HEAD
      "675/675 [==============================] - 1s - loss: 1.2758 - acc: 0.5467 - val_loss: 1.9937 - val_acc: 0.3733\n",
||||||| merged common ancestors
      "675/675 [==============================] - 1s - loss: 0.2913 - acc: 0.9452 - val_loss: 1.8770 - val_acc: 0.3867\n",
=======
      "675/675 [==============================] - 2s - loss: 1.0511 - acc: 0.6667 - val_loss: 2.1262 - val_acc: 0.3733\n",
>>>>>>> 7ed1cd029230cd2f5c0e37cf91666940db583d02
      "Epoch 24/30\n",
<<<<<<< HEAD
      "675/675 [==============================] - 1s - loss: 1.2353 - acc: 0.5911 - val_loss: 1.7299 - val_acc: 0.4133\n",
||||||| merged common ancestors
      "675/675 [==============================] - 1s - loss: 0.2358 - acc: 0.9733 - val_loss: 1.9644 - val_acc: 0.3733\n",
=======
      "675/675 [==============================] - 1s - loss: 1.0283 - acc: 0.6578 - val_loss: 1.9368 - val_acc: 0.3600\n",
>>>>>>> 7ed1cd029230cd2f5c0e37cf91666940db583d02
      "Epoch 25/30\n",
<<<<<<< HEAD
      "675/675 [==============================] - 1s - loss: 1.2298 - acc: 0.5481 - val_loss: 1.6712 - val_acc: 0.3600\n",
||||||| merged common ancestors
      "675/675 [==============================] - 2s - loss: 0.2328 - acc: 0.9689 - val_loss: 1.8950 - val_acc: 0.4133\n",
=======
      "675/675 [==============================] - 1s - loss: 0.9846 - acc: 0.6622 - val_loss: 2.2276 - val_acc: 0.2933\n",
>>>>>>> 7ed1cd029230cd2f5c0e37cf91666940db583d02
      "Epoch 26/30\n",
<<<<<<< HEAD
      "675/675 [==============================] - 1s - loss: 1.1404 - acc: 0.6044 - val_loss: 1.7564 - val_acc: 0.3600\n",
||||||| merged common ancestors
      "675/675 [==============================] - 1s - loss: 0.2361 - acc: 0.9585 - val_loss: 1.8862 - val_acc: 0.4533\n",
=======
      "675/675 [==============================] - 1s - loss: 0.9466 - acc: 0.6978 - val_loss: 1.8691 - val_acc: 0.3333\n",
>>>>>>> 7ed1cd029230cd2f5c0e37cf91666940db583d02
      "Epoch 27/30\n",
<<<<<<< HEAD
      "675/675 [==============================] - 1s - loss: 1.1308 - acc: 0.5970 - val_loss: 2.0354 - val_acc: 0.3333\n",
||||||| merged common ancestors
      "675/675 [==============================] - 1s - loss: 0.1917 - acc: 0.9748 - val_loss: 1.8708 - val_acc: 0.4400\n",
=======
      "675/675 [==============================] - 1s - loss: 0.8923 - acc: 0.7126 - val_loss: 2.2440 - val_acc: 0.3333\n",
>>>>>>> 7ed1cd029230cd2f5c0e37cf91666940db583d02
      "Epoch 28/30\n",
<<<<<<< HEAD
      "675/675 [==============================] - 1s - loss: 1.1064 - acc: 0.5970 - val_loss: 1.7059 - val_acc: 0.3733\n",
||||||| merged common ancestors
      "675/675 [==============================] - 1s - loss: 0.1862 - acc: 0.9733 - val_loss: 1.9289 - val_acc: 0.4267\n",
=======
      "675/675 [==============================] - 1s - loss: 0.9355 - acc: 0.6978 - val_loss: 2.0280 - val_acc: 0.3333\n",
>>>>>>> 7ed1cd029230cd2f5c0e37cf91666940db583d02
      "Epoch 29/30\n",
<<<<<<< HEAD
      "675/675 [==============================] - 1s - loss: 1.0771 - acc: 0.6281 - val_loss: 1.8148 - val_acc: 0.3600\n",
||||||| merged common ancestors
      "675/675 [==============================] - 1s - loss: 0.1677 - acc: 0.9822 - val_loss: 2.0112 - val_acc: 0.3733\n",
=======
      "675/675 [==============================] - 1s - loss: 0.8909 - acc: 0.7244 - val_loss: 1.9255 - val_acc: 0.3200\n",
>>>>>>> 7ed1cd029230cd2f5c0e37cf91666940db583d02
      "Epoch 30/30\n",
<<<<<<< HEAD
      "675/675 [==============================] - 1s - loss: 1.0163 - acc: 0.6311 - val_loss: 1.7163 - val_acc: 0.3467\n"
||||||| merged common ancestors
      "675/675 [==============================] - 1s - loss: 0.1631 - acc: 0.9852 - val_loss: 1.8662 - val_acc: 0.4267\n"
=======
      "675/675 [==============================] - 1s - loss: 0.7922 - acc: 0.7481 - val_loss: 1.9744 - val_acc: 0.3333\n"
>>>>>>> 7ed1cd029230cd2f5c0e37cf91666940db583d02
     ]
    }
   ],
   "source": [
    "# TRAINING the model - (you may repeat execution of this cell to FURTHER train the model!)\n",
    "epochs = 30\n",
    "#History = model.fit(train_set, train_classes_1hot, batch_size=32, nb_epoch=epochs)\n",
    "\n",
    "# adding a validation set:\n",
    "validation_percent = 0.1\n",
    "History = model.fit(train_set, train_classes_1hot, validation_split=validation_percent, batch_size=32, nb_epoch=epochs)\n",
    "\n",
    "# we keep the history of accuracies on training set\n",
    "# we append this to previous history in case we execute this cell multiple times\n",
    "if history is None:\n",
    "    history = History.history\n",
    "else:\n",
    "    for key in History.history.keys():\n",
    "        history[key].extend(History.history[key])"
   ]
  },
  {
   "cell_type": "code",
<<<<<<< HEAD
   "execution_count": 56,
||||||| merged common ancestors
   "execution_count": 62,
=======
   "execution_count": 55,
>>>>>>> 7ed1cd029230cd2f5c0e37cf91666940db583d02
   "metadata": {},
   "outputs": [
    {
     "data": {
<<<<<<< HEAD
      "image/png": "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\n",
||||||| merged common ancestors
      "image/png": "iVBORw0KGgoAAAANSUhEUgAAAlYAAAGJCAYAAABIJX14AAAABHNCSVQICAgIfAhkiAAAAAlwSFlz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\n",
=======
      "image/png": "iVBORw0KGgoAAAANSUhEUgAAAlYAAAGJCAYAAABIJX14AAAABHNCSVQICAgIfAhkiAAAAAlwSFlz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\nIiIifqJgJSIiIuIn/x+DoBiHkheXeQAAAABJRU5ErkJggg==\n",
>>>>>>> 7ed1cd029230cd2f5c0e37cf91666940db583d02
      "text/plain": [
<<<<<<< HEAD
       "<Figure size 720x432 with 1 Axes>"
||||||| merged common ancestors
       "<matplotlib.figure.Figure at 0x7fd38a51d610>"
=======
       "<matplotlib.figure.Figure at 0x7f56ac9d3910>"
>>>>>>> 7ed1cd029230cd2f5c0e37cf91666940db583d02
      ]
     },
     "metadata": {},
     "output_type": "display_data"
    }
   ],
   "source": [
    "plot_traincurve(history)"
   ]
  },
  {
   "cell_type": "markdown",
   "metadata": {},
   "source": [
    "### Testing"
   ]
  },
  {
   "cell_type": "code",
<<<<<<< HEAD
   "execution_count": 57,
||||||| merged common ancestors
   "execution_count": null,
=======
   "execution_count": 56,
>>>>>>> 7ed1cd029230cd2f5c0e37cf91666940db583d02
   "metadata": {
    "scrolled": true
   },
<<<<<<< HEAD
   "outputs": [
    {
     "name": "stdout",
     "output_type": "stream",
     "text": [
      "224/250 [=========================>....] - ETA: 0s"
     ]
    }
   ],
||||||| merged common ancestors
   "outputs": [],
=======
   "outputs": [
    {
     "name": "stdout",
     "output_type": "stream",
     "text": [
      "250/250 [==============================] - 0s     \n"
     ]
    }
   ],
>>>>>>> 7ed1cd029230cd2f5c0e37cf91666940db583d02
   "source": [
    "test_pred = model.predict_classes(test_set)"
   ]
  },
  {
   "cell_type": "code",
<<<<<<< HEAD
   "execution_count": 58,
||||||| merged common ancestors
   "execution_count": null,
=======
   "execution_count": 57,
>>>>>>> 7ed1cd029230cd2f5c0e37cf91666940db583d02
   "metadata": {},
<<<<<<< HEAD
   "outputs": [
    {
     "data": {
      "text/plain": [
       "0.388"
      ]
     },
     "execution_count": 58,
     "metadata": {},
     "output_type": "execute_result"
    }
   ],
||||||| merged common ancestors
   "outputs": [],
=======
   "outputs": [
    {
     "data": {
      "text/plain": [
       "0.40000000000000002"
      ]
     },
     "execution_count": 57,
     "metadata": {},
     "output_type": "execute_result"
    }
   ],
>>>>>>> 7ed1cd029230cd2f5c0e37cf91666940db583d02
   "source": [
    "accuracy_score(test_classes, test_pred)"
   ]
  },
  {
   "cell_type": "markdown",
   "metadata": {},
   "source": [
    "## Advanced Model: Additional Parameters & Techniques\n",
    "\n",
    "Try:\n",
    "* Adding Batch normalization\n",
    "* Adding ReLU activation\n",
    "* Adding Dropout"
   ]
  },
  {
   "cell_type": "code",
<<<<<<< HEAD
   "execution_count": 59,
   "metadata": {},
||||||| merged common ancestors
   "execution_count": null,
   "metadata": {
    "collapsed": true
   },
=======
   "execution_count": 59,
   "metadata": {
    "collapsed": true
   },
>>>>>>> 7ed1cd029230cd2f5c0e37cf91666940db583d02
   "outputs": [],
   "source": [
    "# Adapt parameters here:\n",
    "\n",
    "conv_filters = 16   # number of convolution filters (= CNN depth), e.g. 16 or 32\n",
    "\n",
    "batch_norm = True  # True or False\n",
    "\n",
    "activation = 'relu' # sigmoid or relu\n",
    "\n",
    "#dropout = None # None or 0 < dropout < 1\n",
    "dropout = 0.25 # None or 0 < dropout < 1"
   ]
  },
  {
   "cell_type": "code",
<<<<<<< HEAD
   "execution_count": 60,
   "metadata": {},
||||||| merged common ancestors
   "execution_count": null,
   "metadata": {},
=======
   "execution_count": 60,
   "metadata": {
    "collapsed": true
   },
>>>>>>> 7ed1cd029230cd2f5c0e37cf91666940db583d02
   "outputs": [],
   "source": [
    "model = Sequential()\n",
    "\n",
    "# Layer 1\n",
    "if batch_norm:\n",
    "    model.add(BatchNormalization(input_shape=input_shape))\n",
    "model.add(Convolution2D(conv_filters, 3, 3, border_mode='valid', input_shape=input_shape))\n",
    "#model.add(Convolution2D(conv_filters, 4, 12, border_mode='valid', input_shape=input_shape))\n",
    "model.add(Activation(activation))\n",
    "model.add(MaxPooling2D(pool_size=(2, 2))) \n",
    "#model.add(MaxPooling2D(pool_size=(1, 20))) \n",
    "if dropout:\n",
    "    model.add(Dropout(dropout))\n",
    "\n",
    "# Layer 2\n",
    "if batch_norm:\n",
    "    model.add(BatchNormalization())\n",
    "model.add(Convolution2D(conv_filters, 3, 3, border_mode='valid', input_shape=input_shape))\n",
    "model.add(Activation(activation)) \n",
    "model.add(MaxPooling2D(pool_size=(2, 2))) \n",
    "if dropout:\n",
    "    model.add(Dropout(dropout))\n",
    "\n",
    "# After Convolution, we have a 16*x*y matrix output\n",
    "# In order to feed this to a Full(Dense) layer, we need to flatten all data\n",
    "# Note: Keras does automatic shape inference, i.e. it knows how many (flat) input units the next layer will need,\n",
    "# so no parameter is needed for the Flatten() layer.\n",
    "model.add(Flatten()) \n",
    "\n",
    "# Full layer\n",
    "model.add(Dense(256))  \n",
    "model.add(Activation(activation))\n",
    "if dropout:\n",
    "    model.add(Dropout(dropout))\n",
    "\n",
    "# Output layer\n",
    "# For binary/2-class problems use ONE sigmoid unit, \n",
    "# for multi-class/multi-label problems use n output units and activation='softmax!'\n",
    "model.add(Dense(n_classes,activation='softmax'))"
   ]
  },
  {
   "cell_type": "markdown",
   "metadata": {},
   "source": [
    "### Training"
   ]
  },
  {
   "cell_type": "code",
<<<<<<< HEAD
   "execution_count": 61,
   "metadata": {},
||||||| merged common ancestors
   "execution_count": null,
   "metadata": {},
=======
   "execution_count": 61,
   "metadata": {
    "collapsed": true
   },
>>>>>>> 7ed1cd029230cd2f5c0e37cf91666940db583d02
   "outputs": [],
   "source": [
    "# Compiling the model\n",
    "\n",
    "optimizer = 'sgd'\n",
    "\n",
    "#learn_rate = 0.02\n",
    "#optimizer = SGD(lr=learn_rate) #, momentum=momentum) \n",
    "\n",
    "model.compile(loss='categorical_crossentropy' , optimizer=optimizer, metrics=['accuracy'])\n",
    "\n",
    "history = None"
   ]
  },
  {
   "cell_type": "code",
   "execution_count": 62,
   "metadata": {},
<<<<<<< HEAD
   "outputs": [
    {
     "name": "stdout",
     "output_type": "stream",
     "text": [
      "Epoch 1/30\n",
      "750/750 [==============================] - 2s - loss: 2.6416 - acc: 0.1427     \n",
      "Epoch 2/30\n",
      "750/750 [==============================] - 2s - loss: 2.2009 - acc: 0.2173     \n",
      "Epoch 3/30\n",
      "750/750 [==============================] - 2s - loss: 2.0626 - acc: 0.2560     \n",
      "Epoch 4/30\n",
      "750/750 [==============================] - 2s - loss: 1.9961 - acc: 0.3000     \n",
      "Epoch 5/30\n",
      "750/750 [==============================] - 2s - loss: 1.9090 - acc: 0.3200     \n",
      "Epoch 6/30\n",
      "750/750 [==============================] - 2s - loss: 1.8277 - acc: 0.3533     \n",
      "Epoch 7/30\n",
      "750/750 [==============================] - 2s - loss: 1.7626 - acc: 0.3920     \n",
      "Epoch 8/30\n",
      "750/750 [==============================] - 2s - loss: 1.7002 - acc: 0.3947     \n",
      "Epoch 9/30\n",
      "750/750 [==============================] - 2s - loss: 1.6566 - acc: 0.3973     \n",
      "Epoch 10/30\n",
      "750/750 [==============================] - 2s - loss: 1.5630 - acc: 0.4547     \n",
      "Epoch 11/30\n",
      "750/750 [==============================] - 2s - loss: 1.5530 - acc: 0.4573     \n",
      "Epoch 12/30\n",
      "750/750 [==============================] - 2s - loss: 1.4723 - acc: 0.4693     \n",
      "Epoch 13/30\n",
      "750/750 [==============================] - 2s - loss: 1.4205 - acc: 0.4907     \n",
      "Epoch 14/30\n",
      "750/750 [==============================] - 2s - loss: 1.4569 - acc: 0.4840     \n",
      "Epoch 15/30\n",
      "750/750 [==============================] - 3s - loss: 1.3794 - acc: 0.5093     \n",
      "Epoch 16/30\n",
      "750/750 [==============================] - 2s - loss: 1.3180 - acc: 0.5400     \n",
      "Epoch 17/30\n",
      "750/750 [==============================] - 2s - loss: 1.2862 - acc: 0.5387     \n",
      "Epoch 18/30\n",
      "750/750 [==============================] - 2s - loss: 1.2552 - acc: 0.5613     \n",
      "Epoch 19/30\n",
      "750/750 [==============================] - 2s - loss: 1.2316 - acc: 0.5520     \n",
      "Epoch 20/30\n",
      "750/750 [==============================] - 2s - loss: 1.1750 - acc: 0.5907     \n",
      "Epoch 21/30\n",
      "750/750 [==============================] - 2s - loss: 1.0934 - acc: 0.6107     \n",
      "Epoch 22/30\n",
      "750/750 [==============================] - 2s - loss: 1.0851 - acc: 0.6387     \n",
      "Epoch 23/30\n",
      "750/750 [==============================] - 2s - loss: 1.0848 - acc: 0.6280     \n",
      "Epoch 24/30\n",
      "750/750 [==============================] - 2s - loss: 1.0454 - acc: 0.6253     \n",
      "Epoch 25/30\n",
      "750/750 [==============================] - 2s - loss: 0.9871 - acc: 0.6600     \n",
      "Epoch 26/30\n",
      "750/750 [==============================] - 2s - loss: 0.9991 - acc: 0.6413     \n",
      "Epoch 27/30\n",
      "750/750 [==============================] - 2s - loss: 0.9640 - acc: 0.6707     \n",
      "Epoch 28/30\n",
      "750/750 [==============================] - 2s - loss: 0.9187 - acc: 0.6867     \n",
      "Epoch 29/30\n",
      "750/750 [==============================] - 2s - loss: 0.8691 - acc: 0.7093     \n",
      "Epoch 30/30\n",
      "750/750 [==============================] - 2s - loss: 0.8438 - acc: 0.7200     \n"
     ]
    }
   ],
||||||| merged common ancestors
   "outputs": [],
=======
   "outputs": [
    {
     "name": "stdout",
     "output_type": "stream",
     "text": [
      "Epoch 1/30\n",
      "750/750 [==============================] - 2s - loss: 2.5914 - acc: 0.1547     \n",
      "Epoch 2/30\n",
      "750/750 [==============================] - 2s - loss: 2.1829 - acc: 0.2133     \n",
      "Epoch 3/30\n",
      "750/750 [==============================] - 2s - loss: 2.0651 - acc: 0.2747     \n",
      "Epoch 4/30\n",
      "750/750 [==============================] - 2s - loss: 2.0144 - acc: 0.2707     \n",
      "Epoch 5/30\n",
      "750/750 [==============================] - 2s - loss: 1.9521 - acc: 0.3333     \n",
      "Epoch 6/30\n",
      "750/750 [==============================] - 2s - loss: 1.8924 - acc: 0.3320     \n",
      "Epoch 7/30\n",
      "750/750 [==============================] - 2s - loss: 1.8439 - acc: 0.3347     \n",
      "Epoch 8/30\n",
      "750/750 [==============================] - 2s - loss: 1.8159 - acc: 0.3587     \n",
      "Epoch 9/30\n",
      "750/750 [==============================] - 2s - loss: 1.8048 - acc: 0.3760     \n",
      "Epoch 10/30\n",
      "750/750 [==============================] - 2s - loss: 1.6866 - acc: 0.4253     \n",
      "Epoch 11/30\n",
      "750/750 [==============================] - 2s - loss: 1.6894 - acc: 0.4013     \n",
      "Epoch 12/30\n",
      "750/750 [==============================] - 2s - loss: 1.6611 - acc: 0.4027     \n",
      "Epoch 13/30\n",
      "750/750 [==============================] - 2s - loss: 1.5807 - acc: 0.4480     \n",
      "Epoch 14/30\n",
      "750/750 [==============================] - 2s - loss: 1.5553 - acc: 0.4693     \n",
      "Epoch 15/30\n",
      "750/750 [==============================] - 2s - loss: 1.5262 - acc: 0.4947     \n",
      "Epoch 16/30\n",
      "750/750 [==============================] - 2s - loss: 1.4622 - acc: 0.4733     \n",
      "Epoch 17/30\n",
      "750/750 [==============================] - 2s - loss: 1.4297 - acc: 0.5067     \n",
      "Epoch 18/30\n",
      "750/750 [==============================] - 2s - loss: 1.4026 - acc: 0.5053     \n",
      "Epoch 19/30\n",
      "750/750 [==============================] - 2s - loss: 1.3555 - acc: 0.5307     \n",
      "Epoch 20/30\n",
      "750/750 [==============================] - 2s - loss: 1.3008 - acc: 0.5520     \n",
      "Epoch 21/30\n",
      "750/750 [==============================] - 2s - loss: 1.2985 - acc: 0.5400     \n",
      "Epoch 22/30\n",
      "750/750 [==============================] - 2s - loss: 1.2775 - acc: 0.5733     \n",
      "Epoch 23/30\n",
      "750/750 [==============================] - 2s - loss: 1.1781 - acc: 0.5773     \n",
      "Epoch 24/30\n",
      "750/750 [==============================] - 2s - loss: 1.1701 - acc: 0.5893     \n",
      "Epoch 25/30\n",
      "750/750 [==============================] - 2s - loss: 1.0765 - acc: 0.6293     \n",
      "Epoch 26/30\n",
      "750/750 [==============================] - 2s - loss: 1.0869 - acc: 0.6320     \n",
      "Epoch 27/30\n",
      "750/750 [==============================] - 2s - loss: 1.0182 - acc: 0.6253     \n",
      "Epoch 28/30\n",
      "750/750 [==============================] - 2s - loss: 1.0776 - acc: 0.6240     \n",
      "Epoch 29/30\n",
      "750/750 [==============================] - 2s - loss: 1.0367 - acc: 0.6400     \n",
      "Epoch 30/30\n",
      "750/750 [==============================] - 2s - loss: 0.9468 - acc: 0.6733     \n"
     ]
    }
   ],
>>>>>>> 7ed1cd029230cd2f5c0e37cf91666940db583d02
   "source": [
    "# TRAINING the model - (you may repeat execution of this cell to FURTHER train the model!)\n",
    "epochs = 30\n",
    "History = model.fit(train_set, train_classes_1hot, batch_size=32, nb_epoch=epochs)\n",
    "\n",
    "# we keep the history of accuracies on training set\n",
    "# we append this to previous history in case we execute this cell multiple times\n",
    "if history is None:\n",
    "    history = History.history\n",
    "else:\n",
    "    for key in History.history.keys():\n",
    "        history[key].extend(History.history[key])"
   ]
  },
  {
   "cell_type": "code",
   "execution_count": 63,
   "metadata": {
    "scrolled": true
   },
<<<<<<< HEAD
   "outputs": [
    {
     "data": {
      "image/png": "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\n",
      "text/plain": [
       "<Figure size 720x432 with 1 Axes>"
      ]
     },
     "metadata": {},
     "output_type": "display_data"
    }
   ],
||||||| merged common ancestors
   "outputs": [],
=======
   "outputs": [
    {
     "data": {
      "image/png": "iVBORw0KGgoAAAANSUhEUgAAAlYAAAGJCAYAAABIJX14AAAABHNCSVQICAgIfAhkiAAAAAlwSFlz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\nSUVisJIkSSqS/w+RByWWpldrtwAAAABJRU5ErkJggg==\n",
      "text/plain": [
       "<matplotlib.figure.Figure at 0x7f56ac6e69d0>"
      ]
     },
     "metadata": {},
     "output_type": "display_data"
    }
   ],
>>>>>>> 7ed1cd029230cd2f5c0e37cf91666940db583d02
   "source": [
    "plot_traincurve(history)"
   ]
  },
  {
   "cell_type": "markdown",
   "metadata": {},
   "source": [
    "### Testing"
   ]
  },
  {
   "cell_type": "code",
   "execution_count": 64,
   "metadata": {},
   "outputs": [
    {
     "name": "stdout",
     "output_type": "stream",
     "text": [
      "250/250 [==============================] - 0s     \n"
     ]
    }
   ],
   "source": [
    "test_pred = model.predict_classes(test_set)"
   ]
  },
  {
   "cell_type": "code",
   "execution_count": 65,
   "metadata": {},
<<<<<<< HEAD
   "outputs": [
    {
     "data": {
      "text/plain": [
       "0.504"
      ]
     },
     "execution_count": 65,
     "metadata": {},
     "output_type": "execute_result"
    }
   ],
||||||| merged common ancestors
   "outputs": [],
=======
   "outputs": [
    {
     "data": {
      "text/plain": [
       "0.47999999999999998"
      ]
     },
     "execution_count": 65,
     "metadata": {},
     "output_type": "execute_result"
    }
   ],
>>>>>>> 7ed1cd029230cd2f5c0e37cf91666940db583d02
   "source": [
    "accuracy_score(test_classes, test_pred)"
   ]
  },
  {
   "cell_type": "code",
   "execution_count": 66,
   "metadata": {},
   "outputs": [
    {
     "name": "stdout",
     "output_type": "stream",
     "text": [
      "30 epochs\n"
     ]
    }
   ],
   "source": [
    "print len(history['loss']), \"epochs\""
   ]
  },
  {
   "cell_type": "markdown",
   "metadata": {
    "collapsed": true
   },
   "source": [
    "## Parallel CNNs\n",
    "\n",
    "The motivation to use parallel CNNs is to use one CNN that detects patterns in the <b>frequencies</b> and another one that captures patterns in the <b>time domain, i.e. rhythm</b> in a combined way to learn better the structures in the sound.\n",
    "\n",
    "To create parallel CNNs we need a \"graph-based\" model. In Keras 1.x this is realized via the functional API of the Model() class.\n",
    "We use it to create two CNN layers that run in parallel to each other and are merged subsequently."
   ]
  },
  {
   "cell_type": "code",
<<<<<<< HEAD
   "execution_count": 67,
   "metadata": {},
||||||| merged common ancestors
   "execution_count": 63,
   "metadata": {
    "collapsed": true
   },
=======
   "execution_count": 67,
   "metadata": {
    "collapsed": true
   },
>>>>>>> 7ed1cd029230cd2f5c0e37cf91666940db583d02
   "outputs": [],
   "source": [
    "n_filters = 16  # e.g. 16 or 32 \n",
    "dropout = 0.25 # None or 0 < dropout < 1"
   ]
  },
  {
   "cell_type": "code",
<<<<<<< HEAD
   "execution_count": 68,
   "metadata": {},
||||||| merged common ancestors
   "execution_count": 64,
   "metadata": {},
=======
   "execution_count": 68,
   "metadata": {
    "collapsed": true
   },
>>>>>>> 7ed1cd029230cd2f5c0e37cf91666940db583d02
   "outputs": [],
   "source": [
    "# Input only specifies the input shape\n",
    "input = Input(input_shape)\n",
    "\n",
    "# CNN layers\n",
    "# specify desired number of filters\n",
    "\n",
    "# The functional API allows to specify the predecessor in (brackets) after the new Layer function call\n",
    "conv_layer1 = Convolution2D(n_filters, 10, 4, activation='relu')(input)  # a vertical filter\n",
    "conv_layer2 = Convolution2D(n_filters, 4, 10, activation='relu')(input)  # a horizontal filter\n",
    "\n",
    "# Pooling layers - equal sized\n",
    "#maxpool1 = MaxPooling2D(pool_size=(2,2))(conv_layer1)\n",
    "#maxpool2 = MaxPooling2D(pool_size=(2,2))(conv_layer2)\n",
    "\n",
    "# ALTERNATIVE: Pooling layers - complementary to vertical/horizontal filter\n",
    "#maxpool1 = MaxPooling2D(pool_size=(1,2))(conv_layer1)\n",
    "#maxpool2 = MaxPooling2D(pool_size=(2,1))(conv_layer2)\n",
    "\n",
    "# LARGER Pooling layers - complementary to vertical/horizontal filter\n",
    "maxpool1 = MaxPooling2D(pool_size=(1,5))(conv_layer1)\n",
    "maxpool2 = MaxPooling2D(pool_size=(5,1))(conv_layer2) # used 4,1 first\n",
    "\n",
    "# Dropout for both layers\n",
    "if dropout:\n",
    "    maxpool1 = Dropout(dropout)(maxpool1)\n",
    "    maxpool2 = Dropout(dropout)(maxpool2)\n",
    "\n",
    "# we have to flatten the Pooling output in order to be concatenated\n",
    "poolflat1 = Flatten()(maxpool1)\n",
    "poolflat2 = Flatten()(maxpool2)\n",
    "\n",
    "# Merge the 2 parallel pipelines\n",
    "merged = merge([poolflat1, poolflat2], mode='concat')\n",
    "\n",
    "full = Dense(256, activation='sigmoid')(merged)\n",
    "output_layer = Dense(n_classes, activation='softmax')(full)\n",
    "\n",
    "# finally create the model\n",
    "model = Model(input=input, output=output_layer)"
   ]
  },
  {
   "cell_type": "code",
   "execution_count": 69,
   "metadata": {},
   "outputs": [
    {
     "name": "stdout",
     "output_type": "stream",
     "text": [
      "____________________________________________________________________________________________________\n",
      "Layer (type)                     Output Shape          Param #     Connected to                     \n",
      "====================================================================================================\n",
      "input_1 (InputLayer)             (None, 40, 80, 1)     0                                            \n",
      "____________________________________________________________________________________________________\n",
<<<<<<< HEAD
      "convolution2d_6 (Convolution2D)  (None, 31, 77, 16)    656         input_1[0][0]                    \n",
||||||| merged common ancestors
      "convolution2d_8 (Convolution2D)  (None, 16, 31, 77)    656         input_1[0][0]                    \n",
=======
      "convolution2d_6 (Convolution2D)  (None, 16, 31, 77)    656         input_1[0][0]                    \n",
>>>>>>> 7ed1cd029230cd2f5c0e37cf91666940db583d02
      "____________________________________________________________________________________________________\n",
<<<<<<< HEAD
      "convolution2d_7 (Convolution2D)  (None, 37, 71, 16)    656         input_1[0][0]                    \n",
||||||| merged common ancestors
      "convolution2d_9 (Convolution2D)  (None, 16, 37, 71)    656         input_1[0][0]                    \n",
=======
      "convolution2d_7 (Convolution2D)  (None, 16, 37, 71)    656         input_1[0][0]                    \n",
>>>>>>> 7ed1cd029230cd2f5c0e37cf91666940db583d02
      "____________________________________________________________________________________________________\n",
<<<<<<< HEAD
      "maxpooling2d_6 (MaxPooling2D)    (None, 31, 15, 16)    0           convolution2d_6[0][0]            \n",
||||||| merged common ancestors
      "maxpooling2d_6 (MaxPooling2D)    (None, 16, 31, 15)    0           convolution2d_8[0][0]            \n",
=======
      "maxpooling2d_6 (MaxPooling2D)    (None, 16, 31, 15)    0           convolution2d_6[0][0]            \n",
>>>>>>> 7ed1cd029230cd2f5c0e37cf91666940db583d02
      "____________________________________________________________________________________________________\n",
<<<<<<< HEAD
      "maxpooling2d_7 (MaxPooling2D)    (None, 7, 71, 16)     0           convolution2d_7[0][0]            \n",
||||||| merged common ancestors
      "maxpooling2d_7 (MaxPooling2D)    (None, 16, 7, 71)     0           convolution2d_9[0][0]            \n",
=======
      "maxpooling2d_7 (MaxPooling2D)    (None, 16, 7, 71)     0           convolution2d_7[0][0]            \n",
>>>>>>> 7ed1cd029230cd2f5c0e37cf91666940db583d02
      "____________________________________________________________________________________________________\n",
<<<<<<< HEAD
      "dropout_5 (Dropout)              (None, 31, 15, 16)    0           maxpooling2d_6[0][0]             \n",
||||||| merged common ancestors
      "dropout_2 (Dropout)              (None, 16, 31, 15)    0           maxpooling2d_6[0][0]             \n",
=======
      "dropout_5 (Dropout)              (None, 16, 31, 15)    0           maxpooling2d_6[0][0]             \n",
>>>>>>> 7ed1cd029230cd2f5c0e37cf91666940db583d02
      "____________________________________________________________________________________________________\n",
<<<<<<< HEAD
      "dropout_6 (Dropout)              (None, 7, 71, 16)     0           maxpooling2d_7[0][0]             \n",
||||||| merged common ancestors
      "dropout_3 (Dropout)              (None, 16, 7, 71)     0           maxpooling2d_7[0][0]             \n",
=======
      "dropout_6 (Dropout)              (None, 16, 7, 71)     0           maxpooling2d_7[0][0]             \n",
>>>>>>> 7ed1cd029230cd2f5c0e37cf91666940db583d02
      "____________________________________________________________________________________________________\n",
      "flatten_4 (Flatten)              (None, 7440)          0           dropout_5[0][0]                  \n",
      "____________________________________________________________________________________________________\n",
      "flatten_5 (Flatten)              (None, 7952)          0           dropout_6[0][0]                  \n",
      "____________________________________________________________________________________________________\n",
      "merge_1 (Merge)                  (None, 15392)         0           flatten_4[0][0]                  \n",
      "                                                                   flatten_5[0][0]                  \n",
      "____________________________________________________________________________________________________\n",
      "dense_7 (Dense)                  (None, 256)           3940608     merge_1[0][0]                    \n",
      "____________________________________________________________________________________________________\n",
      "dense_8 (Dense)                  (None, 10)            2570        dense_7[0][0]                    \n",
      "====================================================================================================\n",
      "Total params: 3,944,490\n",
      "Trainable params: 3,944,490\n",
      "Non-trainable params: 0\n",
      "____________________________________________________________________________________________________\n"
     ]
    }
   ],
   "source": [
    "model.summary()"
   ]
  },
  {
   "cell_type": "markdown",
   "metadata": {},
   "source": [
    "### Training"
   ]
  },
  {
   "cell_type": "code",
<<<<<<< HEAD
   "execution_count": 70,
   "metadata": {},
||||||| merged common ancestors
   "execution_count": 66,
   "metadata": {
    "collapsed": true
   },
=======
   "execution_count": 70,
   "metadata": {
    "collapsed": true
   },
>>>>>>> 7ed1cd029230cd2f5c0e37cf91666940db583d02
   "outputs": [],
   "source": [
    "# Compiling the model\n",
    "\n",
    "learn_rate = 0.02\n",
    "optimizer = SGD(lr=learn_rate) #, momentum=momentum) \n",
    "\n",
    "model.compile(loss='categorical_crossentropy' , optimizer=optimizer, metrics=['accuracy'])\n",
    "\n",
    "history = None"
   ]
  },
  {
   "cell_type": "code",
   "execution_count": 71,
   "metadata": {},
   "outputs": [
    {
     "name": "stdout",
     "output_type": "stream",
     "text": [
      "Epoch 1/15\n",
<<<<<<< HEAD
      "750/750 [==============================] - 4s - loss: 2.2133 - acc: 0.1880     \n",
||||||| merged common ancestors
      "750/750 [==============================] - 4s - loss: 1.0473 - acc: 0.6613     \n",
=======
      "750/750 [==============================] - 4s - loss: 2.1911 - acc: 0.2067     \n",
>>>>>>> 7ed1cd029230cd2f5c0e37cf91666940db583d02
      "Epoch 2/15\n",
<<<<<<< HEAD
      "750/750 [==============================] - 4s - loss: 2.0009 - acc: 0.2973     \n",
||||||| merged common ancestors
      "750/750 [==============================] - 4s - loss: 1.0205 - acc: 0.6853     \n",
=======
      "750/750 [==============================] - 4s - loss: 1.9817 - acc: 0.3280     \n",
>>>>>>> 7ed1cd029230cd2f5c0e37cf91666940db583d02
      "Epoch 3/15\n",
<<<<<<< HEAD
      "750/750 [==============================] - 4s - loss: 1.8976 - acc: 0.3413     \n",
||||||| merged common ancestors
      "750/750 [==============================] - 4s - loss: 0.9673 - acc: 0.7067     \n",
=======
      "750/750 [==============================] - 4s - loss: 1.8708 - acc: 0.3613     \n",
>>>>>>> 7ed1cd029230cd2f5c0e37cf91666940db583d02
      "Epoch 4/15\n",
<<<<<<< HEAD
      "750/750 [==============================] - 4s - loss: 1.8124 - acc: 0.3747     \n",
||||||| merged common ancestors
      "750/750 [==============================] - 4s - loss: 0.9212 - acc: 0.7547     \n",
=======
      "750/750 [==============================] - 4s - loss: 1.7759 - acc: 0.3920     \n",
>>>>>>> 7ed1cd029230cd2f5c0e37cf91666940db583d02
      "Epoch 5/15\n",
<<<<<<< HEAD
      "750/750 [==============================] - 4s - loss: 1.7314 - acc: 0.4040     \n",
||||||| merged common ancestors
      "750/750 [==============================] - 4s - loss: 0.9019 - acc: 0.7507     \n",
=======
      "750/750 [==============================] - 4s - loss: 1.6879 - acc: 0.4240     \n",
>>>>>>> 7ed1cd029230cd2f5c0e37cf91666940db583d02
      "Epoch 6/15\n",
<<<<<<< HEAD
      "750/750 [==============================] - 4s - loss: 1.6785 - acc: 0.4027     \n",
||||||| merged common ancestors
      "750/750 [==============================] - 4s - loss: 0.8483 - acc: 0.7747     \n",
=======
      "750/750 [==============================] - 4s - loss: 1.6291 - acc: 0.4373     \n",
>>>>>>> 7ed1cd029230cd2f5c0e37cf91666940db583d02
      "Epoch 7/15\n",
<<<<<<< HEAD
      "750/750 [==============================] - 4s - loss: 1.5806 - acc: 0.4707     \n",
||||||| merged common ancestors
      "750/750 [==============================] - 4s - loss: 0.8102 - acc: 0.7800     \n",
=======
      "750/750 [==============================] - 4s - loss: 1.5443 - acc: 0.4813     \n",
>>>>>>> 7ed1cd029230cd2f5c0e37cf91666940db583d02
      "Epoch 8/15\n",
<<<<<<< HEAD
      "750/750 [==============================] - 4s - loss: 1.5037 - acc: 0.5000     \n",
||||||| merged common ancestors
      "750/750 [==============================] - 4s - loss: 0.8094 - acc: 0.7827     \n",
=======
      "750/750 [==============================] - 4s - loss: 1.4760 - acc: 0.5173     \n",
>>>>>>> 7ed1cd029230cd2f5c0e37cf91666940db583d02
      "Epoch 9/15\n",
<<<<<<< HEAD
      "750/750 [==============================] - 4s - loss: 1.4404 - acc: 0.5413     \n",
||||||| merged common ancestors
      "750/750 [==============================] - 4s - loss: 0.7657 - acc: 0.7933     \n",
=======
      "750/750 [==============================] - 4s - loss: 1.4078 - acc: 0.5507     \n",
>>>>>>> 7ed1cd029230cd2f5c0e37cf91666940db583d02
      "Epoch 10/15\n",
<<<<<<< HEAD
      "750/750 [==============================] - 4s - loss: 1.3886 - acc: 0.5467     \n",
||||||| merged common ancestors
      "750/750 [==============================] - 4s - loss: 0.7178 - acc: 0.8120     \n",
=======
      "750/750 [==============================] - 4s - loss: 1.3511 - acc: 0.5613     \n",
>>>>>>> 7ed1cd029230cd2f5c0e37cf91666940db583d02
      "Epoch 11/15\n",
<<<<<<< HEAD
      "750/750 [==============================] - 4s - loss: 1.3250 - acc: 0.5680     \n",
||||||| merged common ancestors
      "750/750 [==============================] - 4s - loss: 0.6983 - acc: 0.8160     \n",
=======
      "750/750 [==============================] - 4s - loss: 1.2885 - acc: 0.5987     \n",
>>>>>>> 7ed1cd029230cd2f5c0e37cf91666940db583d02
      "Epoch 12/15\n",
<<<<<<< HEAD
      "750/750 [==============================] - 4s - loss: 1.2772 - acc: 0.5960     \n",
||||||| merged common ancestors
      "750/750 [==============================] - 4s - loss: 0.6533 - acc: 0.8427     \n",
=======
      "750/750 [==============================] - 4s - loss: 1.2399 - acc: 0.6147     \n",
>>>>>>> 7ed1cd029230cd2f5c0e37cf91666940db583d02
      "Epoch 13/15\n",
<<<<<<< HEAD
      "750/750 [==============================] - 4s - loss: 1.2212 - acc: 0.6187     \n",
||||||| merged common ancestors
      "750/750 [==============================] - 4s - loss: 0.6360 - acc: 0.8320     \n",
=======
      "750/750 [==============================] - 4s - loss: 1.1831 - acc: 0.6173     \n",
>>>>>>> 7ed1cd029230cd2f5c0e37cf91666940db583d02
      "Epoch 14/15\n",
<<<<<<< HEAD
      "750/750 [==============================] - 4s - loss: 1.1757 - acc: 0.6520     \n",
||||||| merged common ancestors
      "750/750 [==============================] - 4s - loss: 0.6173 - acc: 0.8347     \n",
=======
      "750/750 [==============================] - 4s - loss: 1.1296 - acc: 0.6720     \n",
>>>>>>> 7ed1cd029230cd2f5c0e37cf91666940db583d02
      "Epoch 15/15\n",
<<<<<<< HEAD
      "750/750 [==============================] - 4s - loss: 1.1355 - acc: 0.6480     \n"
||||||| merged common ancestors
      "750/750 [==============================] - 4s - loss: 0.5739 - acc: 0.8707     - ETA: 0s - loss: 0.5702 - acc: 0.87\n"
=======
      "750/750 [==============================] - 4s - loss: 1.0925 - acc: 0.6693     \n"
>>>>>>> 7ed1cd029230cd2f5c0e37cf91666940db583d02
     ]
    }
   ],
   "source": [
    "# TRAINING the model (45 epochs, i.e. executing this block 3 times, worked well with this model)\n",
    "\n",
    "epochs = 15\n",
    "History = model.fit(train_set, train_classes_1hot, batch_size=32, nb_epoch=epochs)\n",
    "\n",
    "# we keep the history of accuracies on training set\n",
    "if history is None:\n",
    "    history = History.history\n",
    "else:\n",
    "    for key in History.history.keys():\n",
    "        history[key].extend(History.history[key])"
   ]
  },
  {
   "cell_type": "code",
   "execution_count": 72,
   "metadata": {},
   "outputs": [
    {
     "data": {
<<<<<<< HEAD
      "image/png": "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\n",
||||||| merged common ancestors
      "image/png": "iVBORw0KGgoAAAANSUhEUgAAAlYAAAGJCAYAAABIJX14AAAABHNCSVQICAgIfAhkiAAAAAlwSFlz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\ng5UkSVKeGKwkSZLy5P8DrKqPq06mmi0AAAAASUVORK5CYII=\n",
=======
      "image/png": "iVBORw0KGgoAAAANSUhEUgAAAlYAAAGJCAYAAABIJX14AAAABHNCSVQICAgIfAhkiAAAAAlwSFlz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\nTkSuQmCC\n",
>>>>>>> 7ed1cd029230cd2f5c0e37cf91666940db583d02
      "text/plain": [
<<<<<<< HEAD
       "<Figure size 720x432 with 1 Axes>"
||||||| merged common ancestors
       "<matplotlib.figure.Figure at 0x7fd38a567b50>"
=======
       "<matplotlib.figure.Figure at 0x7f56a3f1bb50>"
>>>>>>> 7ed1cd029230cd2f5c0e37cf91666940db583d02
      ]
     },
     "metadata": {},
     "output_type": "display_data"
    }
   ],
   "source": [
    "plot_traincurve(history)"
   ]
  },
  {
   "cell_type": "markdown",
   "metadata": {},
   "source": [
    "### Testing"
   ]
  },
  {
   "cell_type": "code",
<<<<<<< HEAD
   "execution_count": 73,
   "metadata": {},
||||||| merged common ancestors
   "execution_count": 71,
   "metadata": {},
=======
   "execution_count": 73,
   "metadata": {
    "collapsed": true
   },
>>>>>>> 7ed1cd029230cd2f5c0e37cf91666940db583d02
   "outputs": [],
   "source": [
    "# THE GRAPH MODEL DOES NOT SUPPORT .predict_classes\n",
    "# we use model.predict\n",
    "\n",
    "test_pred = model.predict(test_set)"
   ]
  },
  {
   "cell_type": "code",
   "execution_count": 74,
   "metadata": {},
   "outputs": [
    {
     "data": {
      "text/plain": [
<<<<<<< HEAD
       "array([[0.02001039, 0.87101144, 0.03031834, 0.00027662, 0.00007732, 0.06339845, 0.00136059, 0.00058199, 0.00469019, 0.00827467],\n",
       "       [0.08880481, 0.06409609, 0.3754286 , 0.02305453, 0.00959318, 0.0763196 , 0.0118043 , 0.16691875, 0.0063219 , 0.17765827],\n",
       "       [0.15937436, 0.00911601, 0.14656012, 0.0094245 , 0.00972962, 0.1551516 , 0.00289327, 0.01285084, 0.40935454, 0.08554515],\n",
       "       [0.00885222, 0.00382352, 0.13534161, 0.10275047, 0.0184739 , 0.01724728, 0.00037607, 0.28909573, 0.30959076, 0.11444845],\n",
       "       [0.15928166, 0.02297565, 0.354646  , 0.04224595, 0.0493791 , 0.07860359, 0.00238614, 0.04266209, 0.02020467, 0.22761518],\n",
       "       [0.11102366, 0.02023238, 0.1488396 , 0.02323532, 0.00967795, 0.14106368, 0.00374236, 0.08485258, 0.32423833, 0.13309413],\n",
       "       [0.02897973, 0.00108237, 0.07687055, 0.05198422, 0.04323603, 0.00542518, 0.00239733, 0.65015036, 0.05305935, 0.08681487],\n",
       "       [0.04734444, 0.00573772, 0.16783029, 0.0231467 , 0.01806769, 0.02212676, 0.01420043, 0.5830353 , 0.00938313, 0.10912758],\n",
       "       [0.0107024 , 0.00102897, 0.05611685, 0.02149931, 0.11454803, 0.01232358, 0.00066037, 0.02089689, 0.71189016, 0.05033342],\n",
       "       [0.01535143, 0.30413955, 0.18329799, 0.03752656, 0.00818368, 0.07646792, 0.00323202, 0.02651057, 0.2170059 , 0.12828436],\n",
       "       ...,\n",
       "       [0.19178694, 0.00124185, 0.05246632, 0.00827835, 0.02217853, 0.08002008, 0.01938993, 0.03555645, 0.53405917, 0.05502238],\n",
       "       [0.22641855, 0.01656654, 0.06904104, 0.00402553, 0.00303671, 0.48163605, 0.00232629, 0.00255354, 0.16413066, 0.0302651 ],\n",
       "       [0.01822739, 0.02341584, 0.05635032, 0.02364878, 0.00938477, 0.07844998, 0.00550494, 0.01095111, 0.67604804, 0.09801885],\n",
       "       [0.09655603, 0.00152258, 0.03885687, 0.04747061, 0.0748856 , 0.00538986, 0.52573186, 0.00868082, 0.03501689, 0.16588886],\n",
       "       [0.02197193, 0.00237608, 0.11200185, 0.06380492, 0.04982764, 0.03884462, 0.00421852, 0.21377283, 0.39703166, 0.09614993],\n",
       "       [0.08071238, 0.00655781, 0.08422469, 0.00569885, 0.00968649, 0.00752618, 0.68087393, 0.00655564, 0.00267645, 0.11548757],\n",
       "       [0.1174766 , 0.00735433, 0.26023695, 0.04854496, 0.08295421, 0.06673577, 0.00913701, 0.02348828, 0.10790279, 0.27616912],\n",
       "       [0.20625201, 0.01125285, 0.28335077, 0.01227516, 0.0280465 , 0.05983254, 0.15691704, 0.07901615, 0.00444947, 0.15860753],\n",
       "       [0.06322079, 0.10749772, 0.46960428, 0.00808435, 0.00671853, 0.19047438, 0.00388241, 0.03213299, 0.01349295, 0.1048916 ],\n",
       "       [0.06250468, 0.00863659, 0.18131362, 0.04928911, 0.0343678 , 0.02162115, 0.0850921 , 0.2528401 , 0.0110264 , 0.29330844]], dtype=float32)"
||||||| merged common ancestors
       "array([[ 0.00170364,  0.94118083,  0.00177275,  0.00003414,  0.00000786,  0.0541219 ,  0.0002417 ,  0.00004263,  0.0001076 ,  0.00078697],\n",
       "       [ 0.01968635,  0.05263736,  0.29248226,  0.10764169,  0.01031815,  0.09006767,  0.00382179,  0.10260795,  0.00185097,  0.3188858 ],\n",
       "       [ 0.32565942,  0.00288994,  0.1339878 ,  0.00984265,  0.01335932,  0.2277305 ,  0.00238449,  0.00133319,  0.17668904,  0.10612363],\n",
       "       [ 0.0016362 ,  0.0006697 ,  0.07259036,  0.35068929,  0.02730089,  0.01015505,  0.00012225,  0.21561113,  0.09170129,  0.22952385],\n",
       "       [ 0.23617581,  0.00596521,  0.17567733,  0.07721031,  0.12840819,  0.01511027,  0.00146278,  0.00619909,  0.00176977,  0.35202125],\n",
       "       [ 0.0586805 ,  0.02470691,  0.31303841,  0.02767138,  0.00255329,  0.083221  ,  0.00101311,  0.10386521,  0.05012589,  0.33512428],\n",
       "       [ 0.00504622,  0.000086  ,  0.03715444,  0.1923493 ,  0.06386103,  0.00179102,  0.00048538,  0.58567929,  0.0162814 ,  0.09726592],\n",
       "       [ 0.03560813,  0.0043793 ,  0.11684708,  0.1292512 ,  0.07331473,  0.02066137,  0.00897958,  0.15557957,  0.00812036,  0.44725868],\n",
       "       [ 0.01319102,  0.00013793,  0.00493272,  0.00962209,  0.83144861,  0.00931102,  0.00025046,  0.00053471,  0.05973954,  0.07083189],\n",
       "       [ 0.00182766,  0.73375076,  0.02382368,  0.04923814,  0.00242789,  0.03940655,  0.0014088 ,  0.00268519,  0.08358219,  0.06184917],\n",
       "       ..., \n",
       "       [ 0.06687809,  0.00035293,  0.0567988 ,  0.00633789,  0.02930711,  0.04107679,  0.03410341,  0.00750645,  0.67607665,  0.08156186],\n",
       "       [ 0.0665932 ,  0.00917269,  0.00253804,  0.00082155,  0.00132054,  0.88350809,  0.00070544,  0.00001296,  0.0291865 ,  0.00614098],\n",
       "       [ 0.01893681,  0.11047743,  0.01144437,  0.03706674,  0.00511683,  0.57289708,  0.00259157,  0.00010213,  0.16110007,  0.08026697],\n",
       "       [ 0.10782474,  0.00012449,  0.00548336,  0.02497539,  0.22506793,  0.00038866,  0.49235326,  0.00008163,  0.00544484,  0.13825572],\n",
       "       [ 0.00639485,  0.00036801,  0.03686019,  0.07714638,  0.14184041,  0.02652945,  0.00089528,  0.18764819,  0.33734068,  0.18497655],\n",
       "       [ 0.04732436,  0.0008506 ,  0.00879948,  0.00205716,  0.00950301,  0.00027996,  0.87019968,  0.00007127,  0.00031694,  0.06059756],\n",
       "       [ 0.17823182,  0.00104127,  0.05818361,  0.13937952,  0.27809137,  0.01114763,  0.01247312,  0.00088953,  0.05523382,  0.26532829],\n",
       "       [ 0.42323488,  0.00444765,  0.17679268,  0.00581811,  0.02171522,  0.00949948,  0.20239778,  0.00190956,  0.00086545,  0.15331918],\n",
       "       [ 0.01050941,  0.15184456,  0.4688597 ,  0.01282632,  0.00891907,  0.13719544,  0.00105279,  0.07840253,  0.00655948,  0.12383068],\n",
       "       [ 0.01178159,  0.00303242,  0.05301813,  0.11372168,  0.0218506 ,  0.02136279,  0.03796885,  0.01991005,  0.00098672,  0.71636713]], dtype=float32)"
=======
       "array([[ 0.01120848,  0.901959  ,  0.01386683,  0.00011354,  0.00008562,  0.05610552,  0.0014951 ,  0.00068385,  0.00477665,  0.00970544],\n",
       "       [ 0.0833663 ,  0.04280005,  0.4778471 ,  0.01541172,  0.00636545,  0.06709601,  0.01016013,  0.13174127,  0.00604616,  0.1591658 ],\n",
       "       [ 0.15183337,  0.0091085 ,  0.1724087 ,  0.00843723,  0.01516599,  0.20049295,  0.0066037 ,  0.01451715,  0.30693492,  0.11449748],\n",
       "       [ 0.00929958,  0.00361109,  0.09893227,  0.10617531,  0.02201145,  0.02340866,  0.00048243,  0.23890056,  0.36569804,  0.13148062],\n",
       "       [ 0.16675812,  0.0255676 ,  0.42392236,  0.02539321,  0.03244713,  0.06602072,  0.00296267,  0.02621995,  0.01479185,  0.21591638],\n",
       "       [ 0.1095593 ,  0.02247729,  0.16694078,  0.02083175,  0.00747699,  0.17460829,  0.00426838,  0.08617692,  0.25396094,  0.15369935],\n",
       "       [ 0.01742519,  0.00109353,  0.07507126,  0.07178326,  0.05284911,  0.00549575,  0.0032134 ,  0.62549663,  0.06123171,  0.08634017],\n",
       "       [ 0.04893495,  0.00399811,  0.13522296,  0.0242103 ,  0.0193927 ,  0.0189981 ,  0.01302766,  0.60663635,  0.01136099,  0.11821791],\n",
       "       [ 0.00811804,  0.00118074,  0.0540268 ,  0.01169021,  0.20879883,  0.01038679,  0.00084019,  0.01270346,  0.6299541 ,  0.06230083],\n",
       "       [ 0.01444655,  0.44520077,  0.15042759,  0.02419665,  0.00566382,  0.0940491 ,  0.0028541 ,  0.0177603 ,  0.16947268,  0.07592843],\n",
       "       ..., \n",
       "       [ 0.12361305,  0.00091376,  0.02570276,  0.00686208,  0.03182919,  0.0590952 ,  0.03239309,  0.02657688,  0.63076752,  0.06224645],\n",
       "       [ 0.17609842,  0.02455498,  0.06007343,  0.00321943,  0.00309697,  0.49976724,  0.00395651,  0.00218018,  0.19694097,  0.03011186],\n",
       "       [ 0.01344222,  0.02850688,  0.05190382,  0.01340401,  0.00419212,  0.14020008,  0.00247718,  0.01269086,  0.66507441,  0.06810842],\n",
       "       [ 0.06779936,  0.00132246,  0.03853475,  0.01549193,  0.03387493,  0.00495426,  0.65572232,  0.0034828 ,  0.01916365,  0.15965359],\n",
       "       [ 0.02286326,  0.001991  ,  0.12609197,  0.06473818,  0.04070858,  0.05006474,  0.0071497 ,  0.23227058,  0.32783353,  0.12628844],\n",
       "       [ 0.06281677,  0.00304959,  0.05411968,  0.00245627,  0.00591211,  0.0048738 ,  0.76489413,  0.00245018,  0.00219383,  0.09723366],\n",
       "       [ 0.14656341,  0.00667827,  0.29014331,  0.05256559,  0.07514952,  0.07172124,  0.00819498,  0.01185897,  0.06073028,  0.27639443],\n",
       "       [ 0.27021414,  0.00865593,  0.31861359,  0.00707911,  0.02118661,  0.04063381,  0.16092651,  0.04124281,  0.00521458,  0.12623292],\n",
       "       [ 0.03476459,  0.13766803,  0.468292  ,  0.00828435,  0.00457493,  0.1943194 ,  0.00268185,  0.0467802 ,  0.01838743,  0.08424722],\n",
       "       [ 0.05616248,  0.00645219,  0.18075976,  0.04362857,  0.02531284,  0.02013545,  0.06692442,  0.33570209,  0.0127637 ,  0.25215849]], dtype=float32)"
>>>>>>> 7ed1cd029230cd2f5c0e37cf91666940db583d02
      ]
     },
     "execution_count": 74,
     "metadata": {},
     "output_type": "execute_result"
    }
   ],
   "source": [
    "# it predicts the probabilities per class:\n",
    "test_pred"
   ]
  },
  {
   "cell_type": "code",
   "execution_count": 75,
   "metadata": {},
   "outputs": [
    {
     "data": {
      "text/plain": [
<<<<<<< HEAD
       "array([1, 2, 8, 8, 2, 8, 7, 7, 8, 1, ..., 8, 5, 8, 6, 8, 6, 9, 2, 2, 9])"
||||||| merged common ancestors
       "array([1, 9, 0, 3, 9, 9, 7, 9, 4, 1, ..., 8, 5, 5, 6, 8, 6, 4, 0, 2, 9])"
=======
       "array([1, 2, 8, 8, 2, 8, 7, 7, 8, 1, ..., 8, 5, 8, 6, 8, 6, 2, 2, 2, 7])"
>>>>>>> 7ed1cd029230cd2f5c0e37cf91666940db583d02
      ]
     },
     "execution_count": 75,
     "metadata": {},
     "output_type": "execute_result"
    }
   ],
   "source": [
    "# we get the predicted class from the maximum value in the probabilities, using argmax to get the class number\n",
    "test_pred = np.argmax(test_pred, axis=1)\n",
    "test_pred"
   ]
  },
  {
   "cell_type": "code",
   "execution_count": 76,
   "metadata": {},
   "outputs": [
    {
     "data": {
      "text/plain": [
<<<<<<< HEAD
       "0.44"
||||||| merged common ancestors
       "0.54400000000000004"
=======
       "0.46000000000000002"
>>>>>>> 7ed1cd029230cd2f5c0e37cf91666940db583d02
      ]
     },
     "execution_count": 76,
     "metadata": {},
     "output_type": "execute_result"
    }
   ],
   "source": [
    "accuracy_score(test_classes, test_pred)"
   ]
<<<<<<< HEAD
||||||| merged common ancestors
  },
  {
   "cell_type": "markdown",
   "metadata": {},
   "source": [
    "## Further Practice\n",
    "\n",
    "As a further practical learning, copy the models from above and try more adaptations:\n",
    "\n",
    "* add more layers\n",
    "* vary:\n",
    " * number of filters\n",
    " * filter sizes (shapes)\n",
    " * max pooling\n",
    " * activation functions: sigmoid, tanh, relu, prelu, elu, ...\n",
    "* try other optimizers: 'from keras.optimizers import SGD, RMSprop, Adagrad'"
   ]
  },
  {
   "cell_type": "code",
   "execution_count": null,
   "metadata": {
    "collapsed": true
   },
   "outputs": [],
   "source": [
    "from keras.optimizers import SGD, RMSprop, Adagrad\n"
   ]
=======
  },
  {
   "cell_type": "markdown",
   "metadata": {},
   "source": [
    "## Further Practice\n",
    "\n",
    "As a further practical learning, copy the models from above and try more adaptations:\n",
    "\n",
    "* add more layers\n",
    "* vary:\n",
    " * number of filters\n",
    " * filter sizes (shapes)\n",
    " * max pooling\n",
    " * activation functions: sigmoid, tanh, relu, prelu, elu, ...\n",
    "* try other optimizers: 'from keras.optimizers import SGD, RMSprop, Adagrad'"
   ]
  },
  {
   "cell_type": "code",
   "execution_count": 77,
   "metadata": {
    "collapsed": true
   },
   "outputs": [],
   "source": [
    "from keras.optimizers import SGD, RMSprop, Adagrad\n"
   ]
>>>>>>> 7ed1cd029230cd2f5c0e37cf91666940db583d02
  }
 ],
 "metadata": {
  "kernelspec": {
   "display_name": "pymir",
   "language": "python",
   "name": "pymir"
  },
  "language_info": {
   "codemirror_mode": {
    "name": "ipython",
    "version": 2
   },
   "file_extension": ".py",
   "mimetype": "text/x-python",
   "name": "python",
   "nbconvert_exporter": "python",
   "pygments_lexer": "ipython2",
   "version": "2.7.12"
  }
 },
 "nbformat": 4,
 "nbformat_minor": 1
}
